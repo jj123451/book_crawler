{
 "cells": [
  {
   "cell_type": "code",
   "execution_count": 209,
   "id": "bc730c95",
   "metadata": {},
   "outputs": [
    {
     "name": "stdout",
     "output_type": "stream",
     "text": [
      "The bigquery_magics extension is already loaded. To reload it, use:\n",
      "  %reload_ext bigquery_magics\n"
     ]
    }
   ],
   "source": [
    "from google.cloud import bigquery\n",
    "from google.cloud.bigquery import magics\n",
    "%load_ext bigquery_magics\n",
    "\n",
    "data_set = \"testing_set\"\n",
    "project_name = \"emerald-entity-468916-f9\"\n",
    "library_path = \"gdelt-bq.internetarchivebooks\"\n",
    "\n",
    "job_config = bigquery.QueryJobConfig(default_dataset = f\"{project_name}.{data_set}\")\n",
    "client = bigquery.Client(project = project_name, default_query_job_config = job_config)\n",
    "magics.context.default_query_job_config = job_config"
   ]
  },
  {
   "cell_type": "code",
   "execution_count": 210,
   "id": "d65ec05a",
   "metadata": {},
   "outputs": [
    {
     "data": {
      "application/vnd.jupyter.widget-view+json": {
       "model_id": "9ab6b8cd50994a6dbf834a5902a55438",
       "version_major": 2,
       "version_minor": 0
      },
      "text/plain": [
       "Query is running:   0%|          |"
      ]
     },
     "metadata": {},
     "output_type": "display_data"
    },
    {
     "data": {
      "text/html": [
       "<div>\n",
       "<style scoped>\n",
       "    .dataframe tbody tr th:only-of-type {\n",
       "        vertical-align: middle;\n",
       "    }\n",
       "\n",
       "    .dataframe tbody tr th {\n",
       "        vertical-align: top;\n",
       "    }\n",
       "\n",
       "    .dataframe thead th {\n",
       "        text-align: right;\n",
       "    }\n",
       "</style>\n",
       "<table border=\"1\" class=\"dataframe\">\n",
       "  <thead>\n",
       "    <tr style=\"text-align: right;\">\n",
       "      <th></th>\n",
       "    </tr>\n",
       "  </thead>\n",
       "  <tbody>\n",
       "  </tbody>\n",
       "</table>\n",
       "</div>"
      ],
      "text/plain": [
       "Empty DataFrame\n",
       "Columns: []\n",
       "Index: []"
      ]
     },
     "execution_count": 210,
     "metadata": {},
     "output_type": "execute_result"
    }
   ],
   "source": [
    "%%bigquery\n",
    "\n",
    "DELETE FROM tmp_correction_chunks WHERE 1 = 1;"
   ]
  },
  {
   "cell_type": "code",
   "execution_count": 211,
   "id": "ccc22b11",
   "metadata": {},
   "outputs": [
    {
     "name": "stdout",
     "output_type": "stream",
     "text": [
      "\n",
      "Chunking book: The Book of the Months: A Gift for the Young\n",
      "  Number of chunks: 8\n",
      "  Processed: 0 1 2 3 4 5 6 7 \n",
      "Chunking book: Theistic Problems: Being Essays on the Existence of God and His Relationship to Man\n",
      "  Number of chunks: 11\n",
      "  Processed: 0 1 2 3 4 5 6 7 8 9 10 \n",
      "Chunking book: Little Comedies\n",
      "  Number of chunks: 7\n",
      "  Processed: 0 1 2 3 4 5 6 \n",
      "\n",
      "Executing 26 INSERT jobs...\n",
      "Jobs Completed: 1 2 3 4 5 6 7 8 9 10 11 12 13 14 15 16 17 18 19 20 21 22 23 24 25 26 \n",
      "All INSERT jobs completed.\n"
     ]
    }
   ],
   "source": [
    "from utility import chunk_text_with_overlaps\n",
    "from concurrent.futures import ThreadPoolExecutor, as_completed\n",
    "\n",
    "insert_sql = f\"INSERT INTO tmp_correction_chunks(book_id, chunk_number, prefix, original_txt, suffix) VALUES(@id, @idx, @prefix, @txt, @suffix)\"\n",
    "\n",
    "job_configs = []\n",
    "\n",
    "select_query_job = client.query(query = f\"select * from books WHERE corrected_txt IS NULL\")\n",
    "for row in select_query_job.result():\n",
    "    print(f\"\\nChunking book: {row[\"title\"]}\")\n",
    "    text_to_split = row[\"original_txt\"]\n",
    "    book_id = row[\"book_id\"]\n",
    "    chunks = chunk_text_with_overlaps(text_to_split, max_chunk_tokens = 5000, max_overlap_tokens = 1000)\n",
    "    print(f\"  Number of chunks: {len(chunks)}\")\n",
    "    print(f\"  Processed: \", end = \"\")\n",
    "    for idx, chunk in enumerate(chunks):\n",
    "        print(f\"{idx} \", end = \"\")\n",
    "        job_config = bigquery.QueryJobConfig(query_parameters=[\n",
    "            bigquery.ScalarQueryParameter(\"id\", \"STRING\", book_id),\n",
    "            bigquery.ScalarQueryParameter(\"idx\", \"INTEGER\", idx),\n",
    "            bigquery.ScalarQueryParameter(\"prefix\", \"STRING\", chunk.before),\n",
    "            bigquery.ScalarQueryParameter(\"txt\", \"STRING\", chunk.main),\n",
    "            bigquery.ScalarQueryParameter(\"suffix\", \"STRING\", chunk.after)])\n",
    "        job_configs.append(job_config)\n",
    "\n",
    "print(f\"\\n\\nExecuting {len(job_configs)} INSERT jobs...\")\n",
    "print(\"Jobs Completed: \", end = \"\")\n",
    "\n",
    "def execute_insert_job(job_config):\n",
    "    client.query_and_wait(insert_sql, job_config = job_config)\n",
    "\n",
    "completed_jobs = 0\n",
    "with ThreadPoolExecutor(max_workers = 10) as executor:\n",
    "    future_to_config = {executor.submit(execute_insert_job, config): config for config in job_configs}\n",
    "    for future in as_completed(future_to_config):\n",
    "        future.result()\n",
    "        completed_jobs += 1\n",
    "        print(f\"{completed_jobs} \", end = \"\")\n",
    "\n",
    "print(\"\\nAll INSERT jobs completed.\")        "
   ]
  },
  {
   "cell_type": "code",
   "execution_count": 212,
   "id": "c7113ca0",
   "metadata": {},
   "outputs": [
    {
     "data": {
      "application/vnd.jupyter.widget-view+json": {
       "model_id": "16bc8b8b88a84c8eacd27be597dfdfbf",
       "version_major": 2,
       "version_minor": 0
      },
      "text/plain": [
       "Query is running:   0%|          |"
      ]
     },
     "metadata": {},
     "output_type": "display_data"
    },
    {
     "data": {
      "text/html": [
       "<div>\n",
       "<style scoped>\n",
       "    .dataframe tbody tr th:only-of-type {\n",
       "        vertical-align: middle;\n",
       "    }\n",
       "\n",
       "    .dataframe tbody tr th {\n",
       "        vertical-align: top;\n",
       "    }\n",
       "\n",
       "    .dataframe thead th {\n",
       "        text-align: right;\n",
       "    }\n",
       "</style>\n",
       "<table border=\"1\" class=\"dataframe\">\n",
       "  <thead>\n",
       "    <tr style=\"text-align: right;\">\n",
       "      <th></th>\n",
       "    </tr>\n",
       "  </thead>\n",
       "  <tbody>\n",
       "  </tbody>\n",
       "</table>\n",
       "</div>"
      ],
      "text/plain": [
       "Empty DataFrame\n",
       "Columns: []\n",
       "Index: []"
      ]
     },
     "execution_count": 212,
     "metadata": {},
     "output_type": "execute_result"
    }
   ],
   "source": [
    "%%bigquery\n",
    "CALL phase2_correction_correct();"
   ]
  }
 ],
 "metadata": {
  "kernelspec": {
   "display_name": "Python 3 (ipykernel)",
   "language": "python",
   "name": "python3"
  }
 },
 "nbformat": 4,
 "nbformat_minor": 5
}
