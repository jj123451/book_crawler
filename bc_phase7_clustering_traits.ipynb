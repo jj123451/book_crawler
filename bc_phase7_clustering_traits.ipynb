{
 "cells": [
  {
   "cell_type": "code",
   "execution_count": null,
   "id": "81c8fee3",
   "metadata": {},
   "outputs": [
    {
     "name": "stdout",
     "output_type": "stream",
     "text": [
      "Couldn't find program: 'false'\n"
     ]
    }
   ],
   "source": [
    "%%script false --no-raise-error\n",
    "from google.colab import userdata\n",
    "from google.oauth2 import service_account\n",
    "\n",
    "credentials_json = userdata.get('BIGQUERY_CREDENTIALS')\n",
    "credentials = service_account.Credentials.from_service_account_info(json.loads(credentials_json))\n",
    "magics.context.credentials = credentials"
   ]
  },
  {
   "cell_type": "code",
   "execution_count": null,
   "id": "bc730c95",
   "metadata": {},
   "outputs": [
    {
     "name": "stdout",
     "output_type": "stream",
     "text": [
      "The bigquery_magics extension is already loaded. To reload it, use:\n",
      "  %reload_ext bigquery_magics\n"
     ]
    }
   ],
   "source": [
    "from google.cloud import bigquery\n",
    "from google.cloud.bigquery import magics\n",
    "%load_ext bigquery_magics\n",
    "\n",
    "data_set = \"testing_set2\"\n",
    "project_name = \"emerald-entity-468916-f9\"\n",
    "\n",
    "job_config = bigquery.QueryJobConfig(default_dataset = f\"{project_name}.{data_set}\")\n",
    "client = bigquery.Client(project = project_name, default_query_job_config = job_config, credentials = globals().get('credentials', None))\n",
    "magics.context.default_query_job_config = job_config\n",
    "magics.context.project = project_name"
   ]
  },
  {
   "cell_type": "code",
   "execution_count": null,
   "id": "6eb536ae",
   "metadata": {},
   "outputs": [],
   "source": [
    "%%bigquery\n",
    "\n",
    "UPDATE characters SET social_class_cluster_id = NULL, wealth_cluster_id = NULL, values_cluster_id = NULL WHERE 1 = 1;\n",
    "DELETE FROM clusters WHERE 1 = 1;\n",
    "DELETE FROM character_cluster_details WHERE 1 = 1;"
   ]
  },
  {
   "cell_type": "code",
   "execution_count": 6,
   "id": "805e13fb",
   "metadata": {},
   "outputs": [
    {
     "data": {
      "application/vnd.jupyter.widget-view+json": {
       "model_id": "8ddf0e8d45554922b378052c0e7f369e",
       "version_major": 2,
       "version_minor": 0
      },
      "text/plain": [
       "Query is running:   0%|          |"
      ]
     },
     "metadata": {},
     "output_type": "display_data"
    },
    {
     "data": {
      "text/html": [
       "<div>\n",
       "<style scoped>\n",
       "    .dataframe tbody tr th:only-of-type {\n",
       "        vertical-align: middle;\n",
       "    }\n",
       "\n",
       "    .dataframe tbody tr th {\n",
       "        vertical-align: top;\n",
       "    }\n",
       "\n",
       "    .dataframe thead th {\n",
       "        text-align: right;\n",
       "    }\n",
       "</style>\n",
       "<table border=\"1\" class=\"dataframe\">\n",
       "  <thead>\n",
       "    <tr style=\"text-align: right;\">\n",
       "      <th></th>\n",
       "    </tr>\n",
       "  </thead>\n",
       "  <tbody>\n",
       "  </tbody>\n",
       "</table>\n",
       "</div>"
      ],
      "text/plain": [
       "Empty DataFrame\n",
       "Columns: []\n",
       "Index: []"
      ]
     },
     "execution_count": 6,
     "metadata": {},
     "output_type": "execute_result"
    }
   ],
   "source": [
    "%%bigquery --params {\"clusters\": 20, \"trait_type\": \"values\", \"trait_desc\": 'values: \"Core principles, moral compass, priorities (can include both positive and negative values)\"'}\n",
    "\n",
    "create or replace table tmp_copied_traits as SELECT c.book_id, c.id, c.values as traits from characters c WHERE c.values is not null;\n",
    "CALL phase7_split_traits(@trait_desc);\n",
    "CALL phase7_identify_clusters(@clusters);\n",
    "CALL phase7_name_clusters(@trait_type, @trait_desc);\n",
    "CALL phase7_assign_clusters(@trait_type);\n",
    "UPDATE characters c SET values_cluster_id = ct.cluster_id FROM tmp_combined_traits ct WHERE c.book_id = ct.book_id AND c.id = ct.id AND ct.cluster_type = @trait_type;"
   ]
  },
  {
   "cell_type": "code",
   "execution_count": 7,
   "id": "88605ef1",
   "metadata": {},
   "outputs": [
    {
     "data": {
      "application/vnd.jupyter.widget-view+json": {
       "model_id": "e02e33a4edc447418e8a16472ea24168",
       "version_major": 2,
       "version_minor": 0
      },
      "text/plain": [
       "Query is running:   0%|          |"
      ]
     },
     "metadata": {},
     "output_type": "display_data"
    },
    {
     "data": {
      "text/html": [
       "<div>\n",
       "<style scoped>\n",
       "    .dataframe tbody tr th:only-of-type {\n",
       "        vertical-align: middle;\n",
       "    }\n",
       "\n",
       "    .dataframe tbody tr th {\n",
       "        vertical-align: top;\n",
       "    }\n",
       "\n",
       "    .dataframe thead th {\n",
       "        text-align: right;\n",
       "    }\n",
       "</style>\n",
       "<table border=\"1\" class=\"dataframe\">\n",
       "  <thead>\n",
       "    <tr style=\"text-align: right;\">\n",
       "      <th></th>\n",
       "    </tr>\n",
       "  </thead>\n",
       "  <tbody>\n",
       "  </tbody>\n",
       "</table>\n",
       "</div>"
      ],
      "text/plain": [
       "Empty DataFrame\n",
       "Columns: []\n",
       "Index: []"
      ]
     },
     "execution_count": 7,
     "metadata": {},
     "output_type": "execute_result"
    }
   ],
   "source": [
    "%%bigquery --params {\"clusters\": 10, \"trait_type\": \"wealth\", \"trait_desc\": 'wealth: \"Economic position, assets, property, financial struggles or abundance with information how wealth/income is obtained (inheritance, labor, trade, crime, patronage, etc.)\"'}\n",
    "\n",
    "create or replace table tmp_copied_traits as SELECT c.book_id, c.id, c.wealth as traits from characters c WHERE c.wealth is not null;\n",
    "CALL phase7_split_traits(@trait_desc);\n",
    "CALL phase7_identify_clusters(@clusters);\n",
    "CALL phase7_name_clusters(@trait_type, @trait_desc);\n",
    "CALL phase7_assign_clusters(@trait_type);\n",
    "UPDATE characters c SET wealth_cluster_id = ct.cluster_id FROM tmp_combined_traits ct WHERE c.book_id = ct.book_id AND c.id = ct.id AND ct.cluster_type = @trait_type;"
   ]
  },
  {
   "cell_type": "code",
   "execution_count": 8,
   "id": "57f11c92",
   "metadata": {},
   "outputs": [
    {
     "data": {
      "application/vnd.jupyter.widget-view+json": {
       "model_id": "d8fe4d101f564c28913b492cadb72977",
       "version_major": 2,
       "version_minor": 0
      },
      "text/plain": [
       "Query is running:   0%|          |"
      ]
     },
     "metadata": {},
     "output_type": "display_data"
    },
    {
     "data": {
      "text/html": [
       "<div>\n",
       "<style scoped>\n",
       "    .dataframe tbody tr th:only-of-type {\n",
       "        vertical-align: middle;\n",
       "    }\n",
       "\n",
       "    .dataframe tbody tr th {\n",
       "        vertical-align: top;\n",
       "    }\n",
       "\n",
       "    .dataframe thead th {\n",
       "        text-align: right;\n",
       "    }\n",
       "</style>\n",
       "<table border=\"1\" class=\"dataframe\">\n",
       "  <thead>\n",
       "    <tr style=\"text-align: right;\">\n",
       "      <th></th>\n",
       "    </tr>\n",
       "  </thead>\n",
       "  <tbody>\n",
       "  </tbody>\n",
       "</table>\n",
       "</div>"
      ],
      "text/plain": [
       "Empty DataFrame\n",
       "Columns: []\n",
       "Index: []"
      ]
     },
     "execution_count": 8,
     "metadata": {},
     "output_type": "execute_result"
    }
   ],
   "source": [
    "%%bigquery --params {\"clusters\": 7, \"trait_type\": \"social_class\", \"trait_desc\": 'social_class: \"Economic and social standing (e.g., nobility, working class, merchant class)\"'}\n",
    "\n",
    "create or replace table tmp_copied_traits as SELECT c.book_id, c.id, c.social_class as traits from characters c WHERE c.social_class is not null;\n",
    "CALL phase7_split_traits(@trait_desc);\n",
    "CALL phase7_identify_clusters(@clusters);\n",
    "CALL phase7_name_clusters(@trait_type, @trait_desc);\n",
    "CALL phase7_assign_clusters(@trait_type);\n",
    "UPDATE characters c SET social_class_cluster_id = ct.cluster_id FROM tmp_combined_traits ct WHERE c.book_id = ct.book_id AND c.id = ct.id AND ct.cluster_type = @trait_type;"
   ]
  }
 ],
 "metadata": {
  "kernelspec": {
   "display_name": "gcompetition2",
   "language": "python",
   "name": "python3"
  },
  "language_info": {
   "codemirror_mode": {
    "name": "ipython",
    "version": 3
   },
   "file_extension": ".py",
   "mimetype": "text/x-python",
   "name": "python",
   "nbconvert_exporter": "python",
   "pygments_lexer": "ipython3",
   "version": "3.13.3"
  }
 },
 "nbformat": 4,
 "nbformat_minor": 5
}
