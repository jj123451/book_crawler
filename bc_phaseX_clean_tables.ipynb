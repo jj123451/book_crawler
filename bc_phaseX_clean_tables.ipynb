{
 "cells": [
  {
   "cell_type": "code",
   "execution_count": null,
   "id": "25bdf053",
   "metadata": {},
   "outputs": [
    {
     "name": "stdout",
     "output_type": "stream",
     "text": [
      "Couldn't find program: 'false'\n"
     ]
    }
   ],
   "source": [
    "%%script false --no-raise-error\n",
    "import json\n",
    "from google.colab import userdata\n",
    "from google.oauth2 import service_account\n",
    "from google.cloud.bigquery import magics\n",
    "\n",
    "credentials_json = userdata.get('BIGQUERY_CREDENTIALS')\n",
    "credentials = service_account.Credentials.from_service_account_info(json.loads(credentials_json))\n",
    "magics.context.credentials = credentials"
   ]
  },
  {
   "cell_type": "code",
   "execution_count": null,
   "id": "bc730c95",
   "metadata": {},
   "outputs": [],
   "source": [
    "from google.cloud import bigquery\n",
    "from google.cloud.bigquery import magics\n",
    "%load_ext bigquery_magics\n",
    "\n",
    "data_set = \"testing_set2\"\n",
    "project_name = \"emerald-entity-468916-f9\"\n",
    "\n",
    "job_config = bigquery.QueryJobConfig(default_dataset = f\"{project_name}.{data_set}\")\n",
    "client = bigquery.Client(project = project_name, default_query_job_config = job_config, credentials = globals().get('credentials', None))\n",
    "magics.context.default_query_job_config = job_config\n",
    "magics.context.project = project_name"
   ]
  },
  {
   "cell_type": "code",
   "execution_count": 4,
   "id": "20735d73",
   "metadata": {},
   "outputs": [
    {
     "data": {
      "application/vnd.jupyter.widget-view+json": {
       "model_id": "850e86dc388243c8aca8fc75e0398c8d",
       "version_major": 2,
       "version_minor": 0
      },
      "text/plain": [
       "Query is running:   0%|          |"
      ]
     },
     "metadata": {},
     "output_type": "display_data"
    },
    {
     "data": {
      "text/html": [
       "<div>\n",
       "<style scoped>\n",
       "    .dataframe tbody tr th:only-of-type {\n",
       "        vertical-align: middle;\n",
       "    }\n",
       "\n",
       "    .dataframe tbody tr th {\n",
       "        vertical-align: top;\n",
       "    }\n",
       "\n",
       "    .dataframe thead th {\n",
       "        text-align: right;\n",
       "    }\n",
       "</style>\n",
       "<table border=\"1\" class=\"dataframe\">\n",
       "  <thead>\n",
       "    <tr style=\"text-align: right;\">\n",
       "      <th></th>\n",
       "    </tr>\n",
       "  </thead>\n",
       "  <tbody>\n",
       "  </tbody>\n",
       "</table>\n",
       "</div>"
      ],
      "text/plain": [
       "Empty DataFrame\n",
       "Columns: []\n",
       "Index: []"
      ]
     },
     "execution_count": 4,
     "metadata": {},
     "output_type": "execute_result"
    }
   ],
   "source": [
    "%%bigquery\n",
    "\n",
    "DROP TABLE IF EXISTS tmp_books_sample;\n",
    "DROP TABLE IF EXISTS tmp_correction_chunks;\n",
    "DROP TABLE IF EXISTS tmp_overlapped_chunks;\n",
    "DROP TABLE IF EXISTS tmp_characters_id_data;\n",
    "DROP TABLE IF EXISTS tmp_chid_data_with_identifier;\n",
    "DROP TABLE IF EXISTS tmp_characters_id_embeddings;\n",
    "DROP TABLE IF EXISTS tmp_chid_distance;\n",
    "DROP TABLE IF EXISTS tmp_characters_duplicate_candidates;\n",
    "DROP TABLE IF EXISTS tmp_the_same_characters;\n",
    "DROP TABLE IF EXISTS tmp_different_characters;\n",
    "DROP TABLE IF EXISTS tmp_the_same_characters_split;\n",
    "DROP TABLE IF EXISTS tmp_different_characters_split;\n",
    "DROP TABLE IF EXISTS tmp_chid_distance_dpl;\n",
    "DROP TABLE IF EXISTS tmp_characters_duplicates;\n",
    "DROP TABLE IF EXISTS tmp_merged_duplicates;\n",
    "DROP TABLE IF EXISTS tmp_merged_duplicates_split;\n",
    "DROP TABLE IF EXISTS tmp_characters_id_changed_embeddings;\n",
    "DROP TABLE IF EXISTS tmp_split_full_data;\n",
    "DROP TABLE IF EXISTS tmp_grouped_full_data;\n",
    "DROP TABLE IF EXISTS tmp_bidirectional_edges;\n",
    "DROP TABLE IF EXISTS tmp_characters_id_distance;\n",
    "DROP TABLE IF EXISTS tmp_grouped_duplicates_graph;\n",
    "DROP TABLE IF EXISTS tmp_grouped_duplicates_graph_enriched;\n",
    "DROP TABLE IF EXISTS tmp_grouped_ids_split;\n",
    "DROP TABLE IF EXISTS tmp_cluster_names;\n",
    "DROP TABLE IF EXISTS tmp_clustered_traits;\n",
    "DROP TABLE IF EXISTS tmp_clusters_analysis;\n",
    "DROP TABLE IF EXISTS tmp_combined_traits;\n",
    "DROP TABLE IF EXISTS tmp_combined_traits_clustered;\n",
    "DROP TABLE IF EXISTS tmp_combined_traits_embeddings;\n",
    "DROP TABLE IF EXISTS tmp_copied_traits;\n",
    "DROP TABLE IF EXISTS tmp_split_traits;\n",
    "DROP TABLE IF EXISTS tmp_split_traits_final;\n",
    "DROP TABLE IF EXISTS tmp_trait_clusters;\n",
    "DROP TABLE IF EXISTS tmp_traits_embeddings;\n",
    "DROP TABLE IF EXISTS tmp_traits_embeddings_modeling_sample;"
   ]
  },
  {
   "cell_type": "code",
   "execution_count": 8,
   "id": "dec3e079",
   "metadata": {},
   "outputs": [
    {
     "data": {
      "application/vnd.jupyter.widget-view+json": {
       "model_id": "fdeda84103ec4eaabe8117d903c03ce1",
       "version_major": 2,
       "version_minor": 0
      },
      "text/plain": [
       "Query is running:   0%|          |"
      ]
     },
     "metadata": {},
     "output_type": "display_data"
    },
    {
     "data": {
      "text/html": [
       "<div>\n",
       "<style scoped>\n",
       "    .dataframe tbody tr th:only-of-type {\n",
       "        vertical-align: middle;\n",
       "    }\n",
       "\n",
       "    .dataframe tbody tr th {\n",
       "        vertical-align: top;\n",
       "    }\n",
       "\n",
       "    .dataframe thead th {\n",
       "        text-align: right;\n",
       "    }\n",
       "</style>\n",
       "<table border=\"1\" class=\"dataframe\">\n",
       "  <thead>\n",
       "    <tr style=\"text-align: right;\">\n",
       "      <th></th>\n",
       "    </tr>\n",
       "  </thead>\n",
       "  <tbody>\n",
       "  </tbody>\n",
       "</table>\n",
       "</div>"
      ],
      "text/plain": [
       "Empty DataFrame\n",
       "Columns: []\n",
       "Index: []"
      ]
     },
     "execution_count": 8,
     "metadata": {},
     "output_type": "execute_result"
    }
   ],
   "source": [
    "%%bigquery\n",
    "\n",
    "--DELETE FROM identifiers WHERE 1 = 1;\n",
    "--DELETE FROM chunks WHERE 1 = 1;\n",
    "DELETE FROM characters WHERE 1 = 1;\n",
    "--DELETE FROM character_cluster_details WHERE 1 = 1;\n",
    "--DELETE FROM clusters WHERE 1 = 1;\n",
    "-- DELETE FROM books;\n",
    "-- DELETE FROM prompts;\n"
   ]
  },
  {
   "cell_type": "code",
   "execution_count": null,
   "id": "d9c816fa",
   "metadata": {},
   "outputs": [
    {
     "data": {
      "application/vnd.jupyter.widget-view+json": {
       "model_id": "2c0623c15cf442bdbab5bcf3dcfa88de",
       "version_major": 2,
       "version_minor": 0
      },
      "text/plain": [
       "Query is running:   0%|          |"
      ]
     },
     "metadata": {},
     "output_type": "display_data"
    },
    {
     "data": {
      "text/html": [
       "<div>\n",
       "<style scoped>\n",
       "    .dataframe tbody tr th:only-of-type {\n",
       "        vertical-align: middle;\n",
       "    }\n",
       "\n",
       "    .dataframe tbody tr th {\n",
       "        vertical-align: top;\n",
       "    }\n",
       "\n",
       "    .dataframe thead th {\n",
       "        text-align: right;\n",
       "    }\n",
       "</style>\n",
       "<table border=\"1\" class=\"dataframe\">\n",
       "  <thead>\n",
       "    <tr style=\"text-align: right;\">\n",
       "      <th></th>\n",
       "    </tr>\n",
       "  </thead>\n",
       "  <tbody>\n",
       "  </tbody>\n",
       "</table>\n",
       "</div>"
      ],
      "text/plain": [
       "Empty DataFrame\n",
       "Columns: []\n",
       "Index: []"
      ]
     },
     "execution_count": 3,
     "metadata": {},
     "output_type": "execute_result"
    }
   ],
   "source": [
    "%%bigquery\n",
    "\n",
    "-- DROP TABLE IF EXISTS identifiers;\n",
    "-- DROP TABLE IF EXISTS chunks;\n",
    "-- DROP TABLE IF EXISTS books;\n",
    "-- DROP TABLE IF EXISTS character_cluster_details;\n",
    "-- DROP TABLE IF EXISTS characters;\n",
    "-- DROP TABLE IF EXISTS clusters;\n",
    "-- DROP TABLE IF EXISTS prompts;"
   ]
  }
 ],
 "metadata": {
  "kernelspec": {
   "display_name": "gcompetition2",
   "language": "python",
   "name": "python3"
  },
  "language_info": {
   "codemirror_mode": {
    "name": "ipython",
    "version": 3
   },
   "file_extension": ".py",
   "mimetype": "text/x-python",
   "name": "python",
   "nbconvert_exporter": "python",
   "pygments_lexer": "ipython3",
   "version": "3.13.3"
  }
 },
 "nbformat": 4,
 "nbformat_minor": 5
}
