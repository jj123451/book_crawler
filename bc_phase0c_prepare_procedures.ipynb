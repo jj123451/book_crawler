{
 "cells": [
  {
   "cell_type": "code",
   "execution_count": null,
   "id": "3c864d9d",
   "metadata": {},
   "outputs": [
    {
     "name": "stdout",
     "output_type": "stream",
     "text": [
      "Couldn't find program: 'false'\n"
     ]
    }
   ],
   "source": [
    "%%script false --no-raise-error\n",
    "import json\n",
    "from google.colab import userdata\n",
    "from google.oauth2 import service_account\n",
    "from google.cloud.bigquery import magics\n",
    "\n",
    "credentials_json = userdata.get('BIGQUERY_CREDENTIALS')\n",
    "credentials = service_account.Credentials.from_service_account_info(json.loads(credentials_json))\n",
    "magics.context.credentials = credentials"
   ]
  },
  {
   "cell_type": "code",
   "execution_count": null,
   "id": "a93d18b8",
   "metadata": {},
   "outputs": [],
   "source": [
    "from google.cloud import bigquery\n",
    "from google.cloud.bigquery import magics\n",
    "%load_ext bigquery_magics\n",
    "\n",
    "data_set = \"testing_set2\"\n",
    "project_name = \"emerald-entity-468916-f9\"\n",
    "\n",
    "job_config = bigquery.QueryJobConfig(default_dataset = f\"{project_name}.{data_set}\")\n",
    "client = bigquery.Client(project = project_name, default_query_job_config = job_config, credentials = globals().get('credentials', None))\n",
    "magics.context.default_query_job_config = job_config\n",
    "magics.context.project = project_name"
   ]
  },
  {
   "cell_type": "code",
   "execution_count": 3,
   "id": "a09fcbee",
   "metadata": {},
   "outputs": [
    {
     "data": {
      "application/vnd.jupyter.widget-view+json": {
       "model_id": "9191b4748be447eb819b16aad8e79ecc",
       "version_major": 2,
       "version_minor": 0
      },
      "text/plain": [
       "Query is running:   0%|          |"
      ]
     },
     "metadata": {},
     "output_type": "display_data"
    },
    {
     "data": {
      "text/html": [
       "<div>\n",
       "<style scoped>\n",
       "    .dataframe tbody tr th:only-of-type {\n",
       "        vertical-align: middle;\n",
       "    }\n",
       "\n",
       "    .dataframe tbody tr th {\n",
       "        vertical-align: top;\n",
       "    }\n",
       "\n",
       "    .dataframe thead th {\n",
       "        text-align: right;\n",
       "    }\n",
       "</style>\n",
       "<table border=\"1\" class=\"dataframe\">\n",
       "  <thead>\n",
       "    <tr style=\"text-align: right;\">\n",
       "      <th></th>\n",
       "    </tr>\n",
       "  </thead>\n",
       "  <tbody>\n",
       "  </tbody>\n",
       "</table>\n",
       "</div>"
      ],
      "text/plain": [
       "Empty DataFrame\n",
       "Columns: []\n",
       "Index: []"
      ]
     },
     "execution_count": 3,
     "metadata": {},
     "output_type": "execute_result"
    }
   ],
   "source": [
    "%%bigquery --pyformat\n",
    "CREATE OR REPLACE PROCEDURE phase2_correction_correct()\n",
    "BEGIN\n",
    "    DECLARE correct_model_params JSON DEFAULT JSON '''\n",
    "    {{\"systemInstruction\": {{\"parts\": [{{\"text\": \"You are an assistant helping to fix the content of scanned books.\"}}]}}}}\n",
    "    ''';\n",
    "\n",
    "    UPDATE {data_set}.tmp_correction_chunks b SET b.corrected_txt = \n",
    "        AI.GENERATE(FORMAT(p.prompt, b.prefix, b.original_txt, b.suffix), \n",
    "        connection_id => 'us.ai_connection', endpoint => 'gemini-2.5-flash-lite',\n",
    "        model_params => correct_model_params).result\n",
    "    FROM {data_set}.prompts p WHERE b.corrected_txt IS NULL AND p.code = 'correct';\n",
    "\n",
    "    MERGE {data_set}.books b\n",
    "    USING (SELECT book_id, STRING_AGG(corrected_txt, ' ' ORDER BY chunk_number) AS aggregated_txt\n",
    "    FROM {data_set}.tmp_correction_chunks GROUP BY book_id) cb\n",
    "    ON b.book_id = cb.book_id AND b.corrected_txt IS NULL\n",
    "    WHEN MATCHED THEN UPDATE SET corrected_txt = cb.aggregated_txt;\n",
    "END;"
   ]
  },
  {
   "cell_type": "code",
   "execution_count": 21,
   "id": "f950a7ad",
   "metadata": {},
   "outputs": [
    {
     "data": {
      "application/vnd.jupyter.widget-view+json": {
       "model_id": "06bbce42ed1f44dd9f0951fd84753e8d",
       "version_major": 2,
       "version_minor": 0
      },
      "text/plain": [
       "Query is running:   0%|          |"
      ]
     },
     "metadata": {},
     "output_type": "display_data"
    },
    {
     "data": {
      "text/html": [
       "<div>\n",
       "<style scoped>\n",
       "    .dataframe tbody tr th:only-of-type {\n",
       "        vertical-align: middle;\n",
       "    }\n",
       "\n",
       "    .dataframe tbody tr th {\n",
       "        vertical-align: top;\n",
       "    }\n",
       "\n",
       "    .dataframe thead th {\n",
       "        text-align: right;\n",
       "    }\n",
       "</style>\n",
       "<table border=\"1\" class=\"dataframe\">\n",
       "  <thead>\n",
       "    <tr style=\"text-align: right;\">\n",
       "      <th></th>\n",
       "    </tr>\n",
       "  </thead>\n",
       "  <tbody>\n",
       "  </tbody>\n",
       "</table>\n",
       "</div>"
      ],
      "text/plain": [
       "Empty DataFrame\n",
       "Columns: []\n",
       "Index: []"
      ]
     },
     "execution_count": 21,
     "metadata": {},
     "output_type": "execute_result"
    }
   ],
   "source": [
    "%%bigquery --pyformat\n",
    "CREATE OR REPLACE PROCEDURE phase3_prepare_chunks()\n",
    "BEGIN\n",
    "    create or replace table {data_set}.tmp_overlapped_chunks AS\n",
    "    SELECT book_id, chunk_num - 1 as chunk_number, SUBSTR(corrected_txt, (chunk_num - 1) * 40000 + 1, 40000) as txt, CAST(null AS STRING) text_with_overlap\n",
    "    FROM {data_set}.books, UNNEST(GENERATE_ARRAY(1, CAST(CEIL(LENGTH(corrected_txt) / 40000) AS INT64))) as chunk_num\n",
    "    WHERE processed = False or processed is null;\n",
    "\n",
    "    UPDATE {data_set}.tmp_overlapped_chunks curr set curr.text_with_overlap = curr.txt || ' ' || RIGHT(prev.txt, 4000)\n",
    "    FROM {data_set}.tmp_overlapped_chunks prev WHERE curr.book_id = prev.book_id AND curr.chunk_number = prev.chunk_number + 1;\n",
    "\n",
    "    UPDATE {data_set}.tmp_overlapped_chunks set text_with_overlap = txt where text_with_overlap is null;\n",
    "\n",
    "    CREATE OR REPLACE TABLE {data_set}.chunks(book_id STRING, chunk_number INTEGER, txt STRING, summary STRING,\n",
    "        fragment_number STRING, characters_id_data STRING, characters_full_data STRING);\n",
    "\n",
    "    INSERT INTO {data_set}.chunks (book_id, chunk_number, txt)\n",
    "    (SELECT book_id, chunk_number, text_with_overlap FROM {data_set}.tmp_overlapped_chunks\n",
    "    EXCEPT DISTINCT SELECT book_id, chunk_number, txt FROM {data_set}.chunks);\n",
    "END;"
   ]
  },
  {
   "cell_type": "code",
   "execution_count": 5,
   "id": "15fa3367",
   "metadata": {},
   "outputs": [
    {
     "data": {
      "application/vnd.jupyter.widget-view+json": {
       "model_id": "911ac4e0ecd44c0fa9c2f6bed7934fed",
       "version_major": 2,
       "version_minor": 0
      },
      "text/plain": [
       "Query is running:   0%|          |"
      ]
     },
     "metadata": {},
     "output_type": "display_data"
    },
    {
     "data": {
      "text/html": [
       "<div>\n",
       "<style scoped>\n",
       "    .dataframe tbody tr th:only-of-type {\n",
       "        vertical-align: middle;\n",
       "    }\n",
       "\n",
       "    .dataframe tbody tr th {\n",
       "        vertical-align: top;\n",
       "    }\n",
       "\n",
       "    .dataframe thead th {\n",
       "        text-align: right;\n",
       "    }\n",
       "</style>\n",
       "<table border=\"1\" class=\"dataframe\">\n",
       "  <thead>\n",
       "    <tr style=\"text-align: right;\">\n",
       "      <th></th>\n",
       "    </tr>\n",
       "  </thead>\n",
       "  <tbody>\n",
       "  </tbody>\n",
       "</table>\n",
       "</div>"
      ],
      "text/plain": [
       "Empty DataFrame\n",
       "Columns: []\n",
       "Index: []"
      ]
     },
     "execution_count": 5,
     "metadata": {},
     "output_type": "execute_result"
    }
   ],
   "source": [
    "%%bigquery --pyformat\n",
    "\n",
    "CREATE OR REPLACE PROCEDURE phase4_fragments_summarization()\n",
    "BEGIN\n",
    "  \tUPDATE {data_set}.chunks c SET summary = \n",
    "\t\tcoalesce(AI.GENERATE(FORMAT(p.prompt, s.size, c.txt), \n",
    "\t\tconnection_id => 'us.ai_connection', endpoint => 'gemini-2.5-flash-lite').result, '')\n",
    "    FROM (select book_id, cast(80000 / count(*) as INT64) size from {data_set}.chunks group by book_id) s, {data_set}.prompts p\n",
    "    WHERE c.book_id = s.book_id AND c.summary IS NULL AND p.code = 'summarize';\n",
    "END;"
   ]
  },
  {
   "cell_type": "code",
   "execution_count": 6,
   "id": "1623021a",
   "metadata": {},
   "outputs": [
    {
     "data": {
      "application/vnd.jupyter.widget-view+json": {
       "model_id": "edddfc4e43d243d0b8d76806f9be770a",
       "version_major": 2,
       "version_minor": 0
      },
      "text/plain": [
       "Query is running:   0%|          |"
      ]
     },
     "metadata": {},
     "output_type": "display_data"
    },
    {
     "data": {
      "text/html": [
       "<div>\n",
       "<style scoped>\n",
       "    .dataframe tbody tr th:only-of-type {\n",
       "        vertical-align: middle;\n",
       "    }\n",
       "\n",
       "    .dataframe tbody tr th {\n",
       "        vertical-align: top;\n",
       "    }\n",
       "\n",
       "    .dataframe thead th {\n",
       "        text-align: right;\n",
       "    }\n",
       "</style>\n",
       "<table border=\"1\" class=\"dataframe\">\n",
       "  <thead>\n",
       "    <tr style=\"text-align: right;\">\n",
       "      <th></th>\n",
       "    </tr>\n",
       "  </thead>\n",
       "  <tbody>\n",
       "  </tbody>\n",
       "</table>\n",
       "</div>"
      ],
      "text/plain": [
       "Empty DataFrame\n",
       "Columns: []\n",
       "Index: []"
      ]
     },
     "execution_count": 6,
     "metadata": {},
     "output_type": "execute_result"
    }
   ],
   "source": [
    "%%bigquery --pyformat\n",
    "CREATE OR REPLACE PROCEDURE phase4_summarize_fragments_summaries()\n",
    "BEGIN\n",
    "\tUPDATE {data_set}.books b SET b.summary = coalesce(AI.GENERATE(FORMAT(p.prompt, s.summary), \n",
    "\t\t\tconnection_id => 'us.ai_connection', endpoint => 'gemini-2.5-flash-lite').result, '')\n",
    "\tFROM {data_set}.prompts p,\n",
    "        (SELECT book_id, STRING_AGG(summary, '/n' ORDER BY chunk_number) summary FROM {data_set}.chunks GROUP BY book_id) s \n",
    "    WHERE p.code = 'reduce_summary' AND b.book_id = s.book_id AND b.summary is null;\n",
    "END;"
   ]
  },
  {
   "cell_type": "code",
   "execution_count": null,
   "id": "19bcb098",
   "metadata": {},
   "outputs": [
    {
     "data": {
      "application/vnd.jupyter.widget-view+json": {
       "model_id": "bd57c021472948b4a60bfc572fd28042",
       "version_major": 2,
       "version_minor": 0
      },
      "text/plain": [
       "Query is running:   0%|          |"
      ]
     },
     "metadata": {},
     "output_type": "display_data"
    },
    {
     "data": {
      "text/html": [
       "<div>\n",
       "<style scoped>\n",
       "    .dataframe tbody tr th:only-of-type {\n",
       "        vertical-align: middle;\n",
       "    }\n",
       "\n",
       "    .dataframe tbody tr th {\n",
       "        vertical-align: top;\n",
       "    }\n",
       "\n",
       "    .dataframe thead th {\n",
       "        text-align: right;\n",
       "    }\n",
       "</style>\n",
       "<table border=\"1\" class=\"dataframe\">\n",
       "  <thead>\n",
       "    <tr style=\"text-align: right;\">\n",
       "      <th></th>\n",
       "    </tr>\n",
       "  </thead>\n",
       "  <tbody>\n",
       "  </tbody>\n",
       "</table>\n",
       "</div>"
      ],
      "text/plain": [
       "Empty DataFrame\n",
       "Columns: []\n",
       "Index: []"
      ]
     },
     "execution_count": 7,
     "metadata": {},
     "output_type": "execute_result"
    }
   ],
   "source": [
    "%%bigquery --pyformat\n",
    "CREATE OR REPLACE PROCEDURE phase5_prepare_character_ids_from_fragments()\n",
    "BEGIN\n",
    "    UPDATE {data_set}.chunks SET fragment_number = FORMAT('%03d', chunk_number + 1) where fragment_number is null;\n",
    "\n",
    "    UPDATE {data_set}.chunks c SET c.characters_id_data = \n",
    "        AI.GENERATE(FORMAT(p.prompt, c.txt), connection_id => 'us.ai_connection', endpoint => 'gemini-2.5-flash-lite').result\n",
    "    FROM {data_set}.prompts p, {data_set}.books b\n",
    "    WHERE c.characters_full_data is null AND p.code = 'characters_id_data' and c.book_id = b.book_id;\n",
    "\n",
    "    CREATE OR REPLACE TABLE {data_set}.tmp_characters_id_data AS\n",
    "    (select book_id, chunk_number, fragment_number, x as characters_id_data,\n",
    "    CAST(NULL AS STRING) full_name, CAST(NULL AS STRING) information, CAST(NULL AS INT64) importance\n",
    "    from {data_set}.chunks, UNNEST(JSON_QUERY_ARRAY(TRIM(characters_id_data, '`json\\n'), '$')) x);\n",
    "\n",
    "    CREATE OR REPLACE TABLE {data_set}.identifiers AS\n",
    "    SELECT row_number() OVER(ORDER BY book_id, chunk_number, full_name) id, * from {data_set}.tmp_characters_id_data;\n",
    "\n",
    "    UPDATE {data_set}.identifiers SET full_name = json_value(characters_id_data, '$.full_name'), information = json_value(characters_id_data, '$.information'),\n",
    "        importance = CAST(JSON_VALUE(characters_id_data, '$.importance') AS INT64) where full_name is null;\n",
    "\n",
    "    UPDATE {data_set}.identifiers SET importance = 1 where importance = 0 or importance is null;\n",
    "END;\n"
   ]
  },
  {
   "cell_type": "code",
   "execution_count": 8,
   "id": "b1157bc0",
   "metadata": {},
   "outputs": [
    {
     "data": {
      "application/vnd.jupyter.widget-view+json": {
       "model_id": "cb0cd32d4d2c4889853e1da6c12331cd",
       "version_major": 2,
       "version_minor": 0
      },
      "text/plain": [
       "Query is running:   0%|          |"
      ]
     },
     "metadata": {},
     "output_type": "display_data"
    },
    {
     "data": {
      "text/html": [
       "<div>\n",
       "<style scoped>\n",
       "    .dataframe tbody tr th:only-of-type {\n",
       "        vertical-align: middle;\n",
       "    }\n",
       "\n",
       "    .dataframe tbody tr th {\n",
       "        vertical-align: top;\n",
       "    }\n",
       "\n",
       "    .dataframe thead th {\n",
       "        text-align: right;\n",
       "    }\n",
       "</style>\n",
       "<table border=\"1\" class=\"dataframe\">\n",
       "  <thead>\n",
       "    <tr style=\"text-align: right;\">\n",
       "      <th></th>\n",
       "    </tr>\n",
       "  </thead>\n",
       "  <tbody>\n",
       "  </tbody>\n",
       "</table>\n",
       "</div>"
      ],
      "text/plain": [
       "Empty DataFrame\n",
       "Columns: []\n",
       "Index: []"
      ]
     },
     "execution_count": 8,
     "metadata": {},
     "output_type": "execute_result"
    }
   ],
   "source": [
    "%%bigquery --pyformat\n",
    "CREATE OR REPLACE PROCEDURE phase5_prepare_character_ids_initial_embeddings()\n",
    "BEGIN\n",
    "  create or replace table {data_set}.tmp_characters_id_embeddings as SELECT * FROM ML.GENERATE_EMBEDDING(\n",
    "    MODEL `{data_set}.gemini-embedding-001`,\n",
    "    (SELECT characters_id_data as content, full_name as title, id, book_id, chunk_number, FALSE is_query FROM {data_set}.identifiers),\n",
    "    STRUCT(TRUE AS flatten_json_output, 'RETRIEVAL_DOCUMENT' as task_type));\n",
    "END;"
   ]
  },
  {
   "cell_type": "code",
   "execution_count": 9,
   "id": "77314106",
   "metadata": {},
   "outputs": [
    {
     "data": {
      "application/vnd.jupyter.widget-view+json": {
       "model_id": "d2009b6dac7d4d4ba06c73af38909670",
       "version_major": 2,
       "version_minor": 0
      },
      "text/plain": [
       "Query is running:   0%|          |"
      ]
     },
     "metadata": {},
     "output_type": "display_data"
    },
    {
     "data": {
      "text/html": [
       "<div>\n",
       "<style scoped>\n",
       "    .dataframe tbody tr th:only-of-type {\n",
       "        vertical-align: middle;\n",
       "    }\n",
       "\n",
       "    .dataframe tbody tr th {\n",
       "        vertical-align: top;\n",
       "    }\n",
       "\n",
       "    .dataframe thead th {\n",
       "        text-align: right;\n",
       "    }\n",
       "</style>\n",
       "<table border=\"1\" class=\"dataframe\">\n",
       "  <thead>\n",
       "    <tr style=\"text-align: right;\">\n",
       "      <th></th>\n",
       "    </tr>\n",
       "  </thead>\n",
       "  <tbody>\n",
       "  </tbody>\n",
       "</table>\n",
       "</div>"
      ],
      "text/plain": [
       "Empty DataFrame\n",
       "Columns: []\n",
       "Index: []"
      ]
     },
     "execution_count": 9,
     "metadata": {},
     "output_type": "execute_result"
    }
   ],
   "source": [
    "%%bigquery --pyformat\n",
    "CREATE OR REPLACE PROCEDURE phase5_merge_characters_duplicates_with_return_param(OUT updated INT64)  \n",
    "BEGIN\n",
    "\tcreate or replace table {data_set}.tmp_characters_id_distance as\n",
    "  SELECT query.id query_id, query.title query_full_name, base.id, base.title full_name, base.chunk_number, base.book_id, distance FROM\n",
    "  VECTOR_SEARCH(\n",
    "\t(SELECT id, book_id, chunk_number, title, ml_generate_embedding_result FROM {data_set}.tmp_characters_id_embeddings),\n",
    "\t'ml_generate_embedding_result',\n",
    "\t(SELECT id, title, ml_generate_embedding_result FROM {data_set}.tmp_characters_id_embeddings),\n",
    "\t'ml_generate_embedding_result',\n",
    "\ttop_k => 2);\n",
    "\n",
    "  delete from {data_set}.tmp_characters_id_distance where query_id = id;\n",
    "  delete from {data_set}.tmp_characters_id_distance d where d.id < d.query_id and exists (select 1 from {data_set}.tmp_characters_id_distance dd where dd.id = d.query_id and d.id = dd.query_id);\n",
    "\n",
    "  create or replace table {data_set}.tmp_characters_duplicate_candidates as\n",
    "  select string_agg(pair, ',\\n') pairs, book_id, chunk_number from\n",
    "  (select TO_JSON_STRING(STRUCT(query.id, query.full_name as first_individual_full_name, query.information as first_individual_information, \n",
    "  base.full_name as second_individual_full_name, base.information as second_individual_information), true) pair, embed.book_id, query.chunk_number, query.fragment_number\n",
    "  from {data_set}.tmp_characters_id_distance embed\n",
    "  JOIN {data_set}.identifiers query ON embed.query_id = query.id\n",
    "  JOIN {data_set}.identifiers base ON embed.id = base.id)\n",
    "  group by book_id, chunk_number;\n",
    "\n",
    "  create or replace table {data_set}.tmp_the_same_characters as SELECT pairs.book_id, pairs.chunk_number,\n",
    "  AI.GENERATE(FORMAT(p.prompt, pairs.pairs, cb.summary), connection_id => 'us.ai_connection', endpoint => 'gemini-2.5-flash-lite').result pairs\n",
    "  FROM {data_set}.prompts p, {data_set}.tmp_characters_duplicate_candidates pairs, {data_set}.books cb\n",
    "  WHERE p.code = 'find_the_same_characters' and pairs.book_id = cb.book_id;\n",
    "\n",
    "  create or replace table {data_set}.tmp_different_characters as SELECT pairs.book_id, pairs.chunk_number,\n",
    "  AI.GENERATE(FORMAT(p.prompt, pairs.pairs, cb.summary), connection_id => 'us.ai_connection', endpoint => 'gemini-2.5-flash-lite').result pairs\n",
    "  FROM {data_set}.prompts p, {data_set}.tmp_the_same_characters pairs, {data_set}.books cb\n",
    "  WHERE p.code = 'find_different_characters' and pairs.book_id = cb.book_id;\n",
    "\n",
    "  CREATE OR REPLACE TABLE {data_set}.tmp_the_same_characters_split AS\n",
    "  select book_id, chunk_number, pair, CAST(NULL AS INT64) id\n",
    "  from {data_set}.tmp_the_same_characters, UNNEST(JSON_QUERY_ARRAY(TRIM(pairs, '`json\\n'), '$')) pair;\t\t\n",
    "  UPDATE {data_set}.tmp_the_same_characters_split SET id = CAST(JSON_VALUE(pair, '$.id') AS INT64) where id is null;\n",
    "\n",
    "  CREATE OR REPLACE TABLE {data_set}.tmp_different_characters_split AS\n",
    "  select book_id, chunk_number, pair, CAST(NULL AS INT64) id\n",
    "  from {data_set}.tmp_different_characters, UNNEST(JSON_QUERY_ARRAY(TRIM(pairs, '`json\\n'), '$')) pair;\t\t\n",
    "  UPDATE {data_set}.tmp_different_characters_split SET id = CAST(JSON_VALUE(pair, '$.id') AS INT64) where id is null;\n",
    "\n",
    "  DELETE FROM {data_set}.tmp_the_same_characters_split WHERE ID IN (SELECT id FROM {data_set}.tmp_different_characters_split);\t\t\n",
    "  DELETE FROM {data_set}.tmp_characters_id_distance where query_id NOT IN (SELECT id from {data_set}.tmp_the_same_characters_split);\n",
    "\n",
    "  create or replace table {data_set}.tmp_bidirectional_edges as (\n",
    "  SELECT query_id, id FROM {data_set}.tmp_characters_id_distance UNION DISTINCT SELECT id, query_id FROM {data_set}.tmp_characters_id_distance);\n",
    "\n",
    "  create or replace table {data_set}.tmp_grouped_duplicates_graph as\n",
    "  WITH RECURSIVE connected_components AS (\n",
    "      SELECT query_id AS node, query_id AS root, 0 AS iteration FROM {data_set}.tmp_bidirectional_edges\n",
    "      UNION ALL\n",
    "      SELECT edges.id AS node, LEAST(comp.root, edges.id) AS root, comp.iteration + 1\n",
    "      FROM connected_components comp INNER JOIN {data_set}.tmp_bidirectional_edges edges ON comp.node = edges.query_id\n",
    "      WHERE comp.iteration < 10\n",
    "  ),\n",
    "  unique_graph AS (SELECT node, MIN(root) AS group_id FROM connected_components GROUP BY node)\n",
    "  SELECT group_id, ARRAY_AGG(DISTINCT node ORDER BY node) AS duplicate_ids_array FROM unique_graph GROUP BY group_id;\n",
    "\n",
    "  create or replace table {data_set}.tmp_grouped_duplicates_graph_enriched as\n",
    "  WITH duplicates AS (select group_id, id from {data_set}.tmp_grouped_duplicates_graph, UNNEST(duplicate_ids_array) id)\n",
    "  SELECT d.group_id, \"[\\n\" || STRING_AGG(TO_JSON_STRING(STRUCT(i.full_name, i.information), true), \",\\n\" ORDER BY i.chunk_number) || \"\\n]\" duplicated_ids\n",
    "  FROM {data_set}.identifiers i join duplicates d on i.id = d.id group by group_id;\n",
    "\n",
    "  create or replace table {data_set}.tmp_merged_duplicates_double_check as SELECT x.group_id,\n",
    "  AI.GENERATE_BOOL(FORMAT(p.prompt, x.duplicated_ids, b.summary), connection_id => 'us.ai_connection', endpoint => 'gemini-2.5-flash-lite').result check\n",
    "  FROM {data_set}.prompts p, {data_set}.tmp_grouped_duplicates_graph_enriched x, {data_set}.identifiers i, {data_set}.books b WHERE p.code = 'merge_character_ids_double_check' and i.id = x.group_id and i.book_id = b.book_id;\n",
    "\n",
    "  delete from {data_set}.tmp_grouped_duplicates_graph WHERE group_id IN (\n",
    "    select group_id from {data_set}.tmp_merged_duplicates_double_check where check = FALSE);\n",
    "\n",
    "  delete from {data_set}.tmp_grouped_duplicates_graph_enriched WHERE group_id IN (\n",
    "    select group_id from {data_set}.tmp_merged_duplicates_double_check where check = FALSE);\n",
    "\n",
    "  create or replace table {data_set}.tmp_merged_duplicates as SELECT x.group_id,\n",
    "  AI.GENERATE(FORMAT(p.prompt, x.duplicated_ids, b.summary), connection_id => 'us.ai_connection', endpoint => 'gemini-2.5-flash-lite').result character_id\n",
    "  FROM {data_set}.prompts p, {data_set}.tmp_grouped_duplicates_graph_enriched x, {data_set}.identifiers i, {data_set}.books b WHERE p.code = 'merge_character_ids' and i.id = x.group_id and i.book_id = b.book_id;\n",
    "\n",
    "  CREATE OR REPLACE TABLE {data_set}.tmp_merged_duplicates_split AS\n",
    "  select group_id, TRIM(character_id, '`json\\n') character_id, CAST(NULL AS STRING) full_name, CAST(NULL AS STRING) information\n",
    "  from {data_set}.tmp_merged_duplicates;\n",
    "  UPDATE {data_set}.tmp_merged_duplicates_split SET full_name = json_value(character_id, '$.full_name'), information = json_value(character_id, '$.information') where full_name is null;\n",
    "\n",
    "  UPDATE {data_set}.identifiers chid SET chid.full_name = duplicate.full_name, chid.information = duplicate.information,\n",
    "  chid.characters_id_data = TO_JSON_STRING(STRUCT(duplicate.full_name, duplicate.information), true)\n",
    "  FROM {data_set}.tmp_merged_duplicates_split duplicate WHERE chid.id = duplicate.group_id;\n",
    "\n",
    "  create or replace table {data_set}.tmp_grouped_ids_split as select group_id, id from {data_set}.tmp_grouped_duplicates_graph, UNNEST(duplicate_ids_array) id;\n",
    "\n",
    "  UPDATE {data_set}.identifiers chid SET chid.importance = dp.importance, chid.fragment_number = dp.fragment_number\n",
    "  FROM (select chid.id, sum(di.importance) importance, string_agg(distinct di.fragment_number, ',') fragment_number\n",
    "  FROM {data_set}.identifiers chid JOIN {data_set}.tmp_grouped_ids_split d ON d.group_id = chid.id\n",
    "  JOIN {data_set}.identifiers di ON d.id = di.id group by chid.id) dp\n",
    "  WHERE chid.id = dp.id;\n",
    "\n",
    "  delete from {data_set}.tmp_grouped_ids_split where group_id = id;\n",
    "  DELETE FROM {data_set}.identifiers WHERE id IN (SELECT id from {data_set}.tmp_grouped_ids_split);\n",
    "  DELETE FROM {data_set}.tmp_characters_id_embeddings where id IN (SELECT id from {data_set}.tmp_grouped_ids_split);\n",
    "\n",
    "  create or replace table {data_set}.tmp_characters_id_changed_embeddings as SELECT * FROM ML.GENERATE_EMBEDDING(\n",
    "    MODEL `{data_set}.gemini-embedding-001`,\n",
    "    (SELECT chid.characters_id_data as content, chid.full_name as title, chid.id FROM {data_set}.identifiers chid\n",
    "    JOIN {data_set}.tmp_grouped_duplicates_graph duplicate ON chid.id = duplicate.group_id),\n",
    "    STRUCT(TRUE AS flatten_json_output, 'RETRIEVAL_DOCUMENT' as task_type));\n",
    "\n",
    "  UPDATE {data_set}.tmp_characters_id_embeddings t SET ml_generate_embedding_result = tnew.ml_generate_embedding_result, ml_generate_embedding_statistics = tnew.ml_generate_embedding_statistics,\n",
    "    ml_generate_embedding_status = tnew.ml_generate_embedding_status, title = tnew.title, content = tnew.content\n",
    "  FROM {data_set}.tmp_characters_id_changed_embeddings tnew WHERE tnew.id = t.id;\n",
    "\n",
    "  SET updated = @@row_count;\n",
    "END;"
   ]
  },
  {
   "cell_type": "code",
   "execution_count": 10,
   "id": "d96e448f",
   "metadata": {},
   "outputs": [
    {
     "data": {
      "application/vnd.jupyter.widget-view+json": {
       "model_id": "8f90405948e34085836c59cd1f96e9a6",
       "version_major": 2,
       "version_minor": 0
      },
      "text/plain": [
       "Query is running:   0%|          |"
      ]
     },
     "metadata": {},
     "output_type": "display_data"
    },
    {
     "data": {
      "text/html": [
       "<div>\n",
       "<style scoped>\n",
       "    .dataframe tbody tr th:only-of-type {\n",
       "        vertical-align: middle;\n",
       "    }\n",
       "\n",
       "    .dataframe tbody tr th {\n",
       "        vertical-align: top;\n",
       "    }\n",
       "\n",
       "    .dataframe thead th {\n",
       "        text-align: right;\n",
       "    }\n",
       "</style>\n",
       "<table border=\"1\" class=\"dataframe\">\n",
       "  <thead>\n",
       "    <tr style=\"text-align: right;\">\n",
       "      <th></th>\n",
       "    </tr>\n",
       "  </thead>\n",
       "  <tbody>\n",
       "  </tbody>\n",
       "</table>\n",
       "</div>"
      ],
      "text/plain": [
       "Empty DataFrame\n",
       "Columns: []\n",
       "Index: []"
      ]
     },
     "execution_count": 10,
     "metadata": {},
     "output_type": "execute_result"
    }
   ],
   "source": [
    "%%bigquery --pyformat\n",
    "CREATE OR REPLACE PROCEDURE phase5_merge_characters_duplicates()  \n",
    "BEGIN\n",
    "  DECLARE merged INT64 DEFAULT 0;\n",
    "  call {data_set}.phase5_merge_characters_duplicates_with_return_param(merged);\n",
    "END;"
   ]
  },
  {
   "cell_type": "code",
   "execution_count": 11,
   "id": "869b8465",
   "metadata": {},
   "outputs": [
    {
     "data": {
      "application/vnd.jupyter.widget-view+json": {
       "model_id": "e2e8011945684afb9345c6ac7cf28d1d",
       "version_major": 2,
       "version_minor": 0
      },
      "text/plain": [
       "Query is running:   0%|          |"
      ]
     },
     "metadata": {},
     "output_type": "display_data"
    },
    {
     "data": {
      "text/html": [
       "<div>\n",
       "<style scoped>\n",
       "    .dataframe tbody tr th:only-of-type {\n",
       "        vertical-align: middle;\n",
       "    }\n",
       "\n",
       "    .dataframe tbody tr th {\n",
       "        vertical-align: top;\n",
       "    }\n",
       "\n",
       "    .dataframe thead th {\n",
       "        text-align: right;\n",
       "    }\n",
       "</style>\n",
       "<table border=\"1\" class=\"dataframe\">\n",
       "  <thead>\n",
       "    <tr style=\"text-align: right;\">\n",
       "      <th></th>\n",
       "    </tr>\n",
       "  </thead>\n",
       "  <tbody>\n",
       "  </tbody>\n",
       "</table>\n",
       "</div>"
      ],
      "text/plain": [
       "Empty DataFrame\n",
       "Columns: []\n",
       "Index: []"
      ]
     },
     "execution_count": 11,
     "metadata": {},
     "output_type": "execute_result"
    }
   ],
   "source": [
    "%%bigquery --pyformat\n",
    "CREATE OR REPLACE PROCEDURE phase5_rebuild_indentifier_jsons()  \n",
    "BEGIN\n",
    "    UPDATE {data_set}.identifiers SET characters_id_data = TO_JSON_STRING(STRUCT(id, full_name, information), true) WHERE full_name is not null;\n",
    "END;"
   ]
  },
  {
   "cell_type": "code",
   "execution_count": 12,
   "id": "d5fa697a",
   "metadata": {},
   "outputs": [
    {
     "data": {
      "application/vnd.jupyter.widget-view+json": {
       "model_id": "957ecdade4a644eca64401b0fda75116",
       "version_major": 2,
       "version_minor": 0
      },
      "text/plain": [
       "Query is running:   0%|          |"
      ]
     },
     "metadata": {},
     "output_type": "display_data"
    },
    {
     "data": {
      "text/html": [
       "<div>\n",
       "<style scoped>\n",
       "    .dataframe tbody tr th:only-of-type {\n",
       "        vertical-align: middle;\n",
       "    }\n",
       "\n",
       "    .dataframe tbody tr th {\n",
       "        vertical-align: top;\n",
       "    }\n",
       "\n",
       "    .dataframe thead th {\n",
       "        text-align: right;\n",
       "    }\n",
       "</style>\n",
       "<table border=\"1\" class=\"dataframe\">\n",
       "  <thead>\n",
       "    <tr style=\"text-align: right;\">\n",
       "      <th></th>\n",
       "    </tr>\n",
       "  </thead>\n",
       "  <tbody>\n",
       "  </tbody>\n",
       "</table>\n",
       "</div>"
      ],
      "text/plain": [
       "Empty DataFrame\n",
       "Columns: []\n",
       "Index: []"
      ]
     },
     "execution_count": 12,
     "metadata": {},
     "output_type": "execute_result"
    }
   ],
   "source": [
    "%%bigquery --pyformat\n",
    "CREATE OR REPLACE PROCEDURE phase6_gather_characters_full_data_from_chunks()  \n",
    "BEGIN\n",
    "    UPDATE {data_set}.chunks ecb SET ecb.characters_full_data = \n",
    "    coalesce(AI.GENERATE(FORMAT(\n",
    "            p.prompt, \n",
    "            (SELECT \"[\\n\" || STRING_AGG(characters_id_data, \",\\n\") || \"\\n]\" FROM {data_set}.identifiers WHERE fragment_number LIKE '%' || ecb.fragment_number || '%' AND book_id = b.book_id GROUP BY book_id), \n",
    "            ecb.txt, b.summary), \n",
    "        connection_id => 'us.ai_connection', endpoint => 'gemini-2.5-flash-lite',\n",
    "        model_params => JSON '{{\"systemInstruction\": {{\"parts\": [{{\"text\": \"You are an expert in extracting information from books.\"}}]}}}}').result, '[]')\n",
    "    FROM {data_set}.prompts p, {data_set}.books b\n",
    "    WHERE ecb.characters_full_data is null AND p.code = 'extract_data' and ecb.book_id = b.book_id;\n",
    "\n",
    "    UPDATE {data_set}.chunks b SET b.characters_full_data = \n",
    "    TRIM(AI.GENERATE(FORMAT(p.prompt, 'array', b.characters_full_data), connection_id => 'us.ai_connection', endpoint => 'gemini-2.5-flash-lite').result, '`json\\n')\n",
    "    FROM {data_set}.prompts p WHERE b.characters_full_data is not null AND p.code = 'json';\n",
    "END;"
   ]
  },
  {
   "cell_type": "code",
   "execution_count": 13,
   "id": "9505a74e",
   "metadata": {},
   "outputs": [
    {
     "data": {
      "application/vnd.jupyter.widget-view+json": {
       "model_id": "54d9521c06544bc384e5b81e915402a8",
       "version_major": 2,
       "version_minor": 0
      },
      "text/plain": [
       "Query is running:   0%|          |"
      ]
     },
     "metadata": {},
     "output_type": "display_data"
    },
    {
     "data": {
      "text/html": [
       "<div>\n",
       "<style scoped>\n",
       "    .dataframe tbody tr th:only-of-type {\n",
       "        vertical-align: middle;\n",
       "    }\n",
       "\n",
       "    .dataframe tbody tr th {\n",
       "        vertical-align: top;\n",
       "    }\n",
       "\n",
       "    .dataframe thead th {\n",
       "        text-align: right;\n",
       "    }\n",
       "</style>\n",
       "<table border=\"1\" class=\"dataframe\">\n",
       "  <thead>\n",
       "    <tr style=\"text-align: right;\">\n",
       "      <th></th>\n",
       "    </tr>\n",
       "  </thead>\n",
       "  <tbody>\n",
       "  </tbody>\n",
       "</table>\n",
       "</div>"
      ],
      "text/plain": [
       "Empty DataFrame\n",
       "Columns: []\n",
       "Index: []"
      ]
     },
     "execution_count": 13,
     "metadata": {},
     "output_type": "execute_result"
    }
   ],
   "source": [
    "%%bigquery --pyformat\n",
    "CREATE OR REPLACE PROCEDURE phase6_group_the_same_characters_data_for_merging()  \n",
    "BEGIN\n",
    "    CREATE OR REPLACE TABLE {data_set}.tmp_split_full_data as\n",
    "    select book_id, character_full_data, chunk_number, CAST(NULL AS INT64) id, CAST(NULL AS STRING) full_name from {data_set}.chunks,\n",
    "    UNNEST(JSON_QUERY_ARRAY(characters_full_data, '$')) character_full_data where characters_full_data is not null;\n",
    "\n",
    "    UPDATE {data_set}.tmp_split_full_data SET full_name = json_value(character_full_data, '$.full_name'), id = CAST(JSON_VALUE(character_full_data, '$.id') AS INT64) WHERE full_name IS NULL;\n",
    "\n",
    "    CREATE OR REPLACE TABLE {data_set}.tmp_grouped_full_data AS\n",
    "    SELECT id, book_id, count(id) as parts, \"[\\n\" || STRING_AGG(character_full_data, \",\\n\" ORDER BY chunk_number) || \"\\n]\" full_data_array,\n",
    "    CAST(NULL AS STRING) character_full_data,  CAST(NULL AS STRING) information\n",
    "    FROM {data_set}.tmp_split_full_data GROUP BY book_id, id;\n",
    "END;"
   ]
  },
  {
   "cell_type": "code",
   "execution_count": 14,
   "id": "09aae96d",
   "metadata": {},
   "outputs": [
    {
     "data": {
      "application/vnd.jupyter.widget-view+json": {
       "model_id": "b7085ff076d245ec8859fb9de5c951e3",
       "version_major": 2,
       "version_minor": 0
      },
      "text/plain": [
       "Query is running:   0%|          |"
      ]
     },
     "metadata": {},
     "output_type": "display_data"
    },
    {
     "data": {
      "text/html": [
       "<div>\n",
       "<style scoped>\n",
       "    .dataframe tbody tr th:only-of-type {\n",
       "        vertical-align: middle;\n",
       "    }\n",
       "\n",
       "    .dataframe tbody tr th {\n",
       "        vertical-align: top;\n",
       "    }\n",
       "\n",
       "    .dataframe thead th {\n",
       "        text-align: right;\n",
       "    }\n",
       "</style>\n",
       "<table border=\"1\" class=\"dataframe\">\n",
       "  <thead>\n",
       "    <tr style=\"text-align: right;\">\n",
       "      <th></th>\n",
       "    </tr>\n",
       "  </thead>\n",
       "  <tbody>\n",
       "  </tbody>\n",
       "</table>\n",
       "</div>"
      ],
      "text/plain": [
       "Empty DataFrame\n",
       "Columns: []\n",
       "Index: []"
      ]
     },
     "execution_count": 14,
     "metadata": {},
     "output_type": "execute_result"
    }
   ],
   "source": [
    "%%bigquery --pyformat\n",
    "CREATE OR REPLACE PROCEDURE phase6_merge_data()\n",
    "BEGIN\n",
    "    UPDATE {data_set}.tmp_grouped_full_data data SET data.character_full_data = \n",
    "    AI.GENERATE(FORMAT(p.prompt, data.full_data_array, cb.SUMMARY, ids.information), connection_id => 'us.ai_connection', endpoint => 'gemini-2.5-flash-lite').result\n",
    "    FROM {data_set}.prompts p, {data_set}.books cb, {data_set}.identifiers ids\n",
    "    WHERE data.character_full_data is null AND data.full_data_array is not null and data.parts > 1\n",
    "    AND p.code = 'merge_character' and data.book_id = cb.book_id and data.book_id = ids.book_id AND ids.id = data.id;\n",
    "\n",
    "    UPDATE {data_set}.tmp_grouped_full_data SET character_full_data = TRIM(full_data_array, '[] \\n') \n",
    "    where character_full_data is null AND full_data_array is not null and parts = 1;\n",
    "\n",
    "    UPDATE {data_set}.tmp_grouped_full_data data SET data.character_full_data = \n",
    "    TRIM(AI.GENERATE(FORMAT(p.prompt, data.character_full_data), connection_id => 'us.ai_connection', endpoint => 'gemini-2.5-flash-lite').result, '`json\\n')\n",
    "    FROM {data_set}.prompts p WHERE data.character_full_data is not null AND p.code = 'json_final_check';\n",
    "\n",
    "    UPDATE {data_set}.tmp_grouped_full_data a SET a.information = ids.information\n",
    "    FROM {data_set}.identifiers ids WHERE ids.id = a.id;\n",
    "END;"
   ]
  },
  {
   "cell_type": "code",
   "execution_count": 15,
   "id": "f24b31f6",
   "metadata": {},
   "outputs": [
    {
     "data": {
      "application/vnd.jupyter.widget-view+json": {
       "model_id": "8e6c2c2e94d545f4b3850a68fe16829e",
       "version_major": 2,
       "version_minor": 0
      },
      "text/plain": [
       "Query is running:   0%|          |"
      ]
     },
     "metadata": {},
     "output_type": "display_data"
    },
    {
     "data": {
      "text/html": [
       "<div>\n",
       "<style scoped>\n",
       "    .dataframe tbody tr th:only-of-type {\n",
       "        vertical-align: middle;\n",
       "    }\n",
       "\n",
       "    .dataframe tbody tr th {\n",
       "        vertical-align: top;\n",
       "    }\n",
       "\n",
       "    .dataframe thead th {\n",
       "        text-align: right;\n",
       "    }\n",
       "</style>\n",
       "<table border=\"1\" class=\"dataframe\">\n",
       "  <thead>\n",
       "    <tr style=\"text-align: right;\">\n",
       "      <th></th>\n",
       "    </tr>\n",
       "  </thead>\n",
       "  <tbody>\n",
       "  </tbody>\n",
       "</table>\n",
       "</div>"
      ],
      "text/plain": [
       "Empty DataFrame\n",
       "Columns: []\n",
       "Index: []"
      ]
     },
     "execution_count": 15,
     "metadata": {},
     "output_type": "execute_result"
    }
   ],
   "source": [
    "%%bigquery --pyformat\n",
    "CREATE OR REPLACE PROCEDURE phase6_copy_final_data()\n",
    "BEGIN\n",
    "  INSERT INTO {data_set}.characters (book_id, id, full_name, sex, social_class, mental_health, intelligence, wealth, values, information)\n",
    "  select\n",
    "    book_id,\n",
    "    id,\n",
    "    json_value(character_full_data, '$.full_name') full_name,\n",
    "    json_value(character_full_data, '$.sex') sex,\n",
    "    json_value(character_full_data, '$.social_class') social_class,\n",
    "    json_value(character_full_data, '$.mental_health') mental_health,\n",
    "    json_value(character_full_data, '$.intelligence') intelligence,\n",
    "    json_value(character_full_data, '$.wealth') wealth,\n",
    "    json_value(character_full_data, '$.values') values,\n",
    "    information\n",
    "  from {data_set}.tmp_grouped_full_data a where not exists (\n",
    "    select 1 from {data_set}.characters fa where a.id = fa.id AND a.book_id = fa.book_id\n",
    "  );\n",
    "\n",
    "  UPDATE {data_set}.characters fa SET fa.importance = ids.importance\n",
    "  FROM {data_set}.identifiers ids where ids.id = fa.id AND ids.book_id = fa.book_id AND fa.importance is null;\n",
    "\n",
    "  update {data_set}.books set processed = TRUE where book_id IN (\n",
    "    SELECT book_id from {data_set}.tmp_grouped_full_data);\n",
    "END;"
   ]
  },
  {
   "cell_type": "code",
   "execution_count": 16,
   "id": "7bf6c431",
   "metadata": {},
   "outputs": [
    {
     "data": {
      "application/vnd.jupyter.widget-view+json": {
       "model_id": "f0b1f04da5f0470ea100a069da00bf6e",
       "version_major": 2,
       "version_minor": 0
      },
      "text/plain": [
       "Query is running:   0%|          |"
      ]
     },
     "metadata": {},
     "output_type": "display_data"
    },
    {
     "data": {
      "text/html": [
       "<div>\n",
       "<style scoped>\n",
       "    .dataframe tbody tr th:only-of-type {\n",
       "        vertical-align: middle;\n",
       "    }\n",
       "\n",
       "    .dataframe tbody tr th {\n",
       "        vertical-align: top;\n",
       "    }\n",
       "\n",
       "    .dataframe thead th {\n",
       "        text-align: right;\n",
       "    }\n",
       "</style>\n",
       "<table border=\"1\" class=\"dataframe\">\n",
       "  <thead>\n",
       "    <tr style=\"text-align: right;\">\n",
       "      <th></th>\n",
       "    </tr>\n",
       "  </thead>\n",
       "  <tbody>\n",
       "  </tbody>\n",
       "</table>\n",
       "</div>"
      ],
      "text/plain": [
       "Empty DataFrame\n",
       "Columns: []\n",
       "Index: []"
      ]
     },
     "execution_count": 16,
     "metadata": {},
     "output_type": "execute_result"
    }
   ],
   "source": [
    "%%bigquery --pyformat\n",
    "CREATE OR REPLACE PROCEDURE phase7_split_traits(trait_desc STRING)\n",
    "BEGIN\n",
    "    create or replace table {data_set}.tmp_split_traits as \n",
    "    SELECT t.book_id, t.id, t.traits as original_traits,\n",
    "    coalesce(AI.GENERATE(FORMAT(p.prompt, trait_desc, t.traits, i.information), connection_id => 'us.ai_connection', endpoint => 'gemini-2.5-flash-lite').result, '[]') traits\n",
    "    FROM {data_set}.prompts p, {data_set}.tmp_copied_traits t, {data_set}.characters i\n",
    "    WHERE p.code = 'split_traits' AND t.id = i.id AND t.book_id = i.book_id;\n",
    "\n",
    "    CREATE OR REPLACE TABLE {data_set}.tmp_split_traits_final AS\n",
    "    SELECT *, row_number() OVER(ORDER BY id, book_id) trait_id, CAST(NULL AS INT64) cluster_id FROM\n",
    "    (select book_id, id, trait\n",
    "    from {data_set}.tmp_split_traits, UNNEST(JSON_QUERY_ARRAY(TRIM(traits, '`json\\n'), '$')) as trait);\t\n",
    "\n",
    "    update {data_set}.tmp_split_traits_final set trait = TRIM(trait, '\"') where 1=1;\n",
    "END;"
   ]
  },
  {
   "cell_type": "code",
   "execution_count": 17,
   "id": "296acf0d",
   "metadata": {},
   "outputs": [
    {
     "data": {
      "application/vnd.jupyter.widget-view+json": {
       "model_id": "5dc29e1140db44dd9f34eac7143b9895",
       "version_major": 2,
       "version_minor": 0
      },
      "text/plain": [
       "Query is running:   0%|          |"
      ]
     },
     "metadata": {},
     "output_type": "display_data"
    },
    {
     "data": {
      "text/html": [
       "<div>\n",
       "<style scoped>\n",
       "    .dataframe tbody tr th:only-of-type {\n",
       "        vertical-align: middle;\n",
       "    }\n",
       "\n",
       "    .dataframe tbody tr th {\n",
       "        vertical-align: top;\n",
       "    }\n",
       "\n",
       "    .dataframe thead th {\n",
       "        text-align: right;\n",
       "    }\n",
       "</style>\n",
       "<table border=\"1\" class=\"dataframe\">\n",
       "  <thead>\n",
       "    <tr style=\"text-align: right;\">\n",
       "      <th></th>\n",
       "    </tr>\n",
       "  </thead>\n",
       "  <tbody>\n",
       "  </tbody>\n",
       "</table>\n",
       "</div>"
      ],
      "text/plain": [
       "Empty DataFrame\n",
       "Columns: []\n",
       "Index: []"
      ]
     },
     "execution_count": 17,
     "metadata": {},
     "output_type": "execute_result"
    }
   ],
   "source": [
    "%%bigquery --pyformat\n",
    "CREATE OR REPLACE PROCEDURE phase7_identify_clusters(clusters INT64)\n",
    "BEGIN\n",
    "    create or replace table {data_set}.tmp_traits_embeddings as SELECT * FROM ML.GENERATE_EMBEDDING(\n",
    "    MODEL `{data_set}.gemini-embedding-001`,\n",
    "    (SELECT trait as content, trait_id FROM {data_set}.tmp_split_traits_final),\n",
    "    STRUCT(TRUE AS flatten_json_output, 'SEMANTIC_SIMILARITY' as task_type, 128 as OUTPUT_DIMENSIONALITY));\n",
    "\n",
    "    create or replace table {data_set}.tmp_traits_embeddings_modeling_sample as\n",
    "    WITH size as (select count(*) count from {data_set}.tmp_traits_embeddings)\n",
    "    SELECT ml_generate_embedding_result, content, trait_id FROM {data_set}.tmp_traits_embeddings traits, size\n",
    "    where rand() < (2000 / size.count);\n",
    "\n",
    "    CREATE OR REPLACE MODEL `{data_set}.kmeans_traits_model`\n",
    "    OPTIONS(MODEL_TYPE = 'KMEANS', NUM_CLUSTERS = clusters, KMEANS_INIT_METHOD = 'KMEANS++', DISTANCE_TYPE = 'COSINE') AS\n",
    "    SELECT ml_generate_embedding_result FROM {data_set}.tmp_traits_embeddings_modeling_sample;\n",
    "\n",
    "    EXECUTE IMMEDIATE ('''CREATE OR REPLACE TABLE `{data_set}.tmp_clustered_traits` AS\n",
    "        SELECT * FROM ML.PREDICT(MODEL `{data_set}.kmeans_traits_model`,\n",
    "        (SELECT ml_generate_embedding_result, content, trait_id FROM `{data_set}.tmp_traits_embeddings`))''');\n",
    "\n",
    "    UPDATE {data_set}.tmp_split_traits_final v set v.cluster_id = cv.centroid_id\n",
    "    FROM {data_set}.tmp_clustered_traits cv WHERE v.trait_id = cv.trait_id;\n",
    "END;"
   ]
  },
  {
   "cell_type": "code",
   "execution_count": 18,
   "id": "0ba24724",
   "metadata": {},
   "outputs": [
    {
     "data": {
      "application/vnd.jupyter.widget-view+json": {
       "model_id": "70b25f2d95a74a618632ccd5b08daaca",
       "version_major": 2,
       "version_minor": 0
      },
      "text/plain": [
       "Query is running:   0%|          |"
      ]
     },
     "metadata": {},
     "output_type": "display_data"
    },
    {
     "data": {
      "text/html": [
       "<div>\n",
       "<style scoped>\n",
       "    .dataframe tbody tr th:only-of-type {\n",
       "        vertical-align: middle;\n",
       "    }\n",
       "\n",
       "    .dataframe tbody tr th {\n",
       "        vertical-align: top;\n",
       "    }\n",
       "\n",
       "    .dataframe thead th {\n",
       "        text-align: right;\n",
       "    }\n",
       "</style>\n",
       "<table border=\"1\" class=\"dataframe\">\n",
       "  <thead>\n",
       "    <tr style=\"text-align: right;\">\n",
       "      <th></th>\n",
       "    </tr>\n",
       "  </thead>\n",
       "  <tbody>\n",
       "  </tbody>\n",
       "</table>\n",
       "</div>"
      ],
      "text/plain": [
       "Empty DataFrame\n",
       "Columns: []\n",
       "Index: []"
      ]
     },
     "execution_count": 18,
     "metadata": {},
     "output_type": "execute_result"
    }
   ],
   "source": [
    "%%bigquery --pyformat\n",
    "CREATE OR REPLACE PROCEDURE phase7_name_clusters(trait_type STRING, trait_desc STRING)\n",
    "BEGIN\n",
    "    create or replace table {data_set}.tmp_trait_clusters as\n",
    "    select centroid_id as cluster_id, ARRAY_TO_STRING(ARRAY_AGG(content LIMIT 200), ', ') examples from {data_set}.tmp_clustered_traits group by centroid_id;\n",
    "\n",
    "    create or replace table {data_set}.tmp_clusters_analysis as\n",
    "    SELECT AI.GENERATE(FORMAT(p.prompt, trait_desc, c.json_examples), connection_id => 'us.ai_connection', endpoint => 'gemini-2.5-flash-lite').result\n",
    "    from (select '[\\n' || string_agg(json_example, ',\\n') || '\\n]' json_examples\n",
    "    from (select cluster_id, TO_JSON_STRING(STRUCT(cluster_id, examples)) json_example from {data_set}.tmp_trait_clusters order by cluster_id)) c\n",
    "    join {data_set}.prompts p ON p.code = 'cluster_traits';\n",
    "\n",
    "    create or replace table {data_set}.tmp_cluster_names as\n",
    "    select CAST(json_value(clusters, '$.cluster_id') AS INT64) cluster_id, json_value(clusters, '$.cluster_name') name, json_value(clusters, '$.cluster_description') description\n",
    "    from {data_set}.tmp_clusters_analysis, UNNEST(JSON_QUERY_ARRAY(TRIM(result, '`json\\n'), '$')) as clusters;\n",
    "\n",
    "    delete from {data_set}.clusters where cluster_type = trait_type;\n",
    "    INSERT INTO {data_set}.clusters (cluster_type, cluster_id, name, description)\n",
    "    SELECT trait_type, cluster_id, name, description FROM {data_set}.tmp_cluster_names;\n",
    "END;"
   ]
  },
  {
   "cell_type": "code",
   "execution_count": 19,
   "id": "d9a8fe53",
   "metadata": {},
   "outputs": [
    {
     "data": {
      "application/vnd.jupyter.widget-view+json": {
       "model_id": "e6ffea2fb6854914910d99382ec1e4dd",
       "version_major": 2,
       "version_minor": 0
      },
      "text/plain": [
       "Query is running:   0%|          |"
      ]
     },
     "metadata": {},
     "output_type": "display_data"
    },
    {
     "data": {
      "text/html": [
       "<div>\n",
       "<style scoped>\n",
       "    .dataframe tbody tr th:only-of-type {\n",
       "        vertical-align: middle;\n",
       "    }\n",
       "\n",
       "    .dataframe tbody tr th {\n",
       "        vertical-align: top;\n",
       "    }\n",
       "\n",
       "    .dataframe thead th {\n",
       "        text-align: right;\n",
       "    }\n",
       "</style>\n",
       "<table border=\"1\" class=\"dataframe\">\n",
       "  <thead>\n",
       "    <tr style=\"text-align: right;\">\n",
       "      <th></th>\n",
       "    </tr>\n",
       "  </thead>\n",
       "  <tbody>\n",
       "  </tbody>\n",
       "</table>\n",
       "</div>"
      ],
      "text/plain": [
       "Empty DataFrame\n",
       "Columns: []\n",
       "Index: []"
      ]
     },
     "execution_count": 19,
     "metadata": {},
     "output_type": "execute_result"
    }
   ],
   "source": [
    "%%bigquery --pyformat\n",
    "CREATE OR REPLACE PROCEDURE phase7_assign_clusters(trait_type STRING)\n",
    "BEGIN\n",
    "    delete from {data_set}.character_cluster_details where book_id IN (SELECT book_id FROM {data_set}.tmp_split_traits_final);\n",
    "    INSERT INTO {data_set}.character_cluster_details(book_id, id, trait, trait_id, cluster_type, cluster_id)\n",
    "    SELECT book_id, id, trait, trait_id, trait_type, cluster_id FROM {data_set}.tmp_split_traits_final;\n",
    "\n",
    "    create or replace table {data_set}.tmp_combined_traits as\n",
    "    SELECT book_id, id, cluster_type, string_agg(trait, ', ') traits, CAST(NULL AS INT64) cluster_id\n",
    "    FROM {data_set}.character_cluster_details GROUP BY book_id, id, cluster_type;\n",
    "\n",
    "    create or replace table {data_set}.tmp_combined_traits_embeddings as SELECT * FROM ML.GENERATE_EMBEDDING(\n",
    "    MODEL `{data_set}.gemini-embedding-001`,\n",
    "    (SELECT traits as content, book_id, id FROM {data_set}.tmp_combined_traits),\n",
    "    STRUCT(TRUE AS flatten_json_output, 'SEMANTIC_SIMILARITY' as task_type, 128 as OUTPUT_DIMENSIONALITY));\n",
    "\n",
    "    EXECUTE IMMEDIATE ('''CREATE OR REPLACE TABLE `{data_set}.tmp_combined_traits_clustered` AS\n",
    "        SELECT * FROM ML.PREDICT(MODEL `{data_set}.kmeans_traits_model`,\n",
    "        (SELECT ml_generate_embedding_result, book_id, id FROM `{data_set}.tmp_combined_traits_embeddings`))''');\n",
    "\n",
    "    UPDATE {data_set}.tmp_combined_traits ct set ct.cluster_id = ctc.centroid_id\n",
    "    FROM {data_set}.tmp_combined_traits_clustered ctc WHERE ctc.id = ct.id AND ctc.book_id = ct.book_id;\n",
    "END;"
   ]
  }
 ],
 "metadata": {
  "kernelspec": {
   "display_name": "gcompetition2",
   "language": "python",
   "name": "python3"
  },
  "language_info": {
   "codemirror_mode": {
    "name": "ipython",
    "version": 3
   },
   "file_extension": ".py",
   "mimetype": "text/x-python",
   "name": "python",
   "nbconvert_exporter": "python",
   "pygments_lexer": "ipython3",
   "version": "3.13.3"
  }
 },
 "nbformat": 4,
 "nbformat_minor": 5
}
