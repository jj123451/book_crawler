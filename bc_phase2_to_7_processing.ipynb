{
 "cells": [
  {
   "cell_type": "code",
   "execution_count": 89,
   "id": "3bb7adc0",
   "metadata": {},
   "outputs": [
    {
     "name": "stdout",
     "output_type": "stream",
     "text": [
      "Couldn't find program: 'false'\n"
     ]
    }
   ],
   "source": [
    "%%script false --no-raise-error\n",
    "import json\n",
    "from google.colab import userdata\n",
    "from google.oauth2 import service_account\n",
    "from google.cloud.bigquery import magics\n",
    "\n",
    "credentials_json = userdata.get('BIGQUERY_CREDENTIALS')\n",
    "credentials = service_account.Credentials.from_service_account_info(json.loads(credentials_json))\n",
    "magics.context.credentials = credentials"
   ]
  },
  {
   "cell_type": "code",
   "execution_count": 90,
   "id": "bc730c95",
   "metadata": {},
   "outputs": [
    {
     "name": "stdout",
     "output_type": "stream",
     "text": [
      "The bigquery_magics extension is already loaded. To reload it, use:\n",
      "  %reload_ext bigquery_magics\n"
     ]
    }
   ],
   "source": [
    "from google.cloud import bigquery\n",
    "from google.cloud.bigquery import magics\n",
    "%load_ext bigquery_magics\n",
    "\n",
    "data_set = \"testing_set8\"\n",
    "project_name = \"emerald-entity-468916-f9\"\n",
    "\n",
    "job_config = bigquery.QueryJobConfig(default_dataset = f\"{project_name}.{data_set}\", job_timeout_ms = 3600000)\n",
    "client = bigquery.Client(project = project_name, default_query_job_config = job_config, credentials = globals().get('credentials', None))\n",
    "magics.context.default_query_job_config = job_config\n",
    "magics.context.project = project_name"
   ]
  },
  {
   "cell_type": "markdown",
   "id": "1505406e",
   "metadata": {},
   "source": [
    "#### Phase 2 - Correcting Books\n",
    "Book correction performs correction of OCR book scanning errors. Such errors are quite common in books from GDELT Processes Internet Archive."
   ]
  },
  {
   "cell_type": "code",
   "execution_count": 91,
   "id": "987428ff",
   "metadata": {},
   "outputs": [
    {
     "name": "stderr",
     "output_type": "stream",
     "text": [
      "[nltk_data] Downloading package punkt to\n",
      "[nltk_data]     C:\\Users\\jurow\\AppData\\Roaming\\nltk_data...\n",
      "[nltk_data]   Package punkt is already up-to-date!\n",
      "[nltk_data] Downloading package punkt_tab to\n",
      "[nltk_data]     C:\\Users\\jurow\\AppData\\Roaming\\nltk_data...\n",
      "[nltk_data]   Package punkt_tab is already up-to-date!\n"
     ]
    }
   ],
   "source": [
    "import nltk\n",
    "from nltk.tokenize import sent_tokenize, word_tokenize\n",
    "from pydantic import BaseModel\n",
    "from typing import List\n",
    "\n",
    "nltk.download('punkt')\n",
    "nltk.download('punkt_tab')\n",
    "\n",
    "class Chunk(BaseModel):\n",
    "    before: str  \n",
    "    main: str  \n",
    "    after: str\n",
    "\n",
    "def chunk_text(sentences: list, sentences_lenghts: list, max_tokens) -> tuple:\n",
    "\n",
    "    chunks = []\n",
    "    lenghts = []\n",
    "\n",
    "    current_sentences = []\n",
    "    current_lenghts = []\n",
    "    current_length = 0\n",
    "    \n",
    "    for length, sentence in zip(sentences_lenghts, sentences):\n",
    "        if current_length + length > max_tokens and current_length > 0:\n",
    "            chunks.append(current_sentences)\n",
    "            lenghts.append(current_lenghts)\n",
    "            current_sentences = []\n",
    "            current_lenghts = []\n",
    "            current_length = 0\n",
    "\n",
    "        current_sentences.append(sentence)\n",
    "        current_lenghts.append(length)\n",
    "        current_length += length\n",
    "\n",
    "    if current_length > 0:\n",
    "        chunks.append(current_sentences)\n",
    "        lenghts.append(current_lenghts)\n",
    "\n",
    "    return (chunks, lenghts)\n",
    "\n",
    "def get_prefix(sentences: list, lenghts: list, max_tokens):\n",
    "    current_sentences = []\n",
    "    current_length = 0\n",
    "    \n",
    "    for length, sentence in zip(lenghts, sentences):\n",
    "        if current_length + length > max_tokens and current_length > 0:\n",
    "            break\n",
    "\n",
    "        current_sentences.append(sentence)\n",
    "        current_length += length\n",
    "\n",
    "    return current_sentences\n",
    "\n",
    "def get_prefixes(chunks: list, lengths: list, max_tokens) -> list:\n",
    "    return [\" \".join(get_prefix(chunk_sentences, chunk_lengths, max_tokens)) for chunk_sentences, chunk_lengths in zip(chunks, lengths)]\n",
    "\n",
    "def get_suffixes(chunks: list, lengths: list, max_tokens) -> list:\n",
    "    return [\" \".join(reversed(get_prefix(chunk_sentences[::-1], chunk_lengths[::-1], max_tokens))) for chunk_sentences, chunk_lengths in zip(chunks, lengths)]\n",
    "\n",
    "def add_overlaps(chunks: list, prefixes: list, suffixes: list):\n",
    "    result = []    \n",
    "    for idx, chunk in enumerate(chunks):\n",
    "        result.append(Chunk(before = \"\" if idx == 0 else suffixes[idx - 1], main = chunk, after = \"\" if idx == len(chunks) - 1 else prefixes[idx + 1]))\n",
    "    return result\n",
    "\n",
    "# divides long text to chunks with overlaps, but as opposite to common implementations, overlaps are not added to chunks, but provided separately\n",
    "def chunk_text_with_overlaps(long_text, max_chunk_tokens, max_overlap_tokens) -> List[Chunk]:\n",
    "    sentences = sent_tokenize(long_text)\n",
    "    sentences_lenghts = [len(word_tokenize(sentence)) for sentence in sentences]\n",
    "\n",
    "    chunks_and_lenghts = chunk_text(sentences, sentences_lenghts, max_chunk_tokens)\n",
    "    chunked_sentences = chunks_and_lenghts[0]\n",
    "    chunked_sentences_lenghts = chunks_and_lenghts[1]\n",
    "\n",
    "    prefixes = get_prefixes(chunked_sentences, chunked_sentences_lenghts, max_overlap_tokens)\n",
    "    suffixes = get_suffixes(chunked_sentences, chunked_sentences_lenghts, max_overlap_tokens)\n",
    "    chunks = [\" \".join(chunk_sentences) for chunk_sentences in chunked_sentences]\n",
    "\n",
    "    return add_overlaps(chunks, prefixes, suffixes)"
   ]
  },
  {
   "cell_type": "code",
   "execution_count": 92,
   "id": "3a77f47a",
   "metadata": {},
   "outputs": [
    {
     "name": "stdout",
     "output_type": "stream",
     "text": [
      "\n",
      "Chunking book: The theatre of ideas, a burlesque allegory, and three one-act plays: The goal, Her tongue, Grace Mary\n",
      "  Number of chunks: 16\n",
      "  Processed: 0 1 2 3 4 5 6 7 8 9 10 11 12 13 14 15 \n",
      "Chunking book: Liberal Judaism and Social Service\n",
      "  Number of chunks: 17\n",
      "  Processed: 0 1 2 3 4 5 6 7 8 9 10 11 12 13 14 15 16 \n",
      "\n",
      "Executing 33 INSERT jobs...\n",
      "Jobs Completed: 1 2 3 4 5 6 7 8 9 10 11 12 13 14 15 16 17 18 19 20 21 22 23 24 25 26 27 28 29 30 31 32 33 \n",
      "All INSERT jobs completed.\n"
     ]
    }
   ],
   "source": [
    "import sys\n",
    "from concurrent.futures import ThreadPoolExecutor, as_completed\n",
    "\n",
    "clean_sql = \"CREATE OR REPLACE TABLE tmp_correction_chunks(book_id STRING, chunk_number INTEGER, prefix STRING, original_txt STRING, suffix STRING, corrected_txt STRING)\"\n",
    "insert_sql = f\"INSERT INTO tmp_correction_chunks(book_id, chunk_number, prefix, original_txt, suffix) VALUES(@id, @idx, @prefix, @txt, @suffix)\"\n",
    "\n",
    "job_configs = []\n",
    "\n",
    "client.query_and_wait(query = clean_sql)\n",
    "select_query_job = client.query(query = f\"select * from books WHERE corrected_txt IS NULL\")\n",
    "any_row = False\n",
    "\n",
    "for row in select_query_job.result():\n",
    "    any_row = True\n",
    "    print(f\"\\nChunking book: {row[\"title\"]}\")\n",
    "    text_to_split = row[\"original_txt\"]\n",
    "    book_id = row[\"book_id\"]\n",
    "    chunks = chunk_text_with_overlaps(text_to_split, max_chunk_tokens = 3000, max_overlap_tokens = 1000)\n",
    "    print(f\"  Number of chunks: {len(chunks)}\")\n",
    "    print(f\"  Processed: \", end = \"\")\n",
    "    for idx, chunk in enumerate(chunks):\n",
    "        print(f\"{idx} \", end = \"\")\n",
    "        job_config = bigquery.QueryJobConfig(query_parameters=[\n",
    "            bigquery.ScalarQueryParameter(\"id\", \"STRING\", book_id),\n",
    "            bigquery.ScalarQueryParameter(\"idx\", \"INTEGER\", idx),\n",
    "            bigquery.ScalarQueryParameter(\"prefix\", \"STRING\", chunk.before),\n",
    "            bigquery.ScalarQueryParameter(\"txt\", \"STRING\", chunk.main),\n",
    "            bigquery.ScalarQueryParameter(\"suffix\", \"STRING\", chunk.after)])\n",
    "        job_configs.append(job_config)\n",
    "\n",
    "if any_row:\n",
    "    print(f\"\\n\\nExecuting {len(job_configs)} INSERT jobs...\")\n",
    "    print(\"Jobs Completed: \", end = \"\")\n",
    "\n",
    "    def execute_insert_job(job_config):\n",
    "        client.query_and_wait(insert_sql, job_config = job_config)\n",
    "\n",
    "    completed_jobs = 0\n",
    "    with ThreadPoolExecutor(max_workers = 10) as executor:\n",
    "        future_to_config = {executor.submit(execute_insert_job, config): config for config in job_configs}\n",
    "        for future in as_completed(future_to_config):\n",
    "            future.result()\n",
    "            completed_jobs += 1\n",
    "            print(f\"{completed_jobs} \", end = \"\")\n",
    "\n",
    "    print(\"\\nAll INSERT jobs completed.\")\n",
    "else:\n",
    "    print(\"No books to correct.\")"
   ]
  },
  {
   "cell_type": "code",
   "execution_count": 93,
   "id": "a7dbeb31",
   "metadata": {},
   "outputs": [
    {
     "data": {
      "application/vnd.jupyter.widget-view+json": {
       "model_id": "d106d25998604829bd9af87ec45222ba",
       "version_major": 2,
       "version_minor": 0
      },
      "text/plain": [
       "Query is running:   0%|          |"
      ]
     },
     "metadata": {},
     "output_type": "display_data"
    },
    {
     "data": {
      "text/html": [
       "<div>\n",
       "<style scoped>\n",
       "    .dataframe tbody tr th:only-of-type {\n",
       "        vertical-align: middle;\n",
       "    }\n",
       "\n",
       "    .dataframe tbody tr th {\n",
       "        vertical-align: top;\n",
       "    }\n",
       "\n",
       "    .dataframe thead th {\n",
       "        text-align: right;\n",
       "    }\n",
       "</style>\n",
       "<table border=\"1\" class=\"dataframe\">\n",
       "  <thead>\n",
       "    <tr style=\"text-align: right;\">\n",
       "      <th></th>\n",
       "    </tr>\n",
       "  </thead>\n",
       "  <tbody>\n",
       "  </tbody>\n",
       "</table>\n",
       "</div>"
      ],
      "text/plain": [
       "Empty DataFrame\n",
       "Columns: []\n",
       "Index: []"
      ]
     },
     "execution_count": 93,
     "metadata": {},
     "output_type": "execute_result"
    }
   ],
   "source": [
    "%%bigquery\n",
    "CALL phase2_correction_correct();"
   ]
  },
  {
   "cell_type": "markdown",
   "id": "29dfcf84",
   "metadata": {},
   "source": [
    "### Phase 3 - Chunking books\n",
    "Simple divide of each book to overlaping fragments."
   ]
  },
  {
   "cell_type": "code",
   "execution_count": 94,
   "id": "20735d73",
   "metadata": {},
   "outputs": [
    {
     "data": {
      "application/vnd.jupyter.widget-view+json": {
       "model_id": "34b5e5863d5143419b5183ab8e5a5c6d",
       "version_major": 2,
       "version_minor": 0
      },
      "text/plain": [
       "Query is running:   0%|          |"
      ]
     },
     "metadata": {},
     "output_type": "display_data"
    },
    {
     "data": {
      "text/html": [
       "<div>\n",
       "<style scoped>\n",
       "    .dataframe tbody tr th:only-of-type {\n",
       "        vertical-align: middle;\n",
       "    }\n",
       "\n",
       "    .dataframe tbody tr th {\n",
       "        vertical-align: top;\n",
       "    }\n",
       "\n",
       "    .dataframe thead th {\n",
       "        text-align: right;\n",
       "    }\n",
       "</style>\n",
       "<table border=\"1\" class=\"dataframe\">\n",
       "  <thead>\n",
       "    <tr style=\"text-align: right;\">\n",
       "      <th></th>\n",
       "    </tr>\n",
       "  </thead>\n",
       "  <tbody>\n",
       "  </tbody>\n",
       "</table>\n",
       "</div>"
      ],
      "text/plain": [
       "Empty DataFrame\n",
       "Columns: []\n",
       "Index: []"
      ]
     },
     "execution_count": 94,
     "metadata": {},
     "output_type": "execute_result"
    }
   ],
   "source": [
    "%%bigquery\n",
    "\n",
    "call phase3_prepare_chunks();"
   ]
  },
  {
   "cell_type": "markdown",
   "id": "e2a32888",
   "metadata": {},
   "source": [
    "### Phase 4 - Summarizing\n",
    "Prepare concise summary of each book. It will be supplementary information in several inference operations later."
   ]
  },
  {
   "cell_type": "code",
   "execution_count": 95,
   "id": "7b252d50",
   "metadata": {},
   "outputs": [
    {
     "data": {
      "application/vnd.jupyter.widget-view+json": {
       "model_id": "bab26c60371344ee87a25b5c51a07514",
       "version_major": 2,
       "version_minor": 0
      },
      "text/plain": [
       "Query is running:   0%|          |"
      ]
     },
     "metadata": {},
     "output_type": "display_data"
    },
    {
     "data": {
      "text/html": [
       "<div>\n",
       "<style scoped>\n",
       "    .dataframe tbody tr th:only-of-type {\n",
       "        vertical-align: middle;\n",
       "    }\n",
       "\n",
       "    .dataframe tbody tr th {\n",
       "        vertical-align: top;\n",
       "    }\n",
       "\n",
       "    .dataframe thead th {\n",
       "        text-align: right;\n",
       "    }\n",
       "</style>\n",
       "<table border=\"1\" class=\"dataframe\">\n",
       "  <thead>\n",
       "    <tr style=\"text-align: right;\">\n",
       "      <th></th>\n",
       "    </tr>\n",
       "  </thead>\n",
       "  <tbody>\n",
       "  </tbody>\n",
       "</table>\n",
       "</div>"
      ],
      "text/plain": [
       "Empty DataFrame\n",
       "Columns: []\n",
       "Index: []"
      ]
     },
     "execution_count": 95,
     "metadata": {},
     "output_type": "execute_result"
    }
   ],
   "source": [
    "%%bigquery\n",
    "\n",
    "call phase4_fragments_summarization();\n",
    "call phase4_summarize_fragments_summaries();"
   ]
  },
  {
   "cell_type": "markdown",
   "id": "245f0623",
   "metadata": {},
   "source": [
    "### Phase 5 - Character identification\n",
    "By far the most difficult part of whole project. \n",
    "Can take a lot of time, therefore it is divided to multiple small cells.\n",
    "Note that BigQuery AI usage limits may block execution for some time - nevertheless it should eventually finish correctly."
   ]
  },
  {
   "cell_type": "code",
   "execution_count": 96,
   "id": "3a32f026",
   "metadata": {},
   "outputs": [
    {
     "data": {
      "application/vnd.jupyter.widget-view+json": {
       "model_id": "69166ee8eb5046dd80874530fbc14204",
       "version_major": 2,
       "version_minor": 0
      },
      "text/plain": [
       "Query is running:   0%|          |"
      ]
     },
     "metadata": {},
     "output_type": "display_data"
    },
    {
     "data": {
      "text/html": [
       "<div>\n",
       "<style scoped>\n",
       "    .dataframe tbody tr th:only-of-type {\n",
       "        vertical-align: middle;\n",
       "    }\n",
       "\n",
       "    .dataframe tbody tr th {\n",
       "        vertical-align: top;\n",
       "    }\n",
       "\n",
       "    .dataframe thead th {\n",
       "        text-align: right;\n",
       "    }\n",
       "</style>\n",
       "<table border=\"1\" class=\"dataframe\">\n",
       "  <thead>\n",
       "    <tr style=\"text-align: right;\">\n",
       "      <th></th>\n",
       "    </tr>\n",
       "  </thead>\n",
       "  <tbody>\n",
       "  </tbody>\n",
       "</table>\n",
       "</div>"
      ],
      "text/plain": [
       "Empty DataFrame\n",
       "Columns: []\n",
       "Index: []"
      ]
     },
     "execution_count": 96,
     "metadata": {},
     "output_type": "execute_result"
    }
   ],
   "source": [
    "%%bigquery\n",
    "\n",
    "call phase5_prepare_character_ids_from_fragments();\n",
    "call phase5_prepare_character_ids_initial_embeddings();"
   ]
  },
  {
   "cell_type": "code",
   "execution_count": 97,
   "id": "41484e45",
   "metadata": {},
   "outputs": [
    {
     "data": {
      "application/vnd.jupyter.widget-view+json": {
       "model_id": "dfed85b7788a4636a60e8995effecb38",
       "version_major": 2,
       "version_minor": 0
      },
      "text/plain": [
       "Query is running:   0%|          |"
      ]
     },
     "metadata": {},
     "output_type": "display_data"
    },
    {
     "data": {
      "text/html": [
       "<div>\n",
       "<style scoped>\n",
       "    .dataframe tbody tr th:only-of-type {\n",
       "        vertical-align: middle;\n",
       "    }\n",
       "\n",
       "    .dataframe tbody tr th {\n",
       "        vertical-align: top;\n",
       "    }\n",
       "\n",
       "    .dataframe thead th {\n",
       "        text-align: right;\n",
       "    }\n",
       "</style>\n",
       "<table border=\"1\" class=\"dataframe\">\n",
       "  <thead>\n",
       "    <tr style=\"text-align: right;\">\n",
       "      <th></th>\n",
       "    </tr>\n",
       "  </thead>\n",
       "  <tbody>\n",
       "  </tbody>\n",
       "</table>\n",
       "</div>"
      ],
      "text/plain": [
       "Empty DataFrame\n",
       "Columns: []\n",
       "Index: []"
      ]
     },
     "execution_count": 97,
     "metadata": {},
     "output_type": "execute_result"
    }
   ],
   "source": [
    "%%bigquery\n",
    "\n",
    "call phase5_merge_characters_duplicates();"
   ]
  },
  {
   "cell_type": "code",
   "execution_count": 98,
   "id": "3d012457",
   "metadata": {},
   "outputs": [
    {
     "data": {
      "application/vnd.jupyter.widget-view+json": {
       "model_id": "0606173187604f4397bba525f2000b90",
       "version_major": 2,
       "version_minor": 0
      },
      "text/plain": [
       "Query is running:   0%|          |"
      ]
     },
     "metadata": {},
     "output_type": "display_data"
    },
    {
     "data": {
      "text/html": [
       "<div>\n",
       "<style scoped>\n",
       "    .dataframe tbody tr th:only-of-type {\n",
       "        vertical-align: middle;\n",
       "    }\n",
       "\n",
       "    .dataframe tbody tr th {\n",
       "        vertical-align: top;\n",
       "    }\n",
       "\n",
       "    .dataframe thead th {\n",
       "        text-align: right;\n",
       "    }\n",
       "</style>\n",
       "<table border=\"1\" class=\"dataframe\">\n",
       "  <thead>\n",
       "    <tr style=\"text-align: right;\">\n",
       "      <th></th>\n",
       "    </tr>\n",
       "  </thead>\n",
       "  <tbody>\n",
       "  </tbody>\n",
       "</table>\n",
       "</div>"
      ],
      "text/plain": [
       "Empty DataFrame\n",
       "Columns: []\n",
       "Index: []"
      ]
     },
     "execution_count": 98,
     "metadata": {},
     "output_type": "execute_result"
    }
   ],
   "source": [
    "%%bigquery\n",
    "\n",
    "call phase5_merge_characters_duplicates();\n",
    "delete from identifiers where importance <= 1;\n",
    "delete from tmp_characters_id_embeddings where id not in (select id from identifiers);"
   ]
  },
  {
   "cell_type": "code",
   "execution_count": 99,
   "id": "69d5acb7",
   "metadata": {},
   "outputs": [
    {
     "data": {
      "application/vnd.jupyter.widget-view+json": {
       "model_id": "ac707d17b20049a4af0a1897a2e231e8",
       "version_major": 2,
       "version_minor": 0
      },
      "text/plain": [
       "Query is running:   0%|          |"
      ]
     },
     "metadata": {},
     "output_type": "display_data"
    },
    {
     "data": {
      "text/html": [
       "<div>\n",
       "<style scoped>\n",
       "    .dataframe tbody tr th:only-of-type {\n",
       "        vertical-align: middle;\n",
       "    }\n",
       "\n",
       "    .dataframe tbody tr th {\n",
       "        vertical-align: top;\n",
       "    }\n",
       "\n",
       "    .dataframe thead th {\n",
       "        text-align: right;\n",
       "    }\n",
       "</style>\n",
       "<table border=\"1\" class=\"dataframe\">\n",
       "  <thead>\n",
       "    <tr style=\"text-align: right;\">\n",
       "      <th></th>\n",
       "    </tr>\n",
       "  </thead>\n",
       "  <tbody>\n",
       "  </tbody>\n",
       "</table>\n",
       "</div>"
      ],
      "text/plain": [
       "Empty DataFrame\n",
       "Columns: []\n",
       "Index: []"
      ]
     },
     "execution_count": 99,
     "metadata": {},
     "output_type": "execute_result"
    }
   ],
   "source": [
    "%%bigquery\n",
    "\n",
    "call phase5_merge_characters_duplicates();\n",
    "delete from identifiers where importance <= 2;\n",
    "delete from tmp_characters_id_embeddings where id not in (select id from identifiers);"
   ]
  },
  {
   "cell_type": "code",
   "execution_count": 100,
   "id": "ccad2c66",
   "metadata": {},
   "outputs": [
    {
     "data": {
      "application/vnd.jupyter.widget-view+json": {
       "model_id": "87aff743ee474f98aceeefb602e79d6f",
       "version_major": 2,
       "version_minor": 0
      },
      "text/plain": [
       "Query is running:   0%|          |"
      ]
     },
     "metadata": {},
     "output_type": "display_data"
    },
    {
     "data": {
      "text/html": [
       "<div>\n",
       "<style scoped>\n",
       "    .dataframe tbody tr th:only-of-type {\n",
       "        vertical-align: middle;\n",
       "    }\n",
       "\n",
       "    .dataframe tbody tr th {\n",
       "        vertical-align: top;\n",
       "    }\n",
       "\n",
       "    .dataframe thead th {\n",
       "        text-align: right;\n",
       "    }\n",
       "</style>\n",
       "<table border=\"1\" class=\"dataframe\">\n",
       "  <thead>\n",
       "    <tr style=\"text-align: right;\">\n",
       "      <th></th>\n",
       "    </tr>\n",
       "  </thead>\n",
       "  <tbody>\n",
       "  </tbody>\n",
       "</table>\n",
       "</div>"
      ],
      "text/plain": [
       "Empty DataFrame\n",
       "Columns: []\n",
       "Index: []"
      ]
     },
     "execution_count": 100,
     "metadata": {},
     "output_type": "execute_result"
    }
   ],
   "source": [
    "%%bigquery\n",
    "\n",
    "call phase5_merge_characters_duplicates();\n",
    "delete from identifiers where importance <= 3;\n",
    "delete from tmp_characters_id_embeddings where id not in (select id from identifiers);"
   ]
  },
  {
   "cell_type": "code",
   "execution_count": 101,
   "id": "50a0a261",
   "metadata": {},
   "outputs": [
    {
     "data": {
      "application/vnd.jupyter.widget-view+json": {
       "model_id": "e44de1a3c10941d5874e4a08b44a09f3",
       "version_major": 2,
       "version_minor": 0
      },
      "text/plain": [
       "Query is running:   0%|          |"
      ]
     },
     "metadata": {},
     "output_type": "display_data"
    },
    {
     "data": {
      "text/html": [
       "<div>\n",
       "<style scoped>\n",
       "    .dataframe tbody tr th:only-of-type {\n",
       "        vertical-align: middle;\n",
       "    }\n",
       "\n",
       "    .dataframe tbody tr th {\n",
       "        vertical-align: top;\n",
       "    }\n",
       "\n",
       "    .dataframe thead th {\n",
       "        text-align: right;\n",
       "    }\n",
       "</style>\n",
       "<table border=\"1\" class=\"dataframe\">\n",
       "  <thead>\n",
       "    <tr style=\"text-align: right;\">\n",
       "      <th></th>\n",
       "    </tr>\n",
       "  </thead>\n",
       "  <tbody>\n",
       "  </tbody>\n",
       "</table>\n",
       "</div>"
      ],
      "text/plain": [
       "Empty DataFrame\n",
       "Columns: []\n",
       "Index: []"
      ]
     },
     "execution_count": 101,
     "metadata": {},
     "output_type": "execute_result"
    }
   ],
   "source": [
    "%%bigquery\n",
    "\n",
    "call phase5_merge_characters_duplicates();\n",
    "delete from identifiers where importance <= 4;\n",
    "delete from tmp_characters_id_embeddings where id not in (select id from identifiers);"
   ]
  },
  {
   "cell_type": "code",
   "execution_count": 102,
   "id": "ded01d7c",
   "metadata": {},
   "outputs": [
    {
     "data": {
      "application/vnd.jupyter.widget-view+json": {
       "model_id": "a51adf9c91ba4f41959c9d2f79b8e6d7",
       "version_major": 2,
       "version_minor": 0
      },
      "text/plain": [
       "Query is running:   0%|          |"
      ]
     },
     "metadata": {},
     "output_type": "display_data"
    },
    {
     "data": {
      "text/html": [
       "<div>\n",
       "<style scoped>\n",
       "    .dataframe tbody tr th:only-of-type {\n",
       "        vertical-align: middle;\n",
       "    }\n",
       "\n",
       "    .dataframe tbody tr th {\n",
       "        vertical-align: top;\n",
       "    }\n",
       "\n",
       "    .dataframe thead th {\n",
       "        text-align: right;\n",
       "    }\n",
       "</style>\n",
       "<table border=\"1\" class=\"dataframe\">\n",
       "  <thead>\n",
       "    <tr style=\"text-align: right;\">\n",
       "      <th></th>\n",
       "    </tr>\n",
       "  </thead>\n",
       "  <tbody>\n",
       "  </tbody>\n",
       "</table>\n",
       "</div>"
      ],
      "text/plain": [
       "Empty DataFrame\n",
       "Columns: []\n",
       "Index: []"
      ]
     },
     "execution_count": 102,
     "metadata": {},
     "output_type": "execute_result"
    }
   ],
   "source": [
    "%%bigquery\n",
    "\n",
    "call phase5_merge_characters_duplicates();\n",
    "delete from identifiers where importance <= 5;\n",
    "delete from tmp_characters_id_embeddings where id not in (select id from identifiers);"
   ]
  },
  {
   "cell_type": "code",
   "execution_count": 103,
   "id": "07e73a47",
   "metadata": {},
   "outputs": [
    {
     "data": {
      "application/vnd.jupyter.widget-view+json": {
       "model_id": "c08db5f7414549b19dffa13975a7dad4",
       "version_major": 2,
       "version_minor": 0
      },
      "text/plain": [
       "Query is running:   0%|          |"
      ]
     },
     "metadata": {},
     "output_type": "display_data"
    },
    {
     "data": {
      "text/html": [
       "<div>\n",
       "<style scoped>\n",
       "    .dataframe tbody tr th:only-of-type {\n",
       "        vertical-align: middle;\n",
       "    }\n",
       "\n",
       "    .dataframe tbody tr th {\n",
       "        vertical-align: top;\n",
       "    }\n",
       "\n",
       "    .dataframe thead th {\n",
       "        text-align: right;\n",
       "    }\n",
       "</style>\n",
       "<table border=\"1\" class=\"dataframe\">\n",
       "  <thead>\n",
       "    <tr style=\"text-align: right;\">\n",
       "      <th></th>\n",
       "    </tr>\n",
       "  </thead>\n",
       "  <tbody>\n",
       "  </tbody>\n",
       "</table>\n",
       "</div>"
      ],
      "text/plain": [
       "Empty DataFrame\n",
       "Columns: []\n",
       "Index: []"
      ]
     },
     "execution_count": 103,
     "metadata": {},
     "output_type": "execute_result"
    }
   ],
   "source": [
    "%%bigquery\n",
    "\n",
    "call phase5_merge_characters_duplicates();\n",
    "delete from identifiers where importance <= 6;\n",
    "delete from tmp_characters_id_embeddings where id not in (select id from identifiers);"
   ]
  },
  {
   "cell_type": "code",
   "execution_count": null,
   "id": "56a96ab3",
   "metadata": {},
   "outputs": [
    {
     "name": "stdout",
     "output_type": "stream",
     "text": [
      "Executing query with job ID: d298c25a-07e7-4d09-881f-cd9c7ee7aba4\n",
      "Query executing: 1203.00s"
     ]
    }
   ],
   "source": [
    "%%bigquery\n",
    "\n",
    "BEGIN\n",
    "  DECLARE merged INT64 DEFAULT 0;\n",
    "  REPEAT\n",
    "    call phase5_merge_characters_duplicates_with_return_param(merged);\n",
    "  UNTIL merged = 0\n",
    "  END REPEAT;\n",
    "END;\n",
    "\n",
    "call phase5_rebuild_indentifier_jsons();"
   ]
  },
  {
   "cell_type": "markdown",
   "id": "2fd8b25c",
   "metadata": {},
   "source": [
    "### Phase 6 - Extracting information\n",
    "This stage is finally gathering the data we want. In this project we chose as an example: gender, financial status, social class and moral values.\n",
    "In real life applications, any chosen traits can be chosen, by adapting prompts and param values in clustering stage."
   ]
  },
  {
   "cell_type": "code",
   "execution_count": null,
   "id": "1e45c412",
   "metadata": {},
   "outputs": [
    {
     "data": {
      "application/vnd.jupyter.widget-view+json": {
       "model_id": "07a60d08a981432fa43e528bfc63372c",
       "version_major": 2,
       "version_minor": 0
      },
      "text/plain": [
       "Query is running:   0%|          |"
      ]
     },
     "metadata": {},
     "output_type": "display_data"
    },
    {
     "data": {
      "text/html": [
       "<div>\n",
       "<style scoped>\n",
       "    .dataframe tbody tr th:only-of-type {\n",
       "        vertical-align: middle;\n",
       "    }\n",
       "\n",
       "    .dataframe tbody tr th {\n",
       "        vertical-align: top;\n",
       "    }\n",
       "\n",
       "    .dataframe thead th {\n",
       "        text-align: right;\n",
       "    }\n",
       "</style>\n",
       "<table border=\"1\" class=\"dataframe\">\n",
       "  <thead>\n",
       "    <tr style=\"text-align: right;\">\n",
       "      <th></th>\n",
       "    </tr>\n",
       "  </thead>\n",
       "  <tbody>\n",
       "  </tbody>\n",
       "</table>\n",
       "</div>"
      ],
      "text/plain": [
       "Empty DataFrame\n",
       "Columns: []\n",
       "Index: []"
      ]
     },
     "execution_count": 84,
     "metadata": {},
     "output_type": "execute_result"
    }
   ],
   "source": [
    "%%bigquery\n",
    "\n",
    "CALL phase6_gather_characters_full_data_from_chunks();\n",
    "\n",
    "CALL phase6_group_the_same_characters_data_for_merging();\n",
    "CALL phase6_merge_data();\n",
    "\n",
    "CALL phase6_copy_final_data();"
   ]
  },
  {
   "cell_type": "markdown",
   "id": "fafa659f",
   "metadata": {},
   "source": [
    "### Phase 7 - Clustering\n",
    "It takes the raw data gathered for each interesting us trait and clusters them together into consistent groups.\n",
    "The cluster sizes are chosen arbitrary and can be changed in last three cells (first line in each cell)\n",
    "Running clustering again, will regenerate clusters without damaging the core data."
   ]
  },
  {
   "cell_type": "code",
   "execution_count": null,
   "id": "6b575aa9",
   "metadata": {},
   "outputs": [
    {
     "data": {
      "application/vnd.jupyter.widget-view+json": {
       "model_id": "0ce3c78ea0ca4d5ba7736fae353267d3",
       "version_major": 2,
       "version_minor": 0
      },
      "text/plain": [
       "Query is running:   0%|          |"
      ]
     },
     "metadata": {},
     "output_type": "display_data"
    },
    {
     "data": {
      "text/html": [
       "<div>\n",
       "<style scoped>\n",
       "    .dataframe tbody tr th:only-of-type {\n",
       "        vertical-align: middle;\n",
       "    }\n",
       "\n",
       "    .dataframe tbody tr th {\n",
       "        vertical-align: top;\n",
       "    }\n",
       "\n",
       "    .dataframe thead th {\n",
       "        text-align: right;\n",
       "    }\n",
       "</style>\n",
       "<table border=\"1\" class=\"dataframe\">\n",
       "  <thead>\n",
       "    <tr style=\"text-align: right;\">\n",
       "      <th></th>\n",
       "    </tr>\n",
       "  </thead>\n",
       "  <tbody>\n",
       "  </tbody>\n",
       "</table>\n",
       "</div>"
      ],
      "text/plain": [
       "Empty DataFrame\n",
       "Columns: []\n",
       "Index: []"
      ]
     },
     "execution_count": 85,
     "metadata": {},
     "output_type": "execute_result"
    }
   ],
   "source": [
    "%%bigquery\n",
    "\n",
    "UPDATE characters SET social_class_cluster_id = NULL, wealth_cluster_id = NULL, values_cluster_id = NULL WHERE 1 = 1;\n",
    "DELETE FROM clusters WHERE 1 = 1;\n",
    "DELETE FROM character_cluster_details WHERE 1 = 1;"
   ]
  },
  {
   "cell_type": "code",
   "execution_count": null,
   "id": "10270be9",
   "metadata": {},
   "outputs": [
    {
     "data": {
      "application/vnd.jupyter.widget-view+json": {
       "model_id": "94ee7baf0f8143499ed17f6212c785b7",
       "version_major": 2,
       "version_minor": 0
      },
      "text/plain": [
       "Query is running:   0%|          |"
      ]
     },
     "metadata": {},
     "output_type": "display_data"
    },
    {
     "data": {
      "text/html": [
       "<div>\n",
       "<style scoped>\n",
       "    .dataframe tbody tr th:only-of-type {\n",
       "        vertical-align: middle;\n",
       "    }\n",
       "\n",
       "    .dataframe tbody tr th {\n",
       "        vertical-align: top;\n",
       "    }\n",
       "\n",
       "    .dataframe thead th {\n",
       "        text-align: right;\n",
       "    }\n",
       "</style>\n",
       "<table border=\"1\" class=\"dataframe\">\n",
       "  <thead>\n",
       "    <tr style=\"text-align: right;\">\n",
       "      <th></th>\n",
       "    </tr>\n",
       "  </thead>\n",
       "  <tbody>\n",
       "  </tbody>\n",
       "</table>\n",
       "</div>"
      ],
      "text/plain": [
       "Empty DataFrame\n",
       "Columns: []\n",
       "Index: []"
      ]
     },
     "execution_count": 86,
     "metadata": {},
     "output_type": "execute_result"
    }
   ],
   "source": [
    "%%bigquery --params {\"clusters\": 10, \"trait_type\": \"values\", \"trait_desc\": 'values: \"Core principles, moral compass, priorities (can include both positive and negative values)\"'}\n",
    "\n",
    "create or replace table tmp_copied_traits as SELECT c.book_id, c.id, c.values as traits from characters c WHERE c.values is not null;\n",
    "CALL phase7_split_traits(@trait_desc);\n",
    "CALL phase7_identify_clusters(@clusters);\n",
    "CALL phase7_name_clusters(@trait_type, @trait_desc);\n",
    "CALL phase7_assign_clusters(@trait_type);\n",
    "UPDATE characters c SET values_cluster_id = ct.cluster_id FROM tmp_combined_traits ct WHERE c.book_id = ct.book_id AND c.id = ct.id AND ct.cluster_type = @trait_type;"
   ]
  },
  {
   "cell_type": "code",
   "execution_count": null,
   "id": "640556df",
   "metadata": {},
   "outputs": [
    {
     "data": {
      "application/vnd.jupyter.widget-view+json": {
       "model_id": "ff586b9229a3453ebf4bc56ac9be7cbe",
       "version_major": 2,
       "version_minor": 0
      },
      "text/plain": [
       "Query is running:   0%|          |"
      ]
     },
     "metadata": {},
     "output_type": "display_data"
    },
    {
     "data": {
      "text/html": [
       "<div>\n",
       "<style scoped>\n",
       "    .dataframe tbody tr th:only-of-type {\n",
       "        vertical-align: middle;\n",
       "    }\n",
       "\n",
       "    .dataframe tbody tr th {\n",
       "        vertical-align: top;\n",
       "    }\n",
       "\n",
       "    .dataframe thead th {\n",
       "        text-align: right;\n",
       "    }\n",
       "</style>\n",
       "<table border=\"1\" class=\"dataframe\">\n",
       "  <thead>\n",
       "    <tr style=\"text-align: right;\">\n",
       "      <th></th>\n",
       "    </tr>\n",
       "  </thead>\n",
       "  <tbody>\n",
       "  </tbody>\n",
       "</table>\n",
       "</div>"
      ],
      "text/plain": [
       "Empty DataFrame\n",
       "Columns: []\n",
       "Index: []"
      ]
     },
     "execution_count": 87,
     "metadata": {},
     "output_type": "execute_result"
    }
   ],
   "source": [
    "%%bigquery --params {\"clusters\": 7, \"trait_type\": \"wealth\", \"trait_desc\": 'wealth: \"Economic position, assets, property, financial struggles or abundance with information how wealth/income is obtained (inheritance, labor, trade, crime, patronage, etc.)\"'}\n",
    "\n",
    "create or replace table tmp_copied_traits as SELECT c.book_id, c.id, c.wealth as traits from characters c WHERE c.wealth is not null;\n",
    "CALL phase7_split_traits(@trait_desc);\n",
    "CALL phase7_identify_clusters(@clusters);\n",
    "CALL phase7_name_clusters(@trait_type, @trait_desc);\n",
    "CALL phase7_assign_clusters(@trait_type);\n",
    "UPDATE characters c SET wealth_cluster_id = ct.cluster_id FROM tmp_combined_traits ct WHERE c.book_id = ct.book_id AND c.id = ct.id AND ct.cluster_type = @trait_type;"
   ]
  },
  {
   "cell_type": "code",
   "execution_count": null,
   "id": "82c81508",
   "metadata": {},
   "outputs": [
    {
     "data": {
      "application/vnd.jupyter.widget-view+json": {
       "model_id": "e7747c365ab24188964220eacbef9e68",
       "version_major": 2,
       "version_minor": 0
      },
      "text/plain": [
       "Query is running:   0%|          |"
      ]
     },
     "metadata": {},
     "output_type": "display_data"
    },
    {
     "data": {
      "text/html": [
       "<div>\n",
       "<style scoped>\n",
       "    .dataframe tbody tr th:only-of-type {\n",
       "        vertical-align: middle;\n",
       "    }\n",
       "\n",
       "    .dataframe tbody tr th {\n",
       "        vertical-align: top;\n",
       "    }\n",
       "\n",
       "    .dataframe thead th {\n",
       "        text-align: right;\n",
       "    }\n",
       "</style>\n",
       "<table border=\"1\" class=\"dataframe\">\n",
       "  <thead>\n",
       "    <tr style=\"text-align: right;\">\n",
       "      <th></th>\n",
       "    </tr>\n",
       "  </thead>\n",
       "  <tbody>\n",
       "  </tbody>\n",
       "</table>\n",
       "</div>"
      ],
      "text/plain": [
       "Empty DataFrame\n",
       "Columns: []\n",
       "Index: []"
      ]
     },
     "execution_count": 88,
     "metadata": {},
     "output_type": "execute_result"
    }
   ],
   "source": [
    "%%bigquery --params {\"clusters\": 7, \"trait_type\": \"social_class\", \"trait_desc\": 'social_class: \"Economic and social standing (e.g., nobility, working class, merchant class)\"'}\n",
    "\n",
    "create or replace table tmp_copied_traits as SELECT c.book_id, c.id, c.social_class as traits from characters c WHERE c.social_class is not null;\n",
    "CALL phase7_split_traits(@trait_desc);\n",
    "CALL phase7_identify_clusters(@clusters);\n",
    "CALL phase7_name_clusters(@trait_type, @trait_desc);\n",
    "CALL phase7_assign_clusters(@trait_type);\n",
    "UPDATE characters c SET social_class_cluster_id = ct.cluster_id FROM tmp_combined_traits ct WHERE c.book_id = ct.book_id AND c.id = ct.id AND ct.cluster_type = @trait_type;"
   ]
  }
 ],
 "metadata": {
  "kernelspec": {
   "display_name": "book_crawler",
   "language": "python",
   "name": "python3"
  },
  "language_info": {
   "codemirror_mode": {
    "name": "ipython",
    "version": 3
   },
   "file_extension": ".py",
   "mimetype": "text/x-python",
   "name": "python",
   "nbconvert_exporter": "python",
   "pygments_lexer": "ipython3",
   "version": "3.13.3"
  }
 },
 "nbformat": 4,
 "nbformat_minor": 5
}
