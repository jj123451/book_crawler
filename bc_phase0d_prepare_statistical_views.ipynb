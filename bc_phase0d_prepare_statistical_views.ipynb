{
 "cells": [
  {
   "cell_type": "code",
   "execution_count": 2,
   "id": "15a5f5f6",
   "metadata": {},
   "outputs": [],
   "source": [
    "from google.cloud import bigquery\n",
    "from google.cloud.bigquery import magics\n",
    "%load_ext bigquery_magics\n",
    "\n",
    "data_set = \"testing_set\"\n",
    "project_name = \"emerald-entity-468916-f9\"\n",
    "library_path = \"gdelt-bq.internetarchivebooks\"\n",
    "\n",
    "job_config = bigquery.QueryJobConfig(default_dataset = f\"{project_name}.{data_set}\")\n",
    "client = bigquery.Client(project = project_name, default_query_job_config = job_config)\n",
    "magics.context.default_query_job_config = job_config"
   ]
  },
  {
   "cell_type": "code",
   "execution_count": 6,
   "id": "e905f59a",
   "metadata": {},
   "outputs": [
    {
     "data": {
      "application/vnd.jupyter.widget-view+json": {
       "model_id": "ba7ba461e71943ae964886b8555dcc81",
       "version_major": 2,
       "version_minor": 0
      },
      "text/plain": [
       "Query is running:   0%|          |"
      ]
     },
     "metadata": {},
     "output_type": "display_data"
    },
    {
     "data": {
      "text/html": [
       "<div>\n",
       "<style scoped>\n",
       "    .dataframe tbody tr th:only-of-type {\n",
       "        vertical-align: middle;\n",
       "    }\n",
       "\n",
       "    .dataframe tbody tr th {\n",
       "        vertical-align: top;\n",
       "    }\n",
       "\n",
       "    .dataframe thead th {\n",
       "        text-align: right;\n",
       "    }\n",
       "</style>\n",
       "<table border=\"1\" class=\"dataframe\">\n",
       "  <thead>\n",
       "    <tr style=\"text-align: right;\">\n",
       "      <th></th>\n",
       "    </tr>\n",
       "  </thead>\n",
       "  <tbody>\n",
       "  </tbody>\n",
       "</table>\n",
       "</div>"
      ],
      "text/plain": [
       "Empty DataFrame\n",
       "Columns: []\n",
       "Index: []"
      ]
     },
     "execution_count": 6,
     "metadata": {},
     "output_type": "execute_result"
    }
   ],
   "source": [
    "%%bigquery --pyformat\n",
    "\n",
    "CREATE OR REPLACE VIEW v_characters_enriched AS\n",
    "WITH cluster_names AS (SELECT cluster_type, cluster_id, name as cluster_name, description FROM {data_set}.clusters),\n",
    "social_class_names AS (SELECT cluster_id, cluster_name as social_class_name, description as social_class_desc FROM cluster_names WHERE cluster_type = 'social_class'),\n",
    "wealth_names AS (SELECT cluster_id, cluster_name as wealth_name, description as wealth_desc FROM cluster_names WHERE cluster_type = 'wealth'),\n",
    "values_names AS (SELECT cluster_id, cluster_name as values_name, description as values_desc FROM cluster_names WHERE cluster_type = 'values')\n",
    "SELECT c.social_class_cluster_id, c.wealth_cluster_id, c.values_cluster_id, c.sex, sc.social_class_name, sc.social_class_desc,\n",
    "  w.wealth_name, w.wealth_desc, v.values_name, v.values_desc\n",
    "FROM {data_set}.characters c\n",
    "JOIN social_class_names sc ON c.social_class_cluster_id = sc.cluster_id\n",
    "JOIN wealth_names w ON c.wealth_cluster_id = w.cluster_id  \n",
    "JOIN values_names v ON c.values_cluster_id = v.cluster_id\n",
    "WHERE c.social_class_cluster_id IS NOT NULL AND c.wealth_cluster_id IS NOT NULL AND c.values_cluster_id IS NOT NULL AND c.sex IN ('male', 'female');"
   ]
  },
  {
   "cell_type": "code",
   "execution_count": 14,
   "id": "c6c83118",
   "metadata": {},
   "outputs": [
    {
     "data": {
      "application/vnd.jupyter.widget-view+json": {
       "model_id": "cb478328e6894a15b2349f607ed28c6b",
       "version_major": 2,
       "version_minor": 0
      },
      "text/plain": [
       "Query is running:   0%|          |"
      ]
     },
     "metadata": {},
     "output_type": "display_data"
    },
    {
     "data": {
      "text/html": [
       "<div>\n",
       "<style scoped>\n",
       "    .dataframe tbody tr th:only-of-type {\n",
       "        vertical-align: middle;\n",
       "    }\n",
       "\n",
       "    .dataframe tbody tr th {\n",
       "        vertical-align: top;\n",
       "    }\n",
       "\n",
       "    .dataframe thead th {\n",
       "        text-align: right;\n",
       "    }\n",
       "</style>\n",
       "<table border=\"1\" class=\"dataframe\">\n",
       "  <thead>\n",
       "    <tr style=\"text-align: right;\">\n",
       "      <th></th>\n",
       "    </tr>\n",
       "  </thead>\n",
       "  <tbody>\n",
       "  </tbody>\n",
       "</table>\n",
       "</div>"
      ],
      "text/plain": [
       "Empty DataFrame\n",
       "Columns: []\n",
       "Index: []"
      ]
     },
     "execution_count": 14,
     "metadata": {},
     "output_type": "execute_result"
    }
   ],
   "source": [
    "%%bigquery --pyformat\n",
    "\n",
    "CREATE OR REPLACE VIEW v_cluster_statistics AS\n",
    "WITH stats AS (\n",
    "  SELECT 'sex' as dimension, NULL as cluster_id, sex as cluster_name, '-' as cluster_description, COUNT(*) as count,\n",
    "    FORMAT('%0.2f', COUNT(*) / (SELECT COUNT(*) FROM {data_set}.v_characters_enriched) * 100) as percentage, RANK() OVER (PARTITION BY 'sex' ORDER BY COUNT(*) DESC) as rank_within_dimension\n",
    "  FROM {data_set}.v_characters_enriched GROUP BY sex\n",
    "  UNION ALL\n",
    "  SELECT 'social_class', social_class_cluster_id, social_class_name, social_class_desc, COUNT(*),\n",
    "    FORMAT('%0.2f', COUNT(*) / (SELECT COUNT(*) FROM {data_set}.v_characters_enriched) * 100), RANK() OVER (PARTITION BY 'social_class' ORDER BY COUNT(*) DESC)\n",
    "  FROM {data_set}.v_characters_enriched GROUP BY social_class_cluster_id, social_class_name, social_class_desc\n",
    "  UNION ALL\n",
    "  SELECT 'wealth', wealth_cluster_id, wealth_name, wealth_desc, COUNT(*),\n",
    "    FORMAT('%0.2f', COUNT(*) / (SELECT COUNT(*) FROM {data_set}.v_characters_enriched) * 100), RANK() OVER (PARTITION BY 'wealth' ORDER BY COUNT(*) DESC)\n",
    "  FROM {data_set}.v_characters_enriched GROUP BY wealth_cluster_id, wealth_name, wealth_desc\n",
    "  UNION ALL\n",
    "  SELECT 'values', values_cluster_id, values_name, values_desc, COUNT(*),\n",
    "    FORMAT('%0.2f', COUNT(*) / (SELECT COUNT(*) FROM {data_set}.v_characters_enriched) * 100), RANK() OVER (PARTITION BY 'values' ORDER BY COUNT(*) DESC)\n",
    "  FROM {data_set}.v_characters_enriched GROUP BY values_cluster_id, values_name, values_desc\n",
    ")\n",
    "SELECT * FROM stats ORDER BY dimension, rank_within_dimension;"
   ]
  },
  {
   "cell_type": "code",
   "execution_count": null,
   "id": "f0250627",
   "metadata": {},
   "outputs": [
    {
     "data": {
      "application/vnd.jupyter.widget-view+json": {
       "model_id": "22bb2deab9d9435784c93f7b00fb61ba",
       "version_major": 2,
       "version_minor": 0
      },
      "text/plain": [
       "Query is running:   0%|          |"
      ]
     },
     "metadata": {},
     "output_type": "display_data"
    },
    {
     "data": {
      "text/html": [
       "<div>\n",
       "<style scoped>\n",
       "    .dataframe tbody tr th:only-of-type {\n",
       "        vertical-align: middle;\n",
       "    }\n",
       "\n",
       "    .dataframe tbody tr th {\n",
       "        vertical-align: top;\n",
       "    }\n",
       "\n",
       "    .dataframe thead th {\n",
       "        text-align: right;\n",
       "    }\n",
       "</style>\n",
       "<table border=\"1\" class=\"dataframe\">\n",
       "  <thead>\n",
       "    <tr style=\"text-align: right;\">\n",
       "      <th></th>\n",
       "    </tr>\n",
       "  </thead>\n",
       "  <tbody>\n",
       "  </tbody>\n",
       "</table>\n",
       "</div>"
      ],
      "text/plain": [
       "Empty DataFrame\n",
       "Columns: []\n",
       "Index: []"
      ]
     },
     "execution_count": 16,
     "metadata": {},
     "output_type": "execute_result"
    }
   ],
   "source": [
    "%%bigquery --pyformat\n",
    "\n",
    "CREATE OR REPLACE VIEW v_character_profiles AS\n",
    "WITH profiles AS (\n",
    "  SELECT sex, social_class_name, wealth_name, values_name, COUNT(*) as character_count\n",
    "  FROM {data_set}.v_characters_enriched\n",
    "  GROUP BY social_class_cluster_id, wealth_cluster_id, values_cluster_id, sex, social_class_name, wealth_name, values_name)\n",
    "SELECT *, FORMAT('%0.2f', character_count / (SELECT COUNT(*) FROM {data_set}.v_characters_enriched) * 100) as percentage,\n",
    "  RANK() OVER (ORDER BY character_count DESC) as popularity_rank,\n",
    "FROM profiles WHERE character_count > 1 ORDER BY character_count DESC;"
   ]
  },
  {
   "cell_type": "code",
   "execution_count": 24,
   "id": "ba2a676d",
   "metadata": {},
   "outputs": [
    {
     "data": {
      "application/vnd.jupyter.widget-view+json": {
       "model_id": "085c1ae0d88e4145b5c68095a5393ac9",
       "version_major": 2,
       "version_minor": 0
      },
      "text/plain": [
       "Query is running:   0%|          |"
      ]
     },
     "metadata": {},
     "output_type": "display_data"
    },
    {
     "data": {
      "text/html": [
       "<div>\n",
       "<style scoped>\n",
       "    .dataframe tbody tr th:only-of-type {\n",
       "        vertical-align: middle;\n",
       "    }\n",
       "\n",
       "    .dataframe tbody tr th {\n",
       "        vertical-align: top;\n",
       "    }\n",
       "\n",
       "    .dataframe thead th {\n",
       "        text-align: right;\n",
       "    }\n",
       "</style>\n",
       "<table border=\"1\" class=\"dataframe\">\n",
       "  <thead>\n",
       "    <tr style=\"text-align: right;\">\n",
       "      <th></th>\n",
       "    </tr>\n",
       "  </thead>\n",
       "  <tbody>\n",
       "  </tbody>\n",
       "</table>\n",
       "</div>"
      ],
      "text/plain": [
       "Empty DataFrame\n",
       "Columns: []\n",
       "Index: []"
      ]
     },
     "execution_count": 24,
     "metadata": {},
     "output_type": "execute_result"
    }
   ],
   "source": [
    "%%bigquery --pyformat\n",
    "\n",
    "CREATE OR REPLACE VIEW v_crosstab_sex_social AS\n",
    "WITH crosstab_data AS (SELECT sex, social_class_name, COUNT(*) as frequency FROM {data_set}.v_characters_enriched GROUP BY sex, social_class_name),\n",
    "sex_totals AS (SELECT sex, SUM(frequency) as sex_total FROM crosstab_data GROUP BY sex),\n",
    "social_totals AS (SELECT social_class_name, SUM(frequency) as social_class_total FROM crosstab_data GROUP BY social_class_name)\n",
    "SELECT cd.sex, cd.social_class_name, cd.frequency,\n",
    "  FORMAT('%0.2f', cd.frequency / st.sex_total * 100) as sex_percentage,\n",
    "  FORMAT('%0.2f', cd.frequency / sct.social_class_total * 100) as social_class_percentage,\n",
    "  FORMAT('%0.2f', cd.frequency / (SELECT COUNT(*) FROM {data_set}.v_characters_enriched) * 100) as total_percentage\n",
    "FROM crosstab_data cd JOIN sex_totals st ON cd.sex = st.sex JOIN social_totals sct ON cd.social_class_name = sct.social_class_name\n",
    "ORDER BY cd.sex, cd.frequency DESC;"
   ]
  },
  {
   "cell_type": "code",
   "execution_count": 25,
   "id": "184e3113",
   "metadata": {},
   "outputs": [
    {
     "data": {
      "application/vnd.jupyter.widget-view+json": {
       "model_id": "43ded845e3c84ab587940be53ee968a6",
       "version_major": 2,
       "version_minor": 0
      },
      "text/plain": [
       "Query is running:   0%|          |"
      ]
     },
     "metadata": {},
     "output_type": "display_data"
    },
    {
     "data": {
      "text/html": [
       "<div>\n",
       "<style scoped>\n",
       "    .dataframe tbody tr th:only-of-type {\n",
       "        vertical-align: middle;\n",
       "    }\n",
       "\n",
       "    .dataframe tbody tr th {\n",
       "        vertical-align: top;\n",
       "    }\n",
       "\n",
       "    .dataframe thead th {\n",
       "        text-align: right;\n",
       "    }\n",
       "</style>\n",
       "<table border=\"1\" class=\"dataframe\">\n",
       "  <thead>\n",
       "    <tr style=\"text-align: right;\">\n",
       "      <th></th>\n",
       "    </tr>\n",
       "  </thead>\n",
       "  <tbody>\n",
       "  </tbody>\n",
       "</table>\n",
       "</div>"
      ],
      "text/plain": [
       "Empty DataFrame\n",
       "Columns: []\n",
       "Index: []"
      ]
     },
     "execution_count": 25,
     "metadata": {},
     "output_type": "execute_result"
    }
   ],
   "source": [
    "%%bigquery --pyformat\n",
    "\n",
    "CREATE OR REPLACE VIEW v_crosstab_sex_wealth AS\n",
    "WITH crosstab_data AS (SELECT sex, wealth_name, COUNT(*) as frequency FROM {data_set}.v_characters_enriched GROUP BY sex, wealth_name),\n",
    "sex_totals AS (SELECT sex, SUM(frequency) as sex_total FROM crosstab_data GROUP BY sex),\n",
    "social_totals AS (SELECT wealth_name, SUM(frequency) as wealth_total FROM crosstab_data GROUP BY wealth_name)\n",
    "SELECT cd.sex, cd.wealth_name, cd.frequency,\n",
    "  FORMAT('%0.2f', cd.frequency / st.sex_total * 100) as sex_percentage,\n",
    "  FORMAT('%0.2f', cd.frequency / sct.wealth_total * 100) as wealth_percentage,\n",
    "  FORMAT('%0.2f', cd.frequency / (SELECT COUNT(*) FROM {data_set}.v_characters_enriched) * 100) as total_percentage\n",
    "FROM crosstab_data cd JOIN sex_totals st ON cd.sex = st.sex JOIN social_totals sct ON cd.wealth_name = sct.wealth_name\n",
    "ORDER BY cd.sex, cd.frequency DESC;"
   ]
  },
  {
   "cell_type": "code",
   "execution_count": 26,
   "id": "f7807155",
   "metadata": {},
   "outputs": [
    {
     "data": {
      "application/vnd.jupyter.widget-view+json": {
       "model_id": "15ffbead1b37476ab79622a139ff10c2",
       "version_major": 2,
       "version_minor": 0
      },
      "text/plain": [
       "Query is running:   0%|          |"
      ]
     },
     "metadata": {},
     "output_type": "display_data"
    },
    {
     "data": {
      "text/html": [
       "<div>\n",
       "<style scoped>\n",
       "    .dataframe tbody tr th:only-of-type {\n",
       "        vertical-align: middle;\n",
       "    }\n",
       "\n",
       "    .dataframe tbody tr th {\n",
       "        vertical-align: top;\n",
       "    }\n",
       "\n",
       "    .dataframe thead th {\n",
       "        text-align: right;\n",
       "    }\n",
       "</style>\n",
       "<table border=\"1\" class=\"dataframe\">\n",
       "  <thead>\n",
       "    <tr style=\"text-align: right;\">\n",
       "      <th></th>\n",
       "    </tr>\n",
       "  </thead>\n",
       "  <tbody>\n",
       "  </tbody>\n",
       "</table>\n",
       "</div>"
      ],
      "text/plain": [
       "Empty DataFrame\n",
       "Columns: []\n",
       "Index: []"
      ]
     },
     "execution_count": 26,
     "metadata": {},
     "output_type": "execute_result"
    }
   ],
   "source": [
    "%%bigquery --pyformat\n",
    "\n",
    "CREATE OR REPLACE VIEW v_crosstab_sex_values AS\n",
    "WITH crosstab_data AS (SELECT sex, values_name, COUNT(*) as frequency FROM {data_set}.v_characters_enriched GROUP BY sex, values_name),\n",
    "sex_totals AS (SELECT sex, SUM(frequency) as sex_total FROM crosstab_data GROUP BY sex),\n",
    "social_totals AS (SELECT values_name, SUM(frequency) as values_total FROM crosstab_data GROUP BY values_name)\n",
    "SELECT cd.sex, cd.values_name, cd.frequency,\n",
    "  FORMAT('%0.2f', cd.frequency / st.sex_total * 100) as sex_percentage,\n",
    "  FORMAT('%0.2f', cd.frequency / sct.values_total * 100) as values_percentage,\n",
    "  FORMAT('%0.2f', cd.frequency / (SELECT COUNT(*) FROM {data_set}.v_characters_enriched) * 100) as total_percentage\n",
    "FROM crosstab_data cd JOIN sex_totals st ON cd.sex = st.sex JOIN social_totals sct ON cd.values_name = sct.values_name\n",
    "ORDER BY cd.sex, cd.frequency DESC;"
   ]
  },
  {
   "cell_type": "code",
   "execution_count": 35,
   "id": "66c4244b",
   "metadata": {},
   "outputs": [
    {
     "data": {
      "application/vnd.jupyter.widget-view+json": {
       "model_id": "3293cd948bce42558ab25c3519442436",
       "version_major": 2,
       "version_minor": 0
      },
      "text/plain": [
       "Query is running:   0%|          |"
      ]
     },
     "metadata": {},
     "output_type": "display_data"
    },
    {
     "data": {
      "text/html": [
       "<div>\n",
       "<style scoped>\n",
       "    .dataframe tbody tr th:only-of-type {\n",
       "        vertical-align: middle;\n",
       "    }\n",
       "\n",
       "    .dataframe tbody tr th {\n",
       "        vertical-align: top;\n",
       "    }\n",
       "\n",
       "    .dataframe thead th {\n",
       "        text-align: right;\n",
       "    }\n",
       "</style>\n",
       "<table border=\"1\" class=\"dataframe\">\n",
       "  <thead>\n",
       "    <tr style=\"text-align: right;\">\n",
       "      <th></th>\n",
       "    </tr>\n",
       "  </thead>\n",
       "  <tbody>\n",
       "  </tbody>\n",
       "</table>\n",
       "</div>"
      ],
      "text/plain": [
       "Empty DataFrame\n",
       "Columns: []\n",
       "Index: []"
      ]
     },
     "execution_count": 35,
     "metadata": {},
     "output_type": "execute_result"
    }
   ],
   "source": [
    "%%bigquery --pyformat\n",
    "\n",
    "CREATE OR REPLACE VIEW v_crosstab_social_wealth AS\n",
    "WITH crosstab_data AS (SELECT social_class_name, wealth_name, COUNT(*) as frequency\n",
    "  FROM {data_set}.v_characters_enriched GROUP BY social_class_name, wealth_name),\n",
    "totals AS (SELECT social_class_name, SUM(frequency) as social_class_total FROM crosstab_data GROUP BY social_class_name),\n",
    "wealth_totals AS (SELECT wealth_name, SUM(frequency) as wealth_total FROM crosstab_data GROUP BY wealth_name)\n",
    "SELECT cd.social_class_name, cd.wealth_name, cd.frequency,\n",
    "  FORMAT('%0.2f', cd.frequency / t.social_class_total * 100) as social_class_percentage,\n",
    "  FORMAT('%0.2f', cd.frequency / wt.wealth_total * 100) as wealth_class_percentage,\n",
    "  FORMAT('%0.2f', cd.frequency / (SELECT COUNT(*) FROM {data_set}.v_characters_enriched) * 100) as total_percentage\n",
    "FROM crosstab_data cd JOIN totals t ON cd.social_class_name = t.social_class_name JOIN wealth_totals wt ON cd.wealth_name = wt.wealth_name\n",
    "ORDER BY cd.social_class_name, cd.frequency DESC;"
   ]
  },
  {
   "cell_type": "code",
   "execution_count": 36,
   "id": "d3d2abab",
   "metadata": {},
   "outputs": [
    {
     "data": {
      "application/vnd.jupyter.widget-view+json": {
       "model_id": "4704221101964db8a79f48df1d420864",
       "version_major": 2,
       "version_minor": 0
      },
      "text/plain": [
       "Query is running:   0%|          |"
      ]
     },
     "metadata": {},
     "output_type": "display_data"
    },
    {
     "data": {
      "text/html": [
       "<div>\n",
       "<style scoped>\n",
       "    .dataframe tbody tr th:only-of-type {\n",
       "        vertical-align: middle;\n",
       "    }\n",
       "\n",
       "    .dataframe tbody tr th {\n",
       "        vertical-align: top;\n",
       "    }\n",
       "\n",
       "    .dataframe thead th {\n",
       "        text-align: right;\n",
       "    }\n",
       "</style>\n",
       "<table border=\"1\" class=\"dataframe\">\n",
       "  <thead>\n",
       "    <tr style=\"text-align: right;\">\n",
       "      <th></th>\n",
       "    </tr>\n",
       "  </thead>\n",
       "  <tbody>\n",
       "  </tbody>\n",
       "</table>\n",
       "</div>"
      ],
      "text/plain": [
       "Empty DataFrame\n",
       "Columns: []\n",
       "Index: []"
      ]
     },
     "execution_count": 36,
     "metadata": {},
     "output_type": "execute_result"
    }
   ],
   "source": [
    "%%bigquery --pyformat\n",
    "\n",
    "CREATE OR REPLACE VIEW v_crosstab_social_values AS\n",
    "WITH crosstab_data AS (SELECT social_class_name, values_name, COUNT(*) as frequency\n",
    "  FROM {data_set}.v_characters_enriched GROUP BY social_class_name, values_name),\n",
    "totals AS (SELECT social_class_name, SUM(frequency) as social_class_total FROM crosstab_data GROUP BY social_class_name),\n",
    "values_totals AS (SELECT values_name, SUM(frequency) as values_total FROM crosstab_data GROUP BY values_name)\n",
    "SELECT cd.social_class_name, cd.values_name, cd.frequency,\n",
    "  FORMAT('%0.2f', cd.frequency / t.social_class_total * 100) as social_class_percentage,\n",
    "  FORMAT('%0.2f', cd.frequency / wt.values_total * 100) as values_class_percentage,\n",
    "  FORMAT('%0.2f', cd.frequency / (SELECT COUNT(*) FROM {data_set}.v_characters_enriched) * 100) as total_percentage\n",
    "FROM crosstab_data cd JOIN totals t ON cd.social_class_name = t.social_class_name JOIN values_totals wt ON cd.values_name = wt.values_name\n",
    "ORDER BY cd.social_class_name, cd.frequency DESC;"
   ]
  },
  {
   "cell_type": "code",
   "execution_count": 37,
   "id": "7f797092",
   "metadata": {},
   "outputs": [
    {
     "data": {
      "application/vnd.jupyter.widget-view+json": {
       "model_id": "374777903f6c4c1596eeae5913a5f177",
       "version_major": 2,
       "version_minor": 0
      },
      "text/plain": [
       "Query is running:   0%|          |"
      ]
     },
     "metadata": {},
     "output_type": "display_data"
    },
    {
     "data": {
      "text/html": [
       "<div>\n",
       "<style scoped>\n",
       "    .dataframe tbody tr th:only-of-type {\n",
       "        vertical-align: middle;\n",
       "    }\n",
       "\n",
       "    .dataframe tbody tr th {\n",
       "        vertical-align: top;\n",
       "    }\n",
       "\n",
       "    .dataframe thead th {\n",
       "        text-align: right;\n",
       "    }\n",
       "</style>\n",
       "<table border=\"1\" class=\"dataframe\">\n",
       "  <thead>\n",
       "    <tr style=\"text-align: right;\">\n",
       "      <th></th>\n",
       "    </tr>\n",
       "  </thead>\n",
       "  <tbody>\n",
       "  </tbody>\n",
       "</table>\n",
       "</div>"
      ],
      "text/plain": [
       "Empty DataFrame\n",
       "Columns: []\n",
       "Index: []"
      ]
     },
     "execution_count": 37,
     "metadata": {},
     "output_type": "execute_result"
    }
   ],
   "source": [
    "%%bigquery --pyformat\n",
    "\n",
    "CREATE OR REPLACE VIEW v_crosstab_wealth_values AS\n",
    "WITH crosstab_data AS (SELECT wealth_name, values_name, COUNT(*) as frequency\n",
    "  FROM {data_set}.v_characters_enriched GROUP BY wealth_name, values_name),\n",
    "totals AS (SELECT wealth_name, SUM(frequency) as wealth_total FROM crosstab_data GROUP BY wealth_name),\n",
    "values_totals AS (SELECT values_name, SUM(frequency) as values_total FROM crosstab_data GROUP BY values_name)\n",
    "SELECT cd.wealth_name, cd.values_name, cd.frequency,\n",
    "  FORMAT('%0.2f', cd.frequency / t.wealth_total * 100) as wealth_percentage,\n",
    "  FORMAT('%0.2f', cd.frequency / wt.values_total * 100) as values_class_percentage,\n",
    "  FORMAT('%0.2f', cd.frequency / (SELECT COUNT(*) FROM {data_set}.v_characters_enriched) * 100) as total_percentage\n",
    "FROM crosstab_data cd JOIN totals t ON cd.wealth_name = t.wealth_name JOIN values_totals wt ON cd.values_name = wt.values_name\n",
    "ORDER BY cd.wealth_name, cd.frequency DESC;"
   ]
  },
  {
   "cell_type": "code",
   "execution_count": 40,
   "id": "9d4ab08d",
   "metadata": {},
   "outputs": [
    {
     "data": {
      "application/vnd.jupyter.widget-view+json": {
       "model_id": "80c808940a5443e490a1dafb33f487cd",
       "version_major": 2,
       "version_minor": 0
      },
      "text/plain": [
       "Query is running:   0%|          |"
      ]
     },
     "metadata": {},
     "output_type": "display_data"
    },
    {
     "data": {
      "text/html": [
       "<div>\n",
       "<style scoped>\n",
       "    .dataframe tbody tr th:only-of-type {\n",
       "        vertical-align: middle;\n",
       "    }\n",
       "\n",
       "    .dataframe tbody tr th {\n",
       "        vertical-align: top;\n",
       "    }\n",
       "\n",
       "    .dataframe thead th {\n",
       "        text-align: right;\n",
       "    }\n",
       "</style>\n",
       "<table border=\"1\" class=\"dataframe\">\n",
       "  <thead>\n",
       "    <tr style=\"text-align: right;\">\n",
       "      <th></th>\n",
       "    </tr>\n",
       "  </thead>\n",
       "  <tbody>\n",
       "  </tbody>\n",
       "</table>\n",
       "</div>"
      ],
      "text/plain": [
       "Empty DataFrame\n",
       "Columns: []\n",
       "Index: []"
      ]
     },
     "execution_count": 40,
     "metadata": {},
     "output_type": "execute_result"
    }
   ],
   "source": [
    "%%bigquery --pyformat\n",
    "\n",
    "CREATE OR REPLACE VIEW v_gender_analysis AS\n",
    "WITH gender_profiles AS (SELECT sex, social_class_name, wealth_name, values_name, COUNT(*) as count\n",
    "  FROM {data_set}.v_characters_enriched GROUP BY sex, social_class_name, wealth_name, values_name),\n",
    "gender_totals AS (SELECT sex, SUM(count) as total_by_gender FROM gender_profiles GROUP BY sex)\n",
    "SELECT gp.*, gt.total_by_gender,\n",
    "  FORMAT('%0.2f', gp.count / gt.total_by_gender * 100) as percentage_within_gender,\n",
    "  RANK() OVER (PARTITION BY gp.sex ORDER BY gp.count DESC) as rank_within_gender\n",
    "FROM gender_profiles gp JOIN gender_totals gt ON gp.sex = gt.sex\n",
    "WHERE gp.count > 1 ORDER BY gp.sex, gp.count DESC;"
   ]
  }
 ],
 "metadata": {
  "kernelspec": {
   "display_name": "gcompetition2",
   "language": "python",
   "name": "python3"
  },
  "language_info": {
   "codemirror_mode": {
    "name": "ipython",
    "version": 3
   },
   "file_extension": ".py",
   "mimetype": "text/x-python",
   "name": "python",
   "nbconvert_exporter": "python",
   "pygments_lexer": "ipython3",
   "version": "3.13.3"
  }
 },
 "nbformat": 4,
 "nbformat_minor": 5
}
