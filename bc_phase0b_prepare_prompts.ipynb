{
 "cells": [
  {
   "cell_type": "code",
   "execution_count": 19,
   "id": "39dcb6db",
   "metadata": {},
   "outputs": [
    {
     "name": "stdout",
     "output_type": "stream",
     "text": [
      "Couldn't find program: 'false'\n"
     ]
    }
   ],
   "source": [
    "%%script false --no-raise-error\n",
    "import json\n",
    "from google.colab import userdata\n",
    "from google.oauth2 import service_account\n",
    "from google.cloud.bigquery import magics\n",
    "\n",
    "credentials_json = userdata.get('BIGQUERY_CREDENTIALS')\n",
    "credentials = service_account.Credentials.from_service_account_info(json.loads(credentials_json))\n",
    "magics.context.credentials = credentials"
   ]
  },
  {
   "cell_type": "code",
   "execution_count": 36,
   "id": "bc730c95",
   "metadata": {},
   "outputs": [
    {
     "name": "stdout",
     "output_type": "stream",
     "text": [
      "The bigquery_magics extension is already loaded. To reload it, use:\n",
      "  %reload_ext bigquery_magics\n"
     ]
    }
   ],
   "source": [
    "from google.cloud import bigquery\n",
    "from google.cloud.bigquery import magics\n",
    "%load_ext bigquery_magics\n",
    "\n",
    "data_set = \"testing_set\"\n",
    "project_name = \"emerald-entity-468916-f9\"\n",
    "\n",
    "job_config = bigquery.QueryJobConfig(default_dataset = f\"{project_name}.{data_set}\")\n",
    "client = bigquery.Client(project = project_name, default_query_job_config = job_config, credentials = globals().get('credentials', None))\n",
    "magics.context.default_query_job_config = job_config\n",
    "magics.context.project = project_name"
   ]
  },
  {
   "cell_type": "code",
   "execution_count": 21,
   "id": "c47f6b26",
   "metadata": {},
   "outputs": [
    {
     "data": {
      "application/vnd.jupyter.widget-view+json": {
       "model_id": "b0b03dd39feb41ce86583719d8ad4e0b",
       "version_major": 2,
       "version_minor": 0
      },
      "text/plain": [
       "Query is running:   0%|          |"
      ]
     },
     "metadata": {},
     "output_type": "display_data"
    },
    {
     "data": {
      "text/html": [
       "<div>\n",
       "<style scoped>\n",
       "    .dataframe tbody tr th:only-of-type {\n",
       "        vertical-align: middle;\n",
       "    }\n",
       "\n",
       "    .dataframe tbody tr th {\n",
       "        vertical-align: top;\n",
       "    }\n",
       "\n",
       "    .dataframe thead th {\n",
       "        text-align: right;\n",
       "    }\n",
       "</style>\n",
       "<table border=\"1\" class=\"dataframe\">\n",
       "  <thead>\n",
       "    <tr style=\"text-align: right;\">\n",
       "      <th></th>\n",
       "    </tr>\n",
       "  </thead>\n",
       "  <tbody>\n",
       "  </tbody>\n",
       "</table>\n",
       "</div>"
      ],
      "text/plain": [
       "Empty DataFrame\n",
       "Columns: []\n",
       "Index: []"
      ]
     },
     "execution_count": 21,
     "metadata": {},
     "output_type": "execute_result"
    }
   ],
   "source": [
    "%%bigquery\n",
    "MERGE prompts p USING (SELECT \n",
    "'''You are an expert in JSON format .\n",
    "Please analyse given JSON %s and correct format errors, if any.\n",
    "\n",
    "The JSON to be analysed is below between <json> tags.\n",
    "<json>\n",
    "%s\n",
    "</json>\n",
    "\n",
    "Return only the corrected JSON as a response, without any comments.\n",
    "''' prompt, 'json' code) ip ON p.code = ip.code\n",
    "WHEN MATCHED THEN UPDATE SET prompt = ip.prompt\n",
    "WHEN NOT MATCHED THEN INSERT (code, prompt) VALUES(code, prompt);"
   ]
  },
  {
   "cell_type": "code",
   "execution_count": 22,
   "id": "e1a335ea-8d2d-4fb3-8717-c028f8fa3966",
   "metadata": {},
   "outputs": [
    {
     "data": {
      "application/vnd.jupyter.widget-view+json": {
       "model_id": "9ad868fbef6f44c99cd1d2d3765a4845",
       "version_major": 2,
       "version_minor": 0
      },
      "text/plain": [
       "Query is running:   0%|          |"
      ]
     },
     "metadata": {},
     "output_type": "display_data"
    },
    {
     "data": {
      "text/html": [
       "<div>\n",
       "<style scoped>\n",
       "    .dataframe tbody tr th:only-of-type {\n",
       "        vertical-align: middle;\n",
       "    }\n",
       "\n",
       "    .dataframe tbody tr th {\n",
       "        vertical-align: top;\n",
       "    }\n",
       "\n",
       "    .dataframe thead th {\n",
       "        text-align: right;\n",
       "    }\n",
       "</style>\n",
       "<table border=\"1\" class=\"dataframe\">\n",
       "  <thead>\n",
       "    <tr style=\"text-align: right;\">\n",
       "      <th></th>\n",
       "    </tr>\n",
       "  </thead>\n",
       "  <tbody>\n",
       "  </tbody>\n",
       "</table>\n",
       "</div>"
      ],
      "text/plain": [
       "Empty DataFrame\n",
       "Columns: []\n",
       "Index: []"
      ]
     },
     "execution_count": 22,
     "metadata": {},
     "output_type": "execute_result"
    }
   ],
   "source": [
    "%%bigquery\n",
    "MERGE prompts p USING (SELECT \n",
    "'''Your task is to fix scanning or optical character recognition (OCR) errors in given book fragment.\n",
    "- Example of scanned text with errors: \"which* Jterhapf\". Correct text: \"which perhaps\" or \"which, perhaps\"\n",
    "Please also change forms of old english (if any) to modern ones, if it doesn't change the meaning of the text. \n",
    "- For example, please change \"long s\" (ſ or f) to normal \"s\".\n",
    "\n",
    "There can be many different types of errors, so please analyze the text carefully to establish the correct content.\n",
    "\n",
    "Below you will receive a fragment of some book, and your job is to correct all mistakes and output valid, corrected text.\n",
    "The fragment is between the tags <fragment_to_fix> and </fragment_to_fix>.\n",
    "\n",
    "To better understand the context and meaning of the fragment, we also provide some portions of text before and after it.\n",
    "These are placed between the tags <fragment_before> and </fragment_before> for the portion before the main text, and <fragment_after> and </fragment_after> for the portion after the main text.\n",
    "The portions before and after may be empty if the main fragment is from the very beginning or the very end of the book.\n",
    "Please do not try to correct the portions before and after — they are only for you to better understand the context and meaning of the main fragment.\n",
    "\n",
    "Take into consideration that some books are over 200 years old, so the language may be slightly different from used currently.\n",
    "After preparing the corrected text, read it again to double-check its correctness.\n",
    "\n",
    "<fragment_before>\n",
    "%s\n",
    "</fragment_before>\n",
    "\n",
    "<fragment_to_fix>\n",
    "%s\n",
    "</fragment_to_fix>\n",
    "\n",
    "<fragment_after>\n",
    "%s\n",
    "</fragment_after>\n",
    "\n",
    "Return corrected text only, without any additional comments.\n",
    "''' prompt, 'correct' code) ip ON p.code = ip.code\n",
    "WHEN MATCHED THEN UPDATE SET prompt = ip.prompt\n",
    "WHEN NOT MATCHED THEN INSERT (code, prompt) VALUES(code, prompt);"
   ]
  },
  {
   "cell_type": "code",
   "execution_count": 23,
   "id": "97e7c3ba",
   "metadata": {},
   "outputs": [
    {
     "data": {
      "application/vnd.jupyter.widget-view+json": {
       "model_id": "428e9825b21e4d91be42b4375bed0591",
       "version_major": 2,
       "version_minor": 0
      },
      "text/plain": [
       "Query is running:   0%|          |"
      ]
     },
     "metadata": {},
     "output_type": "display_data"
    },
    {
     "data": {
      "text/html": [
       "<div>\n",
       "<style scoped>\n",
       "    .dataframe tbody tr th:only-of-type {\n",
       "        vertical-align: middle;\n",
       "    }\n",
       "\n",
       "    .dataframe tbody tr th {\n",
       "        vertical-align: top;\n",
       "    }\n",
       "\n",
       "    .dataframe thead th {\n",
       "        text-align: right;\n",
       "    }\n",
       "</style>\n",
       "<table border=\"1\" class=\"dataframe\">\n",
       "  <thead>\n",
       "    <tr style=\"text-align: right;\">\n",
       "      <th></th>\n",
       "    </tr>\n",
       "  </thead>\n",
       "  <tbody>\n",
       "  </tbody>\n",
       "</table>\n",
       "</div>"
      ],
      "text/plain": [
       "Empty DataFrame\n",
       "Columns: []\n",
       "Index: []"
      ]
     },
     "execution_count": 23,
     "metadata": {},
     "output_type": "execute_result"
    }
   ],
   "source": [
    "%%bigquery\n",
    "MERGE prompts p USING (SELECT   \n",
    "'''You are an expert in summarizing books.\n",
    "Your goal is to summarize a book fragment. Summary should contain no more then %d characters.\n",
    "\n",
    "The fragment is provided between <book_fragment> tags below:\n",
    "<book_fragment>\n",
    "%s\n",
    "</book_fragment>\n",
    "\n",
    "Return just a summary wihout any additional comments.\n",
    "''' prompt, 'summarize' code) ip ON p.code = ip.code\n",
    "WHEN MATCHED THEN UPDATE SET prompt = ip.prompt\n",
    "WHEN NOT MATCHED THEN INSERT (code, prompt) VALUES(code, prompt);"
   ]
  },
  {
   "cell_type": "code",
   "execution_count": 24,
   "id": "a99deddd",
   "metadata": {},
   "outputs": [
    {
     "data": {
      "application/vnd.jupyter.widget-view+json": {
       "model_id": "ec464c5c7c1245f4a56ff752ed96a16d",
       "version_major": 2,
       "version_minor": 0
      },
      "text/plain": [
       "Query is running:   0%|          |"
      ]
     },
     "metadata": {},
     "output_type": "display_data"
    },
    {
     "data": {
      "text/html": [
       "<div>\n",
       "<style scoped>\n",
       "    .dataframe tbody tr th:only-of-type {\n",
       "        vertical-align: middle;\n",
       "    }\n",
       "\n",
       "    .dataframe tbody tr th {\n",
       "        vertical-align: top;\n",
       "    }\n",
       "\n",
       "    .dataframe thead th {\n",
       "        text-align: right;\n",
       "    }\n",
       "</style>\n",
       "<table border=\"1\" class=\"dataframe\">\n",
       "  <thead>\n",
       "    <tr style=\"text-align: right;\">\n",
       "      <th></th>\n",
       "    </tr>\n",
       "  </thead>\n",
       "  <tbody>\n",
       "  </tbody>\n",
       "</table>\n",
       "</div>"
      ],
      "text/plain": [
       "Empty DataFrame\n",
       "Columns: []\n",
       "Index: []"
      ]
     },
     "execution_count": 24,
     "metadata": {},
     "output_type": "execute_result"
    }
   ],
   "source": [
    "%%bigquery\n",
    "MERGE prompts p USING (SELECT\n",
    "'''You are an expert in summarizing books.\n",
    "Your goal is to prepare book summary based on summaries of all book fragments.\n",
    "The result summary should contain around 20000 characters.\n",
    "Avoid redundancy while maintaining comprehensiveness when summarizing.\n",
    "\n",
    "Concatenated summaries of all book fragments are placed below, between <fragment_summaries> tags:\n",
    "<fragment_summaries>\n",
    "%s\n",
    "</fragment_summaries>\n",
    "\n",
    "Return just a summary without any additional comments.\n",
    "''' prompt, 'reduce_summary' code) ip ON p.code = ip.code\n",
    "WHEN MATCHED THEN UPDATE SET prompt = ip.prompt\n",
    "WHEN NOT MATCHED THEN INSERT (code, prompt) VALUES(code, prompt);"
   ]
  },
  {
   "cell_type": "code",
   "execution_count": 25,
   "id": "eed7d44d",
   "metadata": {},
   "outputs": [
    {
     "data": {
      "application/vnd.jupyter.widget-view+json": {
       "model_id": "1ec3f8f1939140d5bb93653f1bde7ecc",
       "version_major": 2,
       "version_minor": 0
      },
      "text/plain": [
       "Query is running:   0%|          |"
      ]
     },
     "metadata": {},
     "output_type": "display_data"
    },
    {
     "data": {
      "text/html": [
       "<div>\n",
       "<style scoped>\n",
       "    .dataframe tbody tr th:only-of-type {\n",
       "        vertical-align: middle;\n",
       "    }\n",
       "\n",
       "    .dataframe tbody tr th {\n",
       "        vertical-align: top;\n",
       "    }\n",
       "\n",
       "    .dataframe thead th {\n",
       "        text-align: right;\n",
       "    }\n",
       "</style>\n",
       "<table border=\"1\" class=\"dataframe\">\n",
       "  <thead>\n",
       "    <tr style=\"text-align: right;\">\n",
       "      <th></th>\n",
       "    </tr>\n",
       "  </thead>\n",
       "  <tbody>\n",
       "  </tbody>\n",
       "</table>\n",
       "</div>"
      ],
      "text/plain": [
       "Empty DataFrame\n",
       "Columns: []\n",
       "Index: []"
      ]
     },
     "execution_count": 25,
     "metadata": {},
     "output_type": "execute_result"
    }
   ],
   "source": [
    "%%bigquery\n",
    "MERGE prompts p USING (SELECT\n",
    "'''You are an expert in extracting information from books and manipulating JSON structures.\n",
    "Your task is to provide identifying information of significant human characters (called later Individuals) from given book fragment.\n",
    "\n",
    "Provide the output as a JSON array, single Individual should be described in separate JSON object in the array.\n",
    "The schema definition is below.\n",
    "{\n",
    "  \"type\": \"array\",\n",
    "  \"items\": {\n",
    "    \"type\": \"object\",\n",
    "    \"properties\": {\n",
    "      \"full_name\": {\"type\": \"string\", \"maxLength\": 300, \"description\": \"Full name including titles, nicknames, aliases, maiden names, or pseudonyms if mentioned. Include all names if Individual has many names.\"},\n",
    "\t    \"information\": {\"type\": \"string\", \"maxLength\": 1500, \"description\": \"Any information that may help uniquely identify given Individual, e.g. sex, age, origin, physical appearance, distinguishing marks or features and other helpful information\"},\n",
    "\t    \"importance\": {\"type\": \"integer\", \"description\": \"Number of sentences being related in any way to given Individual in the text\"},\n",
    "    }\n",
    "  }\n",
    "}\n",
    "\n",
    "The book fragment for Individuals analysis is provided between <book_fragment> tags.\n",
    "<book_fragment>\n",
    "%s\n",
    "</book_fragment>\n",
    "\n",
    "Important Guidelines for choosing Individuals to be included in the JSON array:\n",
    "1. Omit unnamed crowd members or minor Individuals mentioned only in passing.\n",
    "2. Add only Individuals who play meaningful roles or are described in details in given book fragment. \n",
    "\n",
    "Other important Guidelines:\n",
    "1. Do not duplicate JSON objects for the same Individual.\n",
    "2. Strictly respect the maximum character limits for each field, especially max 1500 characters for `information`. Summarize to reduce size, if necessary.\n",
    "\n",
    "Before returning, fix all format errors in JSON array, if any.\n",
    "Return only corrected JSON array as a response, without any additional comments.   \n",
    "''' prompt, 'characters_id_data' code) ip ON p.code = ip.code\n",
    "WHEN MATCHED THEN UPDATE SET prompt = ip.prompt\n",
    "WHEN NOT MATCHED THEN INSERT (code, prompt) VALUES(code, prompt);"
   ]
  },
  {
   "cell_type": "code",
   "execution_count": null,
   "id": "aaa8cd6d",
   "metadata": {},
   "outputs": [
    {
     "data": {
      "application/vnd.jupyter.widget-view+json": {
       "model_id": "3f7beff4b215422081b11bd1a503584b",
       "version_major": 2,
       "version_minor": 0
      },
      "text/plain": [
       "Query is running:   0%|          |"
      ]
     },
     "metadata": {},
     "output_type": "display_data"
    },
    {
     "data": {
      "text/html": [
       "<div>\n",
       "<style scoped>\n",
       "    .dataframe tbody tr th:only-of-type {\n",
       "        vertical-align: middle;\n",
       "    }\n",
       "\n",
       "    .dataframe tbody tr th {\n",
       "        vertical-align: top;\n",
       "    }\n",
       "\n",
       "    .dataframe thead th {\n",
       "        text-align: right;\n",
       "    }\n",
       "</style>\n",
       "<table border=\"1\" class=\"dataframe\">\n",
       "  <thead>\n",
       "    <tr style=\"text-align: right;\">\n",
       "      <th></th>\n",
       "    </tr>\n",
       "  </thead>\n",
       "  <tbody>\n",
       "  </tbody>\n",
       "</table>\n",
       "</div>"
      ],
      "text/plain": [
       "Empty DataFrame\n",
       "Columns: []\n",
       "Index: []"
      ]
     },
     "execution_count": 26,
     "metadata": {},
     "output_type": "execute_result"
    }
   ],
   "source": [
    "%%bigquery\n",
    "MERGE prompts p USING (SELECT   \n",
    "'''You are an expert in comparing human characters (called later \"Individuals\") based on descriptions from different fragments of the same book.\n",
    "Your task is to analyse each pair of Individuals information and names, and provide judgement whether both Individuals are in fact the same person, or not.\n",
    "\n",
    "The input data are provided as a JSON array. Each Individuals pair is described in separate JSON object with a flat structure.\n",
    "The input schema definition is below.\n",
    "{\n",
    "  \"type\": \"array\",\n",
    "  \"items\": {\n",
    "    \"type\": \"object\",\n",
    "    \"properties\": {\n",
    "\t\"id\": {\"type\": \"integer\", \"description\": \"A unique identifier of a pair\"},\n",
    "\t\t\"first_individual_full_name\": {\"type\": \"string\", \"description\": \"Full name of the first Individual\"},\n",
    "\t\t\"first_individual_information\": {\"type\": \"string\", \"description\": \"Additional information describing first Individual\"},\n",
    "\t\t\"second_individual_full_name\": {\"type\": \"string\", \"description\": \"Full name of the second Individual\"},\n",
    "\t\t\"second_individual_information\": {\"type\": \"string\", \"description\": \"Additional information describing second Individual\"}\n",
    "    }\n",
    "  }\n",
    "}\n",
    "\n",
    "The input data for analysis is provided between <individual_pairs> tags.\n",
    "<individual_pairs>\n",
    "%s\n",
    "</individual_pairs>\n",
    "\n",
    "As a supplementary information you can use the summary of the whole book. It is placed between <summary> tags.\n",
    "<summary>\n",
    "%s\n",
    "</summary>\n",
    "\n",
    "As the result please return JSON array containing only pairs where first and second Individual are in fact the same person. If unsure, assume they are different persons and do not return.\n",
    "If there are no pairs containing the same Individual, then return empty array.\n",
    "Return only JSON array, without any additional comments.   \n",
    "''' prompt, 'find_the_same_characters' code) ip ON p.code = ip.code\n",
    "WHEN MATCHED THEN UPDATE SET prompt = ip.prompt\n",
    "WHEN NOT MATCHED THEN INSERT (code, prompt) VALUES(code, prompt);"
   ]
  },
  {
   "cell_type": "code",
   "execution_count": null,
   "id": "f1eea4e2",
   "metadata": {},
   "outputs": [
    {
     "data": {
      "application/vnd.jupyter.widget-view+json": {
       "model_id": "48bb5978e4fa4e369202bc30aa574c5e",
       "version_major": 2,
       "version_minor": 0
      },
      "text/plain": [
       "Query is running:   0%|          |"
      ]
     },
     "metadata": {},
     "output_type": "display_data"
    },
    {
     "data": {
      "text/html": [
       "<div>\n",
       "<style scoped>\n",
       "    .dataframe tbody tr th:only-of-type {\n",
       "        vertical-align: middle;\n",
       "    }\n",
       "\n",
       "    .dataframe tbody tr th {\n",
       "        vertical-align: top;\n",
       "    }\n",
       "\n",
       "    .dataframe thead th {\n",
       "        text-align: right;\n",
       "    }\n",
       "</style>\n",
       "<table border=\"1\" class=\"dataframe\">\n",
       "  <thead>\n",
       "    <tr style=\"text-align: right;\">\n",
       "      <th></th>\n",
       "    </tr>\n",
       "  </thead>\n",
       "  <tbody>\n",
       "  </tbody>\n",
       "</table>\n",
       "</div>"
      ],
      "text/plain": [
       "Empty DataFrame\n",
       "Columns: []\n",
       "Index: []"
      ]
     },
     "execution_count": 27,
     "metadata": {},
     "output_type": "execute_result"
    }
   ],
   "source": [
    "%%bigquery\n",
    "MERGE prompts p USING (SELECT   \n",
    "'''You are an expert in comparing human characters (called later \"Individuals\") based on descriptions from different fragments of the same book.\n",
    "Your task is to analyse each pair of Individuals information and names, and provide judgement whether both Individuals are in fact the same person, or not.\n",
    "\n",
    "The input data are provided as a JSON array. Each Individuals pair is described in separate JSON object with a flat structure.\n",
    "The input schema definition is below.\n",
    "{\n",
    "  \"type\": \"array\",\n",
    "  \"items\": {\n",
    "    \"type\": \"object\",\n",
    "    \"properties\": {\n",
    "\t\"id\": {\"type\": \"integer\", \"description\": \"A unique identifier of a pair\"},\n",
    "\t\t\"first_individual_full_name\": {\"type\": \"string\", \"description\": \"Full name of the first Individual\"},\n",
    "\t\t\"first_individual_information\": {\"type\": \"string\", \"description\": \"Additional information describing first Individual\"},\n",
    "\t\t\"second_individual_full_name\": {\"type\": \"string\", \"description\": \"Full name of the second Individual\"},\n",
    "\t\t\"second_individual_information\": {\"type\": \"string\", \"description\": \"Additional information describing second Individual\"}\n",
    "    }\n",
    "  }\n",
    "}\n",
    "\n",
    "The input data for analysis is provided between <individual_pairs> tags.\n",
    "<individual_pairs>\n",
    "%s\n",
    "</individual_pairs>\n",
    "\n",
    "As a supplementary information you can use the summary of the whole book. It is placed between <summary> tags.\n",
    "<summary>\n",
    "%s\n",
    "</summary>\n",
    "\n",
    "As the result please return JSON array containing only pairs where first and second Individual are different persons. If unsure, assume they are different.\n",
    "Before returning, check and fix all format errors in JSON array, if any.\n",
    "Return only JSON array, without any additional comments.   \n",
    "''' prompt, 'find_different_characters' code) ip ON p.code = ip.code\n",
    "WHEN MATCHED THEN UPDATE SET prompt = ip.prompt\n",
    "WHEN NOT MATCHED THEN INSERT (code, prompt) VALUES(code, prompt);"
   ]
  },
  {
   "cell_type": "code",
   "execution_count": 28,
   "id": "e76192f2",
   "metadata": {},
   "outputs": [
    {
     "data": {
      "application/vnd.jupyter.widget-view+json": {
       "model_id": "f85925f543ae442fbdc3e6e768e368f5",
       "version_major": 2,
       "version_minor": 0
      },
      "text/plain": [
       "Query is running:   0%|          |"
      ]
     },
     "metadata": {},
     "output_type": "display_data"
    },
    {
     "data": {
      "text/html": [
       "<div>\n",
       "<style scoped>\n",
       "    .dataframe tbody tr th:only-of-type {\n",
       "        vertical-align: middle;\n",
       "    }\n",
       "\n",
       "    .dataframe tbody tr th {\n",
       "        vertical-align: top;\n",
       "    }\n",
       "\n",
       "    .dataframe thead th {\n",
       "        text-align: right;\n",
       "    }\n",
       "</style>\n",
       "<table border=\"1\" class=\"dataframe\">\n",
       "  <thead>\n",
       "    <tr style=\"text-align: right;\">\n",
       "      <th></th>\n",
       "    </tr>\n",
       "  </thead>\n",
       "  <tbody>\n",
       "  </tbody>\n",
       "</table>\n",
       "</div>"
      ],
      "text/plain": [
       "Empty DataFrame\n",
       "Columns: []\n",
       "Index: []"
      ]
     },
     "execution_count": 28,
     "metadata": {},
     "output_type": "execute_result"
    }
   ],
   "source": [
    "%%bigquery\n",
    "MERGE prompts p USING (SELECT\n",
    "'''You are an expert in merging human characters names and descriptions, comming from different fragments of the same book. (human characters are called later \"Individuals\") \n",
    "Your task is to merge single Individual identifying information based on a book.\n",
    "\n",
    "The input data is an array of JSON objects each representing the same Individual but based on different fragment of the same book.\n",
    "The order of JSON objects is the same as order of fragments in the book.\n",
    "Please see input data schema definition:\n",
    "{\n",
    "  \"type\": \"array\",\n",
    "  \"items\": {\n",
    "    \"type\": \"object\",\n",
    "    \"properties\": {\n",
    "      \"full_name\": {\"type\": \"string\", \"maxLength\": 300, \"description\": \"Full name including titles, nicknames, aliases, maiden names, or pseudonyms if mentioned. Include all names if Individual has many names.\"},\n",
    "\t    \"information\": {\"type\": \"string\", \"maxLength\": 2500, \"description\": \"Any information that may help uniquely identify given Individual, e.g. sex, age, origin, physical appearance, distinguishing marks or features and other helpful information\"}\n",
    "    }\n",
    "  }\n",
    "}\n",
    "\n",
    "Between <character> tags is input JSON array with Individual data to be merged.\n",
    "<character>\n",
    "%s\n",
    "</character>\n",
    "\n",
    "As a supplementary information you can use the summary of the whole book. It is placed between <summary> tags below.\n",
    "<summary>\n",
    "%s\n",
    "</summary>\n",
    "\n",
    "Important Guidelines for merging data:\n",
    "\n",
    "1. The result should be just one single JSON object (not array) containing summarized full_name and information from all JSON objects in the array.\n",
    "2. Avoid redundancy while maintaining comprehensiveness when merging.\n",
    "3. The format of result JSON object should be the same as the format on JSON objects in the array.\n",
    "4. Strictly maximum character limits for both fields. Summarize if necessary.\n",
    "\n",
    "Before returning, check and fix all format errors in JSON array, if any.\n",
    "Return only merged JSON object as a response, without any additional comments.   \n",
    "\n",
    "''' prompt, 'merge_character_ids' code) ip ON p.code = ip.code\n",
    "WHEN MATCHED THEN UPDATE SET prompt = ip.prompt\n",
    "WHEN NOT MATCHED THEN INSERT (code, prompt) VALUES(code, prompt);"
   ]
  },
  {
   "cell_type": "code",
   "execution_count": 29,
   "id": "befc4325",
   "metadata": {},
   "outputs": [
    {
     "data": {
      "application/vnd.jupyter.widget-view+json": {
       "model_id": "37ec59859bbd4994b449dfc0416b1778",
       "version_major": 2,
       "version_minor": 0
      },
      "text/plain": [
       "Query is running:   0%|          |"
      ]
     },
     "metadata": {},
     "output_type": "display_data"
    },
    {
     "data": {
      "text/html": [
       "<div>\n",
       "<style scoped>\n",
       "    .dataframe tbody tr th:only-of-type {\n",
       "        vertical-align: middle;\n",
       "    }\n",
       "\n",
       "    .dataframe tbody tr th {\n",
       "        vertical-align: top;\n",
       "    }\n",
       "\n",
       "    .dataframe thead th {\n",
       "        text-align: right;\n",
       "    }\n",
       "</style>\n",
       "<table border=\"1\" class=\"dataframe\">\n",
       "  <thead>\n",
       "    <tr style=\"text-align: right;\">\n",
       "      <th></th>\n",
       "    </tr>\n",
       "  </thead>\n",
       "  <tbody>\n",
       "  </tbody>\n",
       "</table>\n",
       "</div>"
      ],
      "text/plain": [
       "Empty DataFrame\n",
       "Columns: []\n",
       "Index: []"
      ]
     },
     "execution_count": 29,
     "metadata": {},
     "output_type": "execute_result"
    }
   ],
   "source": [
    "%%bigquery\n",
    "MERGE prompts p USING (SELECT\n",
    "'''You are an expert in comparing human characters (called later \"Individuals\") based on descriptions from different fragments of the same book.\n",
    "As an input data to analysis you have an array of JSON objects representing Individuals. Previous analysis indicated that each Individual in the array is in fact the same person.\n",
    "Your task is to analyse all JSON objects in the array and double check if all the objects indeed represent the same person.\n",
    "\n",
    "Please see input JSON array schema definition:\n",
    "{\n",
    "  \"type\": \"array\",\n",
    "  \"items\": {\n",
    "    \"type\": \"object\",\n",
    "    \"properties\": {\n",
    "      \"full_name\": {\"type\": \"string\", \"description\": \"Full name including titles, nicknames, aliases, maiden names, or pseudonyms if mentioned. Include all names if Individual has many names.\"},\n",
    "\t    \"information\": {\"type\": \"string\", \"description\": \"Any information that may help uniquely identify given Individual, e.g. sex, age, origin, physical appearance, distinguishing marks or features and other helpful information\"}\n",
    "    }\n",
    "  }\n",
    "}\n",
    "\n",
    "JSON array with Individuals suspected to be the same person is below, between <character> tags:\n",
    "<character>\n",
    "%s\n",
    "</character>\n",
    "\n",
    "As a supplementary information you can use the summary of the whole book. It is placed between <summary> tags below.\n",
    "<summary>\n",
    "%s\n",
    "</summary>\n",
    "\n",
    "Please return \"true\" if you think that all Individuals indeed represent the same person, return \"false\" otherwise.\n",
    "Return only one word as a response, without any additional comments.   \n",
    "''' prompt, 'merge_character_ids_double_check' code) ip ON p.code = ip.code\n",
    "WHEN MATCHED THEN UPDATE SET prompt = ip.prompt\n",
    "WHEN NOT MATCHED THEN INSERT (code, prompt) VALUES(code, prompt);"
   ]
  },
  {
   "cell_type": "code",
   "execution_count": null,
   "id": "aa0f4fc3",
   "metadata": {},
   "outputs": [
    {
     "data": {
      "application/vnd.jupyter.widget-view+json": {
       "model_id": "f080b8288e394d1d8a908b561499bcac",
       "version_major": 2,
       "version_minor": 0
      },
      "text/plain": [
       "Query is running:   0%|          |"
      ]
     },
     "metadata": {},
     "output_type": "display_data"
    },
    {
     "data": {
      "text/html": [
       "<div>\n",
       "<style scoped>\n",
       "    .dataframe tbody tr th:only-of-type {\n",
       "        vertical-align: middle;\n",
       "    }\n",
       "\n",
       "    .dataframe tbody tr th {\n",
       "        vertical-align: top;\n",
       "    }\n",
       "\n",
       "    .dataframe thead th {\n",
       "        text-align: right;\n",
       "    }\n",
       "</style>\n",
       "<table border=\"1\" class=\"dataframe\">\n",
       "  <thead>\n",
       "    <tr style=\"text-align: right;\">\n",
       "      <th></th>\n",
       "    </tr>\n",
       "  </thead>\n",
       "  <tbody>\n",
       "  </tbody>\n",
       "</table>\n",
       "</div>"
      ],
      "text/plain": [
       "Empty DataFrame\n",
       "Columns: []\n",
       "Index: []"
      ]
     },
     "execution_count": 38,
     "metadata": {},
     "output_type": "execute_result"
    }
   ],
   "source": [
    "%%bigquery\n",
    "MERGE prompts p USING (SELECT   \n",
    "'''Your task is to check and correct errors in input JSON object, if any.\n",
    "Please see schema definition:\n",
    "{\n",
    "  \"type\": \"object\",\n",
    "  \"properties\": {\n",
    "    \"id\": {\"type\": \"integer\", \"description\": \"A unique identifier of an Individual. Can be ignored.\"},\n",
    "    \"full_name\": {\"type\": \"string\", \"description\": \"Full name including titles, nicknames, aliases, maiden names, or pseudonyms if mentioned, e.g.: 'Victor Frankenstein, M.D.'\"},\n",
    "    \"sex\": {\"type\": \"string\", \"description\": \"'male', 'female' or 'non-binary'\"},\n",
    "    \"social_class\": {\"type\": \"string\", \"description\": \"Economic and social standing (e.g., 'nobility', 'working class', 'merchant class')\"},\n",
    "    \"wealth\": {\"type\": \"string\", \"description\": \"Economic position, assets, property, financial struggles or abundance with information how wealth/income is obtained (inheritance, labor, trade, crime, patronage, etc.)\"},\n",
    "    \"values\": {\"type\": \"string\", \"description\": \"Core principles, moral compass, priorities (can include both positive and negative values)\"}\n",
    "  }\n",
    "}\n",
    "\n",
    "The JSON object to be checked is between <character> tags below:\n",
    "<character>\n",
    "%s\n",
    "</character>\n",
    "\n",
    "Guidelines:\n",
    "1. Please check if all fields (except `id`) are of text type, if not, then please convert them to text, preserving all the information. For example: if value is an array, please convert it to semicolon separated text containing all array elements.\n",
    "2. If the field doesn't contain any real information, please remove the field altogether. For example, the field value may be: \"Unknown\", \"not specified\", \"null\", \"None mentioned\", empty text, etc.\n",
    "3. Please correct JSON format errors, if any.\n",
    "\n",
    "Return only corrected JSON object as a response, without any additional comments.   \n",
    "''' prompt, 'json_final_check' code) ip ON p.code = ip.code\n",
    "WHEN MATCHED THEN UPDATE SET prompt = ip.prompt\n",
    "WHEN NOT MATCHED THEN INSERT (code, prompt) VALUES(code, prompt);\n"
   ]
  },
  {
   "cell_type": "code",
   "execution_count": 39,
   "id": "660f2453",
   "metadata": {},
   "outputs": [
    {
     "data": {
      "application/vnd.jupyter.widget-view+json": {
       "model_id": "9ffd7495ad134fa78aa3c73be7044816",
       "version_major": 2,
       "version_minor": 0
      },
      "text/plain": [
       "Query is running:   0%|          |"
      ]
     },
     "metadata": {},
     "output_type": "display_data"
    },
    {
     "data": {
      "text/html": [
       "<div>\n",
       "<style scoped>\n",
       "    .dataframe tbody tr th:only-of-type {\n",
       "        vertical-align: middle;\n",
       "    }\n",
       "\n",
       "    .dataframe tbody tr th {\n",
       "        vertical-align: top;\n",
       "    }\n",
       "\n",
       "    .dataframe thead th {\n",
       "        text-align: right;\n",
       "    }\n",
       "</style>\n",
       "<table border=\"1\" class=\"dataframe\">\n",
       "  <thead>\n",
       "    <tr style=\"text-align: right;\">\n",
       "      <th></th>\n",
       "    </tr>\n",
       "  </thead>\n",
       "  <tbody>\n",
       "  </tbody>\n",
       "</table>\n",
       "</div>"
      ],
      "text/plain": [
       "Empty DataFrame\n",
       "Columns: []\n",
       "Index: []"
      ]
     },
     "execution_count": 39,
     "metadata": {},
     "output_type": "execute_result"
    }
   ],
   "source": [
    "%%bigquery\n",
    "MERGE prompts p USING (SELECT\n",
    "'''Your task is to provide given human characters analysis based on given book fragment. (human characters are called later \"Individuals\")\n",
    "The analysis serves academic research on understanding human characteristics across different historical periods, geographical regions, and social statuses.\n",
    "\n",
    "Data format:\n",
    "Data are stored in a JSON array. Each Individual is described in separate JSON object with a flat structure as specified in schema below.\n",
    "{\n",
    "  \"type\": \"array\",\n",
    "  \"items\": {\n",
    "    \"type\": \"object\",\n",
    "    \"properties\": {\n",
    "      \"id\": {\"type\": \"integer\", \"description\": \"A unique identifier of an Individual\"},\n",
    "      \"full_name\": {\"type\": \"string\", \"maxLength\": 300, \"description\": \"Full name including titles, nicknames, aliases, maiden names, or pseudonyms if mentioned, e.g.: 'Victor Frankenstein, M.D.'\"},\n",
    "      \"information\": {\"type\": \"string\", \"maxLength\": 1500, \"description\": \"Additional information describing given Individual\"},\n",
    "      \"sex\": {\"type\": \"string\", \"maxLength\": 100, \"description\": \"'male', 'female' or 'non-binary'\"},\n",
    "      \"social_class\": {\"type\": \"string\", \"maxLength\": 800, \"description\": \"Economic and social standing (e.g., 'nobility', 'working class', 'merchant class')\"},\n",
    "      \"wealth\": {\"type\": \"string\", \"maxLength\": 800, \"description\": \"Economic position, assets, property, financial struggles or abundance with information how wealth/income is obtained (inheritance, labor, trade, crime, patronage, etc.)\"},\n",
    "      \"values\": {\"type\": \"string\", \"maxLength\": 1600, \"description\": \"Core principles, moral compass, priorities (can include both positive and negative values)\"}\n",
    "    }\n",
    "  }\n",
    "}\n",
    "\n",
    "Between <example> tags is the output example is just to show the output structure, the real analysis results will be probably significantly larger and reacher in details.\n",
    "<example>\n",
    "[\n",
    "  {\n",
    "    \"id\": 78,\n",
    "    \"full_name\": \"Victor Frankenstein, M.D.\",\n",
    "    \"sex\": \"male\",\n",
    "    \"social_class\": \"Upper class, Geneva aristocracy\",\n",
    "    \"wealth\": \"Wealthy through family fortune, owns estate in Geneva, sufficient funds for extended travels and education. Wealth obtained thanks family inheritance, father's position as syndic, old Geneva money\",\n",
    "    \"values\": \"Knowledge, scientific progress, family loyalty, later: justice and revenge\"\n",
    "  },\n",
    "  {\n",
    "    \"id\": 3,\n",
    "    \"full_name\": \"James Johnson, known as 'Old Jim the Miller'\",\n",
    "    \"sex\": \"male\",\n",
    "    \"social_class\": \"Middle class tradesman, respected in village\",\n",
    "    \"wealth\": \"Comfortable middle class, owns mill and cottage, savings of approximately 200 pounds. Wealth sources: milling fees, grain trading profits, small loans to farmers at harvest time\",\n",
    "    \"values\": \"Hard work, family legacy, honest trade, community solidarity, tradition\"\n",
    "  }\n",
    "]\n",
    "</example>\n",
    "\n",
    "Between tags <characters> is input JSON array with Individuals to be analysed. Only `id`, `full_name` and `information` fields are prepopulated.\n",
    "<characters>\n",
    "%s\n",
    "</characters>\n",
    "\n",
    "The current book fragment for analysis is provided between <book_fragment> tags.\n",
    "<book_fragment>\n",
    "%s\n",
    "</book_fragment>\n",
    "\n",
    "You main task is to add missing fields in each Individual JSON object based on book fragment analysis.\n",
    "Additional guidelines:\n",
    "1. Fields `full_name` and `information` are already populated and should be used to identify Individuals in given book fragment\n",
    "2. Please do not modify content of the fields `full_name` and `id`.\n",
    "3. Please do not add any new Individuals to the JSON array\n",
    "4. Strictly observe the maximum character count for each field, comparing it with \"maxLength\" size. Summarize if necessary\n",
    "5. Leave fields empty rather than speculating\n",
    "6. Avoid redundancy while maintaining comprehensiveness\n",
    "7. Please remove `information` fields in output array.\n",
    "\n",
    "Return only supplemented JSON array as a response, without any additional comments.   \n",
    "''' prompt, 'extract_data' code) ip ON p.code = ip.code\n",
    "WHEN MATCHED THEN UPDATE SET prompt = ip.prompt\n",
    "WHEN NOT MATCHED THEN INSERT (code, prompt) VALUES(code, prompt);"
   ]
  },
  {
   "cell_type": "code",
   "execution_count": null,
   "id": "d5f572f3",
   "metadata": {},
   "outputs": [
    {
     "data": {
      "application/vnd.jupyter.widget-view+json": {
       "model_id": "52cd06f4443a404792bf9a79b53fa130",
       "version_major": 2,
       "version_minor": 0
      },
      "text/plain": [
       "Query is running:   0%|          |"
      ]
     },
     "metadata": {},
     "output_type": "display_data"
    },
    {
     "data": {
      "text/html": [
       "<div>\n",
       "<style scoped>\n",
       "    .dataframe tbody tr th:only-of-type {\n",
       "        vertical-align: middle;\n",
       "    }\n",
       "\n",
       "    .dataframe tbody tr th {\n",
       "        vertical-align: top;\n",
       "    }\n",
       "\n",
       "    .dataframe thead th {\n",
       "        text-align: right;\n",
       "    }\n",
       "</style>\n",
       "<table border=\"1\" class=\"dataframe\">\n",
       "  <thead>\n",
       "    <tr style=\"text-align: right;\">\n",
       "      <th></th>\n",
       "    </tr>\n",
       "  </thead>\n",
       "  <tbody>\n",
       "  </tbody>\n",
       "</table>\n",
       "</div>"
      ],
      "text/plain": [
       "Empty DataFrame\n",
       "Columns: []\n",
       "Index: []"
      ]
     },
     "execution_count": 32,
     "metadata": {},
     "output_type": "execute_result"
    }
   ],
   "source": [
    "%%bigquery\n",
    "MERGE prompts p USING (SELECT   \n",
    "'''Your task is to merge human character analyses based on a book, preserving source information, while avoiding redundancy.\n",
    "\n",
    "The input data is an array of JSON objects each representing the same character but based on different fragment of the same book.\n",
    "The order of JSON objects is the same as order of fragments in the book.\n",
    "Please see input data schema definition:\n",
    "{\n",
    "  \"type\": \"array\",\n",
    "  \"items\": {\n",
    "    \"type\": \"object\",\n",
    "    \"properties\": {\n",
    "      \"id\": {\"type\": \"integer\", \"description\": \"A unique identifier of an Individual. Can be ignored.\"},\n",
    "      \"full_name\": {\"type\": \"string\", \"maxLength\": 300, \"description\": \"Full name including titles, nicknames, aliases, maiden names, or pseudonyms if mentioned, e.g.: 'Victor Frankenstein, M.D.'\"},\n",
    "      \"sex\": {\"type\": \"string\", \"maxLength\": 100, \"description\": \"'male', 'female' or 'non-binary'\"},\n",
    "      \"social_class\": {\"type\": \"string\", \"maxLength\": 800, \"description\": \"Economic and social standing (e.g., 'nobility', 'working class', 'merchant class')\"},\n",
    "      \"wealth\": {\"type\": \"string\", \"maxLength\": 800, \"description\": \"Economic position, assets, property, financial struggles or abundance with information how wealth/income is obtained (inheritance, labor, trade, crime, patronage, etc.)\"},\n",
    "      \"values\": {\"type\": \"string\", \"maxLength\": 1600, \"description\": \"Core principles, moral compass, priorities (can include both positive and negative values)\"}\n",
    "    }\n",
    "  }\n",
    "}\n",
    "\n",
    "Between <character> tags is input JSON array with character data to be merged.\n",
    "<character>\n",
    "%s\n",
    "</character>\n",
    "\n",
    "As a supplementary information you can use:\n",
    "- the summary of the whole book. It is placed between <summary> tags.\n",
    "- the short overall information about given character. It is placed between <information> tags.\n",
    "<summary>\n",
    "%s\n",
    "</summary>\n",
    "\n",
    "<information>\n",
    "%s\n",
    "</information>\n",
    "\n",
    "\n",
    "Important Guidelines for merging data:\n",
    "\n",
    "1. The result should be just one single JSON object (not array) containing summarized information from all JSON objects in the array.\n",
    "2. For each field please prepare a comprehensive summary of source fields, preserving the informations from each object, but avoiding redundancy.\n",
    "3. The format of result JSON object should be the same as the format on JSON objects in the array.\n",
    "4. Leave fields empty if they are empty in each JSON object, rather than speculating.\n",
    "\n",
    "After preparing the JSON object, please again check each field against redundancy. Summarize it again if necessary to reduce redundant information.\n",
    "\n",
    "Return only merged JSON object as a response, without any additional comments.   \n",
    "''' prompt, 'merge_character' code) ip ON p.code = ip.code\n",
    "WHEN MATCHED THEN UPDATE SET prompt = ip.prompt\n",
    "WHEN NOT MATCHED THEN INSERT (code, prompt) VALUES(code, prompt);"
   ]
  },
  {
   "cell_type": "code",
   "execution_count": 33,
   "id": "02c4b3f1",
   "metadata": {},
   "outputs": [
    {
     "data": {
      "application/vnd.jupyter.widget-view+json": {
       "model_id": "c05c68a198364031af104a407465871b",
       "version_major": 2,
       "version_minor": 0
      },
      "text/plain": [
       "Query is running:   0%|          |"
      ]
     },
     "metadata": {},
     "output_type": "display_data"
    },
    {
     "data": {
      "text/html": [
       "<div>\n",
       "<style scoped>\n",
       "    .dataframe tbody tr th:only-of-type {\n",
       "        vertical-align: middle;\n",
       "    }\n",
       "\n",
       "    .dataframe tbody tr th {\n",
       "        vertical-align: top;\n",
       "    }\n",
       "\n",
       "    .dataframe thead th {\n",
       "        text-align: right;\n",
       "    }\n",
       "</style>\n",
       "<table border=\"1\" class=\"dataframe\">\n",
       "  <thead>\n",
       "    <tr style=\"text-align: right;\">\n",
       "      <th></th>\n",
       "    </tr>\n",
       "  </thead>\n",
       "  <tbody>\n",
       "  </tbody>\n",
       "</table>\n",
       "</div>"
      ],
      "text/plain": [
       "Empty DataFrame\n",
       "Columns: []\n",
       "Index: []"
      ]
     },
     "execution_count": 33,
     "metadata": {},
     "output_type": "execute_result"
    }
   ],
   "source": [
    "%%bigquery\n",
    "MERGE prompts p USING (SELECT   \n",
    "'''You are the assistant analysing book data.\n",
    "Your task is to predict if given book contains meaningful human characters information, no matter if fictitious or real.\n",
    "You need to do the prediction based on first fragment of the book, its title and metadata containing themes from the book.\n",
    "\n",
    "The task is part of the project aimed at understanding human characteristics across different historical periods, geographical regions, and social statuses, based on human descriptions from books (both fictional and real).\n",
    "Many books, like scientific ones, financial reports, etc., do not contain human characters at all or only vaguely mentions humans. We need to exclude such books from further analysis.\n",
    "We are interested in book containing rich descriptions of individual humans. For example: it can be biographies, all kind of novels with lively human characters, investigative journalism or reporting focused on humans, and others.\n",
    "\n",
    "The book data is provided below between <book> tags, in a JSON format.\n",
    "note: the book was scanned and may contain many optical character recognition (OCR) errors.\n",
    "<book>\n",
    "%s\n",
    "</book>\n",
    "\n",
    "As an answer please return number from 1 to 3 where:\n",
    "  - \"1\" means: the book is not about humans\n",
    "  - \"2\" means: human characters occur in book, but scarcely described.\n",
    "  - \"3\" means: human characters occur and are depicted in details\n",
    "\n",
    "Please return just a number without additional comments.\n",
    "''' prompt, 'rank_books' code) ip ON p.code = ip.code\n",
    "WHEN MATCHED THEN UPDATE SET prompt = ip.prompt\n",
    "WHEN NOT MATCHED THEN INSERT (code, prompt) VALUES(code, prompt);"
   ]
  },
  {
   "cell_type": "code",
   "execution_count": 34,
   "id": "099a3f8a",
   "metadata": {},
   "outputs": [
    {
     "data": {
      "application/vnd.jupyter.widget-view+json": {
       "model_id": "e6f378ab89274fe1b66fd45956269ff7",
       "version_major": 2,
       "version_minor": 0
      },
      "text/plain": [
       "Query is running:   0%|          |"
      ]
     },
     "metadata": {},
     "output_type": "display_data"
    },
    {
     "data": {
      "text/html": [
       "<div>\n",
       "<style scoped>\n",
       "    .dataframe tbody tr th:only-of-type {\n",
       "        vertical-align: middle;\n",
       "    }\n",
       "\n",
       "    .dataframe tbody tr th {\n",
       "        vertical-align: top;\n",
       "    }\n",
       "\n",
       "    .dataframe thead th {\n",
       "        text-align: right;\n",
       "    }\n",
       "</style>\n",
       "<table border=\"1\" class=\"dataframe\">\n",
       "  <thead>\n",
       "    <tr style=\"text-align: right;\">\n",
       "      <th></th>\n",
       "    </tr>\n",
       "  </thead>\n",
       "  <tbody>\n",
       "  </tbody>\n",
       "</table>\n",
       "</div>"
      ],
      "text/plain": [
       "Empty DataFrame\n",
       "Columns: []\n",
       "Index: []"
      ]
     },
     "execution_count": 34,
     "metadata": {},
     "output_type": "execute_result"
    }
   ],
   "source": [
    "%%bigquery\n",
    "MERGE prompts p USING (SELECT\n",
    "'''You are an expert in splitting information based on semantic meaning.\n",
    "\n",
    "Your task is to divide the given text into semantically distinct informations.\n",
    "\n",
    "The text describes human characters %s.\n",
    "\n",
    "Rules:\n",
    "1. Split ONLY if the text contains semantically different parts\n",
    "2. If the text describes a single coherent information, return it as one item\n",
    "3. Preserve context - don't split related concepts that belong together\n",
    "4. Remove redundant words but keep meaning intact\n",
    "\n",
    "Examples for three different types of traits; values, social class and wealth:\n",
    "- Input: \"Kingdom's strength, victory, leadership; Righteousness, religious observance, victory through God's help.\"\n",
    "- Output: [\"Kingdom's strength\", \"victory and leadership\", \"righteousness and religious observance\", \"God's help\"]\n",
    "\n",
    "- Input: \"Lieutenant, Officer in Kmita's company. Son of the Kokosinski family who use the seal of Pypka. Former outlaw.\"  \n",
    "- Output: [\"Lieutenant, Officer\", \"Former outlaw\", \"Probably belongs to wealty family\"]\n",
    "\n",
    "- Input: \"Described as a poor exile without a roof over his head, implying no significant wealth. Also noted as being part of Kmita's company and having implied noble standing.\"\n",
    "- Output: [\"poor, no significant wealth\", \"homeless\"]\n",
    "\n",
    "Provide the output as a JSON array of strings. The schema definition is below:\n",
    "{\"type\": \"array\", \"items\": {\"type\": \"string\"}}\n",
    "\n",
    "The text for analysis is provided between <traits> tags below:\n",
    "<traits>\n",
    "%s\n",
    "</traits>\n",
    "\n",
    "As a suplementary information you can use character description provided between <information> tags below:\n",
    "<information>\n",
    "%s\n",
    "</information>\n",
    "\n",
    "Esure that the JSON array is correctly formatted.\n",
    "Return only JSON array as a response, without any additional comments.\n",
    "''' prompt, 'split_traits' code) ip ON p.code = ip.code\n",
    "WHEN MATCHED THEN UPDATE SET prompt = ip.prompt\n",
    "WHEN NOT MATCHED THEN INSERT (code, prompt) VALUES(code, prompt);"
   ]
  },
  {
   "cell_type": "code",
   "execution_count": 35,
   "id": "e890eae8",
   "metadata": {},
   "outputs": [
    {
     "data": {
      "application/vnd.jupyter.widget-view+json": {
       "model_id": "24ecd1759c0741afa306ff28e0f744ae",
       "version_major": 2,
       "version_minor": 0
      },
      "text/plain": [
       "Query is running:   0%|          |"
      ]
     },
     "metadata": {},
     "output_type": "display_data"
    },
    {
     "data": {
      "text/html": [
       "<div>\n",
       "<style scoped>\n",
       "    .dataframe tbody tr th:only-of-type {\n",
       "        vertical-align: middle;\n",
       "    }\n",
       "\n",
       "    .dataframe tbody tr th {\n",
       "        vertical-align: top;\n",
       "    }\n",
       "\n",
       "    .dataframe thead th {\n",
       "        text-align: right;\n",
       "    }\n",
       "</style>\n",
       "<table border=\"1\" class=\"dataframe\">\n",
       "  <thead>\n",
       "    <tr style=\"text-align: right;\">\n",
       "      <th></th>\n",
       "    </tr>\n",
       "  </thead>\n",
       "  <tbody>\n",
       "  </tbody>\n",
       "</table>\n",
       "</div>"
      ],
      "text/plain": [
       "Empty DataFrame\n",
       "Columns: []\n",
       "Index: []"
      ]
     },
     "execution_count": 35,
     "metadata": {},
     "output_type": "execute_result"
    }
   ],
   "source": [
    "%%bigquery\n",
    "MERGE prompts p USING (SELECT\n",
    "'''You are an expert in text clusters classification.\n",
    "Your task is to name and describe each cluster extracted from large amount of examples describing human characters %s.\n",
    "\n",
    "As an input you have a JSON array containing cluster id (field `cluster_id`) and examples of traits fitting into this cluster (field: `examples`).\n",
    "The input is between <clusters> tag.\n",
    "<clusters>\n",
    "%s\n",
    "</clusters>\n",
    "\n",
    "For each cluster please: \n",
    "  - invent a short name, using one or few words, describing it most adequately\n",
    "  - provide, a one or few sentences long, adequate description\n",
    "Please output the result as a JSON array with following schema:\n",
    "{\n",
    "  \"type\": \"array\",\n",
    "  \"items\": {\n",
    "    \"type\": \"object\",\n",
    "    \"properties\": {\n",
    "      \"cluster_id\": {\"type\": \"integer\"},\n",
    "      \"cluster_name\": {\"type\": \"string\", \"maxLength\": 50}\n",
    "      \"cluster_description\": {\"type\": \"string\", \"maxLength\": 1000}\n",
    "    }\n",
    "  }\n",
    "}\n",
    "\n",
    "Ensure that the JSON array is correctly formatted.\n",
    "Return only JSON array as a response, without any additional comments.\n",
    "''' prompt, 'cluster_traits' code) ip ON p.code = ip.code\n",
    "WHEN MATCHED THEN UPDATE SET prompt = ip.prompt\n",
    "WHEN NOT MATCHED THEN INSERT (code, prompt) VALUES(code, prompt);"
   ]
  }
 ],
 "metadata": {
  "kernelspec": {
   "display_name": "book_crawler",
   "language": "python",
   "name": "python3"
  },
  "language_info": {
   "codemirror_mode": {
    "name": "ipython",
    "version": 3
   },
   "file_extension": ".py",
   "mimetype": "text/x-python",
   "name": "python",
   "nbconvert_exporter": "python",
   "pygments_lexer": "ipython3",
   "version": "3.13.3"
  }
 },
 "nbformat": 4,
 "nbformat_minor": 5
}
