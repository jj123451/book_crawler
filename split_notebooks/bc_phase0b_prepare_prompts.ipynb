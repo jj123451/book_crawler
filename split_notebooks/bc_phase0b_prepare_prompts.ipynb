{
 "cells": [
  {
   "cell_type": "code",
   "execution_count": 19,
   "id": "39dcb6db",
   "metadata": {},
   "outputs": [
    {
     "name": "stdout",
     "output_type": "stream",
     "text": [
      "Couldn't find program: 'false'\n"
     ]
    }
   ],
   "source": [
    "%%script false --no-raise-error\n",
    "import json\n",
    "from google.colab import userdata\n",
    "from google.oauth2 import service_account\n",
    "from google.cloud.bigquery import magics\n",
    "\n",
    "credentials_json = userdata.get('BIGQUERY_CREDENTIALS')\n",
    "credentials = service_account.Credentials.from_service_account_info(json.loads(credentials_json))\n",
    "magics.context.credentials = credentials"
   ]
  },
  {
   "cell_type": "code",
   "execution_count": 36,
   "id": "bc730c95",
   "metadata": {},
   "outputs": [
    {
     "name": "stdout",
     "output_type": "stream",
     "text": [
      "The bigquery_magics extension is already loaded. To reload it, use:\n",
      "  %reload_ext bigquery_magics\n"
     ]
    }
   ],
   "source": [
    "from google.cloud import bigquery\n",
    "from google.cloud.bigquery import magics\n",
    "%load_ext bigquery_magics\n",
    "\n",
    "data_set = \"testing_set\"\n",
    "project_name = \"emerald-entity-468916-f9\"\n",
    "\n",
    "job_config = bigquery.QueryJobConfig(default_dataset = f\"{project_name}.{data_set}\")\n",
    "client = bigquery.Client(project = project_name, default_query_job_config = job_config, credentials = globals().get('credentials', None))\n",
    "magics.context.default_query_job_config = job_config\n",
    "magics.context.project = project_name"
   ]
  },
  {
   "cell_type": "markdown",
   "id": "6f61d683",
   "metadata": {},
   "source": [
    "### Inference prompts"
   ]
  },
  {
   "cell_type": "markdown",
   "id": "b468ea27",
   "metadata": {},
   "source": [
    "**Simple json format correction prompt**"
   ]
  },
  {
   "cell_type": "code",
   "execution_count": null,
   "id": "2c4f2b3a",
   "metadata": {},
   "outputs": [
    {
     "data": {
      "application/vnd.jupyter.widget-view+json": {
       "model_id": "f10a7aaac58f47f9866975acee8f0eaf",
       "version_major": 2,
       "version_minor": 0
      },
      "text/plain": [
       "Query is running:   0%|          |"
      ]
     },
     "metadata": {},
     "output_type": "display_data"
    },
    {
     "data": {
      "text/html": [
       "<div>\n",
       "<style scoped>\n",
       "    .dataframe tbody tr th:only-of-type {\n",
       "        vertical-align: middle;\n",
       "    }\n",
       "\n",
       "    .dataframe tbody tr th {\n",
       "        vertical-align: top;\n",
       "    }\n",
       "\n",
       "    .dataframe thead th {\n",
       "        text-align: right;\n",
       "    }\n",
       "</style>\n",
       "<table border=\"1\" class=\"dataframe\">\n",
       "  <thead>\n",
       "    <tr style=\"text-align: right;\">\n",
       "      <th></th>\n",
       "    </tr>\n",
       "  </thead>\n",
       "  <tbody>\n",
       "  </tbody>\n",
       "</table>\n",
       "</div>"
      ],
      "text/plain": [
       "Empty DataFrame\n",
       "Columns: []\n",
       "Index: []"
      ]
     },
     "metadata": {},
     "output_type": "display_data"
    }
   ],
   "source": [
    "%%bigquery\n",
    "MERGE prompts p USING (SELECT   \n",
    "'''You are an expert in summarizing books.\n",
    "Your goal is to summarize a book fragment. Summary should contain no more then %d characters.\n",
    "\n",
    "The fragment is provided between <book_fragment> tags below:\n",
    "<book_fragment>\n",
    "%s\n",
    "</book_fragment>\n",
    "\n",
    "Return just a summary wihout any additional comments.\n",
    "''' prompt, 'summarize' code) ip ON p.code = ip.code\n",
    "WHEN MATCHED THEN UPDATE SET prompt = ip.prompt\n",
    "WHEN NOT MATCHED THEN INSERT (code, prompt) VALUES(code, prompt);"
   ]
  },
  {
   "cell_type": "markdown",
   "id": "9e865d05",
   "metadata": {},
   "source": [
    "**Whole book summarization**"
   ]
  },
  {
   "cell_type": "code",
   "execution_count": null,
   "id": "c3468f5b",
   "metadata": {},
   "outputs": [
    {
     "data": {
      "application/vnd.jupyter.widget-view+json": {
       "model_id": "1a02762d3aaa4507a9b4bfdbf7bb0769",
       "version_major": 2,
       "version_minor": 0
      },
      "text/plain": [
       "Query is running:   0%|          |"
      ]
     },
     "metadata": {},
     "output_type": "display_data"
    },
    {
     "data": {
      "text/html": [
       "<div>\n",
       "<style scoped>\n",
       "    .dataframe tbody tr th:only-of-type {\n",
       "        vertical-align: middle;\n",
       "    }\n",
       "\n",
       "    .dataframe tbody tr th {\n",
       "        vertical-align: top;\n",
       "    }\n",
       "\n",
       "    .dataframe thead th {\n",
       "        text-align: right;\n",
       "    }\n",
       "</style>\n",
       "<table border=\"1\" class=\"dataframe\">\n",
       "  <thead>\n",
       "    <tr style=\"text-align: right;\">\n",
       "      <th></th>\n",
       "    </tr>\n",
       "  </thead>\n",
       "  <tbody>\n",
       "  </tbody>\n",
       "</table>\n",
       "</div>"
      ],
      "text/plain": [
       "Empty DataFrame\n",
       "Columns: []\n",
       "Index: []"
      ]
     },
     "metadata": {},
     "output_type": "display_data"
    }
   ],
   "source": [
    "%%bigquery\n",
    "MERGE prompts p USING (SELECT\n",
    "'''You are an expert in summarizing books.\n",
    "Your goal is to prepare book summary based on summaries of all book fragments.\n",
    "The result summary should contain around 20000 characters.\n",
    "Avoid redundancy while maintaining comprehensiveness when summarizing.\n",
    "\n",
    "Concatenated summaries of all book fragments are placed below, between <fragment_summaries> tags:\n",
    "<fragment_summaries>\n",
    "%s\n",
    "</fragment_summaries>\n",
    "\n",
    "Return just a summary without any additional comments.\n",
    "''' prompt, 'reduce_summary' code) ip ON p.code = ip.code\n",
    "WHEN MATCHED THEN UPDATE SET prompt = ip.prompt\n",
    "WHEN NOT MATCHED THEN INSERT (code, prompt) VALUES(code, prompt);"
   ]
  },
  {
   "cell_type": "markdown",
   "id": "430f2943",
   "metadata": {},
   "source": [
    "**Extracting characters identifying information from given book fragment**"
   ]
  },
  {
   "cell_type": "code",
   "execution_count": null,
   "id": "f4076945",
   "metadata": {},
   "outputs": [
    {
     "data": {
      "application/vnd.jupyter.widget-view+json": {
       "model_id": "5e5bba11eadd456ead9af92b8265c949",
       "version_major": 2,
       "version_minor": 0
      },
      "text/plain": [
       "Query is running:   0%|          |"
      ]
     },
     "metadata": {},
     "output_type": "display_data"
    },
    {
     "data": {
      "text/html": [
       "<div>\n",
       "<style scoped>\n",
       "    .dataframe tbody tr th:only-of-type {\n",
       "        vertical-align: middle;\n",
       "    }\n",
       "\n",
       "    .dataframe tbody tr th {\n",
       "        vertical-align: top;\n",
       "    }\n",
       "\n",
       "    .dataframe thead th {\n",
       "        text-align: right;\n",
       "    }\n",
       "</style>\n",
       "<table border=\"1\" class=\"dataframe\">\n",
       "  <thead>\n",
       "    <tr style=\"text-align: right;\">\n",
       "      <th></th>\n",
       "    </tr>\n",
       "  </thead>\n",
       "  <tbody>\n",
       "  </tbody>\n",
       "</table>\n",
       "</div>"
      ],
      "text/plain": [
       "Empty DataFrame\n",
       "Columns: []\n",
       "Index: []"
      ]
     },
     "metadata": {},
     "output_type": "display_data"
    }
   ],
   "source": [
    "%%bigquery\n",
    "MERGE prompts p USING (SELECT\n",
    "'''You are an expert in extracting information from books and manipulating JSON structures.\n",
    "Your task is to provide identifying information of significant human characters (called later Individuals) from given book fragment.\n",
    "\n",
    "Provide the output as a JSON array, single Individual should be described in separate JSON object in the array.\n",
    "The schema definition is below.\n",
    "{\n",
    "  \"type\": \"array\",\n",
    "  \"items\": {\n",
    "    \"type\": \"object\",\n",
    "    \"properties\": {\n",
    "      \"full_name\": {\"type\": \"string\", \"maxLength\": 300, \"description\": \"Full name including titles, nicknames, aliases, maiden names, or pseudonyms if mentioned. Include all names if Individual has many names.\"},\n",
    "\t    \"information\": {\"type\": \"string\", \"maxLength\": 1500, \"description\": \"Any information that may help uniquely identify given Individual, e.g. sex, age, origin, physical appearance, distinguishing marks or features and other helpful information\"},\n",
    "\t    \"importance\": {\"type\": \"integer\", \"description\": \"Number of sentences being related in any way to given Individual in the text\"},\n",
    "    }\n",
    "  }\n",
    "}\n",
    "\n",
    "The book fragment for Individuals analysis is provided between <book_fragment> tags.\n",
    "<book_fragment>\n",
    "%s\n",
    "</book_fragment>\n",
    "\n",
    "Important Guidelines for choosing Individuals to be included in the JSON array:\n",
    "1. Omit unnamed crowd members or minor Individuals mentioned only in passing.\n",
    "2. Add only Individuals who play meaningful roles or are described in details in given book fragment. \n",
    "\n",
    "Other important Guidelines:\n",
    "1. Do not duplicate JSON objects for the same Individual.\n",
    "2. Strictly respect the maximum character limits for each field, especially max 1500 characters for `information`. Summarize to reduce size, if necessary.\n",
    "\n",
    "Before returning, fix all format errors in JSON array, if any.\n",
    "Return only corrected JSON array as a response, without any additional comments.   \n",
    "''' prompt, 'characters_id_data' code) ip ON p.code = ip.code\n",
    "WHEN MATCHED THEN UPDATE SET prompt = ip.prompt\n",
    "WHEN NOT MATCHED THEN INSERT (code, prompt) VALUES(code, prompt);"
   ]
  },
  {
   "cell_type": "markdown",
   "id": "abc4fbc6",
   "metadata": {},
   "source": [
    "**Identifying the same characters in duplicate candidates pairs**"
   ]
  },
  {
   "cell_type": "code",
   "execution_count": null,
   "id": "eae82726",
   "metadata": {},
   "outputs": [
    {
     "data": {
      "application/vnd.jupyter.widget-view+json": {
       "model_id": "598836ba55a24c8aa0ba230ff26aa954",
       "version_major": 2,
       "version_minor": 0
      },
      "text/plain": [
       "Query is running:   0%|          |"
      ]
     },
     "metadata": {},
     "output_type": "display_data"
    },
    {
     "data": {
      "text/html": [
       "<div>\n",
       "<style scoped>\n",
       "    .dataframe tbody tr th:only-of-type {\n",
       "        vertical-align: middle;\n",
       "    }\n",
       "\n",
       "    .dataframe tbody tr th {\n",
       "        vertical-align: top;\n",
       "    }\n",
       "\n",
       "    .dataframe thead th {\n",
       "        text-align: right;\n",
       "    }\n",
       "</style>\n",
       "<table border=\"1\" class=\"dataframe\">\n",
       "  <thead>\n",
       "    <tr style=\"text-align: right;\">\n",
       "      <th></th>\n",
       "    </tr>\n",
       "  </thead>\n",
       "  <tbody>\n",
       "  </tbody>\n",
       "</table>\n",
       "</div>"
      ],
      "text/plain": [
       "Empty DataFrame\n",
       "Columns: []\n",
       "Index: []"
      ]
     },
     "metadata": {},
     "output_type": "display_data"
    }
   ],
   "source": [
    "%%bigquery\n",
    "MERGE prompts p USING (SELECT   \n",
    "'''You are an expert in comparing human characters (called later \"Individuals\") based on descriptions from different fragments of the same book.\n",
    "Your task is to analyse each pair of Individuals information and names, and provide judgement whether both Individuals are in fact the same person, or not.\n",
    "\n",
    "The input data are provided as a JSON array. Each Individuals pair is described in separate JSON object with a flat structure.\n",
    "The input schema definition is below.\n",
    "{\n",
    "  \"type\": \"array\",\n",
    "  \"items\": {\n",
    "    \"type\": \"object\",\n",
    "    \"properties\": {\n",
    "\t\"id\": {\"type\": \"integer\", \"description\": \"A unique identifier of a pair\"},\n",
    "\t\t\"first_individual_full_name\": {\"type\": \"string\", \"description\": \"Full name of the first Individual\"},\n",
    "\t\t\"first_individual_information\": {\"type\": \"string\", \"description\": \"Additional information describing first Individual\"},\n",
    "\t\t\"second_individual_full_name\": {\"type\": \"string\", \"description\": \"Full name of the second Individual\"},\n",
    "\t\t\"second_individual_information\": {\"type\": \"string\", \"description\": \"Additional information describing second Individual\"}\n",
    "    }\n",
    "  }\n",
    "}\n",
    "\n",
    "The input data for analysis is provided between <individual_pairs> tags.\n",
    "<individual_pairs>\n",
    "%s\n",
    "</individual_pairs>\n",
    "\n",
    "As a supplementary information you can use the summary of the whole book. It is placed between <summary> tags.\n",
    "<summary>\n",
    "%s\n",
    "</summary>\n",
    "\n",
    "As the result please return JSON array containing only pairs where first and second Individual are in fact the same person. If unsure, assume they are different persons and do not return.\n",
    "If there are no pairs containing the same Individual, then return empty array.\n",
    "Return only JSON array, without any additional comments.   \n",
    "''' prompt, 'find_the_same_characters' code) ip ON p.code = ip.code\n",
    "WHEN MATCHED THEN UPDATE SET prompt = ip.prompt\n",
    "WHEN NOT MATCHED THEN INSERT (code, prompt) VALUES(code, prompt);"
   ]
  },
  {
   "cell_type": "markdown",
   "id": "fae7b7a2",
   "metadata": {},
   "source": [
    "**Identifying different characters in duplicate candidates pairs - double check of previous prompt result**"
   ]
  },
  {
   "cell_type": "code",
   "execution_count": null,
   "id": "640940d4",
   "metadata": {},
   "outputs": [
    {
     "data": {
      "application/vnd.jupyter.widget-view+json": {
       "model_id": "06c01f02651c455294199200150eb255",
       "version_major": 2,
       "version_minor": 0
      },
      "text/plain": [
       "Query is running:   0%|          |"
      ]
     },
     "metadata": {},
     "output_type": "display_data"
    },
    {
     "data": {
      "text/html": [
       "<div>\n",
       "<style scoped>\n",
       "    .dataframe tbody tr th:only-of-type {\n",
       "        vertical-align: middle;\n",
       "    }\n",
       "\n",
       "    .dataframe tbody tr th {\n",
       "        vertical-align: top;\n",
       "    }\n",
       "\n",
       "    .dataframe thead th {\n",
       "        text-align: right;\n",
       "    }\n",
       "</style>\n",
       "<table border=\"1\" class=\"dataframe\">\n",
       "  <thead>\n",
       "    <tr style=\"text-align: right;\">\n",
       "      <th></th>\n",
       "    </tr>\n",
       "  </thead>\n",
       "  <tbody>\n",
       "  </tbody>\n",
       "</table>\n",
       "</div>"
      ],
      "text/plain": [
       "Empty DataFrame\n",
       "Columns: []\n",
       "Index: []"
      ]
     },
     "metadata": {},
     "output_type": "display_data"
    }
   ],
   "source": [
    "%%bigquery\n",
    "MERGE prompts p USING (SELECT   \n",
    "'''You are an expert in comparing human characters (called later \"Individuals\") based on descriptions from different fragments of the same book.\n",
    "Your task is to analyse each pair of Individuals information and names, and provide judgement whether both Individuals are in fact the same person, or not.\n",
    "\n",
    "The input data are provided as a JSON array. Each Individuals pair is described in separate JSON object with a flat structure.\n",
    "The input schema definition is below.\n",
    "{\n",
    "  \"type\": \"array\",\n",
    "  \"items\": {\n",
    "    \"type\": \"object\",\n",
    "    \"properties\": {\n",
    "\t\"id\": {\"type\": \"integer\", \"description\": \"A unique identifier of a pair\"},\n",
    "\t\t\"first_individual_full_name\": {\"type\": \"string\", \"description\": \"Full name of the first Individual\"},\n",
    "\t\t\"first_individual_information\": {\"type\": \"string\", \"description\": \"Additional information describing first Individual\"},\n",
    "\t\t\"second_individual_full_name\": {\"type\": \"string\", \"description\": \"Full name of the second Individual\"},\n",
    "\t\t\"second_individual_information\": {\"type\": \"string\", \"description\": \"Additional information describing second Individual\"}\n",
    "    }\n",
    "  }\n",
    "}\n",
    "\n",
    "The input data for analysis is provided between <individual_pairs> tags.\n",
    "<individual_pairs>\n",
    "%s\n",
    "</individual_pairs>\n",
    "\n",
    "As a supplementary information you can use the summary of the whole book. It is placed between <summary> tags.\n",
    "<summary>\n",
    "%s\n",
    "</summary>\n",
    "\n",
    "As the result please return JSON array containing only pairs where first and second Individual are different persons. If unsure, assume they are different.\n",
    "Before returning, check and fix all format errors in JSON array, if any.\n",
    "Return only JSON array, without any additional comments.   \n",
    "''' prompt, 'find_different_characters' code) ip ON p.code = ip.code\n",
    "WHEN MATCHED THEN UPDATE SET prompt = ip.prompt\n",
    "WHEN NOT MATCHED THEN INSERT (code, prompt) VALUES(code, prompt);"
   ]
  },
  {
   "cell_type": "markdown",
   "id": "10f451fd",
   "metadata": {},
   "source": [
    "**Another check of ready to merge array with identifying information of (most probably) the same character**"
   ]
  },
  {
   "cell_type": "code",
   "execution_count": null,
   "id": "f0d600e8",
   "metadata": {},
   "outputs": [
    {
     "data": {
      "application/vnd.jupyter.widget-view+json": {
       "model_id": "05c8aa9f3ed64243a3f8718fe99d9e5a",
       "version_major": 2,
       "version_minor": 0
      },
      "text/plain": [
       "Query is running:   0%|          |"
      ]
     },
     "metadata": {},
     "output_type": "display_data"
    },
    {
     "data": {
      "text/html": [
       "<div>\n",
       "<style scoped>\n",
       "    .dataframe tbody tr th:only-of-type {\n",
       "        vertical-align: middle;\n",
       "    }\n",
       "\n",
       "    .dataframe tbody tr th {\n",
       "        vertical-align: top;\n",
       "    }\n",
       "\n",
       "    .dataframe thead th {\n",
       "        text-align: right;\n",
       "    }\n",
       "</style>\n",
       "<table border=\"1\" class=\"dataframe\">\n",
       "  <thead>\n",
       "    <tr style=\"text-align: right;\">\n",
       "      <th></th>\n",
       "    </tr>\n",
       "  </thead>\n",
       "  <tbody>\n",
       "  </tbody>\n",
       "</table>\n",
       "</div>"
      ],
      "text/plain": [
       "Empty DataFrame\n",
       "Columns: []\n",
       "Index: []"
      ]
     },
     "metadata": {},
     "output_type": "display_data"
    }
   ],
   "source": [
    "%%bigquery\n",
    "MERGE prompts p USING (SELECT\n",
    "'''You are an expert in comparing human characters (called later \"Individuals\") based on descriptions from different fragments of the same book.\n",
    "As an input data to analysis you have an array of JSON objects representing Individuals. Previous analysis indicated that each Individual in the array is in fact the same person.\n",
    "Your task is to analyse all JSON objects in the array and double check if all the objects indeed represent the same person.\n",
    "\n",
    "Please see input JSON array schema definition:\n",
    "{\n",
    "  \"type\": \"array\",\n",
    "  \"items\": {\n",
    "    \"type\": \"object\",\n",
    "    \"properties\": {\n",
    "      \"full_name\": {\"type\": \"string\", \"description\": \"Full name including titles, nicknames, aliases, maiden names, or pseudonyms if mentioned. Include all names if Individual has many names.\"},\n",
    "\t    \"information\": {\"type\": \"string\", \"description\": \"Any information that may help uniquely identify given Individual, e.g. sex, age, origin, physical appearance, distinguishing marks or features and other helpful information\"}\n",
    "    }\n",
    "  }\n",
    "}\n",
    "\n",
    "JSON array with Individuals suspected to be the same person is below, between <character> tags:\n",
    "<character>\n",
    "%s\n",
    "</character>\n",
    "\n",
    "As a supplementary information you can use the summary of the whole book. It is placed between <summary> tags below.\n",
    "<summary>\n",
    "%s\n",
    "</summary>\n",
    "\n",
    "Please return \"true\" if you think that all Individuals indeed represent the same person, return \"false\" otherwise. If in doubt return \"false\"\n",
    "Return only one word as a response, without any additional comments.   \n",
    "''' prompt, 'merge_character_ids_double_check' code) ip ON p.code = ip.code\n",
    "WHEN MATCHED THEN UPDATE SET prompt = ip.prompt\n",
    "WHEN NOT MATCHED THEN INSERT (code, prompt) VALUES(code, prompt);"
   ]
  },
  {
   "cell_type": "markdown",
   "id": "5736c830",
   "metadata": {},
   "source": [
    "**Merging array with identifying information of the same character to single character data**"
   ]
  },
  {
   "cell_type": "code",
   "execution_count": null,
   "id": "ef9ff23a",
   "metadata": {},
   "outputs": [
    {
     "data": {
      "application/vnd.jupyter.widget-view+json": {
       "model_id": "8b3e02a698954c639aa25395466bc25d",
       "version_major": 2,
       "version_minor": 0
      },
      "text/plain": [
       "Query is running:   0%|          |"
      ]
     },
     "metadata": {},
     "output_type": "display_data"
    },
    {
     "data": {
      "text/html": [
       "<div>\n",
       "<style scoped>\n",
       "    .dataframe tbody tr th:only-of-type {\n",
       "        vertical-align: middle;\n",
       "    }\n",
       "\n",
       "    .dataframe tbody tr th {\n",
       "        vertical-align: top;\n",
       "    }\n",
       "\n",
       "    .dataframe thead th {\n",
       "        text-align: right;\n",
       "    }\n",
       "</style>\n",
       "<table border=\"1\" class=\"dataframe\">\n",
       "  <thead>\n",
       "    <tr style=\"text-align: right;\">\n",
       "      <th></th>\n",
       "    </tr>\n",
       "  </thead>\n",
       "  <tbody>\n",
       "  </tbody>\n",
       "</table>\n",
       "</div>"
      ],
      "text/plain": [
       "Empty DataFrame\n",
       "Columns: []\n",
       "Index: []"
      ]
     },
     "metadata": {},
     "output_type": "display_data"
    }
   ],
   "source": [
    "%%bigquery\n",
    "MERGE prompts p USING (SELECT\n",
    "'''You are an expert in merging human characters names and descriptions, comming from different fragments of the same book. (human characters are called later \"Individuals\") \n",
    "Your task is to merge single Individual identifying information based on a book.\n",
    "\n",
    "The input data is an array of JSON objects each representing the same Individual but based on different fragment of the same book.\n",
    "The order of JSON objects is the same as order of fragments in the book.\n",
    "Please see input data schema definition:\n",
    "{\n",
    "  \"type\": \"array\",\n",
    "  \"items\": {\n",
    "    \"type\": \"object\",\n",
    "    \"properties\": {\n",
    "      \"full_name\": {\"type\": \"string\", \"maxLength\": 300, \"description\": \"Full name including titles, nicknames, aliases, maiden names, or pseudonyms if mentioned. Include all names if Individual has many names.\"},\n",
    "\t    \"information\": {\"type\": \"string\", \"maxLength\": 2500, \"description\": \"Any information that may help uniquely identify given Individual, e.g. sex, age, origin, physical appearance, distinguishing marks or features and other helpful information\"}\n",
    "    }\n",
    "  }\n",
    "}\n",
    "\n",
    "Between <character> tags is input JSON array with Individual data to be merged.\n",
    "<character>\n",
    "%s\n",
    "</character>\n",
    "\n",
    "As a supplementary information you can use the summary of the whole book. It is placed between <summary> tags below.\n",
    "<summary>\n",
    "%s\n",
    "</summary>\n",
    "\n",
    "Important Guidelines for merging data:\n",
    "\n",
    "1. The result should be just one single JSON object (not array) containing summarized full_name and information from all JSON objects in the array.\n",
    "2. Avoid redundancy while maintaining comprehensiveness when merging.\n",
    "3. The format of result JSON object should be the same as the format on JSON objects in the array.\n",
    "4. Strictly maximum character limits for both fields. Summarize if necessary.\n",
    "\n",
    "Before returning, check and fix all format errors in JSON array, if any.\n",
    "Return only merged JSON object as a response, without any additional comments.   \n",
    "\n",
    "''' prompt, 'merge_character_ids' code) ip ON p.code = ip.code\n",
    "WHEN MATCHED THEN UPDATE SET prompt = ip.prompt\n",
    "WHEN NOT MATCHED THEN INSERT (code, prompt) VALUES(code, prompt);"
   ]
  },
  {
   "cell_type": "markdown",
   "id": "58d09dbc",
   "metadata": {},
   "source": [
    "**Extract desired characters traits from given book fragment**"
   ]
  },
  {
   "cell_type": "code",
   "execution_count": null,
   "id": "9a555339",
   "metadata": {},
   "outputs": [
    {
     "data": {
      "application/vnd.jupyter.widget-view+json": {
       "model_id": "15f807ee9f294e378018c6f7a895e38e",
       "version_major": 2,
       "version_minor": 0
      },
      "text/plain": [
       "Query is running:   0%|          |"
      ]
     },
     "metadata": {},
     "output_type": "display_data"
    },
    {
     "data": {
      "text/html": [
       "<div>\n",
       "<style scoped>\n",
       "    .dataframe tbody tr th:only-of-type {\n",
       "        vertical-align: middle;\n",
       "    }\n",
       "\n",
       "    .dataframe tbody tr th {\n",
       "        vertical-align: top;\n",
       "    }\n",
       "\n",
       "    .dataframe thead th {\n",
       "        text-align: right;\n",
       "    }\n",
       "</style>\n",
       "<table border=\"1\" class=\"dataframe\">\n",
       "  <thead>\n",
       "    <tr style=\"text-align: right;\">\n",
       "      <th></th>\n",
       "    </tr>\n",
       "  </thead>\n",
       "  <tbody>\n",
       "  </tbody>\n",
       "</table>\n",
       "</div>"
      ],
      "text/plain": [
       "Empty DataFrame\n",
       "Columns: []\n",
       "Index: []"
      ]
     },
     "metadata": {},
     "output_type": "display_data"
    }
   ],
   "source": [
    "%%bigquery\n",
    "MERGE prompts p USING (SELECT\n",
    "'''Your task is to provide given human characters analysis based on given book fragment. (human characters are called later \"Individuals\")\n",
    "The analysis serves academic research on understanding human characteristics across different historical periods, geographical regions, and social statuses.\n",
    "\n",
    "Data format:\n",
    "Data are stored in a JSON array. Each Individual is described in separate JSON object with a flat structure as specified in schema below.\n",
    "{\n",
    "  \"type\": \"array\",\n",
    "  \"items\": {\n",
    "    \"type\": \"object\",\n",
    "    \"properties\": {\n",
    "      \"id\": {\"type\": \"integer\", \"description\": \"A unique identifier of an Individual\"},\n",
    "      \"full_name\": {\"type\": \"string\", \"maxLength\": 300, \"description\": \"Full name including titles, nicknames, aliases, maiden names, or pseudonyms if mentioned, e.g.: 'Victor Frankenstein, M.D.'\"},\n",
    "      \"information\": {\"type\": \"string\", \"maxLength\": 1500, \"description\": \"Additional information describing given Individual\"},\n",
    "      \"sex\": {\"type\": \"string\", \"maxLength\": 100, \"description\": \"'male', 'female' or 'non-binary'\"},\n",
    "      \"social_class\": {\"type\": \"string\", \"maxLength\": 800, \"description\": \"Economic and social standing (e.g., 'nobility', 'working class', 'merchant class')\"},\n",
    "      \"wealth\": {\"type\": \"string\", \"maxLength\": 800, \"description\": \"Economic position, assets, property, financial struggles or abundance with information how wealth/income is obtained (inheritance, labor, trade, crime, patronage, etc.)\"},\n",
    "      \"values\": {\"type\": \"string\", \"maxLength\": 1600, \"description\": \"Core principles, moral compass, priorities (can include both positive and negative values)\"}\n",
    "    }\n",
    "  }\n",
    "}\n",
    "\n",
    "Between <example> tags is the output example is just to show the output structure, the real analysis results will be probably significantly larger and reacher in details.\n",
    "<example>\n",
    "[\n",
    "  {\n",
    "    \"id\": 78,\n",
    "    \"full_name\": \"Victor Frankenstein, M.D.\",\n",
    "    \"sex\": \"male\",\n",
    "    \"social_class\": \"Upper class, Geneva aristocracy\",\n",
    "    \"wealth\": \"Wealthy through family fortune, owns estate in Geneva, sufficient funds for extended travels and education. Wealth obtained thanks family inheritance, father's position as syndic, old Geneva money\",\n",
    "    \"values\": \"Knowledge, scientific progress, family loyalty, later: justice and revenge\"\n",
    "  },\n",
    "  {\n",
    "    \"id\": 3,\n",
    "    \"full_name\": \"James Johnson, known as 'Old Jim the Miller'\",\n",
    "    \"sex\": \"male\",\n",
    "    \"social_class\": \"Middle class tradesman, respected in village\",\n",
    "    \"wealth\": \"Comfortable middle class, owns mill and cottage, savings of approximately 200 pounds. Wealth sources: milling fees, grain trading profits, small loans to farmers at harvest time\",\n",
    "    \"values\": \"Hard work, family legacy, honest trade, community solidarity, tradition\"\n",
    "  }\n",
    "]\n",
    "</example>\n",
    "\n",
    "Between tags <characters> is input JSON array with Individuals to be analysed. Only `id`, `full_name` and `information` fields are prepopulated.\n",
    "<characters>\n",
    "%s\n",
    "</characters>\n",
    "\n",
    "The current book fragment for analysis is provided between <book_fragment> tags.\n",
    "<book_fragment>\n",
    "%s\n",
    "</book_fragment>\n",
    "\n",
    "You main task is to add missing fields in each Individual JSON object based on book fragment analysis.\n",
    "Additional guidelines:\n",
    "1. Fields `full_name` and `information` are already populated and should be used to identify Individuals in given book fragment\n",
    "2. Please do not modify content of the fields `full_name` and `id`.\n",
    "3. Please do not add any new Individuals to the JSON array\n",
    "4. Strictly observe the maximum character count for each field, comparing it with \"maxLength\" size. Summarize if necessary\n",
    "5. Leave fields empty rather than speculating\n",
    "6. Avoid redundancy while maintaining comprehensiveness\n",
    "7. Please remove `information` fields in output array.\n",
    "\n",
    "Return only supplemented JSON array as a response, without any additional comments.   \n",
    "''' prompt, 'extract_data' code) ip ON p.code = ip.code\n",
    "WHEN MATCHED THEN UPDATE SET prompt = ip.prompt\n",
    "WHEN NOT MATCHED THEN INSERT (code, prompt) VALUES(code, prompt);"
   ]
  },
  {
   "cell_type": "markdown",
   "id": "e7057bfa",
   "metadata": {},
   "source": [
    "**Merge given character traits gathered from all book fragments**"
   ]
  },
  {
   "cell_type": "code",
   "execution_count": null,
   "id": "60f4c7fe",
   "metadata": {},
   "outputs": [
    {
     "data": {
      "application/vnd.jupyter.widget-view+json": {
       "model_id": "8c74dfb68fdc43e9b851c84ab93e6342",
       "version_major": 2,
       "version_minor": 0
      },
      "text/plain": [
       "Query is running:   0%|          |"
      ]
     },
     "metadata": {},
     "output_type": "display_data"
    },
    {
     "data": {
      "text/html": [
       "<div>\n",
       "<style scoped>\n",
       "    .dataframe tbody tr th:only-of-type {\n",
       "        vertical-align: middle;\n",
       "    }\n",
       "\n",
       "    .dataframe tbody tr th {\n",
       "        vertical-align: top;\n",
       "    }\n",
       "\n",
       "    .dataframe thead th {\n",
       "        text-align: right;\n",
       "    }\n",
       "</style>\n",
       "<table border=\"1\" class=\"dataframe\">\n",
       "  <thead>\n",
       "    <tr style=\"text-align: right;\">\n",
       "      <th></th>\n",
       "    </tr>\n",
       "  </thead>\n",
       "  <tbody>\n",
       "  </tbody>\n",
       "</table>\n",
       "</div>"
      ],
      "text/plain": [
       "Empty DataFrame\n",
       "Columns: []\n",
       "Index: []"
      ]
     },
     "metadata": {},
     "output_type": "display_data"
    }
   ],
   "source": [
    "%%bigquery\n",
    "MERGE prompts p USING (SELECT   \n",
    "'''Your task is to merge human character analyses based on a book, preserving source information, while avoiding redundancy.\n",
    "\n",
    "The input data is an array of JSON objects each representing the same character but based on different fragment of the same book.\n",
    "The order of JSON objects is the same as order of fragments in the book.\n",
    "Please see input data schema definition:\n",
    "{\n",
    "  \"type\": \"array\",\n",
    "  \"items\": {\n",
    "    \"type\": \"object\",\n",
    "    \"properties\": {\n",
    "      \"id\": {\"type\": \"integer\", \"description\": \"A unique identifier of an Individual. Can be ignored.\"},\n",
    "      \"full_name\": {\"type\": \"string\", \"maxLength\": 300, \"description\": \"Full name including titles, nicknames, aliases, maiden names, or pseudonyms if mentioned, e.g.: 'Victor Frankenstein, M.D.'\"},\n",
    "      \"sex\": {\"type\": \"string\", \"maxLength\": 100, \"description\": \"'male', 'female' or 'non-binary'\"},\n",
    "      \"social_class\": {\"type\": \"string\", \"maxLength\": 800, \"description\": \"Economic and social standing (e.g., 'nobility', 'working class', 'merchant class')\"},\n",
    "      \"wealth\": {\"type\": \"string\", \"maxLength\": 800, \"description\": \"Economic position, assets, property, financial struggles or abundance with information how wealth/income is obtained (inheritance, labor, trade, crime, patronage, etc.)\"},\n",
    "      \"values\": {\"type\": \"string\", \"maxLength\": 1600, \"description\": \"Core principles, moral compass, priorities (can include both positive and negative values)\"}\n",
    "    }\n",
    "  }\n",
    "}\n",
    "\n",
    "Between <character> tags is input JSON array with character data to be merged.\n",
    "<character>\n",
    "%s\n",
    "</character>\n",
    "\n",
    "As a supplementary information you can use:\n",
    "- the summary of the whole book. It is placed between <summary> tags.\n",
    "- the short overall information about given character. It is placed between <information> tags.\n",
    "<summary>\n",
    "%s\n",
    "</summary>\n",
    "\n",
    "<information>\n",
    "%s\n",
    "</information>\n",
    "\n",
    "\n",
    "Important Guidelines for merging data:\n",
    "\n",
    "1. The result should be just one single JSON object (not array) containing summarized information from all JSON objects in the array.\n",
    "2. For each field please prepare a comprehensive summary of source fields, preserving the informations from each object, but avoiding redundancy.\n",
    "3. The format of result JSON object should be the same as the format on JSON objects in the array.\n",
    "4. Leave fields empty if they are empty in each JSON object, rather than speculating.\n",
    "\n",
    "After preparing the JSON object, please again check each field against redundancy. Summarize it again if necessary to reduce redundant information.\n",
    "\n",
    "Return only merged JSON object as a response, without any additional comments.   \n",
    "''' prompt, 'merge_character' code) ip ON p.code = ip.code\n",
    "WHEN MATCHED THEN UPDATE SET prompt = ip.prompt\n",
    "WHEN NOT MATCHED THEN INSERT (code, prompt) VALUES(code, prompt);"
   ]
  },
  {
   "cell_type": "markdown",
   "id": "18e7f104",
   "metadata": {},
   "source": [
    "**Correct potential errors in final array with character traits**"
   ]
  },
  {
   "cell_type": "code",
   "execution_count": null,
   "id": "57465db7",
   "metadata": {},
   "outputs": [
    {
     "data": {
      "application/vnd.jupyter.widget-view+json": {
       "model_id": "d4b4da97274547fdb5aa889442d61fca",
       "version_major": 2,
       "version_minor": 0
      },
      "text/plain": [
       "Query is running:   0%|          |"
      ]
     },
     "metadata": {},
     "output_type": "display_data"
    },
    {
     "data": {
      "text/html": [
       "<div>\n",
       "<style scoped>\n",
       "    .dataframe tbody tr th:only-of-type {\n",
       "        vertical-align: middle;\n",
       "    }\n",
       "\n",
       "    .dataframe tbody tr th {\n",
       "        vertical-align: top;\n",
       "    }\n",
       "\n",
       "    .dataframe thead th {\n",
       "        text-align: right;\n",
       "    }\n",
       "</style>\n",
       "<table border=\"1\" class=\"dataframe\">\n",
       "  <thead>\n",
       "    <tr style=\"text-align: right;\">\n",
       "      <th></th>\n",
       "    </tr>\n",
       "  </thead>\n",
       "  <tbody>\n",
       "  </tbody>\n",
       "</table>\n",
       "</div>"
      ],
      "text/plain": [
       "Empty DataFrame\n",
       "Columns: []\n",
       "Index: []"
      ]
     },
     "metadata": {},
     "output_type": "display_data"
    }
   ],
   "source": [
    "%%bigquery\n",
    "MERGE prompts p USING (SELECT   \n",
    "'''Your task is to check and correct errors in input JSON object, if any.\n",
    "Please see schema definition:\n",
    "{\n",
    "  \"type\": \"object\",\n",
    "  \"properties\": {\n",
    "    \"id\": {\"type\": \"integer\", \"description\": \"A unique identifier of an Individual. Can be ignored.\"},\n",
    "    \"full_name\": {\"type\": \"string\", \"description\": \"Full name including titles, nicknames, aliases, maiden names, or pseudonyms if mentioned, e.g.: 'Victor Frankenstein, M.D.'\"},\n",
    "    \"sex\": {\"type\": \"string\", \"description\": \"'male', 'female' or 'non-binary'\"},\n",
    "    \"social_class\": {\"type\": \"string\", \"description\": \"Economic and social standing (e.g., 'nobility', 'working class', 'merchant class')\"},\n",
    "    \"wealth\": {\"type\": \"string\", \"description\": \"Economic position, assets, property, financial struggles or abundance with information how wealth/income is obtained (inheritance, labor, trade, crime, patronage, etc.)\"},\n",
    "    \"values\": {\"type\": \"string\", \"description\": \"Core principles, moral compass, priorities (can include both positive and negative values)\"}\n",
    "  }\n",
    "}\n",
    "\n",
    "The JSON object to be checked is between <character> tags below:\n",
    "<character>\n",
    "%s\n",
    "</character>\n",
    "\n",
    "Guidelines:\n",
    "1. Please check if all fields (except `id`) are of text type, if not, then please convert them to text, preserving all the information. For example: if value is an array, please convert it to semicolon separated text containing all array elements.\n",
    "2. If the field doesn't contain any real information, please remove the field altogether. For example, the field value may be: \"Unknown\", \"not specified\", \"null\", \"None mentioned\", empty text, etc.\n",
    "3. Please correct JSON format errors, if any.\n",
    "\n",
    "Return only corrected JSON object as a response, without any additional comments.   \n",
    "''' prompt, 'json_final_check' code) ip ON p.code = ip.code\n",
    "WHEN MATCHED THEN UPDATE SET prompt = ip.prompt\n",
    "WHEN NOT MATCHED THEN INSERT (code, prompt) VALUES(code, prompt);\n"
   ]
  },
  {
   "cell_type": "markdown",
   "id": "123f40ce",
   "metadata": {},
   "source": [
    "**Rank books based of inclusion of chuman characters - used in phase 1 when randomly searching books suitable for processing**"
   ]
  },
  {
   "cell_type": "code",
   "execution_count": null,
   "id": "47cd40ae",
   "metadata": {},
   "outputs": [
    {
     "data": {
      "application/vnd.jupyter.widget-view+json": {
       "model_id": "bf1c97140e7e4447bbe65c0b2b236f18",
       "version_major": 2,
       "version_minor": 0
      },
      "text/plain": [
       "Query is running:   0%|          |"
      ]
     },
     "metadata": {},
     "output_type": "display_data"
    },
    {
     "data": {
      "text/html": [
       "<div>\n",
       "<style scoped>\n",
       "    .dataframe tbody tr th:only-of-type {\n",
       "        vertical-align: middle;\n",
       "    }\n",
       "\n",
       "    .dataframe tbody tr th {\n",
       "        vertical-align: top;\n",
       "    }\n",
       "\n",
       "    .dataframe thead th {\n",
       "        text-align: right;\n",
       "    }\n",
       "</style>\n",
       "<table border=\"1\" class=\"dataframe\">\n",
       "  <thead>\n",
       "    <tr style=\"text-align: right;\">\n",
       "      <th></th>\n",
       "    </tr>\n",
       "  </thead>\n",
       "  <tbody>\n",
       "  </tbody>\n",
       "</table>\n",
       "</div>"
      ],
      "text/plain": [
       "Empty DataFrame\n",
       "Columns: []\n",
       "Index: []"
      ]
     },
     "metadata": {},
     "output_type": "display_data"
    }
   ],
   "source": [
    "%%bigquery\n",
    "MERGE prompts p USING (SELECT   \n",
    "'''You are the assistant analysing book data.\n",
    "Your task is to predict if given book contains meaningful human characters information, no matter if fictitious or real.\n",
    "You need to do the prediction based on first fragment of the book, its title and metadata containing themes from the book.\n",
    "\n",
    "The task is part of the project aimed at understanding human characteristics across different historical periods, geographical regions, and social statuses, based on human descriptions from books (both fictional and real).\n",
    "Many books, like scientific ones, financial reports, etc., do not contain human characters at all or only vaguely mentions humans. We need to exclude such books from further analysis.\n",
    "We are interested in book containing rich descriptions of individual humans. For example: it can be biographies, all kind of novels with lively human characters, investigative journalism or reporting focused on humans, and others.\n",
    "\n",
    "The book data is provided below between <book> tags, in a JSON format.\n",
    "note: the book was scanned and may contain many optical character recognition (OCR) errors.\n",
    "<book>\n",
    "%s\n",
    "</book>\n",
    "\n",
    "As an answer please return number from 1 to 3 where:\n",
    "  - \"1\" means: the book is not about humans\n",
    "  - \"2\" means: human characters occur in book, but scarcely described.\n",
    "  - \"3\" means: human characters occur and are depicted in details\n",
    "\n",
    "Please return just a number without additional comments.\n",
    "''' prompt, 'rank_books' code) ip ON p.code = ip.code\n",
    "WHEN MATCHED THEN UPDATE SET prompt = ip.prompt\n",
    "WHEN NOT MATCHED THEN INSERT (code, prompt) VALUES(code, prompt);"
   ]
  },
  {
   "cell_type": "markdown",
   "id": "2f87cde2",
   "metadata": {},
   "source": [
    "**Split traits to semantically different parts and sanitize them by removing irrelevant information**"
   ]
  },
  {
   "cell_type": "code",
   "execution_count": null,
   "id": "c312ae1f",
   "metadata": {},
   "outputs": [
    {
     "data": {
      "application/vnd.jupyter.widget-view+json": {
       "model_id": "9f29866602af47b690047f16325cd00e",
       "version_major": 2,
       "version_minor": 0
      },
      "text/plain": [
       "Query is running:   0%|          |"
      ]
     },
     "metadata": {},
     "output_type": "display_data"
    },
    {
     "data": {
      "text/html": [
       "<div>\n",
       "<style scoped>\n",
       "    .dataframe tbody tr th:only-of-type {\n",
       "        vertical-align: middle;\n",
       "    }\n",
       "\n",
       "    .dataframe tbody tr th {\n",
       "        vertical-align: top;\n",
       "    }\n",
       "\n",
       "    .dataframe thead th {\n",
       "        text-align: right;\n",
       "    }\n",
       "</style>\n",
       "<table border=\"1\" class=\"dataframe\">\n",
       "  <thead>\n",
       "    <tr style=\"text-align: right;\">\n",
       "      <th></th>\n",
       "    </tr>\n",
       "  </thead>\n",
       "  <tbody>\n",
       "  </tbody>\n",
       "</table>\n",
       "</div>"
      ],
      "text/plain": [
       "Empty DataFrame\n",
       "Columns: []\n",
       "Index: []"
      ]
     },
     "metadata": {},
     "output_type": "display_data"
    }
   ],
   "source": [
    "%%bigquery\n",
    "MERGE prompts p USING (SELECT\n",
    "'''You are an expert in splitting information based on semantic meaning.\n",
    "\n",
    "Your task is to divide the given text into semantically distinct informations.\n",
    "\n",
    "The text describes human characters %s.\n",
    "\n",
    "Rules:\n",
    "1. Split ONLY if the text contains semantically different parts\n",
    "2. If the text describes a single coherent information, return it as one item\n",
    "3. Preserve context - don't split related concepts that belong together\n",
    "4. Remove redundant words but keep meaning intact\n",
    "\n",
    "Examples for three different types of traits; values, social class and wealth:\n",
    "- Input: \"Kingdom's strength, victory, leadership; Righteousness, religious observance, victory through God's help.\"\n",
    "- Output: [\"Kingdom's strength\", \"victory and leadership\", \"righteousness and religious observance\", \"God's help\"]\n",
    "\n",
    "- Input: \"Lieutenant, Officer in Kmita's company. Son of the Kokosinski family who use the seal of Pypka. Former outlaw.\"  \n",
    "- Output: [\"Lieutenant, Officer\", \"Former outlaw\", \"Probably belongs to wealty family\"]\n",
    "\n",
    "- Input: \"Described as a poor exile without a roof over his head, implying no significant wealth. Also noted as being part of Kmita's company and having implied noble standing.\"\n",
    "- Output: [\"poor, no significant wealth\", \"homeless\"]\n",
    "\n",
    "Provide the output as a JSON array of strings. The schema definition is below:\n",
    "{\"type\": \"array\", \"items\": {\"type\": \"string\"}}\n",
    "\n",
    "The text for analysis is provided between <traits> tags below:\n",
    "<traits>\n",
    "%s\n",
    "</traits>\n",
    "\n",
    "As a suplementary information you can use character description provided between <information> tags below:\n",
    "<information>\n",
    "%s\n",
    "</information>\n",
    "\n",
    "Esure that the JSON array is correctly formatted.\n",
    "Return only JSON array as a response, without any additional comments.\n",
    "''' prompt, 'split_traits' code) ip ON p.code = ip.code\n",
    "WHEN MATCHED THEN UPDATE SET prompt = ip.prompt\n",
    "WHEN NOT MATCHED THEN INSERT (code, prompt) VALUES(code, prompt);"
   ]
  },
  {
   "cell_type": "markdown",
   "id": "d035b614",
   "metadata": {},
   "source": [
    "**Analyze traits sample from single cluster to name cluster and provide short description**"
   ]
  },
  {
   "cell_type": "code",
   "execution_count": null,
   "id": "433181de",
   "metadata": {},
   "outputs": [
    {
     "data": {
      "application/vnd.jupyter.widget-view+json": {
       "model_id": "94913bceb62144dcb03c82b85a521806",
       "version_major": 2,
       "version_minor": 0
      },
      "text/plain": [
       "Query is running:   0%|          |"
      ]
     },
     "metadata": {},
     "output_type": "display_data"
    },
    {
     "data": {
      "text/html": [
       "<div>\n",
       "<style scoped>\n",
       "    .dataframe tbody tr th:only-of-type {\n",
       "        vertical-align: middle;\n",
       "    }\n",
       "\n",
       "    .dataframe tbody tr th {\n",
       "        vertical-align: top;\n",
       "    }\n",
       "\n",
       "    .dataframe thead th {\n",
       "        text-align: right;\n",
       "    }\n",
       "</style>\n",
       "<table border=\"1\" class=\"dataframe\">\n",
       "  <thead>\n",
       "    <tr style=\"text-align: right;\">\n",
       "      <th></th>\n",
       "    </tr>\n",
       "  </thead>\n",
       "  <tbody>\n",
       "  </tbody>\n",
       "</table>\n",
       "</div>"
      ],
      "text/plain": [
       "Empty DataFrame\n",
       "Columns: []\n",
       "Index: []"
      ]
     },
     "metadata": {},
     "output_type": "display_data"
    }
   ],
   "source": [
    "%%bigquery\n",
    "MERGE prompts p USING (SELECT\n",
    "'''You are an expert in text clusters classification.\n",
    "Your task is to name and describe each cluster extracted from large amount of examples describing human characters %s.\n",
    "\n",
    "As an input you have a JSON array containing cluster id (field `cluster_id`) and examples of traits fitting into this cluster (field: `examples`).\n",
    "The input is between <clusters> tag.\n",
    "<clusters>\n",
    "%s\n",
    "</clusters>\n",
    "\n",
    "For each cluster please: \n",
    "  - invent a short name, using one or few words, describing it most adequately\n",
    "  - provide, a one or few sentences long, adequate description\n",
    "Please output the result as a JSON array with following schema:\n",
    "{\n",
    "  \"type\": \"array\",\n",
    "  \"items\": {\n",
    "    \"type\": \"object\",\n",
    "    \"properties\": {\n",
    "      \"cluster_id\": {\"type\": \"integer\"},\n",
    "      \"cluster_name\": {\"type\": \"string\", \"maxLength\": 50}\n",
    "      \"cluster_description\": {\"type\": \"string\", \"maxLength\": 1000}\n",
    "    }\n",
    "  }\n",
    "}\n",
    "\n",
    "Ensure that the JSON array is correctly formatted.\n",
    "Return only JSON array as a response, without any additional comments.\n",
    "''' prompt, 'cluster_traits' code) ip ON p.code = ip.code\n",
    "WHEN MATCHED THEN UPDATE SET prompt = ip.prompt\n",
    "WHEN NOT MATCHED THEN INSERT (code, prompt) VALUES(code, prompt);"
   ]
  }
 ],
 "metadata": {
  "kernelspec": {
   "display_name": "book_crawler",
   "language": "python",
   "name": "python3"
  },
  "language_info": {
   "codemirror_mode": {
    "name": "ipython",
    "version": 3
   },
   "file_extension": ".py",
   "mimetype": "text/x-python",
   "name": "python",
   "nbconvert_exporter": "python",
   "pygments_lexer": "ipython3",
   "version": "3.13.3"
  }
 },
 "nbformat": 4,
 "nbformat_minor": 5
}
