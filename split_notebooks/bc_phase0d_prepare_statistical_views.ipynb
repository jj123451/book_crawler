{
 "cells": [
  {
   "cell_type": "code",
   "execution_count": 15,
   "id": "da2c3171",
   "metadata": {},
   "outputs": [
    {
     "name": "stdout",
     "output_type": "stream",
     "text": [
      "Couldn't find program: 'false'\n"
     ]
    }
   ],
   "source": [
    "%%script false --no-raise-error\n",
    "import json\n",
    "from google.colab import userdata\n",
    "from google.oauth2 import service_account\n",
    "from google.cloud.bigquery import magics\n",
    "\n",
    "credentials_json = userdata.get('BIGQUERY_CREDENTIALS')\n",
    "credentials = service_account.Credentials.from_service_account_info(json.loads(credentials_json))\n",
    "magics.context.credentials = credentials"
   ]
  },
  {
   "cell_type": "code",
   "execution_count": 16,
   "id": "15a5f5f6",
   "metadata": {},
   "outputs": [
    {
     "name": "stdout",
     "output_type": "stream",
     "text": [
      "The bigquery_magics extension is already loaded. To reload it, use:\n",
      "  %reload_ext bigquery_magics\n"
     ]
    }
   ],
   "source": [
    "from google.cloud import bigquery\n",
    "from google.cloud.bigquery import magics\n",
    "%load_ext bigquery_magics\n",
    "\n",
    "data_set = \"testing_set\"\n",
    "project_name = \"emerald-entity-468916-f9\"\n",
    "\n",
    "job_config = bigquery.QueryJobConfig(default_dataset = f\"{project_name}.{data_set}\")\n",
    "client = bigquery.Client(project = project_name, default_query_job_config = job_config, credentials = globals().get('credentials', None))\n",
    "magics.context.default_query_job_config = job_config\n",
    "magics.context.project = project_name"
   ]
  },
  {
   "cell_type": "markdown",
   "id": "98ecef6c",
   "metadata": {},
   "source": [
    "### Statistical views\n",
    "**Helping to get meaning of the data**"
   ]
  },
  {
   "cell_type": "markdown",
   "id": "487b8857",
   "metadata": {},
   "source": [
    "**Almost the same as 'characters' table but with cluster names and sanitized gender value**"
   ]
  },
  {
   "cell_type": "code",
   "execution_count": null,
   "id": "5e3380ae",
   "metadata": {},
   "outputs": [
    {
     "data": {
      "application/vnd.jupyter.widget-view+json": {
       "model_id": "3a46684ebf1249bea291ef8af8f7f735",
       "version_major": 2,
       "version_minor": 0
      },
      "text/plain": [
       "Query is running:   0%|          |"
      ]
     },
     "metadata": {},
     "output_type": "display_data"
    },
    {
     "data": {
      "text/html": [
       "<div>\n",
       "<style scoped>\n",
       "    .dataframe tbody tr th:only-of-type {\n",
       "        vertical-align: middle;\n",
       "    }\n",
       "\n",
       "    .dataframe tbody tr th {\n",
       "        vertical-align: top;\n",
       "    }\n",
       "\n",
       "    .dataframe thead th {\n",
       "        text-align: right;\n",
       "    }\n",
       "</style>\n",
       "<table border=\"1\" class=\"dataframe\">\n",
       "  <thead>\n",
       "    <tr style=\"text-align: right;\">\n",
       "      <th></th>\n",
       "    </tr>\n",
       "  </thead>\n",
       "  <tbody>\n",
       "  </tbody>\n",
       "</table>\n",
       "</div>"
      ],
      "text/plain": [
       "Empty DataFrame\n",
       "Columns: []\n",
       "Index: []"
      ]
     },
     "metadata": {},
     "output_type": "display_data"
    }
   ],
   "source": [
    "%%bigquery --pyformat\n",
    "\n",
    "CREATE OR REPLACE VIEW v_characters_enriched AS\n",
    "WITH cluster_names AS (SELECT cluster_type, cluster_id, name as cluster_name, description FROM {data_set}.clusters),\n",
    "social_class_names AS (SELECT cluster_id, cluster_name as social_class_name, description as social_class_desc FROM cluster_names WHERE cluster_type = 'social_class'),\n",
    "wealth_names AS (SELECT cluster_id, cluster_name as wealth_name, description as wealth_desc FROM cluster_names WHERE cluster_type = 'wealth'),\n",
    "values_names AS (SELECT cluster_id, cluster_name as values_name, description as values_desc FROM cluster_names WHERE cluster_type = 'values')\n",
    "SELECT c.social_class_cluster_id, c.wealth_cluster_id, c.values_cluster_id, \n",
    "  CASE \n",
    "    WHEN LOWER(TRIM(c.sex)) IN ('male', 'm', 'man') THEN 'male'\n",
    "    WHEN LOWER(TRIM(c.sex)) IN ('female', 'f', 'woman') THEN 'female'\n",
    "    ELSE 'unknown'\n",
    "  END as sex,\n",
    "  COALESCE(sc.social_class_name, 'unknown') social_class_name, COALESCE(sc.social_class_desc, '-') social_class_desc, COALESCE(w.wealth_name, 'unknown') wealth_name,\n",
    "  COALESCE(w.wealth_desc, '-') wealth_desc, COALESCE(v.values_name, 'unknown') values_name, COALESCE(v.values_desc, '-') values_desc\n",
    "FROM {data_set}.characters c\n",
    "LEFT JOIN social_class_names sc ON c.social_class_cluster_id = sc.cluster_id\n",
    "LEFT JOIN wealth_names w ON c.wealth_cluster_id = w.cluster_id  \n",
    "LEFT JOIN values_names v ON c.values_cluster_id = v.cluster_id;"
   ]
  },
  {
   "cell_type": "markdown",
   "id": "24969def",
   "metadata": {},
   "source": [
    "**Shows all the clusters identified by KMean analysis**"
   ]
  },
  {
   "cell_type": "code",
   "execution_count": null,
   "id": "6bb11978",
   "metadata": {},
   "outputs": [
    {
     "data": {
      "application/vnd.jupyter.widget-view+json": {
       "model_id": "6a561024c7fc473792ae2e4f8b80c723",
       "version_major": 2,
       "version_minor": 0
      },
      "text/plain": [
       "Query is running:   0%|          |"
      ]
     },
     "metadata": {},
     "output_type": "display_data"
    },
    {
     "data": {
      "text/html": [
       "<div>\n",
       "<style scoped>\n",
       "    .dataframe tbody tr th:only-of-type {\n",
       "        vertical-align: middle;\n",
       "    }\n",
       "\n",
       "    .dataframe tbody tr th {\n",
       "        vertical-align: top;\n",
       "    }\n",
       "\n",
       "    .dataframe thead th {\n",
       "        text-align: right;\n",
       "    }\n",
       "</style>\n",
       "<table border=\"1\" class=\"dataframe\">\n",
       "  <thead>\n",
       "    <tr style=\"text-align: right;\">\n",
       "      <th></th>\n",
       "    </tr>\n",
       "  </thead>\n",
       "  <tbody>\n",
       "  </tbody>\n",
       "</table>\n",
       "</div>"
      ],
      "text/plain": [
       "Empty DataFrame\n",
       "Columns: []\n",
       "Index: []"
      ]
     },
     "metadata": {},
     "output_type": "display_data"
    }
   ],
   "source": [
    "%%bigquery --pyformat\n",
    "\n",
    "CREATE OR REPLACE VIEW v_cluster_statistics AS\n",
    "WITH stats AS (\n",
    "  SELECT 'sex' as dimension, NULL as cluster_id, sex as cluster_name, '-' as cluster_description, COUNT(*) as count,\n",
    "    COUNT(*) / (SELECT COUNT(*) FROM {data_set}.v_characters_enriched) * 100 as percentage, RANK() OVER (PARTITION BY 'sex' ORDER BY COUNT(*) DESC) as rank_within_dimension\n",
    "  FROM {data_set}.v_characters_enriched GROUP BY sex\n",
    "  UNION ALL\n",
    "  SELECT 'social_class', social_class_cluster_id, social_class_name, social_class_desc, COUNT(*),\n",
    "    COUNT(*) / (SELECT COUNT(*) FROM {data_set}.v_characters_enriched) * 100, RANK() OVER (PARTITION BY 'social_class' ORDER BY COUNT(*) DESC)\n",
    "  FROM {data_set}.v_characters_enriched GROUP BY social_class_cluster_id, social_class_name, social_class_desc\n",
    "  UNION ALL\n",
    "  SELECT 'wealth', wealth_cluster_id, wealth_name, wealth_desc, COUNT(*),\n",
    "    COUNT(*) / (SELECT COUNT(*) FROM {data_set}.v_characters_enriched) * 100, RANK() OVER (PARTITION BY 'wealth' ORDER BY COUNT(*) DESC)\n",
    "  FROM {data_set}.v_characters_enriched GROUP BY wealth_cluster_id, wealth_name, wealth_desc\n",
    "  UNION ALL\n",
    "  SELECT 'values', values_cluster_id, values_name, values_desc, COUNT(*),\n",
    "    COUNT(*) / (SELECT COUNT(*) FROM {data_set}.v_characters_enriched) * 100, RANK() OVER (PARTITION BY 'values' ORDER BY COUNT(*) DESC)\n",
    "  FROM {data_set}.v_characters_enriched GROUP BY values_cluster_id, values_name, values_desc\n",
    ")\n",
    "SELECT * FROM stats ORDER BY dimension, rank_within_dimension;"
   ]
  },
  {
   "cell_type": "markdown",
   "id": "395d3394",
   "metadata": {},
   "source": [
    "**Groups the characters by all the four dimensions (gender, wealth, values, social class) that contains at least 2 persons**"
   ]
  },
  {
   "cell_type": "code",
   "execution_count": null,
   "id": "e5717343",
   "metadata": {},
   "outputs": [
    {
     "data": {
      "application/vnd.jupyter.widget-view+json": {
       "model_id": "3d8ab2356df84b62b406c21c27238d29",
       "version_major": 2,
       "version_minor": 0
      },
      "text/plain": [
       "Query is running:   0%|          |"
      ]
     },
     "metadata": {},
     "output_type": "display_data"
    },
    {
     "data": {
      "text/html": [
       "<div>\n",
       "<style scoped>\n",
       "    .dataframe tbody tr th:only-of-type {\n",
       "        vertical-align: middle;\n",
       "    }\n",
       "\n",
       "    .dataframe tbody tr th {\n",
       "        vertical-align: top;\n",
       "    }\n",
       "\n",
       "    .dataframe thead th {\n",
       "        text-align: right;\n",
       "    }\n",
       "</style>\n",
       "<table border=\"1\" class=\"dataframe\">\n",
       "  <thead>\n",
       "    <tr style=\"text-align: right;\">\n",
       "      <th></th>\n",
       "    </tr>\n",
       "  </thead>\n",
       "  <tbody>\n",
       "  </tbody>\n",
       "</table>\n",
       "</div>"
      ],
      "text/plain": [
       "Empty DataFrame\n",
       "Columns: []\n",
       "Index: []"
      ]
     },
     "metadata": {},
     "output_type": "display_data"
    }
   ],
   "source": [
    "%%bigquery --pyformat\n",
    "\n",
    "CREATE OR REPLACE VIEW v_character_profiles AS\n",
    "WITH profiles AS (\n",
    "  SELECT sex, social_class_name, wealth_name, values_name, COUNT(*) as character_count\n",
    "  FROM {data_set}.v_characters_enriched\n",
    "  GROUP BY social_class_cluster_id, wealth_cluster_id, values_cluster_id, sex, social_class_name, wealth_name, values_name)\n",
    "SELECT *, character_count / (SELECT COUNT(*) FROM {data_set}.v_characters_enriched) * 100 as percentage,\n",
    "  RANK() OVER (ORDER BY character_count DESC) as popularity_rank,\n",
    "FROM profiles WHERE character_count > 1 ORDER BY character_count DESC;"
   ]
  },
  {
   "cell_type": "markdown",
   "id": "a077f00f",
   "metadata": {},
   "source": [
    "**Shows relationships between gender and social class**"
   ]
  },
  {
   "cell_type": "code",
   "execution_count": null,
   "id": "11c4cb14",
   "metadata": {},
   "outputs": [
    {
     "data": {
      "application/vnd.jupyter.widget-view+json": {
       "model_id": "2fc354fa13eb49bca60014835f62331f",
       "version_major": 2,
       "version_minor": 0
      },
      "text/plain": [
       "Query is running:   0%|          |"
      ]
     },
     "metadata": {},
     "output_type": "display_data"
    },
    {
     "data": {
      "text/html": [
       "<div>\n",
       "<style scoped>\n",
       "    .dataframe tbody tr th:only-of-type {\n",
       "        vertical-align: middle;\n",
       "    }\n",
       "\n",
       "    .dataframe tbody tr th {\n",
       "        vertical-align: top;\n",
       "    }\n",
       "\n",
       "    .dataframe thead th {\n",
       "        text-align: right;\n",
       "    }\n",
       "</style>\n",
       "<table border=\"1\" class=\"dataframe\">\n",
       "  <thead>\n",
       "    <tr style=\"text-align: right;\">\n",
       "      <th></th>\n",
       "    </tr>\n",
       "  </thead>\n",
       "  <tbody>\n",
       "  </tbody>\n",
       "</table>\n",
       "</div>"
      ],
      "text/plain": [
       "Empty DataFrame\n",
       "Columns: []\n",
       "Index: []"
      ]
     },
     "metadata": {},
     "output_type": "display_data"
    }
   ],
   "source": [
    "%%bigquery --pyformat\n",
    "\n",
    "CREATE OR REPLACE VIEW v_crosstab_sex_social AS\n",
    "WITH crosstab_data AS (SELECT sex, social_class_name, COUNT(*) as frequency FROM {data_set}.v_characters_enriched GROUP BY sex, social_class_name),\n",
    "sex_totals AS (SELECT sex, SUM(frequency) as sex_total FROM crosstab_data GROUP BY sex),\n",
    "social_totals AS (SELECT social_class_name, SUM(frequency) as social_class_total FROM crosstab_data GROUP BY social_class_name)\n",
    "SELECT cd.sex, cd.social_class_name, cd.frequency,\n",
    "  cd.frequency / st.sex_total * 100 as sex_percentage,\n",
    "  cd.frequency / sct.social_class_total * 100 as social_class_percentage,\n",
    "  cd.frequency / (SELECT COUNT(*) FROM {data_set}.v_characters_enriched) * 100 as total_percentage\n",
    "FROM crosstab_data cd JOIN sex_totals st ON cd.sex = st.sex JOIN social_totals sct ON cd.social_class_name = sct.social_class_name\n",
    "ORDER BY cd.sex, cd.frequency DESC;"
   ]
  },
  {
   "cell_type": "markdown",
   "id": "c46f0319",
   "metadata": {},
   "source": [
    "**Shows relationships between gender and wealth**"
   ]
  },
  {
   "cell_type": "code",
   "execution_count": null,
   "id": "366ccf63",
   "metadata": {},
   "outputs": [
    {
     "data": {
      "application/vnd.jupyter.widget-view+json": {
       "model_id": "994c875f4cd044699439ee3378b08f4d",
       "version_major": 2,
       "version_minor": 0
      },
      "text/plain": [
       "Query is running:   0%|          |"
      ]
     },
     "metadata": {},
     "output_type": "display_data"
    },
    {
     "data": {
      "text/html": [
       "<div>\n",
       "<style scoped>\n",
       "    .dataframe tbody tr th:only-of-type {\n",
       "        vertical-align: middle;\n",
       "    }\n",
       "\n",
       "    .dataframe tbody tr th {\n",
       "        vertical-align: top;\n",
       "    }\n",
       "\n",
       "    .dataframe thead th {\n",
       "        text-align: right;\n",
       "    }\n",
       "</style>\n",
       "<table border=\"1\" class=\"dataframe\">\n",
       "  <thead>\n",
       "    <tr style=\"text-align: right;\">\n",
       "      <th></th>\n",
       "    </tr>\n",
       "  </thead>\n",
       "  <tbody>\n",
       "  </tbody>\n",
       "</table>\n",
       "</div>"
      ],
      "text/plain": [
       "Empty DataFrame\n",
       "Columns: []\n",
       "Index: []"
      ]
     },
     "metadata": {},
     "output_type": "display_data"
    }
   ],
   "source": [
    "%%bigquery --pyformat\n",
    "\n",
    "CREATE OR REPLACE VIEW v_crosstab_sex_wealth AS\n",
    "WITH crosstab_data AS (SELECT sex, wealth_name, COUNT(*) as frequency FROM {data_set}.v_characters_enriched GROUP BY sex, wealth_name),\n",
    "sex_totals AS (SELECT sex, SUM(frequency) as sex_total FROM crosstab_data GROUP BY sex),\n",
    "social_totals AS (SELECT wealth_name, SUM(frequency) as wealth_total FROM crosstab_data GROUP BY wealth_name)\n",
    "SELECT cd.sex, cd.wealth_name, cd.frequency,\n",
    "  cd.frequency / st.sex_total * 100 as sex_percentage,\n",
    "  cd.frequency / sct.wealth_total * 100 as wealth_percentage,\n",
    "  cd.frequency / (SELECT COUNT(*) FROM {data_set}.v_characters_enriched) * 100 as total_percentage\n",
    "FROM crosstab_data cd JOIN sex_totals st ON cd.sex = st.sex JOIN social_totals sct ON cd.wealth_name = sct.wealth_name\n",
    "ORDER BY cd.sex, cd.frequency DESC;"
   ]
  },
  {
   "cell_type": "markdown",
   "id": "2b115bec",
   "metadata": {},
   "source": [
    "**Shows relationships between gender and moral values**"
   ]
  },
  {
   "cell_type": "code",
   "execution_count": null,
   "id": "659dc42f",
   "metadata": {},
   "outputs": [
    {
     "data": {
      "application/vnd.jupyter.widget-view+json": {
       "model_id": "01b08b7c7cf043b0b105f5c765981af7",
       "version_major": 2,
       "version_minor": 0
      },
      "text/plain": [
       "Query is running:   0%|          |"
      ]
     },
     "metadata": {},
     "output_type": "display_data"
    },
    {
     "data": {
      "text/html": [
       "<div>\n",
       "<style scoped>\n",
       "    .dataframe tbody tr th:only-of-type {\n",
       "        vertical-align: middle;\n",
       "    }\n",
       "\n",
       "    .dataframe tbody tr th {\n",
       "        vertical-align: top;\n",
       "    }\n",
       "\n",
       "    .dataframe thead th {\n",
       "        text-align: right;\n",
       "    }\n",
       "</style>\n",
       "<table border=\"1\" class=\"dataframe\">\n",
       "  <thead>\n",
       "    <tr style=\"text-align: right;\">\n",
       "      <th></th>\n",
       "    </tr>\n",
       "  </thead>\n",
       "  <tbody>\n",
       "  </tbody>\n",
       "</table>\n",
       "</div>"
      ],
      "text/plain": [
       "Empty DataFrame\n",
       "Columns: []\n",
       "Index: []"
      ]
     },
     "metadata": {},
     "output_type": "display_data"
    }
   ],
   "source": [
    "%%bigquery --pyformat\n",
    "\n",
    "CREATE OR REPLACE VIEW v_crosstab_sex_values AS\n",
    "WITH crosstab_data AS (SELECT sex, values_name, COUNT(*) as frequency FROM {data_set}.v_characters_enriched GROUP BY sex, values_name),\n",
    "sex_totals AS (SELECT sex, SUM(frequency) as sex_total FROM crosstab_data GROUP BY sex),\n",
    "social_totals AS (SELECT values_name, SUM(frequency) as values_total FROM crosstab_data GROUP BY values_name)\n",
    "SELECT cd.sex, cd.values_name, cd.frequency,\n",
    "  cd.frequency / st.sex_total * 100 as sex_percentage,\n",
    "  cd.frequency / sct.values_total * 100 as values_percentage,\n",
    "  cd.frequency / (SELECT COUNT(*) FROM {data_set}.v_characters_enriched) * 100 as total_percentage\n",
    "FROM crosstab_data cd JOIN sex_totals st ON cd.sex = st.sex JOIN social_totals sct ON cd.values_name = sct.values_name\n",
    "ORDER BY cd.sex, cd.frequency DESC;"
   ]
  },
  {
   "cell_type": "markdown",
   "id": "f1915ddf",
   "metadata": {},
   "source": [
    "**Shows relationships between social class and wealth**"
   ]
  },
  {
   "cell_type": "code",
   "execution_count": null,
   "id": "20772ff0",
   "metadata": {},
   "outputs": [
    {
     "data": {
      "application/vnd.jupyter.widget-view+json": {
       "model_id": "882af6c2cd3f47a287d6d6caca4c3d95",
       "version_major": 2,
       "version_minor": 0
      },
      "text/plain": [
       "Query is running:   0%|          |"
      ]
     },
     "metadata": {},
     "output_type": "display_data"
    },
    {
     "data": {
      "text/html": [
       "<div>\n",
       "<style scoped>\n",
       "    .dataframe tbody tr th:only-of-type {\n",
       "        vertical-align: middle;\n",
       "    }\n",
       "\n",
       "    .dataframe tbody tr th {\n",
       "        vertical-align: top;\n",
       "    }\n",
       "\n",
       "    .dataframe thead th {\n",
       "        text-align: right;\n",
       "    }\n",
       "</style>\n",
       "<table border=\"1\" class=\"dataframe\">\n",
       "  <thead>\n",
       "    <tr style=\"text-align: right;\">\n",
       "      <th></th>\n",
       "    </tr>\n",
       "  </thead>\n",
       "  <tbody>\n",
       "  </tbody>\n",
       "</table>\n",
       "</div>"
      ],
      "text/plain": [
       "Empty DataFrame\n",
       "Columns: []\n",
       "Index: []"
      ]
     },
     "metadata": {},
     "output_type": "display_data"
    }
   ],
   "source": [
    "%%bigquery --pyformat\n",
    "\n",
    "CREATE OR REPLACE VIEW v_crosstab_social_wealth AS\n",
    "WITH crosstab_data AS (SELECT social_class_name, wealth_name, COUNT(*) as frequency\n",
    "  FROM {data_set}.v_characters_enriched GROUP BY social_class_name, wealth_name),\n",
    "totals AS (SELECT social_class_name, SUM(frequency) as social_class_total FROM crosstab_data GROUP BY social_class_name),\n",
    "wealth_totals AS (SELECT wealth_name, SUM(frequency) as wealth_total FROM crosstab_data GROUP BY wealth_name)\n",
    "SELECT cd.social_class_name, cd.wealth_name, cd.frequency,\n",
    "  cd.frequency / t.social_class_total * 100 as social_class_percentage,\n",
    "  cd.frequency / wt.wealth_total * 100 as wealth_percentage,\n",
    "  cd.frequency / (SELECT COUNT(*) FROM {data_set}.v_characters_enriched) * 100 as total_percentage\n",
    "FROM crosstab_data cd JOIN totals t ON cd.social_class_name = t.social_class_name JOIN wealth_totals wt ON cd.wealth_name = wt.wealth_name\n",
    "ORDER BY cd.social_class_name, cd.frequency DESC;"
   ]
  },
  {
   "cell_type": "markdown",
   "id": "457ce5a5",
   "metadata": {},
   "source": [
    "**Shows relationships between social class and values**"
   ]
  },
  {
   "cell_type": "code",
   "execution_count": null,
   "id": "f976c9eb",
   "metadata": {},
   "outputs": [
    {
     "data": {
      "application/vnd.jupyter.widget-view+json": {
       "model_id": "fdb7a47eb4a541fa94cddfa8fb553dc4",
       "version_major": 2,
       "version_minor": 0
      },
      "text/plain": [
       "Query is running:   0%|          |"
      ]
     },
     "metadata": {},
     "output_type": "display_data"
    },
    {
     "data": {
      "text/html": [
       "<div>\n",
       "<style scoped>\n",
       "    .dataframe tbody tr th:only-of-type {\n",
       "        vertical-align: middle;\n",
       "    }\n",
       "\n",
       "    .dataframe tbody tr th {\n",
       "        vertical-align: top;\n",
       "    }\n",
       "\n",
       "    .dataframe thead th {\n",
       "        text-align: right;\n",
       "    }\n",
       "</style>\n",
       "<table border=\"1\" class=\"dataframe\">\n",
       "  <thead>\n",
       "    <tr style=\"text-align: right;\">\n",
       "      <th></th>\n",
       "    </tr>\n",
       "  </thead>\n",
       "  <tbody>\n",
       "  </tbody>\n",
       "</table>\n",
       "</div>"
      ],
      "text/plain": [
       "Empty DataFrame\n",
       "Columns: []\n",
       "Index: []"
      ]
     },
     "metadata": {},
     "output_type": "display_data"
    }
   ],
   "source": [
    "%%bigquery --pyformat\n",
    "\n",
    "CREATE OR REPLACE VIEW v_crosstab_social_values AS\n",
    "WITH crosstab_data AS (SELECT social_class_name, values_name, COUNT(*) as frequency\n",
    "  FROM {data_set}.v_characters_enriched GROUP BY social_class_name, values_name),\n",
    "totals AS (SELECT social_class_name, SUM(frequency) as social_class_total FROM crosstab_data GROUP BY social_class_name),\n",
    "values_totals AS (SELECT values_name, SUM(frequency) as values_total FROM crosstab_data GROUP BY values_name)\n",
    "SELECT cd.social_class_name, cd.values_name, cd.frequency,\n",
    "  cd.frequency / t.social_class_total * 100 as social_class_percentage,\n",
    "  cd.frequency / wt.values_total * 100 as values_percentage,\n",
    "  cd.frequency / (SELECT COUNT(*) FROM {data_set}.v_characters_enriched) * 100 as total_percentage\n",
    "FROM crosstab_data cd JOIN totals t ON cd.social_class_name = t.social_class_name JOIN values_totals wt ON cd.values_name = wt.values_name\n",
    "ORDER BY cd.social_class_name, cd.frequency DESC;"
   ]
  },
  {
   "cell_type": "markdown",
   "id": "5ef4c191",
   "metadata": {},
   "source": [
    "**Shows relationships between social wealth and values**"
   ]
  },
  {
   "cell_type": "code",
   "execution_count": null,
   "id": "c9e2307e",
   "metadata": {},
   "outputs": [
    {
     "data": {
      "application/vnd.jupyter.widget-view+json": {
       "model_id": "e9ed9d50bbf041d491944312f359da09",
       "version_major": 2,
       "version_minor": 0
      },
      "text/plain": [
       "Query is running:   0%|          |"
      ]
     },
     "metadata": {},
     "output_type": "display_data"
    },
    {
     "data": {
      "text/html": [
       "<div>\n",
       "<style scoped>\n",
       "    .dataframe tbody tr th:only-of-type {\n",
       "        vertical-align: middle;\n",
       "    }\n",
       "\n",
       "    .dataframe tbody tr th {\n",
       "        vertical-align: top;\n",
       "    }\n",
       "\n",
       "    .dataframe thead th {\n",
       "        text-align: right;\n",
       "    }\n",
       "</style>\n",
       "<table border=\"1\" class=\"dataframe\">\n",
       "  <thead>\n",
       "    <tr style=\"text-align: right;\">\n",
       "      <th></th>\n",
       "    </tr>\n",
       "  </thead>\n",
       "  <tbody>\n",
       "  </tbody>\n",
       "</table>\n",
       "</div>"
      ],
      "text/plain": [
       "Empty DataFrame\n",
       "Columns: []\n",
       "Index: []"
      ]
     },
     "metadata": {},
     "output_type": "display_data"
    }
   ],
   "source": [
    "%%bigquery --pyformat\n",
    "\n",
    "CREATE OR REPLACE VIEW v_crosstab_wealth_values AS\n",
    "WITH crosstab_data AS (SELECT wealth_name, values_name, COUNT(*) as frequency\n",
    "  FROM {data_set}.v_characters_enriched GROUP BY wealth_name, values_name),\n",
    "totals AS (SELECT wealth_name, SUM(frequency) as wealth_total FROM crosstab_data GROUP BY wealth_name),\n",
    "values_totals AS (SELECT values_name, SUM(frequency) as values_total FROM crosstab_data GROUP BY values_name)\n",
    "SELECT cd.wealth_name, cd.values_name, cd.frequency,\n",
    "  cd.frequency / t.wealth_total * 100 as wealth_percentage,\n",
    "  cd.frequency / wt.values_total * 100 as values_percentage,\n",
    "  cd.frequency / (SELECT COUNT(*) FROM {data_set}.v_characters_enriched) * 100 as total_percentage\n",
    "FROM crosstab_data cd JOIN totals t ON cd.wealth_name = t.wealth_name JOIN values_totals wt ON cd.values_name = wt.values_name\n",
    "ORDER BY cd.wealth_name, cd.frequency DESC;"
   ]
  },
  {
   "cell_type": "markdown",
   "id": "8468eacf",
   "metadata": {},
   "source": [
    "**Similar to `v_formatted_character_profiles` but with gender related counts and percentage columns**"
   ]
  },
  {
   "cell_type": "code",
   "execution_count": null,
   "id": "ad1dbb6a",
   "metadata": {},
   "outputs": [
    {
     "data": {
      "application/vnd.jupyter.widget-view+json": {
       "model_id": "0be3ebe7e94147f29f4ea2115b2f3b4c",
       "version_major": 2,
       "version_minor": 0
      },
      "text/plain": [
       "Query is running:   0%|          |"
      ]
     },
     "metadata": {},
     "output_type": "display_data"
    },
    {
     "data": {
      "text/html": [
       "<div>\n",
       "<style scoped>\n",
       "    .dataframe tbody tr th:only-of-type {\n",
       "        vertical-align: middle;\n",
       "    }\n",
       "\n",
       "    .dataframe tbody tr th {\n",
       "        vertical-align: top;\n",
       "    }\n",
       "\n",
       "    .dataframe thead th {\n",
       "        text-align: right;\n",
       "    }\n",
       "</style>\n",
       "<table border=\"1\" class=\"dataframe\">\n",
       "  <thead>\n",
       "    <tr style=\"text-align: right;\">\n",
       "      <th></th>\n",
       "    </tr>\n",
       "  </thead>\n",
       "  <tbody>\n",
       "  </tbody>\n",
       "</table>\n",
       "</div>"
      ],
      "text/plain": [
       "Empty DataFrame\n",
       "Columns: []\n",
       "Index: []"
      ]
     },
     "metadata": {},
     "output_type": "display_data"
    }
   ],
   "source": [
    "%%bigquery --pyformat\n",
    "\n",
    "CREATE OR REPLACE VIEW v_gender_analysis AS\n",
    "WITH gender_profiles AS (SELECT sex, social_class_name, wealth_name, values_name, COUNT(*) as count\n",
    "  FROM {data_set}.v_characters_enriched GROUP BY sex, social_class_name, wealth_name, values_name),\n",
    "gender_totals AS (SELECT sex, SUM(count) as total_by_gender FROM gender_profiles GROUP BY sex)\n",
    "SELECT gp.*, gt.total_by_gender,\n",
    "  gp.count / gt.total_by_gender * 100 as percentage_within_gender,\n",
    "  RANK() OVER (PARTITION BY gp.sex ORDER BY gp.count DESC) as rank_within_gender\n",
    "FROM gender_profiles gp JOIN gender_totals gt ON gp.sex = gt.sex\n",
    "WHERE gp.count > 1 ORDER BY gp.sex, gp.count DESC;"
   ]
  },
  {
   "cell_type": "markdown",
   "id": "9baa1cb4",
   "metadata": {},
   "source": [
    "**The same views as above but with nicely formatted percentage for human analysis**"
   ]
  },
  {
   "cell_type": "code",
   "execution_count": null,
   "id": "cdb10f23",
   "metadata": {},
   "outputs": [
    {
     "data": {
      "application/vnd.jupyter.widget-view+json": {
       "model_id": "ebcbc4f75ad64fda8ccb2fbc244655f2",
       "version_major": 2,
       "version_minor": 0
      },
      "text/plain": [
       "Query is running:   0%|          |"
      ]
     },
     "metadata": {},
     "output_type": "display_data"
    },
    {
     "data": {
      "text/html": [
       "<div>\n",
       "<style scoped>\n",
       "    .dataframe tbody tr th:only-of-type {\n",
       "        vertical-align: middle;\n",
       "    }\n",
       "\n",
       "    .dataframe tbody tr th {\n",
       "        vertical-align: top;\n",
       "    }\n",
       "\n",
       "    .dataframe thead th {\n",
       "        text-align: right;\n",
       "    }\n",
       "</style>\n",
       "<table border=\"1\" class=\"dataframe\">\n",
       "  <thead>\n",
       "    <tr style=\"text-align: right;\">\n",
       "      <th></th>\n",
       "    </tr>\n",
       "  </thead>\n",
       "  <tbody>\n",
       "  </tbody>\n",
       "</table>\n",
       "</div>"
      ],
      "text/plain": [
       "Empty DataFrame\n",
       "Columns: []\n",
       "Index: []"
      ]
     },
     "metadata": {},
     "output_type": "display_data"
    }
   ],
   "source": [
    "%%bigquery --pyformat\n",
    "CREATE OR REPLACE VIEW v_formatted_cluster_statistics AS\n",
    "SELECT dimension, cluster_id, cluster_name, cluster_description, count, FORMAT('%0.2f', percentage) percentage, rank_within_dimension from {data_set}.v_cluster_statistics;\n",
    "\n",
    "CREATE OR REPLACE VIEW v_formatted_character_profiles AS\n",
    "SELECT sex, social_class_name, wealth_name, values_name, character_count, FORMAT('%0.2f', percentage) percentage, popularity_rank from {data_set}.v_character_profiles;\n",
    "\n",
    "CREATE OR REPLACE VIEW v_formatted_crosstab_sex_social AS\n",
    "SELECT sex, social_class_name, frequency, FORMAT('%0.2f', sex_percentage) sex_percentage, FORMAT('%0.2f', social_class_percentage) social_class_percentage,\n",
    "    FORMAT('%0.2f', total_percentage) total_percentage from {data_set}.v_crosstab_sex_social;\n",
    "\n",
    "CREATE OR REPLACE VIEW v_formatted_crosstab_sex_wealth AS\n",
    "SELECT sex, wealth_name, frequency, FORMAT('%0.2f', sex_percentage) sex_percentage, FORMAT('%0.2f', wealth_percentage) wealth_percentage,\n",
    "    FORMAT('%0.2f', total_percentage) total_percentage from {data_set}.v_crosstab_sex_wealth;\n",
    "\n",
    "CREATE OR REPLACE VIEW v_formatted_crosstab_sex_values AS\n",
    "SELECT sex, values_name, frequency, FORMAT('%0.2f', sex_percentage) sex_percentage, FORMAT('%0.2f', values_percentage) values_percentage,\n",
    "    FORMAT('%0.2f', total_percentage) total_percentage from {data_set}.v_crosstab_sex_values;\n",
    "\n",
    "CREATE OR REPLACE VIEW v_formatted_crosstab_social_wealth AS\n",
    "SELECT social_class_name, wealth_name, frequency, FORMAT('%0.2f', social_class_percentage) social_class_percentage, FORMAT('%0.2f', wealth_percentage) wealth_percentage,\n",
    "    FORMAT('%0.2f', total_percentage) total_percentage from {data_set}.v_crosstab_social_wealth;\n",
    "\n",
    "CREATE OR REPLACE VIEW v_formatted_crosstab_social_values AS\n",
    "SELECT social_class_name, values_name, frequency, FORMAT('%0.2f', social_class_percentage) social_class_percentage, FORMAT('%0.2f', values_percentage) values_percentage,\n",
    "    FORMAT('%0.2f', total_percentage) total_percentage from {data_set}.v_crosstab_social_values;\n",
    "\n",
    "CREATE OR REPLACE VIEW v_formatted_crosstab_wealth_values AS\n",
    "SELECT wealth_name, values_name, frequency, FORMAT('%0.2f', wealth_percentage) wealth_percentage, FORMAT('%0.2f', values_percentage) values_percentage,\n",
    "    FORMAT('%0.2f', total_percentage) total_percentage from {data_set}.v_crosstab_wealth_values;\n",
    "\n",
    "CREATE OR REPLACE VIEW v_formatted_gender_analysis AS\n",
    "SELECT sex, social_class_name, wealth_name, values_name, count, total_by_gender, FORMAT('%0.2f', percentage_within_gender) percentage_within_gender, rank_within_gender\n",
    "from {data_set}.v_gender_analysis;"
   ]
  }
 ],
 "metadata": {
  "kernelspec": {
   "display_name": "book_crawler",
   "language": "python",
   "name": "python3"
  },
  "language_info": {
   "codemirror_mode": {
    "name": "ipython",
    "version": 3
   },
   "file_extension": ".py",
   "mimetype": "text/x-python",
   "name": "python",
   "nbconvert_exporter": "python",
   "pygments_lexer": "ipython3",
   "version": "3.13.3"
  }
 },
 "nbformat": 4,
 "nbformat_minor": 5
}
