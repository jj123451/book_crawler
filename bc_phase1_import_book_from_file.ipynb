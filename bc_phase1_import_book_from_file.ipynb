{
 "cells": [
  {
   "cell_type": "code",
   "execution_count": 7,
   "id": "a5f2802a",
   "metadata": {},
   "outputs": [
    {
     "name": "stdout",
     "output_type": "stream",
     "text": [
      "Couldn't find program: 'false'\n"
     ]
    }
   ],
   "source": [
    "%%script false --no-raise-error\n",
    "import json\n",
    "from google.colab import userdata\n",
    "from google.oauth2 import service_account\n",
    "from google.cloud.bigquery import magics\n",
    "\n",
    "credentials_json = userdata.get('BIGQUERY_CREDENTIALS')\n",
    "credentials = service_account.Credentials.from_service_account_info(json.loads(credentials_json))\n",
    "magics.context.credentials = credentials"
   ]
  },
  {
   "cell_type": "code",
   "execution_count": 8,
   "id": "bc730c95",
   "metadata": {},
   "outputs": [
    {
     "name": "stdout",
     "output_type": "stream",
     "text": [
      "The bigquery_magics extension is already loaded. To reload it, use:\n",
      "  %reload_ext bigquery_magics\n"
     ]
    }
   ],
   "source": [
    "from google.cloud import bigquery\n",
    "from google.cloud.bigquery import magics\n",
    "%load_ext bigquery_magics\n",
    "\n",
    "data_set = \"testing_set8\"\n",
    "project_name = \"emerald-entity-468916-f9\"\n",
    "\n",
    "job_config = bigquery.QueryJobConfig(default_dataset = f\"{project_name}.{data_set}\")\n",
    "client = bigquery.Client(project = project_name, default_query_job_config = job_config, credentials = globals().get('credentials', None))\n",
    "magics.context.default_query_job_config = job_config\n",
    "magics.context.project = project_name"
   ]
  },
  {
   "cell_type": "code",
   "execution_count": 9,
   "id": "d5367811",
   "metadata": {},
   "outputs": [
    {
     "data": {
      "text/plain": [
       "<google.cloud.bigquery.table.RowIterator at 0x1676ac9b890>"
      ]
     },
     "execution_count": 9,
     "metadata": {},
     "output_type": "execute_result"
    }
   ],
   "source": [
    "import os\n",
    "from datetime import date\n",
    "\n",
    "file_path = \"D:/books/The Deluge - Henryk Sienkiewicz.txt\"\n",
    "book_title = \"The Deluge\"\n",
    "book_date = 1886\n",
    "book_id = \"The Deluge\"\n",
    "book_content = \"\"\n",
    "\n",
    "with open(file_path, 'r', encoding='utf-8') as file:\n",
    "    book_content = file.read()\n",
    "\n",
    "insert_sql = f\"INSERT INTO books(book_id, date, title, corrected_txt) VALUES(@book_id, @date, @title, @content)\"\n",
    "\n",
    "job_config = bigquery.QueryJobConfig(query_parameters=[\n",
    "    bigquery.ScalarQueryParameter(\"book_id\", \"STRING\", book_id),\n",
    "    bigquery.ScalarQueryParameter(\"date\", \"INT64\", book_date),\n",
    "    bigquery.ScalarQueryParameter(\"title\", \"STRING\", book_title),\n",
    "    bigquery.ScalarQueryParameter(\"content\", \"STRING\", book_content)])\n",
    "client.query_and_wait(insert_sql, job_config = job_config)"
   ]
  }
 ],
 "metadata": {
  "kernelspec": {
   "display_name": "book_crawler",
   "language": "python",
   "name": "python3"
  },
  "language_info": {
   "codemirror_mode": {
    "name": "ipython",
    "version": 3
   },
   "file_extension": ".py",
   "mimetype": "text/x-python",
   "name": "python",
   "nbconvert_exporter": "python",
   "pygments_lexer": "ipython3",
   "version": "3.13.3"
  }
 },
 "nbformat": 4,
 "nbformat_minor": 5
}
