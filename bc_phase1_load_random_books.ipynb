{
 "cells": [
  {
   "cell_type": "code",
   "execution_count": 205,
   "id": "bc730c95",
   "metadata": {},
   "outputs": [
    {
     "name": "stdout",
     "output_type": "stream",
     "text": [
      "The bigquery_magics extension is already loaded. To reload it, use:\n",
      "  %reload_ext bigquery_magics\n"
     ]
    }
   ],
   "source": [
    "from google.cloud import bigquery\n",
    "from google.cloud.bigquery import magics\n",
    "%load_ext bigquery_magics\n",
    "\n",
    "data_set = \"testing_set\"\n",
    "project_name = \"emerald-entity-468916-f9\"\n",
    "library_path = \"gdelt-bq.internetarchivebooks\"\n",
    "\n",
    "job_config = bigquery.QueryJobConfig(default_dataset = f\"{project_name}.{data_set}\")\n",
    "client = bigquery.Client(project = project_name, default_query_job_config = job_config)\n",
    "magics.context.default_query_job_config = job_config\n",
    "\n",
    "number_of_books = 3\n",
    "start_year = 1800 # min 1800\n",
    "end_year = 1922 # max 1922\n",
    "max_book_length = 300000\n",
    "min_book_length = 100000"
   ]
  },
  {
   "cell_type": "code",
   "execution_count": 206,
   "id": "e88c0c20",
   "metadata": {},
   "outputs": [
    {
     "data": {
      "application/vnd.jupyter.widget-view+json": {
       "model_id": "d24e99c1155e44578f23ae67c1a5d409",
       "version_major": 2,
       "version_minor": 0
      },
      "text/plain": [
       "Query is running:   0%|          |"
      ]
     },
     "metadata": {},
     "output_type": "display_data"
    },
    {
     "data": {
      "text/html": [
       "<div>\n",
       "<style scoped>\n",
       "    .dataframe tbody tr th:only-of-type {\n",
       "        vertical-align: middle;\n",
       "    }\n",
       "\n",
       "    .dataframe tbody tr th {\n",
       "        vertical-align: top;\n",
       "    }\n",
       "\n",
       "    .dataframe thead th {\n",
       "        text-align: right;\n",
       "    }\n",
       "</style>\n",
       "<table border=\"1\" class=\"dataframe\">\n",
       "  <thead>\n",
       "    <tr style=\"text-align: right;\">\n",
       "      <th></th>\n",
       "    </tr>\n",
       "  </thead>\n",
       "  <tbody>\n",
       "  </tbody>\n",
       "</table>\n",
       "</div>"
      ],
      "text/plain": [
       "Empty DataFrame\n",
       "Columns: []\n",
       "Index: []"
      ]
     },
     "execution_count": 206,
     "metadata": {},
     "output_type": "execute_result"
    }
   ],
   "source": [
    "%%bigquery\n",
    "CREATE OR REPLACE TABLE tmp_books_sample(GKGRECORDID STRING, DATE INTEGER, BookMeta_Title STRING, V2Themes STRING, V2Persons STRING, BookMeta_FullText STRING, rank INT64);"
   ]
  },
  {
   "cell_type": "code",
   "execution_count": 207,
   "id": "d5367811",
   "metadata": {},
   "outputs": [],
   "source": [
    "import random\n",
    "\n",
    "years = random.sample(range(start_year, end_year), number_of_books)\n",
    "\n",
    "add_to_samples = \"\"\"INSERT INTO tmp_books_sample(GKGRECORDID, DATE, BookMeta_Title, V2Themes, V2Persons, BookMeta_FullText)\n",
    "SELECT * FROM (\n",
    "SELECT GKGRECORDID, DATE, BookMeta_Title, V2Themes, V2Persons, BookMeta_FullText FROM {library_path}.{year} sb\n",
    "TABLESAMPLE SYSTEM (2 PERCENT) WHERE length(BookMeta_FullText) <= {max_book_length} AND length(BookMeta_FullText) >= {min_book_length} LIMIT 10) s\n",
    "WHERE NOT EXISTS (SELECT 1 FROM tmp_books_sample s1 WHERE s.GKGRECORDID = s1.GKGRECORDID)\"\"\"\n",
    "\n",
    "for year in years:\n",
    "    fill_table_sql = add_to_samples.format(year = year, library_path = library_path, max_book_length = max_book_length, min_book_length = min_book_length)\n",
    "    client.query_and_wait(fill_table_sql)"
   ]
  },
  {
   "cell_type": "code",
   "execution_count": 208,
   "id": "c293bf44",
   "metadata": {},
   "outputs": [
    {
     "data": {
      "application/vnd.jupyter.widget-view+json": {
       "model_id": "c92d2b311a0a446ea0279c867a780567",
       "version_major": 2,
       "version_minor": 0
      },
      "text/plain": [
       "Query is running:   0%|          |"
      ]
     },
     "metadata": {},
     "output_type": "display_data"
    },
    {
     "data": {
      "text/html": [
       "<div>\n",
       "<style scoped>\n",
       "    .dataframe tbody tr th:only-of-type {\n",
       "        vertical-align: middle;\n",
       "    }\n",
       "\n",
       "    .dataframe tbody tr th {\n",
       "        vertical-align: top;\n",
       "    }\n",
       "\n",
       "    .dataframe thead th {\n",
       "        text-align: right;\n",
       "    }\n",
       "</style>\n",
       "<table border=\"1\" class=\"dataframe\">\n",
       "  <thead>\n",
       "    <tr style=\"text-align: right;\">\n",
       "      <th></th>\n",
       "    </tr>\n",
       "  </thead>\n",
       "  <tbody>\n",
       "  </tbody>\n",
       "</table>\n",
       "</div>"
      ],
      "text/plain": [
       "Empty DataFrame\n",
       "Columns: []\n",
       "Index: []"
      ]
     },
     "execution_count": 208,
     "metadata": {},
     "output_type": "execute_result"
    }
   ],
   "source": [
    "%%bigquery --pyformat\n",
    "\n",
    "UPDATE tmp_books_sample SET rank = \n",
    "    CAST(AI.GENERATE(FORMAT(p.prompt, TO_JSON_STRING(STRUCT(DATE as relase_date, BookMeta_Title as title, V2Themes as themes, LPAD(BookMeta_FullText, 5000) as beginning))),\n",
    "    connection_id => 'us.ai_connection', endpoint => 'gemini-2.5-flash-lite').result AS INT64)\n",
    "FROM prompts p WHERE p.code = 'rank_books';\n",
    "\n",
    "INSERT INTO books (book_id, date, title, original_txt)\n",
    "select GKGRECORDID, DATE, BookMeta_Title, BookMeta_FullText from tmp_books_sample order by rank desc, rand() limit {number_of_books};"
   ]
  }
 ],
 "metadata": {
  "kernelspec": {
   "display_name": "Python 3 (ipykernel)",
   "language": "python",
   "name": "python3"
  }
 },
 "nbformat": 4,
 "nbformat_minor": 5
}
