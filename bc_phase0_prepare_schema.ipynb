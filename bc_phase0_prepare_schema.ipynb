{
 "cells": [
  {
   "cell_type": "code",
   "execution_count": 293,
   "id": "516c4676",
   "metadata": {},
   "outputs": [
    {
     "name": "stdout",
     "output_type": "stream",
     "text": [
      "Couldn't find program: 'false'\n"
     ]
    }
   ],
   "source": [
    "%%script false --no-raise-error\n",
    "import json\n",
    "from google.colab import userdata\n",
    "from google.oauth2 import service_account\n",
    "from google.cloud.bigquery import magics\n",
    "\n",
    "credentials_json = userdata.get('BIGQUERY_CREDENTIALS')\n",
    "credentials = service_account.Credentials.from_service_account_info(json.loads(credentials_json))\n",
    "magics.context.credentials = credentials"
   ]
  },
  {
   "cell_type": "code",
   "execution_count": 294,
   "id": "ad83a1a3",
   "metadata": {},
   "outputs": [
    {
     "name": "stdout",
     "output_type": "stream",
     "text": [
      "The bigquery_magics extension is already loaded. To reload it, use:\n",
      "  %reload_ext bigquery_magics\n"
     ]
    }
   ],
   "source": [
    "from google.cloud import bigquery\n",
    "from google.cloud.bigquery import magics\n",
    "%load_ext bigquery_magics\n",
    "\n",
    "data_set = \"testing_set8\"\n",
    "project_name = \"emerald-entity-468916-f9\"\n",
    "endpoint = \"gemini-2.5-flash-lite\"\n",
    "connection_id = \"us.ai_connection\"\n",
    "\n",
    "job_config = bigquery.QueryJobConfig(default_dataset = f\"{project_name}.{data_set}\")\n",
    "client = bigquery.Client(project = project_name, default_query_job_config = job_config, credentials = globals().get('credentials', None))\n",
    "magics.context.default_query_job_config = job_config\n",
    "magics.context.project = project_name"
   ]
  },
  {
   "cell_type": "markdown",
   "id": "3c5d8f21",
   "metadata": {},
   "source": [
    "### Tables creation\n",
    "Initial tables creation, necessary to satisfy sql procedures verification"
   ]
  },
  {
   "cell_type": "code",
   "execution_count": 295,
   "id": "e13ba46e",
   "metadata": {},
   "outputs": [
    {
     "data": {
      "application/vnd.jupyter.widget-view+json": {
       "model_id": "8144dbb8413e4555a8e5258427689ec5",
       "version_major": 2,
       "version_minor": 0
      },
      "text/plain": [
       "Query is running:   0%|          |"
      ]
     },
     "metadata": {},
     "output_type": "display_data"
    },
    {
     "data": {
      "text/html": [
       "<div>\n",
       "<style scoped>\n",
       "    .dataframe tbody tr th:only-of-type {\n",
       "        vertical-align: middle;\n",
       "    }\n",
       "\n",
       "    .dataframe tbody tr th {\n",
       "        vertical-align: top;\n",
       "    }\n",
       "\n",
       "    .dataframe thead th {\n",
       "        text-align: right;\n",
       "    }\n",
       "</style>\n",
       "<table border=\"1\" class=\"dataframe\">\n",
       "  <thead>\n",
       "    <tr style=\"text-align: right;\">\n",
       "      <th></th>\n",
       "    </tr>\n",
       "  </thead>\n",
       "  <tbody>\n",
       "  </tbody>\n",
       "</table>\n",
       "</div>"
      ],
      "text/plain": [
       "Empty DataFrame\n",
       "Columns: []\n",
       "Index: []"
      ]
     },
     "execution_count": 295,
     "metadata": {},
     "output_type": "execute_result"
    }
   ],
   "source": [
    "%%bigquery\n",
    "\n",
    "CREATE TABLE IF NOT exists prompts(code STRING, prompt STRING);\n",
    "CREATE TABLE IF NOT EXISTS books(book_id STRING, date INTEGER, title STRING, original_txt STRING, corrected_txt STRING, summary STRING, processed BOOL);\n",
    "CREATE TABLE IF NOT EXISTS chunks(book_id STRING, chunk_number INTEGER, txt STRING, summary STRING,\n",
    "    fragment_number STRING, characters_id_data STRING, characters_full_data STRING);\n",
    "CREATE TABLE IF NOT EXISTS identifiers(id INTEGER, book_id STRING, full_name STRING, importance INTEGER, chunk_number INTEGER, fragment_number STRING,\n",
    "    characters_id_data STRING, information STRING);\n",
    "CREATE TABLE IF NOT EXISTS characters(book_id STRING, id INT64, full_name STRING, sex STRING, importance INT64,\n",
    "  social_class STRING, wealth STRING, values STRING, information STRING, social_class_cluster_id INT64, wealth_cluster_id INT64, values_cluster_id INT64);\n",
    "CREATE TABLE IF NOT exists clusters(cluster_type STRING, cluster_id INT64, name STRING, description STRING);\n",
    "CREATE TABLE IF NOT exists character_cluster_details(book_id STRING, id INT64, trait STRING, trait_id INT64, cluster_type STRING, cluster_id INT64);"
   ]
  },
  {
   "cell_type": "code",
   "execution_count": null,
   "id": "9ec93f2e",
   "metadata": {},
   "outputs": [
    {
     "data": {
      "application/vnd.jupyter.widget-view+json": {
       "model_id": "d52d96517a564e34948c64ee5928ce3e",
       "version_major": 2,
       "version_minor": 0
      },
      "text/plain": [
       "Query is running:   0%|          |"
      ]
     },
     "metadata": {},
     "output_type": "display_data"
    },
    {
     "data": {
      "text/html": [
       "<div>\n",
       "<style scoped>\n",
       "    .dataframe tbody tr th:only-of-type {\n",
       "        vertical-align: middle;\n",
       "    }\n",
       "\n",
       "    .dataframe tbody tr th {\n",
       "        vertical-align: top;\n",
       "    }\n",
       "\n",
       "    .dataframe thead th {\n",
       "        text-align: right;\n",
       "    }\n",
       "</style>\n",
       "<table border=\"1\" class=\"dataframe\">\n",
       "  <thead>\n",
       "    <tr style=\"text-align: right;\">\n",
       "      <th></th>\n",
       "    </tr>\n",
       "  </thead>\n",
       "  <tbody>\n",
       "  </tbody>\n",
       "</table>\n",
       "</div>"
      ],
      "text/plain": [
       "Empty DataFrame\n",
       "Columns: []\n",
       "Index: []"
      ]
     },
     "execution_count": 296,
     "metadata": {},
     "output_type": "execute_result"
    }
   ],
   "source": [
    "%%bigquery\n",
    "\n",
    "CREATE OR REPLACE TABLE tmp_correction_chunks(book_id STRING, chunk_number INTEGER, prefix STRING, original_txt STRING, suffix STRING, corrected_txt STRING);\n",
    "CREATE OR REPLACE TABLE tmp_grouped_full_data(id INTEGER, book_id STRING, parts INTEGER, full_data_array STRING, character_full_data STRING, information STRING);\n",
    "CREATE OR REPLACE TABLE tmp_characters_id_embeddings(ml_generate_embedding_result ARRAY<FLOAT64>, ml_generate_embedding_statistics JSON, ml_generate_embedding_status STRING,\n",
    "  content STRING, title STRING, id INT64, book_id STRING, chunk_number INT64, is_query BOOL);\n",
    "CREATE OR REPLACE TABLE tmp_copied_traits(id INTEGER, book_id STRING, traits STRING);\n",
    "CREATE OR REPLACE TABLE tmp_clustered_traits(CENTROID_ID INT64, NEAREST_CENTROIDS_DISTANCE ARRAY<STRUCT<CENTROID_ID INT64, DISTANCE FLOAT64>>,\n",
    "  ml_generate_embedding_result ARRAY<FLOAT64>, content STRING, trait_id INT64);\n",
    "CREATE OR REPLACE TABLE tmp_split_traits_final(book_id STRING, id INT64, trait STRING, trait_id INT64, cluster_id INT64);\n",
    "CREATE OR REPLACE TABLE tmp_combined_traits(book_id STRING, id INT64, cluster_type STRING, traits STRING, cluster_id INT64);\n",
    "CREATE OR REPLACE TABLE tmp_combined_traits_clustered(CENTROID_ID INT64, NEAREST_CENTROIDS_DISTANCE ARRAY<STRUCT<CENTROID_ID INT64, DISTANCE FLOAT64>>,\n",
    "  ml_generate_embedding_result ARRAY<FLOAT64>, content STRING, id INT64, book_id STRING);\n",
    "CREATE OR REPLACE TABLE tmp_chunks_character_full_data(book_id STRING, chunk_number INT64, characters_full_data STRING);"
   ]
  },
  {
   "cell_type": "markdown",
   "id": "dc7f9775",
   "metadata": {},
   "source": [
    "### Inference prompts"
   ]
  },
  {
   "cell_type": "markdown",
   "id": "463d1011",
   "metadata": {},
   "source": [
    "Simple json format correction prompt"
   ]
  },
  {
   "cell_type": "code",
   "execution_count": null,
   "id": "34fd5be9",
   "metadata": {},
   "outputs": [
    {
     "data": {
      "application/vnd.jupyter.widget-view+json": {
       "model_id": "3c5a307314ed4081964af5bc38a5b09c",
       "version_major": 2,
       "version_minor": 0
      },
      "text/plain": [
       "Query is running:   0%|          |"
      ]
     },
     "metadata": {},
     "output_type": "display_data"
    },
    {
     "data": {
      "text/html": [
       "<div>\n",
       "<style scoped>\n",
       "    .dataframe tbody tr th:only-of-type {\n",
       "        vertical-align: middle;\n",
       "    }\n",
       "\n",
       "    .dataframe tbody tr th {\n",
       "        vertical-align: top;\n",
       "    }\n",
       "\n",
       "    .dataframe thead th {\n",
       "        text-align: right;\n",
       "    }\n",
       "</style>\n",
       "<table border=\"1\" class=\"dataframe\">\n",
       "  <thead>\n",
       "    <tr style=\"text-align: right;\">\n",
       "      <th></th>\n",
       "    </tr>\n",
       "  </thead>\n",
       "  <tbody>\n",
       "  </tbody>\n",
       "</table>\n",
       "</div>"
      ],
      "text/plain": [
       "Empty DataFrame\n",
       "Columns: []\n",
       "Index: []"
      ]
     },
     "execution_count": 297,
     "metadata": {},
     "output_type": "execute_result"
    }
   ],
   "source": [
    "%%bigquery\n",
    "MERGE prompts p USING (SELECT \n",
    "'''You are an expert in JSON format .\n",
    "Please analyse given JSON %s and correct format errors, if any.\n",
    "\n",
    "The JSON to be analysed is below between <json> tags.\n",
    "<json>\n",
    "%s\n",
    "</json>\n",
    "\n",
    "Return only the corrected JSON as a response, without any comments.\n",
    "''' prompt, 'json' code) ip ON p.code = ip.code\n",
    "WHEN MATCHED THEN UPDATE SET prompt = ip.prompt\n",
    "WHEN NOT MATCHED THEN INSERT (code, prompt) VALUES(code, prompt);"
   ]
  },
  {
   "cell_type": "markdown",
   "id": "b1d32a15",
   "metadata": {},
   "source": [
    "Correction of scanned books OCR results"
   ]
  },
  {
   "cell_type": "code",
   "execution_count": null,
   "id": "00c52fc9",
   "metadata": {},
   "outputs": [
    {
     "data": {
      "application/vnd.jupyter.widget-view+json": {
       "model_id": "062350714a3b4c28a19634a36bd7e82c",
       "version_major": 2,
       "version_minor": 0
      },
      "text/plain": [
       "Query is running:   0%|          |"
      ]
     },
     "metadata": {},
     "output_type": "display_data"
    },
    {
     "data": {
      "text/html": [
       "<div>\n",
       "<style scoped>\n",
       "    .dataframe tbody tr th:only-of-type {\n",
       "        vertical-align: middle;\n",
       "    }\n",
       "\n",
       "    .dataframe tbody tr th {\n",
       "        vertical-align: top;\n",
       "    }\n",
       "\n",
       "    .dataframe thead th {\n",
       "        text-align: right;\n",
       "    }\n",
       "</style>\n",
       "<table border=\"1\" class=\"dataframe\">\n",
       "  <thead>\n",
       "    <tr style=\"text-align: right;\">\n",
       "      <th></th>\n",
       "    </tr>\n",
       "  </thead>\n",
       "  <tbody>\n",
       "  </tbody>\n",
       "</table>\n",
       "</div>"
      ],
      "text/plain": [
       "Empty DataFrame\n",
       "Columns: []\n",
       "Index: []"
      ]
     },
     "execution_count": 298,
     "metadata": {},
     "output_type": "execute_result"
    }
   ],
   "source": [
    "%%bigquery\n",
    "MERGE prompts p USING (SELECT \n",
    "'''Your task is to fix scanning or optical character recognition (OCR) errors in given book fragment.\n",
    "- Example of scanned text with errors: \"which* Jterhapf\". Correct text: \"which perhaps\" or \"which, perhaps\"\n",
    "Please also change forms of old english (if any) to modern ones, if it doesn't change the meaning of the text. \n",
    "- For example, please change \"long s\" (ſ or f) to normal \"s\".\n",
    "\n",
    "There can be many different types of errors, so please analyze the text carefully to establish the correct content.\n",
    "\n",
    "Below you will receive a fragment of some book, and your job is to correct all mistakes and output valid, corrected text.\n",
    "The fragment is between the tags <fragment_to_fix> and </fragment_to_fix>.\n",
    "\n",
    "To better understand the context and meaning of the fragment, we also provide some portions of text before and after it.\n",
    "These are placed between the tags <fragment_before> and </fragment_before> for the portion before the main text, and <fragment_after> and </fragment_after> for the portion after the main text.\n",
    "The portions before and after may be empty if the main fragment is from the very beginning or the very end of the book.\n",
    "Please do not try to correct the portions before and after — they are only for you to better understand the context and meaning of the main fragment.\n",
    "\n",
    "Take into consideration that some books are over 200 years old, so the language may be slightly different from used currently.\n",
    "After preparing the corrected text, read it again to double-check its correctness.\n",
    "\n",
    "<fragment_before>\n",
    "%s\n",
    "</fragment_before>\n",
    "\n",
    "<fragment_to_fix>\n",
    "%s\n",
    "</fragment_to_fix>\n",
    "\n",
    "<fragment_after>\n",
    "%s\n",
    "</fragment_after>\n",
    "\n",
    "Return corrected text only, without any additional comments.\n",
    "''' prompt, 'correct' code) ip ON p.code = ip.code\n",
    "WHEN MATCHED THEN UPDATE SET prompt = ip.prompt\n",
    "WHEN NOT MATCHED THEN INSERT (code, prompt) VALUES(code, prompt);"
   ]
  },
  {
   "cell_type": "markdown",
   "id": "dc449fcd",
   "metadata": {},
   "source": [
    "Book fragment summarization"
   ]
  },
  {
   "cell_type": "code",
   "execution_count": null,
   "id": "60c2866a",
   "metadata": {},
   "outputs": [
    {
     "data": {
      "application/vnd.jupyter.widget-view+json": {
       "model_id": "4e806a19484f46e99fd3c921354c9a75",
       "version_major": 2,
       "version_minor": 0
      },
      "text/plain": [
       "Query is running:   0%|          |"
      ]
     },
     "metadata": {},
     "output_type": "display_data"
    },
    {
     "data": {
      "text/html": [
       "<div>\n",
       "<style scoped>\n",
       "    .dataframe tbody tr th:only-of-type {\n",
       "        vertical-align: middle;\n",
       "    }\n",
       "\n",
       "    .dataframe tbody tr th {\n",
       "        vertical-align: top;\n",
       "    }\n",
       "\n",
       "    .dataframe thead th {\n",
       "        text-align: right;\n",
       "    }\n",
       "</style>\n",
       "<table border=\"1\" class=\"dataframe\">\n",
       "  <thead>\n",
       "    <tr style=\"text-align: right;\">\n",
       "      <th></th>\n",
       "    </tr>\n",
       "  </thead>\n",
       "  <tbody>\n",
       "  </tbody>\n",
       "</table>\n",
       "</div>"
      ],
      "text/plain": [
       "Empty DataFrame\n",
       "Columns: []\n",
       "Index: []"
      ]
     },
     "execution_count": 299,
     "metadata": {},
     "output_type": "execute_result"
    }
   ],
   "source": [
    "%%bigquery\n",
    "MERGE prompts p USING (SELECT   \n",
    "'''You are an expert in summarizing books.\n",
    "Your goal is to summarize a book fragment. Summary should contain no more then %d characters.\n",
    "\n",
    "The fragment is provided between <book_fragment> tags below:\n",
    "<book_fragment>\n",
    "%s\n",
    "</book_fragment>\n",
    "\n",
    "Return just a summary wihout any additional comments.\n",
    "''' prompt, 'summarize' code) ip ON p.code = ip.code\n",
    "WHEN MATCHED THEN UPDATE SET prompt = ip.prompt\n",
    "WHEN NOT MATCHED THEN INSERT (code, prompt) VALUES(code, prompt);"
   ]
  },
  {
   "cell_type": "markdown",
   "id": "450ed73f",
   "metadata": {},
   "source": [
    "Whole book summarization"
   ]
  },
  {
   "cell_type": "code",
   "execution_count": null,
   "id": "b68c370b",
   "metadata": {},
   "outputs": [
    {
     "data": {
      "application/vnd.jupyter.widget-view+json": {
       "model_id": "6333d1281fe94896938e5b5195803d69",
       "version_major": 2,
       "version_minor": 0
      },
      "text/plain": [
       "Query is running:   0%|          |"
      ]
     },
     "metadata": {},
     "output_type": "display_data"
    },
    {
     "data": {
      "text/html": [
       "<div>\n",
       "<style scoped>\n",
       "    .dataframe tbody tr th:only-of-type {\n",
       "        vertical-align: middle;\n",
       "    }\n",
       "\n",
       "    .dataframe tbody tr th {\n",
       "        vertical-align: top;\n",
       "    }\n",
       "\n",
       "    .dataframe thead th {\n",
       "        text-align: right;\n",
       "    }\n",
       "</style>\n",
       "<table border=\"1\" class=\"dataframe\">\n",
       "  <thead>\n",
       "    <tr style=\"text-align: right;\">\n",
       "      <th></th>\n",
       "    </tr>\n",
       "  </thead>\n",
       "  <tbody>\n",
       "  </tbody>\n",
       "</table>\n",
       "</div>"
      ],
      "text/plain": [
       "Empty DataFrame\n",
       "Columns: []\n",
       "Index: []"
      ]
     },
     "execution_count": 300,
     "metadata": {},
     "output_type": "execute_result"
    }
   ],
   "source": [
    "%%bigquery\n",
    "MERGE prompts p USING (SELECT\n",
    "'''You are an expert in summarizing books.\n",
    "Your goal is to prepare book summary based on summaries of all book fragments.\n",
    "The result summary should contain around 20000 characters.\n",
    "Avoid redundancy while maintaining comprehensiveness when summarizing.\n",
    "\n",
    "Concatenated summaries of all book fragments are placed below, between <fragment_summaries> tags:\n",
    "<fragment_summaries>\n",
    "%s\n",
    "</fragment_summaries>\n",
    "\n",
    "Return just a summary without any additional comments.\n",
    "''' prompt, 'reduce_summary' code) ip ON p.code = ip.code\n",
    "WHEN MATCHED THEN UPDATE SET prompt = ip.prompt\n",
    "WHEN NOT MATCHED THEN INSERT (code, prompt) VALUES(code, prompt);"
   ]
  },
  {
   "cell_type": "markdown",
   "id": "23103c42",
   "metadata": {},
   "source": [
    "Extracting characters identifying information from given book fragment"
   ]
  },
  {
   "cell_type": "code",
   "execution_count": null,
   "id": "b1c513ee",
   "metadata": {},
   "outputs": [
    {
     "data": {
      "application/vnd.jupyter.widget-view+json": {
       "model_id": "59a4d5390446488189764756bd78fae0",
       "version_major": 2,
       "version_minor": 0
      },
      "text/plain": [
       "Query is running:   0%|          |"
      ]
     },
     "metadata": {},
     "output_type": "display_data"
    },
    {
     "data": {
      "text/html": [
       "<div>\n",
       "<style scoped>\n",
       "    .dataframe tbody tr th:only-of-type {\n",
       "        vertical-align: middle;\n",
       "    }\n",
       "\n",
       "    .dataframe tbody tr th {\n",
       "        vertical-align: top;\n",
       "    }\n",
       "\n",
       "    .dataframe thead th {\n",
       "        text-align: right;\n",
       "    }\n",
       "</style>\n",
       "<table border=\"1\" class=\"dataframe\">\n",
       "  <thead>\n",
       "    <tr style=\"text-align: right;\">\n",
       "      <th></th>\n",
       "    </tr>\n",
       "  </thead>\n",
       "  <tbody>\n",
       "  </tbody>\n",
       "</table>\n",
       "</div>"
      ],
      "text/plain": [
       "Empty DataFrame\n",
       "Columns: []\n",
       "Index: []"
      ]
     },
     "execution_count": 301,
     "metadata": {},
     "output_type": "execute_result"
    }
   ],
   "source": [
    "%%bigquery\n",
    "MERGE prompts p USING (SELECT\n",
    "'''You are an expert in extracting information from books and manipulating JSON structures.\n",
    "Your task is to provide identifying information of significant human characters (called later Individuals) from given book fragment.\n",
    "\n",
    "Provide the output as a JSON array, single Individual should be described in separate JSON object in the array.\n",
    "The schema definition is below.\n",
    "{\n",
    "  \"type\": \"array\",\n",
    "  \"items\": {\n",
    "    \"type\": \"object\",\n",
    "    \"properties\": {\n",
    "      \"full_name\": {\"type\": \"string\", \"maxLength\": 300, \"description\": \"Full name including titles, nicknames, aliases, maiden names, or pseudonyms if mentioned. Include all names if Individual has many names.\"},\n",
    "\t    \"information\": {\"type\": \"string\", \"maxLength\": 1500, \"description\": \"Any information that may help uniquely identify given Individual, e.g. sex, age, origin, physical appearance, distinguishing marks or features and other helpful information\"},\n",
    "\t    \"importance\": {\"type\": \"integer\", \"description\": \"Number of sentences being related in any way to given Individual in the text\"},\n",
    "    }\n",
    "  }\n",
    "}\n",
    "\n",
    "The book fragment for Individuals analysis is provided between <book_fragment> tags.\n",
    "<book_fragment>\n",
    "%s\n",
    "</book_fragment>\n",
    "\n",
    "Important Guidelines for choosing Individuals to be included in the JSON array:\n",
    "1. Omit unnamed crowd members or minor Individuals mentioned only in passing.\n",
    "2. Add only Individuals who play meaningful roles or are described in details in given book fragment. \n",
    "\n",
    "Other important Guidelines:\n",
    "1. Do not duplicate JSON objects for the same Individual.\n",
    "2. Strictly respect the maximum character limits for each field, especially max 1500 characters for `information`. Summarize to reduce size, if necessary.\n",
    "\n",
    "Before returning, fix all format errors in JSON array, if any.\n",
    "Return only corrected JSON array as a response, without any additional comments.   \n",
    "''' prompt, 'characters_id_data' code) ip ON p.code = ip.code\n",
    "WHEN MATCHED THEN UPDATE SET prompt = ip.prompt\n",
    "WHEN NOT MATCHED THEN INSERT (code, prompt) VALUES(code, prompt);"
   ]
  },
  {
   "cell_type": "markdown",
   "id": "a326fa2d",
   "metadata": {},
   "source": [
    "Identifying the same characters in duplicate candidates pairs"
   ]
  },
  {
   "cell_type": "code",
   "execution_count": null,
   "id": "58cc2eaa",
   "metadata": {},
   "outputs": [
    {
     "data": {
      "application/vnd.jupyter.widget-view+json": {
       "model_id": "e247f8586e674d6080e36221e538393d",
       "version_major": 2,
       "version_minor": 0
      },
      "text/plain": [
       "Query is running:   0%|          |"
      ]
     },
     "metadata": {},
     "output_type": "display_data"
    },
    {
     "data": {
      "text/html": [
       "<div>\n",
       "<style scoped>\n",
       "    .dataframe tbody tr th:only-of-type {\n",
       "        vertical-align: middle;\n",
       "    }\n",
       "\n",
       "    .dataframe tbody tr th {\n",
       "        vertical-align: top;\n",
       "    }\n",
       "\n",
       "    .dataframe thead th {\n",
       "        text-align: right;\n",
       "    }\n",
       "</style>\n",
       "<table border=\"1\" class=\"dataframe\">\n",
       "  <thead>\n",
       "    <tr style=\"text-align: right;\">\n",
       "      <th></th>\n",
       "    </tr>\n",
       "  </thead>\n",
       "  <tbody>\n",
       "  </tbody>\n",
       "</table>\n",
       "</div>"
      ],
      "text/plain": [
       "Empty DataFrame\n",
       "Columns: []\n",
       "Index: []"
      ]
     },
     "execution_count": 302,
     "metadata": {},
     "output_type": "execute_result"
    }
   ],
   "source": [
    "%%bigquery\n",
    "MERGE prompts p USING (SELECT   \n",
    "'''You are an expert in comparing human characters (called later \"Individuals\") based on descriptions from different fragments of the same book.\n",
    "Your task is to analyse each pair of Individuals information and names, and provide judgement whether both Individuals are in fact the same person, or not.\n",
    "\n",
    "The input data are provided as a JSON array. Each Individuals pair is described in separate JSON object with a flat structure.\n",
    "The input schema definition is below.\n",
    "{\n",
    "  \"type\": \"array\",\n",
    "  \"items\": {\n",
    "    \"type\": \"object\",\n",
    "    \"properties\": {\n",
    "\t\"id\": {\"type\": \"integer\", \"description\": \"A unique identifier of a pair\"},\n",
    "\t\t\"first_individual_full_name\": {\"type\": \"string\", \"description\": \"Full name of the first Individual\"},\n",
    "\t\t\"first_individual_information\": {\"type\": \"string\", \"description\": \"Additional information describing first Individual\"},\n",
    "\t\t\"second_individual_full_name\": {\"type\": \"string\", \"description\": \"Full name of the second Individual\"},\n",
    "\t\t\"second_individual_information\": {\"type\": \"string\", \"description\": \"Additional information describing second Individual\"}\n",
    "    }\n",
    "  }\n",
    "}\n",
    "\n",
    "The input data for analysis is provided between <individual_pairs> tags.\n",
    "<individual_pairs>\n",
    "%s\n",
    "</individual_pairs>\n",
    "\n",
    "As a supplementary information you can use the summary of the whole book. It is placed between <summary> tags.\n",
    "<summary>\n",
    "%s\n",
    "</summary>\n",
    "\n",
    "As the result please return JSON array containing only pairs where first and second Individual are in fact the same person. If unsure, assume they are different persons and do not return.\n",
    "If there are no pairs containing the same Individual, then return empty array.\n",
    "Return only JSON array, without any additional comments.   \n",
    "''' prompt, 'find_the_same_characters' code) ip ON p.code = ip.code\n",
    "WHEN MATCHED THEN UPDATE SET prompt = ip.prompt\n",
    "WHEN NOT MATCHED THEN INSERT (code, prompt) VALUES(code, prompt);"
   ]
  },
  {
   "cell_type": "markdown",
   "id": "5c00d225",
   "metadata": {},
   "source": [
    "Identifying different characters in duplicate candidates pairs - double check of previous prompt result"
   ]
  },
  {
   "cell_type": "code",
   "execution_count": null,
   "id": "edaff751",
   "metadata": {},
   "outputs": [
    {
     "data": {
      "application/vnd.jupyter.widget-view+json": {
       "model_id": "6c2b01dd9bd7408190cde7882f90a83f",
       "version_major": 2,
       "version_minor": 0
      },
      "text/plain": [
       "Query is running:   0%|          |"
      ]
     },
     "metadata": {},
     "output_type": "display_data"
    },
    {
     "data": {
      "text/html": [
       "<div>\n",
       "<style scoped>\n",
       "    .dataframe tbody tr th:only-of-type {\n",
       "        vertical-align: middle;\n",
       "    }\n",
       "\n",
       "    .dataframe tbody tr th {\n",
       "        vertical-align: top;\n",
       "    }\n",
       "\n",
       "    .dataframe thead th {\n",
       "        text-align: right;\n",
       "    }\n",
       "</style>\n",
       "<table border=\"1\" class=\"dataframe\">\n",
       "  <thead>\n",
       "    <tr style=\"text-align: right;\">\n",
       "      <th></th>\n",
       "    </tr>\n",
       "  </thead>\n",
       "  <tbody>\n",
       "  </tbody>\n",
       "</table>\n",
       "</div>"
      ],
      "text/plain": [
       "Empty DataFrame\n",
       "Columns: []\n",
       "Index: []"
      ]
     },
     "execution_count": 303,
     "metadata": {},
     "output_type": "execute_result"
    }
   ],
   "source": [
    "%%bigquery\n",
    "MERGE prompts p USING (SELECT   \n",
    "'''You are an expert in comparing human characters (called later \"Individuals\") based on descriptions from different fragments of the same book.\n",
    "Your task is to analyse each pair of Individuals information and names, and provide judgement whether both Individuals are in fact the same person, or not.\n",
    "\n",
    "The input data are provided as a JSON array. Each Individuals pair is described in separate JSON object with a flat structure.\n",
    "The input schema definition is below.\n",
    "{\n",
    "  \"type\": \"array\",\n",
    "  \"items\": {\n",
    "    \"type\": \"object\",\n",
    "    \"properties\": {\n",
    "\t\"id\": {\"type\": \"integer\", \"description\": \"A unique identifier of a pair\"},\n",
    "\t\t\"first_individual_full_name\": {\"type\": \"string\", \"description\": \"Full name of the first Individual\"},\n",
    "\t\t\"first_individual_information\": {\"type\": \"string\", \"description\": \"Additional information describing first Individual\"},\n",
    "\t\t\"second_individual_full_name\": {\"type\": \"string\", \"description\": \"Full name of the second Individual\"},\n",
    "\t\t\"second_individual_information\": {\"type\": \"string\", \"description\": \"Additional information describing second Individual\"}\n",
    "    }\n",
    "  }\n",
    "}\n",
    "\n",
    "The input data for analysis is provided between <individual_pairs> tags.\n",
    "<individual_pairs>\n",
    "%s\n",
    "</individual_pairs>\n",
    "\n",
    "As a supplementary information you can use the summary of the whole book. It is placed between <summary> tags.\n",
    "<summary>\n",
    "%s\n",
    "</summary>\n",
    "\n",
    "As the result please return JSON array containing only pairs where first and second Individual are different persons. If unsure, assume they are different.\n",
    "Before returning, check and fix all format errors in JSON array, if any.\n",
    "Return only JSON array, without any additional comments.   \n",
    "''' prompt, 'find_different_characters' code) ip ON p.code = ip.code\n",
    "WHEN MATCHED THEN UPDATE SET prompt = ip.prompt\n",
    "WHEN NOT MATCHED THEN INSERT (code, prompt) VALUES(code, prompt);"
   ]
  },
  {
   "cell_type": "markdown",
   "id": "b893179f",
   "metadata": {},
   "source": [
    "Another check of ready to merge array with identifying information of (most probably) the same character"
   ]
  },
  {
   "cell_type": "code",
   "execution_count": null,
   "id": "d62b84a1",
   "metadata": {},
   "outputs": [
    {
     "data": {
      "application/vnd.jupyter.widget-view+json": {
       "model_id": "d6a621814ab74ab3a838dd39a3538384",
       "version_major": 2,
       "version_minor": 0
      },
      "text/plain": [
       "Query is running:   0%|          |"
      ]
     },
     "metadata": {},
     "output_type": "display_data"
    },
    {
     "data": {
      "text/html": [
       "<div>\n",
       "<style scoped>\n",
       "    .dataframe tbody tr th:only-of-type {\n",
       "        vertical-align: middle;\n",
       "    }\n",
       "\n",
       "    .dataframe tbody tr th {\n",
       "        vertical-align: top;\n",
       "    }\n",
       "\n",
       "    .dataframe thead th {\n",
       "        text-align: right;\n",
       "    }\n",
       "</style>\n",
       "<table border=\"1\" class=\"dataframe\">\n",
       "  <thead>\n",
       "    <tr style=\"text-align: right;\">\n",
       "      <th></th>\n",
       "    </tr>\n",
       "  </thead>\n",
       "  <tbody>\n",
       "  </tbody>\n",
       "</table>\n",
       "</div>"
      ],
      "text/plain": [
       "Empty DataFrame\n",
       "Columns: []\n",
       "Index: []"
      ]
     },
     "execution_count": 305,
     "metadata": {},
     "output_type": "execute_result"
    }
   ],
   "source": [
    "%%bigquery\n",
    "MERGE prompts p USING (SELECT\n",
    "'''You are an expert in comparing human characters (called later \"Individuals\") based on descriptions from different fragments of the same book.\n",
    "As an input data to analysis you have an array of JSON objects representing Individuals. Previous analysis indicated that each Individual in the array is in fact the same person.\n",
    "Your task is to analyse all JSON objects in the array and double check if all the objects indeed represent the same person.\n",
    "\n",
    "Please see input JSON array schema definition:\n",
    "{\n",
    "  \"type\": \"array\",\n",
    "  \"items\": {\n",
    "    \"type\": \"object\",\n",
    "    \"properties\": {\n",
    "      \"full_name\": {\"type\": \"string\", \"description\": \"Full name including titles, nicknames, aliases, maiden names, or pseudonyms if mentioned. Include all names if Individual has many names.\"},\n",
    "\t    \"information\": {\"type\": \"string\", \"description\": \"Any information that may help uniquely identify given Individual, e.g. sex, age, origin, physical appearance, distinguishing marks or features and other helpful information\"}\n",
    "    }\n",
    "  }\n",
    "}\n",
    "\n",
    "JSON array with Individuals suspected to be the same person is below, between <character> tags:\n",
    "<character>\n",
    "%s\n",
    "</character>\n",
    "\n",
    "As a supplementary information you can use the summary of the whole book. It is placed between <summary> tags below.\n",
    "<summary>\n",
    "%s\n",
    "</summary>\n",
    "\n",
    "Please return \"true\" if you think that all Individuals indeed represent the same person, return \"false\" otherwise. If in doubt return \"false\"\n",
    "Return only one word as a response, without any additional comments.   \n",
    "''' prompt, 'merge_character_ids_double_check' code) ip ON p.code = ip.code\n",
    "WHEN MATCHED THEN UPDATE SET prompt = ip.prompt\n",
    "WHEN NOT MATCHED THEN INSERT (code, prompt) VALUES(code, prompt);"
   ]
  },
  {
   "cell_type": "markdown",
   "id": "516b0e93",
   "metadata": {},
   "source": [
    "Merging array with identifying information of the same character to single character data"
   ]
  },
  {
   "cell_type": "code",
   "execution_count": null,
   "id": "2ec052d8",
   "metadata": {},
   "outputs": [
    {
     "data": {
      "application/vnd.jupyter.widget-view+json": {
       "model_id": "d5e3e8b876064a68a965030d449d140f",
       "version_major": 2,
       "version_minor": 0
      },
      "text/plain": [
       "Query is running:   0%|          |"
      ]
     },
     "metadata": {},
     "output_type": "display_data"
    },
    {
     "data": {
      "text/html": [
       "<div>\n",
       "<style scoped>\n",
       "    .dataframe tbody tr th:only-of-type {\n",
       "        vertical-align: middle;\n",
       "    }\n",
       "\n",
       "    .dataframe tbody tr th {\n",
       "        vertical-align: top;\n",
       "    }\n",
       "\n",
       "    .dataframe thead th {\n",
       "        text-align: right;\n",
       "    }\n",
       "</style>\n",
       "<table border=\"1\" class=\"dataframe\">\n",
       "  <thead>\n",
       "    <tr style=\"text-align: right;\">\n",
       "      <th></th>\n",
       "    </tr>\n",
       "  </thead>\n",
       "  <tbody>\n",
       "  </tbody>\n",
       "</table>\n",
       "</div>"
      ],
      "text/plain": [
       "Empty DataFrame\n",
       "Columns: []\n",
       "Index: []"
      ]
     },
     "execution_count": 304,
     "metadata": {},
     "output_type": "execute_result"
    }
   ],
   "source": [
    "%%bigquery\n",
    "MERGE prompts p USING (SELECT\n",
    "'''You are an expert in merging human characters names and descriptions, comming from different fragments of the same book. (human characters are called later \"Individuals\") \n",
    "Your task is to merge single Individual identifying information based on a book.\n",
    "\n",
    "The input data is an array of JSON objects each representing the same Individual but based on different fragment of the same book.\n",
    "The order of JSON objects is the same as order of fragments in the book.\n",
    "Please see input data schema definition:\n",
    "{\n",
    "  \"type\": \"array\",\n",
    "  \"items\": {\n",
    "    \"type\": \"object\",\n",
    "    \"properties\": {\n",
    "      \"full_name\": {\"type\": \"string\", \"maxLength\": 300, \"description\": \"Full name including titles, nicknames, aliases, maiden names, or pseudonyms if mentioned. Include all names if Individual has many names.\"},\n",
    "\t    \"information\": {\"type\": \"string\", \"maxLength\": 2500, \"description\": \"Any information that may help uniquely identify given Individual, e.g. sex, age, origin, physical appearance, distinguishing marks or features and other helpful information\"}\n",
    "    }\n",
    "  }\n",
    "}\n",
    "\n",
    "Between <character> tags is input JSON array with Individual data to be merged.\n",
    "<character>\n",
    "%s\n",
    "</character>\n",
    "\n",
    "As a supplementary information you can use the summary of the whole book. It is placed between <summary> tags below.\n",
    "<summary>\n",
    "%s\n",
    "</summary>\n",
    "\n",
    "Important Guidelines for merging data:\n",
    "\n",
    "1. The result should be just one single JSON object (not array) containing summarized full_name and information from all JSON objects in the array.\n",
    "2. Avoid redundancy while maintaining comprehensiveness when merging.\n",
    "3. The format of result JSON object should be the same as the format on JSON objects in the array.\n",
    "4. Strictly maximum character limits for both fields. Summarize if necessary.\n",
    "\n",
    "Before returning, check and fix all format errors in JSON array, if any.\n",
    "Return only merged JSON object as a response, without any additional comments.   \n",
    "\n",
    "''' prompt, 'merge_character_ids' code) ip ON p.code = ip.code\n",
    "WHEN MATCHED THEN UPDATE SET prompt = ip.prompt\n",
    "WHEN NOT MATCHED THEN INSERT (code, prompt) VALUES(code, prompt);"
   ]
  },
  {
   "cell_type": "markdown",
   "id": "290af2e9",
   "metadata": {},
   "source": [
    "Extract desired characters traits from given book fragment"
   ]
  },
  {
   "cell_type": "code",
   "execution_count": null,
   "id": "fecf6402",
   "metadata": {},
   "outputs": [
    {
     "data": {
      "application/vnd.jupyter.widget-view+json": {
       "model_id": "c3dc43c2d4bb4e4a825955ce749558cc",
       "version_major": 2,
       "version_minor": 0
      },
      "text/plain": [
       "Query is running:   0%|          |"
      ]
     },
     "metadata": {},
     "output_type": "display_data"
    },
    {
     "data": {
      "text/html": [
       "<div>\n",
       "<style scoped>\n",
       "    .dataframe tbody tr th:only-of-type {\n",
       "        vertical-align: middle;\n",
       "    }\n",
       "\n",
       "    .dataframe tbody tr th {\n",
       "        vertical-align: top;\n",
       "    }\n",
       "\n",
       "    .dataframe thead th {\n",
       "        text-align: right;\n",
       "    }\n",
       "</style>\n",
       "<table border=\"1\" class=\"dataframe\">\n",
       "  <thead>\n",
       "    <tr style=\"text-align: right;\">\n",
       "      <th></th>\n",
       "    </tr>\n",
       "  </thead>\n",
       "  <tbody>\n",
       "  </tbody>\n",
       "</table>\n",
       "</div>"
      ],
      "text/plain": [
       "Empty DataFrame\n",
       "Columns: []\n",
       "Index: []"
      ]
     },
     "execution_count": 307,
     "metadata": {},
     "output_type": "execute_result"
    }
   ],
   "source": [
    "%%bigquery\n",
    "MERGE prompts p USING (SELECT\n",
    "'''Your task is to provide given human characters analysis based on given book fragment. (human characters are called later \"Individuals\")\n",
    "The analysis serves academic research on understanding human characteristics across different historical periods, geographical regions, and social statuses.\n",
    "\n",
    "Data format:\n",
    "Data are stored in a JSON array. Each Individual is described in separate JSON object with a flat structure as specified in schema below.\n",
    "{\n",
    "  \"type\": \"array\",\n",
    "  \"items\": {\n",
    "    \"type\": \"object\",\n",
    "    \"properties\": {\n",
    "      \"id\": {\"type\": \"integer\", \"description\": \"A unique identifier of an Individual\"},\n",
    "      \"full_name\": {\"type\": \"string\", \"maxLength\": 300, \"description\": \"Full name including titles, nicknames, aliases, maiden names, or pseudonyms if mentioned, e.g.: 'Victor Frankenstein, M.D.'\"},\n",
    "      \"information\": {\"type\": \"string\", \"maxLength\": 1500, \"description\": \"Additional information describing given Individual\"},\n",
    "      \"sex\": {\"type\": \"string\", \"maxLength\": 100, \"description\": \"'male', 'female' or 'non-binary'\"},\n",
    "      \"social_class\": {\"type\": \"string\", \"maxLength\": 800, \"description\": \"Economic and social standing (e.g., 'nobility', 'working class', 'merchant class')\"},\n",
    "      \"wealth\": {\"type\": \"string\", \"maxLength\": 800, \"description\": \"Economic position, assets, property, financial struggles or abundance with information how wealth/income is obtained (inheritance, labor, trade, crime, patronage, etc.)\"},\n",
    "      \"values\": {\"type\": \"string\", \"maxLength\": 1600, \"description\": \"Core principles, moral compass, priorities (can include both positive and negative values)\"}\n",
    "    }\n",
    "  }\n",
    "}\n",
    "\n",
    "Between <example> tags is the output example is just to show the output structure, the real analysis results will be probably significantly larger and reacher in details.\n",
    "<example>\n",
    "[\n",
    "  {\n",
    "    \"id\": 78,\n",
    "    \"full_name\": \"Victor Frankenstein, M.D.\",\n",
    "    \"sex\": \"male\",\n",
    "    \"social_class\": \"Upper class, Geneva aristocracy\",\n",
    "    \"wealth\": \"Wealthy through family fortune, owns estate in Geneva, sufficient funds for extended travels and education. Wealth obtained thanks family inheritance, father's position as syndic, old Geneva money\",\n",
    "    \"values\": \"Knowledge, scientific progress, family loyalty, later: justice and revenge\"\n",
    "  },\n",
    "  {\n",
    "    \"id\": 3,\n",
    "    \"full_name\": \"James Johnson, known as 'Old Jim the Miller'\",\n",
    "    \"sex\": \"male\",\n",
    "    \"social_class\": \"Middle class tradesman, respected in village\",\n",
    "    \"wealth\": \"Comfortable middle class, owns mill and cottage, savings of approximately 200 pounds. Wealth sources: milling fees, grain trading profits, small loans to farmers at harvest time\",\n",
    "    \"values\": \"Hard work, family legacy, honest trade, community solidarity, tradition\"\n",
    "  }\n",
    "]\n",
    "</example>\n",
    "\n",
    "Between tags <characters> is input JSON array with Individuals to be analysed. Only `id`, `full_name` and `information` fields are prepopulated.\n",
    "<characters>\n",
    "%s\n",
    "</characters>\n",
    "\n",
    "The current book fragment for analysis is provided between <book_fragment> tags.\n",
    "<book_fragment>\n",
    "%s\n",
    "</book_fragment>\n",
    "\n",
    "You main task is to add missing fields in each Individual JSON object based on book fragment analysis.\n",
    "Additional guidelines:\n",
    "1. Fields `full_name` and `information` are already populated and should be used to identify Individuals in given book fragment\n",
    "2. Please do not modify content of the fields `full_name` and `id`.\n",
    "3. Please do not add any new Individuals to the JSON array\n",
    "4. Strictly observe the maximum character count for each field, comparing it with \"maxLength\" size. Summarize if necessary\n",
    "5. Leave fields empty rather than speculating\n",
    "6. Avoid redundancy while maintaining comprehensiveness\n",
    "7. Please remove `information` fields in output array.\n",
    "\n",
    "Return only supplemented JSON array as a response, without any additional comments.   \n",
    "''' prompt, 'extract_data' code) ip ON p.code = ip.code\n",
    "WHEN MATCHED THEN UPDATE SET prompt = ip.prompt\n",
    "WHEN NOT MATCHED THEN INSERT (code, prompt) VALUES(code, prompt);"
   ]
  },
  {
   "cell_type": "markdown",
   "id": "ded5b658",
   "metadata": {},
   "source": [
    "Merge given character traits gathered from all book fragments"
   ]
  },
  {
   "cell_type": "code",
   "execution_count": null,
   "id": "a833359a",
   "metadata": {},
   "outputs": [
    {
     "data": {
      "application/vnd.jupyter.widget-view+json": {
       "model_id": "05f577530e0145089b530d40dc8761b1",
       "version_major": 2,
       "version_minor": 0
      },
      "text/plain": [
       "Query is running:   0%|          |"
      ]
     },
     "metadata": {},
     "output_type": "display_data"
    },
    {
     "data": {
      "text/html": [
       "<div>\n",
       "<style scoped>\n",
       "    .dataframe tbody tr th:only-of-type {\n",
       "        vertical-align: middle;\n",
       "    }\n",
       "\n",
       "    .dataframe tbody tr th {\n",
       "        vertical-align: top;\n",
       "    }\n",
       "\n",
       "    .dataframe thead th {\n",
       "        text-align: right;\n",
       "    }\n",
       "</style>\n",
       "<table border=\"1\" class=\"dataframe\">\n",
       "  <thead>\n",
       "    <tr style=\"text-align: right;\">\n",
       "      <th></th>\n",
       "    </tr>\n",
       "  </thead>\n",
       "  <tbody>\n",
       "  </tbody>\n",
       "</table>\n",
       "</div>"
      ],
      "text/plain": [
       "Empty DataFrame\n",
       "Columns: []\n",
       "Index: []"
      ]
     },
     "execution_count": 308,
     "metadata": {},
     "output_type": "execute_result"
    }
   ],
   "source": [
    "%%bigquery\n",
    "MERGE prompts p USING (SELECT   \n",
    "'''Your task is to merge human character analyses based on a book, preserving source information, while avoiding redundancy.\n",
    "\n",
    "The input data is an array of JSON objects each representing the same character but based on different fragment of the same book.\n",
    "The order of JSON objects is the same as order of fragments in the book.\n",
    "Please see input data schema definition:\n",
    "{\n",
    "  \"type\": \"array\",\n",
    "  \"items\": {\n",
    "    \"type\": \"object\",\n",
    "    \"properties\": {\n",
    "      \"id\": {\"type\": \"integer\", \"description\": \"A unique identifier of an Individual. Can be ignored.\"},\n",
    "      \"full_name\": {\"type\": \"string\", \"maxLength\": 300, \"description\": \"Full name including titles, nicknames, aliases, maiden names, or pseudonyms if mentioned, e.g.: 'Victor Frankenstein, M.D.'\"},\n",
    "      \"sex\": {\"type\": \"string\", \"maxLength\": 100, \"description\": \"'male', 'female' or 'non-binary'\"},\n",
    "      \"social_class\": {\"type\": \"string\", \"maxLength\": 800, \"description\": \"Economic and social standing (e.g., 'nobility', 'working class', 'merchant class')\"},\n",
    "      \"wealth\": {\"type\": \"string\", \"maxLength\": 800, \"description\": \"Economic position, assets, property, financial struggles or abundance with information how wealth/income is obtained (inheritance, labor, trade, crime, patronage, etc.)\"},\n",
    "      \"values\": {\"type\": \"string\", \"maxLength\": 1600, \"description\": \"Core principles, moral compass, priorities (can include both positive and negative values)\"}\n",
    "    }\n",
    "  }\n",
    "}\n",
    "\n",
    "Between <character> tags is input JSON array with character data to be merged.\n",
    "<character>\n",
    "%s\n",
    "</character>\n",
    "\n",
    "As a supplementary information you can use:\n",
    "- the summary of the whole book. It is placed between <summary> tags.\n",
    "- the short overall information about given character. It is placed between <information> tags.\n",
    "<summary>\n",
    "%s\n",
    "</summary>\n",
    "\n",
    "<information>\n",
    "%s\n",
    "</information>\n",
    "\n",
    "\n",
    "Important Guidelines for merging data:\n",
    "\n",
    "1. The result should be just one single JSON object (not array) containing summarized information from all JSON objects in the array.\n",
    "2. For each field please prepare a comprehensive summary of source fields, preserving the informations from each object, but avoiding redundancy.\n",
    "3. The format of result JSON object should be the same as the format on JSON objects in the array.\n",
    "4. Leave fields empty if they are empty in each JSON object, rather than speculating.\n",
    "\n",
    "After preparing the JSON object, please again check each field against redundancy. Summarize it again if necessary to reduce redundant information.\n",
    "\n",
    "Return only merged JSON object as a response, without any additional comments.   \n",
    "''' prompt, 'merge_character' code) ip ON p.code = ip.code\n",
    "WHEN MATCHED THEN UPDATE SET prompt = ip.prompt\n",
    "WHEN NOT MATCHED THEN INSERT (code, prompt) VALUES(code, prompt);"
   ]
  },
  {
   "cell_type": "markdown",
   "id": "d72001f8",
   "metadata": {},
   "source": [
    "Correct potential errors in final array with character traits"
   ]
  },
  {
   "cell_type": "code",
   "execution_count": null,
   "id": "c71d0345",
   "metadata": {},
   "outputs": [
    {
     "data": {
      "application/vnd.jupyter.widget-view+json": {
       "model_id": "229c9851f8f84342a6579b794c25709d",
       "version_major": 2,
       "version_minor": 0
      },
      "text/plain": [
       "Query is running:   0%|          |"
      ]
     },
     "metadata": {},
     "output_type": "display_data"
    },
    {
     "data": {
      "text/html": [
       "<div>\n",
       "<style scoped>\n",
       "    .dataframe tbody tr th:only-of-type {\n",
       "        vertical-align: middle;\n",
       "    }\n",
       "\n",
       "    .dataframe tbody tr th {\n",
       "        vertical-align: top;\n",
       "    }\n",
       "\n",
       "    .dataframe thead th {\n",
       "        text-align: right;\n",
       "    }\n",
       "</style>\n",
       "<table border=\"1\" class=\"dataframe\">\n",
       "  <thead>\n",
       "    <tr style=\"text-align: right;\">\n",
       "      <th></th>\n",
       "    </tr>\n",
       "  </thead>\n",
       "  <tbody>\n",
       "  </tbody>\n",
       "</table>\n",
       "</div>"
      ],
      "text/plain": [
       "Empty DataFrame\n",
       "Columns: []\n",
       "Index: []"
      ]
     },
     "execution_count": 306,
     "metadata": {},
     "output_type": "execute_result"
    }
   ],
   "source": [
    "%%bigquery\n",
    "MERGE prompts p USING (SELECT   \n",
    "'''Your task is to check and correct errors in input JSON object, if any.\n",
    "Please see schema definition:\n",
    "{\n",
    "  \"type\": \"object\",\n",
    "  \"properties\": {\n",
    "    \"id\": {\"type\": \"integer\", \"description\": \"A unique identifier of an Individual. Can be ignored.\"},\n",
    "    \"full_name\": {\"type\": \"string\", \"description\": \"Full name including titles, nicknames, aliases, maiden names, or pseudonyms if mentioned, e.g.: 'Victor Frankenstein, M.D.'\"},\n",
    "    \"sex\": {\"type\": \"string\", \"description\": \"'male', 'female' or 'non-binary'\"},\n",
    "    \"social_class\": {\"type\": \"string\", \"description\": \"Economic and social standing (e.g., 'nobility', 'working class', 'merchant class')\"},\n",
    "    \"wealth\": {\"type\": \"string\", \"description\": \"Economic position, assets, property, financial struggles or abundance with information how wealth/income is obtained (inheritance, labor, trade, crime, patronage, etc.)\"},\n",
    "    \"values\": {\"type\": \"string\", \"description\": \"Core principles, moral compass, priorities (can include both positive and negative values)\"}\n",
    "  }\n",
    "}\n",
    "\n",
    "The JSON object to be checked is between <character> tags below:\n",
    "<character>\n",
    "%s\n",
    "</character>\n",
    "\n",
    "Guidelines:\n",
    "1. Please check if all fields (except `id`) are of text type, if not, then please convert them to text, preserving all the information. For example: if value is an array, please convert it to semicolon separated text containing all array elements.\n",
    "2. If the field doesn't contain any real information, please remove the field altogether. For example, the field value may be: \"Unknown\", \"not specified\", \"null\", \"None mentioned\", empty text, etc.\n",
    "3. Please correct JSON format errors, if any.\n",
    "\n",
    "Return only corrected JSON object as a response, without any additional comments.   \n",
    "''' prompt, 'json_final_check' code) ip ON p.code = ip.code\n",
    "WHEN MATCHED THEN UPDATE SET prompt = ip.prompt\n",
    "WHEN NOT MATCHED THEN INSERT (code, prompt) VALUES(code, prompt);\n"
   ]
  },
  {
   "cell_type": "markdown",
   "id": "0073d454",
   "metadata": {},
   "source": [
    "Rank books based of inclusion of chuman characters - used in phase 1 when randomly searching books suitable for processing"
   ]
  },
  {
   "cell_type": "code",
   "execution_count": null,
   "id": "2c063f56",
   "metadata": {},
   "outputs": [
    {
     "data": {
      "application/vnd.jupyter.widget-view+json": {
       "model_id": "0380ea5fddf84ebea52cd845bfff916f",
       "version_major": 2,
       "version_minor": 0
      },
      "text/plain": [
       "Query is running:   0%|          |"
      ]
     },
     "metadata": {},
     "output_type": "display_data"
    },
    {
     "data": {
      "text/html": [
       "<div>\n",
       "<style scoped>\n",
       "    .dataframe tbody tr th:only-of-type {\n",
       "        vertical-align: middle;\n",
       "    }\n",
       "\n",
       "    .dataframe tbody tr th {\n",
       "        vertical-align: top;\n",
       "    }\n",
       "\n",
       "    .dataframe thead th {\n",
       "        text-align: right;\n",
       "    }\n",
       "</style>\n",
       "<table border=\"1\" class=\"dataframe\">\n",
       "  <thead>\n",
       "    <tr style=\"text-align: right;\">\n",
       "      <th></th>\n",
       "    </tr>\n",
       "  </thead>\n",
       "  <tbody>\n",
       "  </tbody>\n",
       "</table>\n",
       "</div>"
      ],
      "text/plain": [
       "Empty DataFrame\n",
       "Columns: []\n",
       "Index: []"
      ]
     },
     "execution_count": 309,
     "metadata": {},
     "output_type": "execute_result"
    }
   ],
   "source": [
    "%%bigquery\n",
    "MERGE prompts p USING (SELECT   \n",
    "'''You are the assistant analysing book data.\n",
    "Your task is to predict if given book contains meaningful human characters information, no matter if fictitious or real.\n",
    "You need to do the prediction based on first fragment of the book, its title and metadata containing themes from the book.\n",
    "\n",
    "The task is part of the project aimed at understanding human characteristics across different historical periods, geographical regions, and social statuses, based on human descriptions from books (both fictional and real).\n",
    "Many books, like scientific ones, financial reports, etc., do not contain human characters at all or only vaguely mentions humans. We need to exclude such books from further analysis.\n",
    "We are interested in book containing rich descriptions of individual humans. For example: it can be biographies, all kind of novels with lively human characters, investigative journalism or reporting focused on humans, and others.\n",
    "\n",
    "The book data is provided below between <book> tags, in a JSON format.\n",
    "note: the book was scanned and may contain many optical character recognition (OCR) errors.\n",
    "<book>\n",
    "%s\n",
    "</book>\n",
    "\n",
    "As an answer please return number from 1 to 3 where:\n",
    "  - \"1\" means: the book is not about humans\n",
    "  - \"2\" means: human characters occur in book, but scarcely described.\n",
    "  - \"3\" means: human characters occur and are depicted in details\n",
    "\n",
    "Please return just a number without additional comments.\n",
    "''' prompt, 'rank_books' code) ip ON p.code = ip.code\n",
    "WHEN MATCHED THEN UPDATE SET prompt = ip.prompt\n",
    "WHEN NOT MATCHED THEN INSERT (code, prompt) VALUES(code, prompt);"
   ]
  },
  {
   "cell_type": "markdown",
   "id": "566fd78e",
   "metadata": {},
   "source": [
    "Split traits to semantically different parts and sanitize them by removing irrelevant information"
   ]
  },
  {
   "cell_type": "code",
   "execution_count": null,
   "id": "51cbbde0",
   "metadata": {},
   "outputs": [
    {
     "data": {
      "application/vnd.jupyter.widget-view+json": {
       "model_id": "b42400f3d03c4d54a8062eb9a2116665",
       "version_major": 2,
       "version_minor": 0
      },
      "text/plain": [
       "Query is running:   0%|          |"
      ]
     },
     "metadata": {},
     "output_type": "display_data"
    },
    {
     "data": {
      "text/html": [
       "<div>\n",
       "<style scoped>\n",
       "    .dataframe tbody tr th:only-of-type {\n",
       "        vertical-align: middle;\n",
       "    }\n",
       "\n",
       "    .dataframe tbody tr th {\n",
       "        vertical-align: top;\n",
       "    }\n",
       "\n",
       "    .dataframe thead th {\n",
       "        text-align: right;\n",
       "    }\n",
       "</style>\n",
       "<table border=\"1\" class=\"dataframe\">\n",
       "  <thead>\n",
       "    <tr style=\"text-align: right;\">\n",
       "      <th></th>\n",
       "    </tr>\n",
       "  </thead>\n",
       "  <tbody>\n",
       "  </tbody>\n",
       "</table>\n",
       "</div>"
      ],
      "text/plain": [
       "Empty DataFrame\n",
       "Columns: []\n",
       "Index: []"
      ]
     },
     "execution_count": 310,
     "metadata": {},
     "output_type": "execute_result"
    }
   ],
   "source": [
    "%%bigquery\n",
    "MERGE prompts p USING (SELECT\n",
    "'''You are an expert in splitting information based on semantic meaning.\n",
    "\n",
    "Your task is to divide the given text into semantically distinct informations.\n",
    "\n",
    "The text describes human characters %s.\n",
    "\n",
    "Rules:\n",
    "1. Split ONLY if the text contains semantically different parts\n",
    "2. If the text describes a single coherent information, return it as one item\n",
    "3. Preserve context - don't split related concepts that belong together\n",
    "4. Remove redundant words but keep meaning intact\n",
    "\n",
    "Examples for three different types of traits; values, social class and wealth:\n",
    "- Input: \"Kingdom's strength, victory, leadership; Righteousness, religious observance, victory through God's help.\"\n",
    "- Output: [\"Kingdom's strength\", \"victory and leadership\", \"righteousness and religious observance\", \"God's help\"]\n",
    "\n",
    "- Input: \"Lieutenant, Officer in Kmita's company. Son of the Kokosinski family who use the seal of Pypka. Former outlaw.\"  \n",
    "- Output: [\"Lieutenant, Officer\", \"Former outlaw\", \"Probably belongs to wealty family\"]\n",
    "\n",
    "- Input: \"Described as a poor exile without a roof over his head, implying no significant wealth. Also noted as being part of Kmita's company and having implied noble standing.\"\n",
    "- Output: [\"poor, no significant wealth\", \"homeless\"]\n",
    "\n",
    "Provide the output as a JSON array of strings. The schema definition is below:\n",
    "{\"type\": \"array\", \"items\": {\"type\": \"string\"}}\n",
    "\n",
    "The text for analysis is provided between <traits> tags below:\n",
    "<traits>\n",
    "%s\n",
    "</traits>\n",
    "\n",
    "As a suplementary information you can use character description provided between <information> tags below:\n",
    "<information>\n",
    "%s\n",
    "</information>\n",
    "\n",
    "Esure that the JSON array is correctly formatted.\n",
    "Return only JSON array as a response, without any additional comments.\n",
    "''' prompt, 'split_traits' code) ip ON p.code = ip.code\n",
    "WHEN MATCHED THEN UPDATE SET prompt = ip.prompt\n",
    "WHEN NOT MATCHED THEN INSERT (code, prompt) VALUES(code, prompt);"
   ]
  },
  {
   "cell_type": "markdown",
   "id": "f7210557",
   "metadata": {},
   "source": [
    "Analyze traits sample from single cluster to name cluster and provide short description"
   ]
  },
  {
   "cell_type": "code",
   "execution_count": null,
   "id": "ea8f469f",
   "metadata": {},
   "outputs": [
    {
     "data": {
      "application/vnd.jupyter.widget-view+json": {
       "model_id": "c9dc5ff400f14c00bf4b2c649a68c9f4",
       "version_major": 2,
       "version_minor": 0
      },
      "text/plain": [
       "Query is running:   0%|          |"
      ]
     },
     "metadata": {},
     "output_type": "display_data"
    },
    {
     "data": {
      "text/html": [
       "<div>\n",
       "<style scoped>\n",
       "    .dataframe tbody tr th:only-of-type {\n",
       "        vertical-align: middle;\n",
       "    }\n",
       "\n",
       "    .dataframe tbody tr th {\n",
       "        vertical-align: top;\n",
       "    }\n",
       "\n",
       "    .dataframe thead th {\n",
       "        text-align: right;\n",
       "    }\n",
       "</style>\n",
       "<table border=\"1\" class=\"dataframe\">\n",
       "  <thead>\n",
       "    <tr style=\"text-align: right;\">\n",
       "      <th></th>\n",
       "    </tr>\n",
       "  </thead>\n",
       "  <tbody>\n",
       "  </tbody>\n",
       "</table>\n",
       "</div>"
      ],
      "text/plain": [
       "Empty DataFrame\n",
       "Columns: []\n",
       "Index: []"
      ]
     },
     "execution_count": 311,
     "metadata": {},
     "output_type": "execute_result"
    }
   ],
   "source": [
    "%%bigquery\n",
    "MERGE prompts p USING (SELECT\n",
    "'''You are an expert in text clusters classification.\n",
    "Your task is to name and describe each cluster extracted from large amount of examples describing human characters %s.\n",
    "\n",
    "As an input you have a JSON array containing cluster id (field `cluster_id`) and examples of traits fitting into this cluster (field: `examples`).\n",
    "The input is between <clusters> tag.\n",
    "<clusters>\n",
    "%s\n",
    "</clusters>\n",
    "\n",
    "For each cluster please: \n",
    "  - invent a short name, using one or few words, describing it most adequately\n",
    "  - provide, a one or few sentences long, adequate description\n",
    "Please output the result as a JSON array with following schema:\n",
    "{\n",
    "  \"type\": \"array\",\n",
    "  \"items\": {\n",
    "    \"type\": \"object\",\n",
    "    \"properties\": {\n",
    "      \"cluster_id\": {\"type\": \"integer\"},\n",
    "      \"cluster_name\": {\"type\": \"string\", \"maxLength\": 50}\n",
    "      \"cluster_description\": {\"type\": \"string\", \"maxLength\": 1000}\n",
    "    }\n",
    "  }\n",
    "}\n",
    "\n",
    "Ensure that the JSON array is correctly formatted.\n",
    "Return only JSON array as a response, without any additional comments.\n",
    "''' prompt, 'cluster_traits' code) ip ON p.code = ip.code\n",
    "WHEN MATCHED THEN UPDATE SET prompt = ip.prompt\n",
    "WHEN NOT MATCHED THEN INSERT (code, prompt) VALUES(code, prompt);"
   ]
  },
  {
   "cell_type": "code",
   "execution_count": 312,
   "id": "de2d42cd",
   "metadata": {},
   "outputs": [
    {
     "data": {
      "application/vnd.jupyter.widget-view+json": {
       "model_id": "aea5eedbcc544947921324bc0de9dcbc",
       "version_major": 2,
       "version_minor": 0
      },
      "text/plain": [
       "Query is running:   0%|          |"
      ]
     },
     "metadata": {},
     "output_type": "display_data"
    },
    {
     "data": {
      "text/html": [
       "<div>\n",
       "<style scoped>\n",
       "    .dataframe tbody tr th:only-of-type {\n",
       "        vertical-align: middle;\n",
       "    }\n",
       "\n",
       "    .dataframe tbody tr th {\n",
       "        vertical-align: top;\n",
       "    }\n",
       "\n",
       "    .dataframe thead th {\n",
       "        text-align: right;\n",
       "    }\n",
       "</style>\n",
       "<table border=\"1\" class=\"dataframe\">\n",
       "  <thead>\n",
       "    <tr style=\"text-align: right;\">\n",
       "      <th></th>\n",
       "    </tr>\n",
       "  </thead>\n",
       "  <tbody>\n",
       "  </tbody>\n",
       "</table>\n",
       "</div>"
      ],
      "text/plain": [
       "Empty DataFrame\n",
       "Columns: []\n",
       "Index: []"
      ]
     },
     "execution_count": 312,
     "metadata": {},
     "output_type": "execute_result"
    }
   ],
   "source": [
    "%%bigquery --pyformat\n",
    "\n",
    "CREATE OR REPLACE MODEL `gemini-embedding-001`\n",
    "REMOTE WITH CONNECTION `{connection_id}`\n",
    "OPTIONS(ENDPOINT = 'gemini-embedding-001');"
   ]
  },
  {
   "cell_type": "markdown",
   "id": "8f1d9ca3",
   "metadata": {},
   "source": [
    "### Phase 2 - Correcting Books\n",
    "Book correction performs correction of OCR book scanning errors. Such errors are quite common in books from GDELT Processes Internet Archive."
   ]
  },
  {
   "cell_type": "code",
   "execution_count": null,
   "id": "5826f531",
   "metadata": {},
   "outputs": [
    {
     "data": {
      "application/vnd.jupyter.widget-view+json": {
       "model_id": "310d25a9408b47c29345d96aada1077e",
       "version_major": 2,
       "version_minor": 0
      },
      "text/plain": [
       "Query is running:   0%|          |"
      ]
     },
     "metadata": {},
     "output_type": "display_data"
    },
    {
     "data": {
      "text/html": [
       "<div>\n",
       "<style scoped>\n",
       "    .dataframe tbody tr th:only-of-type {\n",
       "        vertical-align: middle;\n",
       "    }\n",
       "\n",
       "    .dataframe tbody tr th {\n",
       "        vertical-align: top;\n",
       "    }\n",
       "\n",
       "    .dataframe thead th {\n",
       "        text-align: right;\n",
       "    }\n",
       "</style>\n",
       "<table border=\"1\" class=\"dataframe\">\n",
       "  <thead>\n",
       "    <tr style=\"text-align: right;\">\n",
       "      <th></th>\n",
       "    </tr>\n",
       "  </thead>\n",
       "  <tbody>\n",
       "  </tbody>\n",
       "</table>\n",
       "</div>"
      ],
      "text/plain": [
       "Empty DataFrame\n",
       "Columns: []\n",
       "Index: []"
      ]
     },
     "execution_count": 313,
     "metadata": {},
     "output_type": "execute_result"
    }
   ],
   "source": [
    "%%bigquery --pyformat\n",
    "CREATE OR REPLACE PROCEDURE phase2_correction_correct()\n",
    "BEGIN\n",
    "    DECLARE correct_model_params JSON DEFAULT JSON '''\n",
    "    {{\"systemInstruction\": {{\"parts\": [{{\"text\": \"You are an assistant helping to fix the content of scanned books.\"}}]}}}}\n",
    "    ''';\n",
    "\n",
    "    -- corrects OCR error in given book fragment\n",
    "    UPDATE {data_set}.tmp_correction_chunks b SET b.corrected_txt = \n",
    "        AI.GENERATE(FORMAT(p.prompt, b.prefix, b.original_txt, b.suffix), \n",
    "        connection_id => '{connection_id}', endpoint => '{endpoint}',\n",
    "        model_params => correct_model_params).result\n",
    "    FROM {data_set}.prompts p WHERE b.corrected_txt IS NULL AND p.code = 'correct';\n",
    "\n",
    "    -- concatenates corrected fragments and saves it in 'book' table\n",
    "    MERGE {data_set}.books b\n",
    "    USING (SELECT book_id, STRING_AGG(corrected_txt, ' ' ORDER BY chunk_number) AS aggregated_txt\n",
    "    FROM {data_set}.tmp_correction_chunks GROUP BY book_id) cb\n",
    "    ON b.book_id = cb.book_id AND b.corrected_txt IS NULL\n",
    "    WHEN MATCHED THEN UPDATE SET corrected_txt = cb.aggregated_txt;\n",
    "END;"
   ]
  },
  {
   "cell_type": "markdown",
   "id": "1fd3c981",
   "metadata": {},
   "source": [
    "### Phase 3 - Chunking books\n",
    "Simple divide of each book to overlaping fragments."
   ]
  },
  {
   "cell_type": "code",
   "execution_count": null,
   "id": "62b4a315",
   "metadata": {},
   "outputs": [
    {
     "data": {
      "application/vnd.jupyter.widget-view+json": {
       "model_id": "a635e0fef17747e196c373927deb5091",
       "version_major": 2,
       "version_minor": 0
      },
      "text/plain": [
       "Query is running:   0%|          |"
      ]
     },
     "metadata": {},
     "output_type": "display_data"
    },
    {
     "data": {
      "text/html": [
       "<div>\n",
       "<style scoped>\n",
       "    .dataframe tbody tr th:only-of-type {\n",
       "        vertical-align: middle;\n",
       "    }\n",
       "\n",
       "    .dataframe tbody tr th {\n",
       "        vertical-align: top;\n",
       "    }\n",
       "\n",
       "    .dataframe thead th {\n",
       "        text-align: right;\n",
       "    }\n",
       "</style>\n",
       "<table border=\"1\" class=\"dataframe\">\n",
       "  <thead>\n",
       "    <tr style=\"text-align: right;\">\n",
       "      <th></th>\n",
       "    </tr>\n",
       "  </thead>\n",
       "  <tbody>\n",
       "  </tbody>\n",
       "</table>\n",
       "</div>"
      ],
      "text/plain": [
       "Empty DataFrame\n",
       "Columns: []\n",
       "Index: []"
      ]
     },
     "execution_count": 314,
     "metadata": {},
     "output_type": "execute_result"
    }
   ],
   "source": [
    "%%bigquery --pyformat\n",
    "CREATE OR REPLACE PROCEDURE phase3_prepare_chunks()\n",
    "BEGIN\n",
    "    -- divides book to 40000 long fragments\n",
    "    CREATE OR REPLACE TABLE {data_set}.tmp_overlapped_chunks AS\n",
    "    SELECT book_id, chunk_num - 1 as chunk_number, SUBSTR(corrected_txt, (chunk_num - 1) * 40000 + 1, 40000) as txt, CAST(null AS STRING) text_with_overlap\n",
    "    FROM {data_set}.books, UNNEST(GENERATE_ARRAY(1, CAST(CEIL(LENGTH(corrected_txt) / 40000) AS INT64))) as chunk_num\n",
    "    WHERE processed = False or processed is null;\n",
    "\n",
    "    -- adds predecessing overlap to each fragment\n",
    "    UPDATE {data_set}.tmp_overlapped_chunks curr set curr.text_with_overlap = curr.txt || ' ' || RIGHT(prev.txt, 4000)\n",
    "    FROM {data_set}.tmp_overlapped_chunks prev WHERE curr.book_id = prev.book_id AND curr.chunk_number = prev.chunk_number + 1;\n",
    "    -- the very first fragment has no overlap\n",
    "    UPDATE {data_set}.tmp_overlapped_chunks set text_with_overlap = txt where text_with_overlap is null;\n",
    "\n",
    "    -- stores fragments in 'chunks' table\n",
    "    CREATE OR REPLACE TABLE {data_set}.chunks(book_id STRING, chunk_number INTEGER, txt STRING, summary STRING,\n",
    "        fragment_number STRING, characters_id_data STRING, characters_full_data STRING);\n",
    "\n",
    "    INSERT INTO {data_set}.chunks (book_id, chunk_number, txt)\n",
    "    (SELECT book_id, chunk_number, text_with_overlap FROM {data_set}.tmp_overlapped_chunks\n",
    "    EXCEPT DISTINCT SELECT book_id, chunk_number, txt FROM {data_set}.chunks);\n",
    "END;"
   ]
  },
  {
   "cell_type": "code",
   "execution_count": null,
   "id": "5eb6af03",
   "metadata": {},
   "outputs": [
    {
     "data": {
      "application/vnd.jupyter.widget-view+json": {
       "model_id": "e336e954f0504adfa7d4047f0647d6c1",
       "version_major": 2,
       "version_minor": 0
      },
      "text/plain": [
       "Query is running:   0%|          |"
      ]
     },
     "metadata": {},
     "output_type": "display_data"
    },
    {
     "data": {
      "text/html": [
       "<div>\n",
       "<style scoped>\n",
       "    .dataframe tbody tr th:only-of-type {\n",
       "        vertical-align: middle;\n",
       "    }\n",
       "\n",
       "    .dataframe tbody tr th {\n",
       "        vertical-align: top;\n",
       "    }\n",
       "\n",
       "    .dataframe thead th {\n",
       "        text-align: right;\n",
       "    }\n",
       "</style>\n",
       "<table border=\"1\" class=\"dataframe\">\n",
       "  <thead>\n",
       "    <tr style=\"text-align: right;\">\n",
       "      <th></th>\n",
       "    </tr>\n",
       "  </thead>\n",
       "  <tbody>\n",
       "  </tbody>\n",
       "</table>\n",
       "</div>"
      ],
      "text/plain": [
       "Empty DataFrame\n",
       "Columns: []\n",
       "Index: []"
      ]
     },
     "execution_count": 315,
     "metadata": {},
     "output_type": "execute_result"
    }
   ],
   "source": [
    "%%bigquery --pyformat\n",
    "\n",
    "CREATE OR REPLACE PROCEDURE phase4_fragments_summarization()\n",
    "BEGIN\n",
    "\t-- summarize the fragment to given size, calculated in such way that all fragments summaries together have no more then 80000 chars\n",
    "  \tUPDATE {data_set}.chunks c SET summary = \n",
    "\t\tCOALESCE(AI.GENERATE(FORMAT(p.prompt, s.size, c.txt), \n",
    "\t\tconnection_id => '{connection_id}', endpoint => '{endpoint}').result, '')\n",
    "    FROM (select book_id, cast(80000 / count(*) as INT64) size from {data_set}.chunks group by book_id) s, {data_set}.prompts p\n",
    "    WHERE c.book_id = s.book_id AND c.summary IS NULL AND p.code = 'summarize';\n",
    "END;"
   ]
  },
  {
   "cell_type": "markdown",
   "id": "ecf0254d",
   "metadata": {},
   "source": [
    "### Phase 4 - Summarizing\n",
    "Prepare concise summary of each book. It will be supplementary information in several inference operations later."
   ]
  },
  {
   "cell_type": "code",
   "execution_count": null,
   "id": "8fc3e6f3",
   "metadata": {},
   "outputs": [
    {
     "data": {
      "application/vnd.jupyter.widget-view+json": {
       "model_id": "afaf279bacb34ebb83ec48b042ae33b9",
       "version_major": 2,
       "version_minor": 0
      },
      "text/plain": [
       "Query is running:   0%|          |"
      ]
     },
     "metadata": {},
     "output_type": "display_data"
    },
    {
     "data": {
      "text/html": [
       "<div>\n",
       "<style scoped>\n",
       "    .dataframe tbody tr th:only-of-type {\n",
       "        vertical-align: middle;\n",
       "    }\n",
       "\n",
       "    .dataframe tbody tr th {\n",
       "        vertical-align: top;\n",
       "    }\n",
       "\n",
       "    .dataframe thead th {\n",
       "        text-align: right;\n",
       "    }\n",
       "</style>\n",
       "<table border=\"1\" class=\"dataframe\">\n",
       "  <thead>\n",
       "    <tr style=\"text-align: right;\">\n",
       "      <th></th>\n",
       "    </tr>\n",
       "  </thead>\n",
       "  <tbody>\n",
       "  </tbody>\n",
       "</table>\n",
       "</div>"
      ],
      "text/plain": [
       "Empty DataFrame\n",
       "Columns: []\n",
       "Index: []"
      ]
     },
     "execution_count": 316,
     "metadata": {},
     "output_type": "execute_result"
    }
   ],
   "source": [
    "%%bigquery --pyformat\n",
    "CREATE OR REPLACE PROCEDURE phase4_summarize_fragments_summaries()\n",
    "BEGIN\n",
    "\t-- summarize the whole book based on fragments summaries, by the way ensuring that the final summary size is reduced to 20000 chars\n",
    "\tUPDATE {data_set}.books b SET b.summary = COALESCE(AI.GENERATE(FORMAT(p.prompt, s.summary), \n",
    "\t\t\tconnection_id => '{connection_id}', endpoint => '{endpoint}').result, '')\n",
    "\tFROM {data_set}.prompts p,\n",
    "        (SELECT book_id, STRING_AGG(summary, '/n' ORDER BY chunk_number) summary FROM {data_set}.chunks GROUP BY book_id) s \n",
    "    WHERE p.code = 'reduce_summary' AND b.book_id = s.book_id AND b.summary is null;\n",
    "END;"
   ]
  },
  {
   "cell_type": "markdown",
   "id": "21718e14",
   "metadata": {},
   "source": [
    "### Phase 5 - Character identification\n",
    "By far the most difficult part of whole project identifying consistent characters across the whole book"
   ]
  },
  {
   "cell_type": "code",
   "execution_count": null,
   "id": "821f44f1",
   "metadata": {},
   "outputs": [
    {
     "data": {
      "application/vnd.jupyter.widget-view+json": {
       "model_id": "ef418e63ac0e467fa82cc055b64e55a4",
       "version_major": 2,
       "version_minor": 0
      },
      "text/plain": [
       "Query is running:   0%|          |"
      ]
     },
     "metadata": {},
     "output_type": "display_data"
    },
    {
     "data": {
      "text/html": [
       "<div>\n",
       "<style scoped>\n",
       "    .dataframe tbody tr th:only-of-type {\n",
       "        vertical-align: middle;\n",
       "    }\n",
       "\n",
       "    .dataframe tbody tr th {\n",
       "        vertical-align: top;\n",
       "    }\n",
       "\n",
       "    .dataframe thead th {\n",
       "        text-align: right;\n",
       "    }\n",
       "</style>\n",
       "<table border=\"1\" class=\"dataframe\">\n",
       "  <thead>\n",
       "    <tr style=\"text-align: right;\">\n",
       "      <th></th>\n",
       "    </tr>\n",
       "  </thead>\n",
       "  <tbody>\n",
       "  </tbody>\n",
       "</table>\n",
       "</div>"
      ],
      "text/plain": [
       "Empty DataFrame\n",
       "Columns: []\n",
       "Index: []"
      ]
     },
     "execution_count": 317,
     "metadata": {},
     "output_type": "execute_result"
    }
   ],
   "source": [
    "%%bigquery --pyformat\n",
    "CREATE OR REPLACE PROCEDURE phase5_prepare_character_ids_from_fragments()\n",
    "BEGIN\n",
    "    -- sets string fragment number, used later to identify fragments where given character appears\n",
    "    UPDATE {data_set}.chunks SET fragment_number = FORMAT('%03d', chunk_number + 1) where fragment_number is null;\n",
    "\n",
    "    -- extract full names and other identification-helping information from book fragments\n",
    "    UPDATE {data_set}.chunks c SET c.characters_id_data = \n",
    "        AI.GENERATE(FORMAT(p.prompt, c.txt), connection_id => '{connection_id}', endpoint => '{endpoint}').result\n",
    "    FROM {data_set}.prompts p, {data_set}.books b\n",
    "    WHERE p.code = 'characters_id_data' and c.book_id = b.book_id;\n",
    "\n",
    "    -- split result: each character in separate row\n",
    "    CREATE OR REPLACE TABLE {data_set}.tmp_characters_id_data AS\n",
    "    (select book_id, chunk_number, fragment_number, x as characters_id_data,\n",
    "    CAST(NULL AS STRING) full_name, CAST(NULL AS STRING) information, CAST(NULL AS INT64) importance\n",
    "    FROM {data_set}.chunks, UNNEST(JSON_QUERY_ARRAY(TRIM(characters_id_data, '`json\\n'), '$')) x);\n",
    "\n",
    "    -- add id (unique together with book id)\n",
    "    CREATE OR REPLACE TABLE {data_set}.identifiers AS\n",
    "    SELECT row_number() OVER(ORDER BY book_id, chunk_number, full_name) id, * from {data_set}.tmp_characters_id_data;\n",
    "\n",
    "    -- extract fields from json\n",
    "    UPDATE {data_set}.identifiers SET full_name = json_value(characters_id_data, '$.full_name'), information = json_value(characters_id_data, '$.information'),\n",
    "        importance = CAST(JSON_VALUE(characters_id_data, '$.importance') AS INT64) where full_name is null;\n",
    "\n",
    "    -- correct potential errors in 'importance' count\n",
    "    UPDATE {data_set}.identifiers SET importance = 1 where importance = 0 or importance is null;\n",
    "END;\n",
    "-- author: jj123451"
   ]
  },
  {
   "cell_type": "code",
   "execution_count": null,
   "id": "fccd7231",
   "metadata": {},
   "outputs": [
    {
     "data": {
      "application/vnd.jupyter.widget-view+json": {
       "model_id": "971c6ac8afc640728a5bf9462d6a29da",
       "version_major": 2,
       "version_minor": 0
      },
      "text/plain": [
       "Query is running:   0%|          |"
      ]
     },
     "metadata": {},
     "output_type": "display_data"
    },
    {
     "data": {
      "text/html": [
       "<div>\n",
       "<style scoped>\n",
       "    .dataframe tbody tr th:only-of-type {\n",
       "        vertical-align: middle;\n",
       "    }\n",
       "\n",
       "    .dataframe tbody tr th {\n",
       "        vertical-align: top;\n",
       "    }\n",
       "\n",
       "    .dataframe thead th {\n",
       "        text-align: right;\n",
       "    }\n",
       "</style>\n",
       "<table border=\"1\" class=\"dataframe\">\n",
       "  <thead>\n",
       "    <tr style=\"text-align: right;\">\n",
       "      <th></th>\n",
       "    </tr>\n",
       "  </thead>\n",
       "  <tbody>\n",
       "  </tbody>\n",
       "</table>\n",
       "</div>"
      ],
      "text/plain": [
       "Empty DataFrame\n",
       "Columns: []\n",
       "Index: []"
      ]
     },
     "execution_count": 318,
     "metadata": {},
     "output_type": "execute_result"
    }
   ],
   "source": [
    "%%bigquery --pyformat\n",
    "CREATE OR REPLACE PROCEDURE phase5_prepare_character_ids_initial_embeddings()\n",
    "BEGIN\n",
    "  -- create embeddings for all characters identifying information (with full names)\n",
    "  CREATE OR REPLACE TABLE {data_set}.tmp_characters_id_embeddings as SELECT * FROM ML.GENERATE_EMBEDDING(\n",
    "    MODEL `{data_set}.gemini-embedding-001`,\n",
    "    (SELECT characters_id_data as content, full_name as title, id, book_id, chunk_number, FALSE is_query FROM {data_set}.identifiers),\n",
    "    STRUCT(TRUE AS flatten_json_output, 'RETRIEVAL_DOCUMENT' as task_type));\n",
    "END;"
   ]
  },
  {
   "cell_type": "code",
   "execution_count": null,
   "id": "5529eb94",
   "metadata": {},
   "outputs": [
    {
     "data": {
      "application/vnd.jupyter.widget-view+json": {
       "model_id": "d8f35f572dae4000a091b2a55931a8a4",
       "version_major": 2,
       "version_minor": 0
      },
      "text/plain": [
       "Query is running:   0%|          |"
      ]
     },
     "metadata": {},
     "output_type": "display_data"
    },
    {
     "data": {
      "text/html": [
       "<div>\n",
       "<style scoped>\n",
       "    .dataframe tbody tr th:only-of-type {\n",
       "        vertical-align: middle;\n",
       "    }\n",
       "\n",
       "    .dataframe tbody tr th {\n",
       "        vertical-align: top;\n",
       "    }\n",
       "\n",
       "    .dataframe thead th {\n",
       "        text-align: right;\n",
       "    }\n",
       "</style>\n",
       "<table border=\"1\" class=\"dataframe\">\n",
       "  <thead>\n",
       "    <tr style=\"text-align: right;\">\n",
       "      <th></th>\n",
       "    </tr>\n",
       "  </thead>\n",
       "  <tbody>\n",
       "  </tbody>\n",
       "</table>\n",
       "</div>"
      ],
      "text/plain": [
       "Empty DataFrame\n",
       "Columns: []\n",
       "Index: []"
      ]
     },
     "execution_count": 319,
     "metadata": {},
     "output_type": "execute_result"
    }
   ],
   "source": [
    "%%bigquery --pyformat\n",
    "CREATE OR REPLACE PROCEDURE phase5_merge_characters_duplicates_with_return_param(OUT updated INT64)  \n",
    "BEGIN\n",
    "  -- search characters most similar to each other\n",
    "\tCREATE OR REPLACE TABLE {data_set}.tmp_characters_id_distance as\n",
    "  SELECT query.id query_id, query.title query_full_name, base.id, base.title full_name, base.chunk_number, base.book_id, query.book_id query_book_id, distance FROM\n",
    "  VECTOR_SEARCH(\n",
    "\t(SELECT id, book_id, chunk_number, title, ml_generate_embedding_result FROM {data_set}.tmp_characters_id_embeddings),\n",
    "\t'ml_generate_embedding_result',\n",
    "\t(SELECT id, title, book_id, ml_generate_embedding_result FROM {data_set}.tmp_characters_id_embeddings),\n",
    "\t'ml_generate_embedding_result',\n",
    "\ttop_k => 2);\n",
    "  -- !TODO! - achange above query to search within data of the same book. It very rarely match characters from different books, but still\n",
    "  DELETE FROM {data_set}.tmp_characters_id_distance where book_id <> query_book_id;\n",
    "\n",
    "  -- delete distances to self and duplicate distances\n",
    "  DELETE FROM {data_set}.tmp_characters_id_distance where query_id = id;\n",
    "  DELETE FROM {data_set}.tmp_characters_id_distance d where d.id < d.query_id and exists (select 1 from {data_set}.tmp_characters_id_distance dd where dd.id = d.query_id and d.id = dd.query_id);\n",
    "\n",
    "  -- prepara pairs of duplicate candidates, each pair in group belongs to the same fragment and group is no longer then 50 characters\n",
    "  CREATE OR REPLACE TABLE {data_set}.tmp_characters_duplicate_candidates as\n",
    "  select string_agg(pair, ',\\n') pairs, book_id, chunk_number from\n",
    "  (select TO_JSON_STRING(STRUCT(query.id, query.full_name as first_individual_full_name, query.information as first_individual_information, \n",
    "  base.full_name as second_individual_full_name, base.information as second_individual_information), true) pair, embed.book_id, query.chunk_number, query.fragment_number,\n",
    "  CEIL(ROW_NUMBER() OVER (PARTITION BY embed.book_id, query.chunk_number ORDER BY query.id) / 50.0) chunk_50_nr\n",
    "  from {data_set}.tmp_characters_id_distance embed\n",
    "  JOIN {data_set}.identifiers query ON embed.query_id = query.id\n",
    "  JOIN {data_set}.identifiers base ON embed.id = base.id)\n",
    "  group by book_id, chunk_number, chunk_50_nr;\n",
    "\n",
    "  -- use AI to check the duplicate candidates and assess which ones are in fact the same person\n",
    "  CREATE OR REPLACE TABLE {data_set}.tmp_the_same_characters as SELECT pairs.book_id, pairs.chunk_number,\n",
    "  AI.GENERATE(FORMAT(p.prompt, pairs.pairs, cb.summary), connection_id => '{connection_id}', endpoint => '{endpoint}').result pairs\n",
    "  FROM {data_set}.prompts p, {data_set}.tmp_characters_duplicate_candidates pairs, {data_set}.books cb\n",
    "  WHERE p.code = 'find_the_same_characters' and pairs.book_id = cb.book_id;\n",
    "  -- check AI results from above (AI sometimes makes mistakes, rarely, but consequence is mergin two different characters together!)\n",
    "  CREATE OR REPLACE TABLE {data_set}.tmp_different_characters as SELECT pairs.book_id, pairs.chunk_number,\n",
    "  AI.GENERATE(FORMAT(p.prompt, pairs.pairs, cb.summary), connection_id => '{connection_id}', endpoint => '{endpoint}').result pairs\n",
    "  FROM {data_set}.prompts p, {data_set}.tmp_the_same_characters pairs, {data_set}.books cb\n",
    "  WHERE p.code = 'find_different_characters' and pairs.book_id = cb.book_id;\n",
    "\n",
    "  -- split both results of AI inference\n",
    "  CREATE OR REPLACE TABLE {data_set}.tmp_the_same_characters_split AS\n",
    "  select book_id, chunk_number, pair, CAST(NULL AS INT64) id\n",
    "  from {data_set}.tmp_the_same_characters, UNNEST(JSON_QUERY_ARRAY(TRIM(pairs, '`json\\n'), '$')) pair;\t\t\n",
    "  UPDATE {data_set}.tmp_the_same_characters_split SET id = CAST(JSON_VALUE(pair, '$.id') AS INT64) where id is null;\n",
    "\n",
    "  CREATE OR REPLACE TABLE {data_set}.tmp_different_characters_split AS\n",
    "  select book_id, chunk_number, pair, CAST(NULL AS INT64) id\n",
    "  from {data_set}.tmp_different_characters, UNNEST(JSON_QUERY_ARRAY(TRIM(pairs, '`json\\n'), '$')) pair;\t\t\n",
    "  UPDATE {data_set}.tmp_different_characters_split SET id = CAST(JSON_VALUE(pair, '$.id') AS INT64) where id is null;\n",
    "\n",
    "  -- remove false positives, detected by second check\n",
    "  DELETE FROM {data_set}.tmp_the_same_characters_split WHERE ID IN (SELECT id FROM {data_set}.tmp_different_characters_split);\t\t\n",
    "  -- let's leave only real duplicates in vector search resulting table\n",
    "  DELETE FROM {data_set}.tmp_characters_id_distance where query_id NOT IN (SELECT id from {data_set}.tmp_the_same_characters_split);\n",
    "\n",
    "  -- prepare for recursive query by creating table with duplicate pairs in both direction\n",
    "  CREATE OR REPLACE TABLE {data_set}.tmp_bidirectional_edges as (\n",
    "  SELECT query_id, id FROM {data_set}.tmp_characters_id_distance UNION DISTINCT SELECT id, query_id FROM {data_set}.tmp_characters_id_distance);\n",
    "\n",
    "  -- run recursive query to find whole graph of connected duplicates (A may be duplicate of B, then B may be duplicate of C and so on)\n",
    "  CREATE OR REPLACE TABLE {data_set}.tmp_grouped_duplicates_graph as\n",
    "  WITH RECURSIVE connected_components AS (\n",
    "      SELECT query_id AS node, query_id AS root, 0 AS iteration FROM {data_set}.tmp_bidirectional_edges\n",
    "      UNION ALL\n",
    "      SELECT edges.id AS node, LEAST(comp.root, edges.id) AS root, comp.iteration + 1\n",
    "      FROM connected_components comp INNER JOIN {data_set}.tmp_bidirectional_edges edges ON comp.node = edges.query_id\n",
    "      WHERE comp.iteration < 10\n",
    "  ),\n",
    "  unique_graph AS (SELECT node, MIN(root) AS group_id FROM connected_components GROUP BY node)\n",
    "  SELECT group_id, ARRAY_AGG(DISTINCT node ORDER BY node) AS duplicate_ids_array FROM unique_graph GROUP BY group_id;\n",
    "\n",
    "  -- prepare json arrays with all duplicated characters: one array per one \"real\" person\n",
    "  CREATE OR REPLACE TABLE {data_set}.tmp_grouped_duplicates_graph_enriched as\n",
    "  WITH duplicates AS (select group_id, id from {data_set}.tmp_grouped_duplicates_graph, UNNEST(duplicate_ids_array) id)\n",
    "  SELECT d.group_id, \"[\\n\" || STRING_AGG(TO_JSON_STRING(STRUCT(i.full_name, i.information), true), \",\\n\" ORDER BY i.chunk_number) || \"\\n]\" duplicated_ids\n",
    "  FROM {data_set}.identifiers i join duplicates d on i.id = d.id group by group_id;\n",
    "\n",
    "  -- another, final AI check, if they are really all duplicates\n",
    "  CREATE OR REPLACE TABLE {data_set}.tmp_merged_duplicates_double_check as SELECT x.group_id,\n",
    "  AI.GENERATE_BOOL(FORMAT(p.prompt, x.duplicated_ids, b.summary), connection_id => '{connection_id}', endpoint => '{endpoint}').result check\n",
    "  FROM {data_set}.prompts p, {data_set}.tmp_grouped_duplicates_graph_enriched x, {data_set}.identifiers i, {data_set}.books b WHERE p.code = 'merge_character_ids_double_check' and i.id = x.group_id and i.book_id = b.book_id;\n",
    "\n",
    "  -- get rid of ones which failed the above check\n",
    "  DELETE FROM {data_set}.tmp_grouped_duplicates_graph WHERE group_id IN (\n",
    "    select group_id from {data_set}.tmp_merged_duplicates_double_check where check = FALSE);\n",
    "  DELETE FROM {data_set}.tmp_grouped_duplicates_graph_enriched WHERE group_id IN (\n",
    "    select group_id from {data_set}.tmp_merged_duplicates_double_check where check = FALSE);\n",
    "\n",
    "  -- let's merge all duplicates into one final character: multiple personality disorder finally cured\n",
    "  CREATE OR REPLACE TABLE {data_set}.tmp_merged_duplicates as SELECT x.group_id,\n",
    "  AI.GENERATE(FORMAT(p.prompt, x.duplicated_ids, b.summary), connection_id => '{connection_id}', endpoint => '{endpoint}').result character_id\n",
    "  FROM {data_set}.prompts p, {data_set}.tmp_grouped_duplicates_graph_enriched x, {data_set}.identifiers i, {data_set}.books b WHERE p.code = 'merge_character_ids' and i.id = x.group_id and i.book_id = b.book_id;\n",
    "\n",
    "  -- extract some data from json result to columns\n",
    "  CREATE OR REPLACE TABLE {data_set}.tmp_merged_duplicates_split AS\n",
    "  select group_id, TRIM(character_id, '`json\\n') character_id, CAST(NULL AS STRING) full_name, CAST(NULL AS STRING) information\n",
    "  from {data_set}.tmp_merged_duplicates;\n",
    "  UPDATE {data_set}.tmp_merged_duplicates_split SET full_name = json_value(character_id, '$.full_name'), information = json_value(character_id, '$.information') where full_name is null;\n",
    "\n",
    "  -- update the chosen-to-remain duplicate (it's the one with lowest id) data with merged data\n",
    "  UPDATE {data_set}.identifiers chid SET chid.full_name = duplicate.full_name, chid.information = duplicate.information,\n",
    "  chid.characters_id_data = TO_JSON_STRING(STRUCT(duplicate.full_name, duplicate.information), true)\n",
    "  FROM {data_set}.tmp_merged_duplicates_split duplicate WHERE chid.id = duplicate.group_id;\n",
    "\n",
    "  -- split the duplicates graph array to multiple rows\n",
    "  CREATE OR REPLACE TABLE {data_set}.tmp_grouped_ids_split as select group_id, id from {data_set}.tmp_grouped_duplicates_graph, UNNEST(duplicate_ids_array) id;\n",
    "  -- count new 'importance' (concatenate all from duplicate and 'fragment_number' (concatenate all from duplicate)\n",
    "  UPDATE {data_set}.identifiers chid SET chid.importance = dp.importance, chid.fragment_number = dp.fragment_number\n",
    "  FROM (select chid.id, sum(di.importance) importance, string_agg(distinct di.fragment_number, ',') fragment_number\n",
    "  FROM {data_set}.identifiers chid JOIN {data_set}.tmp_grouped_ids_split d ON d.group_id = chid.id\n",
    "  JOIN {data_set}.identifiers di ON d.id = di.id group by chid.id) dp\n",
    "  WHERE chid.id = dp.id;\n",
    "\n",
    "  -- exterminate all duplicates but the chosen one\n",
    "  DELETE FROM {data_set}.tmp_grouped_ids_split where group_id = id;\n",
    "  DELETE FROM {data_set}.identifiers WHERE id IN (SELECT id from {data_set}.tmp_grouped_ids_split);\n",
    "  DELETE FROM {data_set}.tmp_characters_id_embeddings where id IN (SELECT id from {data_set}.tmp_grouped_ids_split);\n",
    "\n",
    "  -- updates embedding for merged duplicates\n",
    "  CREATE OR REPLACE TABLE {data_set}.tmp_characters_id_changed_embeddings as SELECT * FROM ML.GENERATE_EMBEDDING(\n",
    "    MODEL `{data_set}.gemini-embedding-001`,\n",
    "    (SELECT chid.characters_id_data as content, chid.full_name as title, chid.id FROM {data_set}.identifiers chid\n",
    "    JOIN {data_set}.tmp_grouped_duplicates_graph duplicate ON chid.id = duplicate.group_id),\n",
    "    STRUCT(TRUE AS flatten_json_output, 'RETRIEVAL_DOCUMENT' as task_type));\n",
    "\n",
    "  UPDATE {data_set}.tmp_characters_id_embeddings t SET ml_generate_embedding_result = tnew.ml_generate_embedding_result, ml_generate_embedding_statistics = tnew.ml_generate_embedding_statistics,\n",
    "    ml_generate_embedding_status = tnew.ml_generate_embedding_status, title = tnew.title, content = tnew.content\n",
    "  FROM {data_set}.tmp_characters_id_changed_embeddings tnew WHERE tnew.id = t.id;\n",
    "\n",
    "  -- if there were no duplicates, it will tell the algorithm that we may stop searching\n",
    "  SET updated = @@row_count;\n",
    "END;"
   ]
  },
  {
   "cell_type": "code",
   "execution_count": null,
   "id": "47649d45",
   "metadata": {},
   "outputs": [
    {
     "data": {
      "application/vnd.jupyter.widget-view+json": {
       "model_id": "947dd01172394a8cacd1eaacfa7927aa",
       "version_major": 2,
       "version_minor": 0
      },
      "text/plain": [
       "Query is running:   0%|          |"
      ]
     },
     "metadata": {},
     "output_type": "display_data"
    },
    {
     "data": {
      "text/html": [
       "<div>\n",
       "<style scoped>\n",
       "    .dataframe tbody tr th:only-of-type {\n",
       "        vertical-align: middle;\n",
       "    }\n",
       "\n",
       "    .dataframe tbody tr th {\n",
       "        vertical-align: top;\n",
       "    }\n",
       "\n",
       "    .dataframe thead th {\n",
       "        text-align: right;\n",
       "    }\n",
       "</style>\n",
       "<table border=\"1\" class=\"dataframe\">\n",
       "  <thead>\n",
       "    <tr style=\"text-align: right;\">\n",
       "      <th></th>\n",
       "    </tr>\n",
       "  </thead>\n",
       "  <tbody>\n",
       "  </tbody>\n",
       "</table>\n",
       "</div>"
      ],
      "text/plain": [
       "Empty DataFrame\n",
       "Columns: []\n",
       "Index: []"
      ]
     },
     "execution_count": 320,
     "metadata": {},
     "output_type": "execute_result"
    }
   ],
   "source": [
    "%%bigquery --pyformat\n",
    "CREATE OR REPLACE PROCEDURE phase5_merge_characters_duplicates()  \n",
    "BEGIN\n",
    "  -- helper method for first few executions when we ignore output\n",
    "  DECLARE merged INT64 DEFAULT 0;\n",
    "  call {data_set}.phase5_merge_characters_duplicates_with_return_param(merged);\n",
    "END;"
   ]
  },
  {
   "cell_type": "code",
   "execution_count": null,
   "id": "b2bf525b",
   "metadata": {},
   "outputs": [
    {
     "data": {
      "application/vnd.jupyter.widget-view+json": {
       "model_id": "2c59f5c3214a4f528411028248b02003",
       "version_major": 2,
       "version_minor": 0
      },
      "text/plain": [
       "Query is running:   0%|          |"
      ]
     },
     "metadata": {},
     "output_type": "display_data"
    },
    {
     "data": {
      "text/html": [
       "<div>\n",
       "<style scoped>\n",
       "    .dataframe tbody tr th:only-of-type {\n",
       "        vertical-align: middle;\n",
       "    }\n",
       "\n",
       "    .dataframe tbody tr th {\n",
       "        vertical-align: top;\n",
       "    }\n",
       "\n",
       "    .dataframe thead th {\n",
       "        text-align: right;\n",
       "    }\n",
       "</style>\n",
       "<table border=\"1\" class=\"dataframe\">\n",
       "  <thead>\n",
       "    <tr style=\"text-align: right;\">\n",
       "      <th></th>\n",
       "    </tr>\n",
       "  </thead>\n",
       "  <tbody>\n",
       "  </tbody>\n",
       "</table>\n",
       "</div>"
      ],
      "text/plain": [
       "Empty DataFrame\n",
       "Columns: []\n",
       "Index: []"
      ]
     },
     "execution_count": 321,
     "metadata": {},
     "output_type": "execute_result"
    }
   ],
   "source": [
    "%%bigquery --pyformat\n",
    "CREATE OR REPLACE PROCEDURE phase5_rebuild_indentifier_jsons()  \n",
    "BEGIN\n",
    "    -- update 'identifiers' table with finall, corect data format in json column\n",
    "    UPDATE {data_set}.identifiers SET characters_id_data = TO_JSON_STRING(STRUCT(id, full_name, information), true) WHERE full_name is not null;\n",
    "END;"
   ]
  },
  {
   "cell_type": "markdown",
   "id": "775ffa6a",
   "metadata": {},
   "source": [
    "### Phase 6 - Extracting information\n",
    "This stage is finally gathering the data we want. In this project we chose as an example: gender, financial status, social class and moral values.\n",
    "In real life applications, any chosen traits can be chosen, by adapting prompts and param values in clustering stage."
   ]
  },
  {
   "cell_type": "code",
   "execution_count": null,
   "id": "4698b526",
   "metadata": {},
   "outputs": [
    {
     "data": {
      "application/vnd.jupyter.widget-view+json": {
       "model_id": "4b8ab73629bd4a38b8ba1d0c08697d5d",
       "version_major": 2,
       "version_minor": 0
      },
      "text/plain": [
       "Query is running:   0%|          |"
      ]
     },
     "metadata": {},
     "output_type": "display_data"
    },
    {
     "data": {
      "text/html": [
       "<div>\n",
       "<style scoped>\n",
       "    .dataframe tbody tr th:only-of-type {\n",
       "        vertical-align: middle;\n",
       "    }\n",
       "\n",
       "    .dataframe tbody tr th {\n",
       "        vertical-align: top;\n",
       "    }\n",
       "\n",
       "    .dataframe thead th {\n",
       "        text-align: right;\n",
       "    }\n",
       "</style>\n",
       "<table border=\"1\" class=\"dataframe\">\n",
       "  <thead>\n",
       "    <tr style=\"text-align: right;\">\n",
       "      <th></th>\n",
       "    </tr>\n",
       "  </thead>\n",
       "  <tbody>\n",
       "  </tbody>\n",
       "</table>\n",
       "</div>"
      ],
      "text/plain": [
       "Empty DataFrame\n",
       "Columns: []\n",
       "Index: []"
      ]
     },
     "execution_count": 322,
     "metadata": {},
     "output_type": "execute_result"
    }
   ],
   "source": [
    "%%bigquery --pyformat\n",
    "CREATE OR REPLACE PROCEDURE phase6_gather_characters_full_data_from_chunks()  \n",
    "BEGIN\n",
    "    -- lets gather characters into single group for each chunk (but no longer then 15 people for better inference later)\n",
    "    CREATE OR REPLACE TABLE {data_set}.tmp_chunks_character_id_data as \n",
    "    SELECT book_id, chunk_number, \"[\\n\" || STRING_AGG(characters_id_data, \",\\n\") || \"\\n]\" characters_id_data\n",
    "    FROM (\n",
    "        SELECT ecb.book_id, ecb.chunk_number, i.characters_id_data, CEIL(ROW_NUMBER() OVER (PARTITION BY ecb.book_id, ecb.chunk_number ORDER BY i.id) / 15.0) chunk_15_nr        \n",
    "        FROM {data_set}.chunks ecb, {data_set}.identifiers i  \n",
    "        WHERE i.book_id = ecb.book_id and i.fragment_number LIKE '%' || ecb.fragment_number || '%')\n",
    "    group by book_id, chunk_number, chunk_15_nr;\n",
    "\n",
    "    -- extract desired data for given characters from given fragments\n",
    "    CREATE OR REPLACE TABLE {data_set}.tmp_chunks_character_full_data as \n",
    "    select ccid.book_id, ccid.chunk_number, COALESCE(AI.GENERATE(FORMAT(p.prompt, ccid.characters_id_data, c.txt), \n",
    "        connection_id => '{connection_id}', endpoint => '{endpoint}',\n",
    "        model_params => JSON '{{\"systemInstruction\": {{\"parts\": [{{\"text\": \"You are an expert in extracting information from books.\"}}]}}}}').result, '[]') characters_full_data\n",
    "    FROM {data_set}.tmp_chunks_character_id_data ccid, {data_set}.prompts p, {data_set}.chunks c\n",
    "    WHERE p.code = 'extract_data' and c.book_id = ccid.book_id and c.chunk_number = ccid.chunk_number;\n",
    "\n",
    "    -- AI had important task above so it sometimes forgets to make result perfectly json formatted - no worry, we fix it here\n",
    "    UPDATE {data_set}.tmp_chunks_character_full_data b SET b.characters_full_data = \n",
    "    TRIM(AI.GENERATE(FORMAT(p.prompt, 'array', b.characters_full_data), connection_id => '{connection_id}', endpoint => '{endpoint}').result, '`json\\n')\n",
    "    FROM {data_set}.prompts p WHERE b.characters_full_data IS NOT NULL AND p.code = 'json';\n",
    "END;"
   ]
  },
  {
   "cell_type": "code",
   "execution_count": null,
   "id": "1e44e7f9",
   "metadata": {},
   "outputs": [
    {
     "data": {
      "application/vnd.jupyter.widget-view+json": {
       "model_id": "83154fc8a88b479e9ecd3477ca048df5",
       "version_major": 2,
       "version_minor": 0
      },
      "text/plain": [
       "Query is running:   0%|          |"
      ]
     },
     "metadata": {},
     "output_type": "display_data"
    },
    {
     "data": {
      "text/html": [
       "<div>\n",
       "<style scoped>\n",
       "    .dataframe tbody tr th:only-of-type {\n",
       "        vertical-align: middle;\n",
       "    }\n",
       "\n",
       "    .dataframe tbody tr th {\n",
       "        vertical-align: top;\n",
       "    }\n",
       "\n",
       "    .dataframe thead th {\n",
       "        text-align: right;\n",
       "    }\n",
       "</style>\n",
       "<table border=\"1\" class=\"dataframe\">\n",
       "  <thead>\n",
       "    <tr style=\"text-align: right;\">\n",
       "      <th></th>\n",
       "    </tr>\n",
       "  </thead>\n",
       "  <tbody>\n",
       "  </tbody>\n",
       "</table>\n",
       "</div>"
      ],
      "text/plain": [
       "Empty DataFrame\n",
       "Columns: []\n",
       "Index: []"
      ]
     },
     "execution_count": 323,
     "metadata": {},
     "output_type": "execute_result"
    }
   ],
   "source": [
    "%%bigquery --pyformat\n",
    "CREATE OR REPLACE PROCEDURE phase6_group_the_same_characters_data_for_merging()  \n",
    "BEGIN\n",
    "    -- split the book fragment gangs into separate persons\n",
    "    CREATE OR REPLACE TABLE {data_set}.tmp_split_full_data as\n",
    "    select book_id, character_full_data, chunk_number, CAST(NULL AS INT64) id, CAST(NULL AS STRING) full_name from {data_set}.tmp_chunks_character_full_data,\n",
    "    UNNEST(JSON_QUERY_ARRAY(characters_full_data, '$')) character_full_data where characters_full_data is not null;\n",
    "    -- and extract some data from json\n",
    "    UPDATE {data_set}.tmp_split_full_data SET full_name = json_value(character_full_data, '$.full_name'), id = CAST(JSON_VALUE(character_full_data, '$.id') AS INT64) WHERE full_name IS NULL;\n",
    "\n",
    "    -- group together the same person handling our precious information from different fragments\n",
    "    CREATE OR REPLACE TABLE {data_set}.tmp_grouped_full_data AS\n",
    "    SELECT id, book_id, count(id) as parts, \"[\\n\" || STRING_AGG(character_full_data, \",\\n\" ORDER BY chunk_number) || \"\\n]\" full_data_array,\n",
    "    CAST(NULL AS STRING) character_full_data,  CAST(NULL AS STRING) information\n",
    "    FROM {data_set}.tmp_split_full_data GROUP BY book_id, id;\n",
    "END;"
   ]
  },
  {
   "cell_type": "code",
   "execution_count": null,
   "id": "7b81f4e5",
   "metadata": {},
   "outputs": [
    {
     "data": {
      "application/vnd.jupyter.widget-view+json": {
       "model_id": "a7b8f474af944e869fdf1f8778e3d3a9",
       "version_major": 2,
       "version_minor": 0
      },
      "text/plain": [
       "Query is running:   0%|          |"
      ]
     },
     "metadata": {},
     "output_type": "display_data"
    },
    {
     "data": {
      "text/html": [
       "<div>\n",
       "<style scoped>\n",
       "    .dataframe tbody tr th:only-of-type {\n",
       "        vertical-align: middle;\n",
       "    }\n",
       "\n",
       "    .dataframe tbody tr th {\n",
       "        vertical-align: top;\n",
       "    }\n",
       "\n",
       "    .dataframe thead th {\n",
       "        text-align: right;\n",
       "    }\n",
       "</style>\n",
       "<table border=\"1\" class=\"dataframe\">\n",
       "  <thead>\n",
       "    <tr style=\"text-align: right;\">\n",
       "      <th></th>\n",
       "    </tr>\n",
       "  </thead>\n",
       "  <tbody>\n",
       "  </tbody>\n",
       "</table>\n",
       "</div>"
      ],
      "text/plain": [
       "Empty DataFrame\n",
       "Columns: []\n",
       "Index: []"
      ]
     },
     "execution_count": 324,
     "metadata": {},
     "output_type": "execute_result"
    }
   ],
   "source": [
    "%%bigquery --pyformat\n",
    "CREATE OR REPLACE PROCEDURE phase6_merge_data()\n",
    "BEGIN\n",
    "    -- merger the information gathered in previous procedure into one conscise data\n",
    "    UPDATE {data_set}.tmp_grouped_full_data data SET data.character_full_data = \n",
    "    AI.GENERATE(FORMAT(p.prompt, data.full_data_array, cb.SUMMARY, ids.information), connection_id => '{connection_id}', endpoint => '{endpoint}').result\n",
    "    FROM {data_set}.prompts p, {data_set}.books cb, {data_set}.identifiers ids\n",
    "    WHERE data.character_full_data IS NULL AND data.full_data_array IS NOT NULL and data.parts > 1\n",
    "    AND p.code = 'merge_character' and data.book_id = cb.book_id and data.book_id = ids.book_id AND ids.id = data.id;\n",
    "    -- but there is no need if given person appeared in only one book fragment\n",
    "    UPDATE {data_set}.tmp_grouped_full_data SET character_full_data = TRIM(full_data_array, '[] \\n') \n",
    "    where character_full_data IS NULL AND full_data_array IS NOT NULL and parts = 1;\n",
    "\n",
    "    -- AI sometimes puts information into array of strings instead of single text field, check this and other errors\n",
    "    UPDATE {data_set}.tmp_grouped_full_data data SET data.character_full_data = \n",
    "    TRIM(AI.GENERATE(FORMAT(p.prompt, data.character_full_data), connection_id => '{connection_id}', endpoint => '{endpoint}').result, '`json\\n')\n",
    "    FROM {data_set}.prompts p WHERE data.character_full_data IS NOT NULL AND p.code = 'json_final_check';\n",
    "    -- put final date into 'information' table\n",
    "    UPDATE {data_set}.tmp_grouped_full_data a SET a.information = ids.information\n",
    "    FROM {data_set}.identifiers ids WHERE ids.id = a.id;\n",
    "END;"
   ]
  },
  {
   "cell_type": "code",
   "execution_count": null,
   "id": "8b3265c5",
   "metadata": {},
   "outputs": [
    {
     "data": {
      "application/vnd.jupyter.widget-view+json": {
       "model_id": "96b14446bc5c429ebc6cd380039ba392",
       "version_major": 2,
       "version_minor": 0
      },
      "text/plain": [
       "Query is running:   0%|          |"
      ]
     },
     "metadata": {},
     "output_type": "display_data"
    },
    {
     "data": {
      "text/html": [
       "<div>\n",
       "<style scoped>\n",
       "    .dataframe tbody tr th:only-of-type {\n",
       "        vertical-align: middle;\n",
       "    }\n",
       "\n",
       "    .dataframe tbody tr th {\n",
       "        vertical-align: top;\n",
       "    }\n",
       "\n",
       "    .dataframe thead th {\n",
       "        text-align: right;\n",
       "    }\n",
       "</style>\n",
       "<table border=\"1\" class=\"dataframe\">\n",
       "  <thead>\n",
       "    <tr style=\"text-align: right;\">\n",
       "      <th></th>\n",
       "    </tr>\n",
       "  </thead>\n",
       "  <tbody>\n",
       "  </tbody>\n",
       "</table>\n",
       "</div>"
      ],
      "text/plain": [
       "Empty DataFrame\n",
       "Columns: []\n",
       "Index: []"
      ]
     },
     "execution_count": 325,
     "metadata": {},
     "output_type": "execute_result"
    }
   ],
   "source": [
    "%%bigquery --pyformat\n",
    "CREATE OR REPLACE PROCEDURE phase6_copy_final_data()\n",
    "BEGIN\n",
    "  -- 'characters' table is the very table with final results that real users will be browsing\n",
    "  INSERT INTO {data_set}.characters (book_id, id, full_name, sex, social_class, wealth, values, information)\n",
    "  select\n",
    "    book_id,\n",
    "    id,\n",
    "    json_value(character_full_data, '$.full_name') full_name,\n",
    "    json_value(character_full_data, '$.sex') sex,\n",
    "    json_value(character_full_data, '$.social_class') social_class,\n",
    "    json_value(character_full_data, '$.wealth') wealth,\n",
    "    json_value(character_full_data, '$.values') values,\n",
    "    information\n",
    "  from {data_set}.tmp_grouped_full_data a where not exists (\n",
    "    select 1 from {data_set}.characters fa where a.id = fa.id AND a.book_id = fa.book_id\n",
    "  );\n",
    "\n",
    "  UPDATE {data_set}.characters fa SET fa.importance = ids.importance\n",
    "  FROM {data_set}.identifiers ids where ids.id = fa.id AND ids.book_id = fa.book_id AND fa.importance is null;\n",
    "  \n",
    "  -- we mark the books as processed, so it will not be processed again if whole notebook will be restarted\n",
    "  UPDATE {data_set}.books set processed = TRUE where book_id IN (\n",
    "    SELECT book_id from {data_set}.tmp_grouped_full_data);\n",
    "END;"
   ]
  },
  {
   "cell_type": "markdown",
   "id": "3b11136f",
   "metadata": {},
   "source": [
    "### Phase 7 - Clustering\n",
    "It takes the raw data gathered for each interesting us trait and clusters them together into consistent groups."
   ]
  },
  {
   "cell_type": "code",
   "execution_count": null,
   "id": "7a464b93",
   "metadata": {},
   "outputs": [
    {
     "data": {
      "application/vnd.jupyter.widget-view+json": {
       "model_id": "b2d68b42c019455f9f659a8ba1f9d1a6",
       "version_major": 2,
       "version_minor": 0
      },
      "text/plain": [
       "Query is running:   0%|          |"
      ]
     },
     "metadata": {},
     "output_type": "display_data"
    },
    {
     "data": {
      "text/html": [
       "<div>\n",
       "<style scoped>\n",
       "    .dataframe tbody tr th:only-of-type {\n",
       "        vertical-align: middle;\n",
       "    }\n",
       "\n",
       "    .dataframe tbody tr th {\n",
       "        vertical-align: top;\n",
       "    }\n",
       "\n",
       "    .dataframe thead th {\n",
       "        text-align: right;\n",
       "    }\n",
       "</style>\n",
       "<table border=\"1\" class=\"dataframe\">\n",
       "  <thead>\n",
       "    <tr style=\"text-align: right;\">\n",
       "      <th></th>\n",
       "    </tr>\n",
       "  </thead>\n",
       "  <tbody>\n",
       "  </tbody>\n",
       "</table>\n",
       "</div>"
      ],
      "text/plain": [
       "Empty DataFrame\n",
       "Columns: []\n",
       "Index: []"
      ]
     },
     "execution_count": 326,
     "metadata": {},
     "output_type": "execute_result"
    }
   ],
   "source": [
    "%%bigquery --pyformat\n",
    "CREATE OR REPLACE PROCEDURE phase7_split_traits(trait_desc STRING)\n",
    "BEGIN\n",
    "    -- lets ask AI to split and sanitize our precious data, it is first step to allow some statistical analysis\n",
    "    CREATE OR REPLACE TABLE {data_set}.tmp_split_traits as \n",
    "    SELECT t.book_id, t.id, t.traits as original_traits,\n",
    "    COALESCE(AI.GENERATE(FORMAT(p.prompt, trait_desc, t.traits, i.information), connection_id => '{connection_id}', endpoint => '{endpoint}').result, '[]') traits\n",
    "    FROM {data_set}.prompts p, {data_set}.tmp_copied_traits t, {data_set}.characters i\n",
    "    WHERE p.code = 'split_traits' AND t.id = i.id AND t.book_id = i.book_id;\n",
    "\n",
    "    -- put split traits elements int separate rows\n",
    "    CREATE OR REPLACE TABLE {data_set}.tmp_split_traits_final AS\n",
    "    SELECT *, row_number() OVER(ORDER BY id, book_id) trait_id, CAST(NULL AS INT64) cluster_id FROM\n",
    "    (select book_id, id, trait\n",
    "    FROM {data_set}.tmp_split_traits, UNNEST(JSON_QUERY_ARRAY(TRIM(traits, '`json\\n'), '$')) as trait);\t\n",
    "\n",
    "    UPDATE {data_set}.tmp_split_traits_final set trait = TRIM(trait, '\"') where 1=1;\n",
    "END;"
   ]
  },
  {
   "cell_type": "code",
   "execution_count": null,
   "id": "b763095f",
   "metadata": {},
   "outputs": [
    {
     "data": {
      "application/vnd.jupyter.widget-view+json": {
       "model_id": "24e349be218b4168a867c6883ddb30ec",
       "version_major": 2,
       "version_minor": 0
      },
      "text/plain": [
       "Query is running:   0%|          |"
      ]
     },
     "metadata": {},
     "output_type": "display_data"
    },
    {
     "data": {
      "text/html": [
       "<div>\n",
       "<style scoped>\n",
       "    .dataframe tbody tr th:only-of-type {\n",
       "        vertical-align: middle;\n",
       "    }\n",
       "\n",
       "    .dataframe tbody tr th {\n",
       "        vertical-align: top;\n",
       "    }\n",
       "\n",
       "    .dataframe thead th {\n",
       "        text-align: right;\n",
       "    }\n",
       "</style>\n",
       "<table border=\"1\" class=\"dataframe\">\n",
       "  <thead>\n",
       "    <tr style=\"text-align: right;\">\n",
       "      <th></th>\n",
       "    </tr>\n",
       "  </thead>\n",
       "  <tbody>\n",
       "  </tbody>\n",
       "</table>\n",
       "</div>"
      ],
      "text/plain": [
       "Empty DataFrame\n",
       "Columns: []\n",
       "Index: []"
      ]
     },
     "execution_count": 327,
     "metadata": {},
     "output_type": "execute_result"
    }
   ],
   "source": [
    "%%bigquery --pyformat\n",
    "CREATE OR REPLACE PROCEDURE phase7_identify_clusters(clusters INT64)\n",
    "BEGIN\n",
    "    -- let's do some embedding on split traits, they are usually very short so 128 length should be good\n",
    "    CREATE OR REPLACE TABLE {data_set}.tmp_traits_embeddings as SELECT * FROM ML.GENERATE_EMBEDDING(\n",
    "    MODEL `{data_set}.gemini-embedding-001`,\n",
    "    (SELECT trait as content, trait_id FROM {data_set}.tmp_split_traits_final),\n",
    "    STRUCT(TRUE AS flatten_json_output, 'SEMANTIC_SIMILARITY' as task_type, 128 as OUTPUT_DIMENSIONALITY));\n",
    "    \n",
    "    -- prepare random sample of max 2000 embeddings\n",
    "    CREATE OR REPLACE TABLE {data_set}.tmp_traits_embeddings_modeling_sample as\n",
    "    WITH size as (select count(*) count from {data_set}.tmp_traits_embeddings)\n",
    "    SELECT ml_generate_embedding_result, content, trait_id FROM {data_set}.tmp_traits_embeddings traits, size\n",
    "    where rand() < (2000 / size.count);\n",
    "    -- and use it to train KMEANS model\n",
    "    CREATE OR REPLACE MODEL `{data_set}.kmeans_traits_model`\n",
    "    OPTIONS(MODEL_TYPE = 'KMEANS', NUM_CLUSTERS = clusters, KMEANS_INIT_METHOD = 'KMEANS++', DISTANCE_TYPE = 'COSINE') AS\n",
    "    SELECT ml_generate_embedding_result FROM {data_set}.tmp_traits_embeddings_modeling_sample;\n",
    "\n",
    "    -- lets find clusters for each split values (execute immediate to avoid procedure verification error on unknown model)\n",
    "    EXECUTE IMMEDIATE ('''CREATE OR REPLACE TABLE `{data_set}.tmp_clustered_traits` AS\n",
    "        SELECT * FROM ML.PREDICT(MODEL `{data_set}.kmeans_traits_model`,\n",
    "        (SELECT ml_generate_embedding_result, content, trait_id FROM `{data_set}.tmp_traits_embeddings`))''');\n",
    "\n",
    "    UPDATE {data_set}.tmp_split_traits_final v set v.cluster_id = cv.centroid_id\n",
    "    FROM {data_set}.tmp_clustered_traits cv WHERE v.trait_id = cv.trait_id;\n",
    "END;"
   ]
  },
  {
   "cell_type": "code",
   "execution_count": null,
   "id": "8901c82e",
   "metadata": {},
   "outputs": [
    {
     "data": {
      "application/vnd.jupyter.widget-view+json": {
       "model_id": "ea70bf6d6ca247b08ebe10e619400dc5",
       "version_major": 2,
       "version_minor": 0
      },
      "text/plain": [
       "Query is running:   0%|          |"
      ]
     },
     "metadata": {},
     "output_type": "display_data"
    },
    {
     "data": {
      "text/html": [
       "<div>\n",
       "<style scoped>\n",
       "    .dataframe tbody tr th:only-of-type {\n",
       "        vertical-align: middle;\n",
       "    }\n",
       "\n",
       "    .dataframe tbody tr th {\n",
       "        vertical-align: top;\n",
       "    }\n",
       "\n",
       "    .dataframe thead th {\n",
       "        text-align: right;\n",
       "    }\n",
       "</style>\n",
       "<table border=\"1\" class=\"dataframe\">\n",
       "  <thead>\n",
       "    <tr style=\"text-align: right;\">\n",
       "      <th></th>\n",
       "    </tr>\n",
       "  </thead>\n",
       "  <tbody>\n",
       "  </tbody>\n",
       "</table>\n",
       "</div>"
      ],
      "text/plain": [
       "Empty DataFrame\n",
       "Columns: []\n",
       "Index: []"
      ]
     },
     "execution_count": 328,
     "metadata": {},
     "output_type": "execute_result"
    }
   ],
   "source": [
    "%%bigquery --pyformat\n",
    "CREATE OR REPLACE PROCEDURE phase7_name_clusters(trait_type STRING, trait_desc STRING)\n",
    "BEGIN\n",
    "    -- for each claster gather 200 random representatives\n",
    "    CREATE OR REPLACE TABLE {data_set}.tmp_trait_clusters as\n",
    "    select centroid_id as cluster_id, ARRAY_TO_STRING(ARRAY_AGG(content LIMIT 200), ', ') examples from {data_set}.tmp_clustered_traits group by centroid_id;\n",
    "\n",
    "    -- throw the representatives at the AI and ask it to give them one common name and description\n",
    "    CREATE OR REPLACE TABLE {data_set}.tmp_clusters_analysis as\n",
    "    SELECT AI.GENERATE(FORMAT(p.prompt, trait_desc, c.json_examples), connection_id => '{connection_id}', endpoint => '{endpoint}').result\n",
    "    FROM (select '[\\n' || string_agg(json_example, ',\\n') || '\\n]' json_examples\n",
    "    FROM (select cluster_id, TO_JSON_STRING(STRUCT(cluster_id, examples)) json_example from {data_set}.tmp_trait_clusters order by cluster_id)) c\n",
    "    join {data_set}.prompts p ON p.code = 'cluster_traits';\n",
    "\n",
    "    -- extract from json and store the invented name and description in 'clusters' table\n",
    "    CREATE OR REPLACE TABLE {data_set}.tmp_cluster_names as\n",
    "    select CAST(json_value(clusters, '$.cluster_id') AS INT64) cluster_id, json_value(clusters, '$.cluster_name') name, json_value(clusters, '$.cluster_description') description\n",
    "    FROM {data_set}.tmp_clusters_analysis, UNNEST(JSON_QUERY_ARRAY(TRIM(result, '`json\\n'), '$')) as clusters;\n",
    "    DELETE FROM {data_set}.clusters where cluster_type = trait_type;\n",
    "    INSERT INTO {data_set}.clusters (cluster_type, cluster_id, name, description)\n",
    "    SELECT trait_type, cluster_id, name, description FROM {data_set}.tmp_cluster_names;\n",
    "END;"
   ]
  },
  {
   "cell_type": "code",
   "execution_count": null,
   "id": "678bab99",
   "metadata": {},
   "outputs": [
    {
     "data": {
      "application/vnd.jupyter.widget-view+json": {
       "model_id": "13f3d0315eb148a68f27a02ae13ad3ce",
       "version_major": 2,
       "version_minor": 0
      },
      "text/plain": [
       "Query is running:   0%|          |"
      ]
     },
     "metadata": {},
     "output_type": "display_data"
    },
    {
     "data": {
      "text/html": [
       "<div>\n",
       "<style scoped>\n",
       "    .dataframe tbody tr th:only-of-type {\n",
       "        vertical-align: middle;\n",
       "    }\n",
       "\n",
       "    .dataframe tbody tr th {\n",
       "        vertical-align: top;\n",
       "    }\n",
       "\n",
       "    .dataframe thead th {\n",
       "        text-align: right;\n",
       "    }\n",
       "</style>\n",
       "<table border=\"1\" class=\"dataframe\">\n",
       "  <thead>\n",
       "    <tr style=\"text-align: right;\">\n",
       "      <th></th>\n",
       "    </tr>\n",
       "  </thead>\n",
       "  <tbody>\n",
       "  </tbody>\n",
       "</table>\n",
       "</div>"
      ],
      "text/plain": [
       "Empty DataFrame\n",
       "Columns: []\n",
       "Index: []"
      ]
     },
     "execution_count": 329,
     "metadata": {},
     "output_type": "execute_result"
    }
   ],
   "source": [
    "%%bigquery --pyformat\n",
    "CREATE OR REPLACE PROCEDURE phase7_assign_clusters(trait_type STRING)\n",
    "BEGIN\n",
    "    -- set the cluster_ids in 'character_cluster_details'\n",
    "    DELETE FROM {data_set}.character_cluster_details where book_id IN (SELECT book_id FROM {data_set}.tmp_split_traits_final);\n",
    "    INSERT INTO {data_set}.character_cluster_details(book_id, id, trait, trait_id, cluster_type, cluster_id)\n",
    "    SELECT book_id, id, trait, trait_id, trait_type, cluster_id FROM {data_set}.tmp_split_traits_final;\n",
    "\n",
    "    -- combine traits of each person together (we already have one, but this one is sanitized)\n",
    "    CREATE OR REPLACE TABLE {data_set}.tmp_combined_traits as\n",
    "    SELECT book_id, id, cluster_type, string_agg(trait, ', ') traits, CAST(NULL AS INT64) cluster_id\n",
    "    FROM {data_set}.character_cluster_details GROUP BY book_id, id, cluster_type;\n",
    "\n",
    "    -- prepare embeddings for concatenated traits\n",
    "    CREATE OR REPLACE TABLE {data_set}.tmp_combined_traits_embeddings as SELECT * FROM ML.GENERATE_EMBEDDING(\n",
    "    MODEL `{data_set}.gemini-embedding-001`,\n",
    "    (SELECT traits as content, book_id, id FROM {data_set}.tmp_combined_traits),\n",
    "    STRUCT(TRUE AS flatten_json_output, 'SEMANTIC_SIMILARITY' as task_type, 128 as OUTPUT_DIMENSIONALITY));\n",
    "    \n",
    "    -- and find the main cluster_id for given person using previously trained\n",
    "    EXECUTE IMMEDIATE ('''CREATE OR REPLACE TABLE `{data_set}.tmp_combined_traits_clustered` AS\n",
    "        SELECT * FROM ML.PREDICT(MODEL `{data_set}.kmeans_traits_model`,\n",
    "        (SELECT ml_generate_embedding_result, book_id, id FROM `{data_set}.tmp_combined_traits_embeddings`))''');\n",
    "\n",
    "    UPDATE {data_set}.tmp_combined_traits ct set ct.cluster_id = ctc.centroid_id\n",
    "    FROM {data_set}.tmp_combined_traits_clustered ctc WHERE ctc.id = ct.id AND ctc.book_id = ct.book_id;\n",
    "END;"
   ]
  },
  {
   "cell_type": "markdown",
   "id": "3c5cd584",
   "metadata": {},
   "source": [
    "### Statistical views\n",
    "Helping to get meaning of the data"
   ]
  },
  {
   "cell_type": "markdown",
   "id": "9cb56b52",
   "metadata": {},
   "source": [
    "Almost the same with 'characters' table but with cluster names and sanitized gender value"
   ]
  },
  {
   "cell_type": "code",
   "execution_count": null,
   "id": "e7e50409",
   "metadata": {},
   "outputs": [
    {
     "data": {
      "application/vnd.jupyter.widget-view+json": {
       "model_id": "f4417909d12c4403a581482f748b2f5f",
       "version_major": 2,
       "version_minor": 0
      },
      "text/plain": [
       "Query is running:   0%|          |"
      ]
     },
     "metadata": {},
     "output_type": "display_data"
    },
    {
     "data": {
      "text/html": [
       "<div>\n",
       "<style scoped>\n",
       "    .dataframe tbody tr th:only-of-type {\n",
       "        vertical-align: middle;\n",
       "    }\n",
       "\n",
       "    .dataframe tbody tr th {\n",
       "        vertical-align: top;\n",
       "    }\n",
       "\n",
       "    .dataframe thead th {\n",
       "        text-align: right;\n",
       "    }\n",
       "</style>\n",
       "<table border=\"1\" class=\"dataframe\">\n",
       "  <thead>\n",
       "    <tr style=\"text-align: right;\">\n",
       "      <th></th>\n",
       "    </tr>\n",
       "  </thead>\n",
       "  <tbody>\n",
       "  </tbody>\n",
       "</table>\n",
       "</div>"
      ],
      "text/plain": [
       "Empty DataFrame\n",
       "Columns: []\n",
       "Index: []"
      ]
     },
     "execution_count": 330,
     "metadata": {},
     "output_type": "execute_result"
    }
   ],
   "source": [
    "%%bigquery --pyformat\n",
    "\n",
    "CREATE OR REPLACE VIEW v_characters_enriched AS\n",
    "WITH cluster_names AS (SELECT cluster_type, cluster_id, name as cluster_name, description FROM {data_set}.clusters),\n",
    "social_class_names AS (SELECT cluster_id, cluster_name as social_class_name, description as social_class_desc FROM cluster_names WHERE cluster_type = 'social_class'),\n",
    "wealth_names AS (SELECT cluster_id, cluster_name as wealth_name, description as wealth_desc FROM cluster_names WHERE cluster_type = 'wealth'),\n",
    "values_names AS (SELECT cluster_id, cluster_name as values_name, description as values_desc FROM cluster_names WHERE cluster_type = 'values')\n",
    "SELECT c.social_class_cluster_id, c.wealth_cluster_id, c.values_cluster_id, \n",
    "  CASE \n",
    "    WHEN LOWER(TRIM(c.sex)) IN ('male', 'm', 'man') THEN 'male'\n",
    "    WHEN LOWER(TRIM(c.sex)) IN ('female', 'f', 'woman') THEN 'female'\n",
    "    ELSE 'unknown'\n",
    "  END as sex,\n",
    "  COALESCE(sc.social_class_name, 'unknown') social_class_name, COALESCE(sc.social_class_desc, '-') social_class_desc, COALESCE(w.wealth_name, 'unknown') wealth_name,\n",
    "  COALESCE(w.wealth_desc, '-') wealth_desc, COALESCE(v.values_name, 'unknown') values_name, COALESCE(v.values_desc, '-') values_desc\n",
    "FROM {data_set}.characters c\n",
    "LEFT JOIN social_class_names sc ON c.social_class_cluster_id = sc.cluster_id\n",
    "LEFT JOIN wealth_names w ON c.wealth_cluster_id = w.cluster_id  \n",
    "LEFT JOIN values_names v ON c.values_cluster_id = v.cluster_id;"
   ]
  },
  {
   "cell_type": "markdown",
   "id": "d305d9e7",
   "metadata": {},
   "source": [
    "Shows all the clusters identified by KMean analysis"
   ]
  },
  {
   "cell_type": "code",
   "execution_count": 331,
   "id": "f6b9bd33",
   "metadata": {},
   "outputs": [
    {
     "data": {
      "application/vnd.jupyter.widget-view+json": {
       "model_id": "9d7542bc357e4309aeb8c72f8a784140",
       "version_major": 2,
       "version_minor": 0
      },
      "text/plain": [
       "Query is running:   0%|          |"
      ]
     },
     "metadata": {},
     "output_type": "display_data"
    },
    {
     "data": {
      "text/html": [
       "<div>\n",
       "<style scoped>\n",
       "    .dataframe tbody tr th:only-of-type {\n",
       "        vertical-align: middle;\n",
       "    }\n",
       "\n",
       "    .dataframe tbody tr th {\n",
       "        vertical-align: top;\n",
       "    }\n",
       "\n",
       "    .dataframe thead th {\n",
       "        text-align: right;\n",
       "    }\n",
       "</style>\n",
       "<table border=\"1\" class=\"dataframe\">\n",
       "  <thead>\n",
       "    <tr style=\"text-align: right;\">\n",
       "      <th></th>\n",
       "    </tr>\n",
       "  </thead>\n",
       "  <tbody>\n",
       "  </tbody>\n",
       "</table>\n",
       "</div>"
      ],
      "text/plain": [
       "Empty DataFrame\n",
       "Columns: []\n",
       "Index: []"
      ]
     },
     "execution_count": 331,
     "metadata": {},
     "output_type": "execute_result"
    }
   ],
   "source": [
    "%%bigquery --pyformat\n",
    "\n",
    "CREATE OR REPLACE VIEW v_cluster_statistics AS\n",
    "WITH stats AS (\n",
    "  SELECT 'sex' as dimension, NULL as cluster_id, sex as cluster_name, '-' as cluster_description, COUNT(*) as count,\n",
    "    COUNT(*) / (SELECT COUNT(*) FROM {data_set}.v_characters_enriched) * 100 as percentage, RANK() OVER (PARTITION BY 'sex' ORDER BY COUNT(*) DESC) as rank_within_dimension\n",
    "  FROM {data_set}.v_characters_enriched GROUP BY sex\n",
    "  UNION ALL\n",
    "  SELECT 'social_class', social_class_cluster_id, social_class_name, social_class_desc, COUNT(*),\n",
    "    COUNT(*) / (SELECT COUNT(*) FROM {data_set}.v_characters_enriched) * 100, RANK() OVER (PARTITION BY 'social_class' ORDER BY COUNT(*) DESC)\n",
    "  FROM {data_set}.v_characters_enriched GROUP BY social_class_cluster_id, social_class_name, social_class_desc\n",
    "  UNION ALL\n",
    "  SELECT 'wealth', wealth_cluster_id, wealth_name, wealth_desc, COUNT(*),\n",
    "    COUNT(*) / (SELECT COUNT(*) FROM {data_set}.v_characters_enriched) * 100, RANK() OVER (PARTITION BY 'wealth' ORDER BY COUNT(*) DESC)\n",
    "  FROM {data_set}.v_characters_enriched GROUP BY wealth_cluster_id, wealth_name, wealth_desc\n",
    "  UNION ALL\n",
    "  SELECT 'values', values_cluster_id, values_name, values_desc, COUNT(*),\n",
    "    COUNT(*) / (SELECT COUNT(*) FROM {data_set}.v_characters_enriched) * 100, RANK() OVER (PARTITION BY 'values' ORDER BY COUNT(*) DESC)\n",
    "  FROM {data_set}.v_characters_enriched GROUP BY values_cluster_id, values_name, values_desc\n",
    ")\n",
    "SELECT * FROM stats ORDER BY dimension, rank_within_dimension;"
   ]
  },
  {
   "cell_type": "markdown",
   "id": "e3407f89",
   "metadata": {},
   "source": [
    "Groups the characters by all the four dimensions (gender, wealth, values, social class) that contains at least 2 persons"
   ]
  },
  {
   "cell_type": "code",
   "execution_count": 332,
   "id": "922a02be",
   "metadata": {},
   "outputs": [
    {
     "data": {
      "application/vnd.jupyter.widget-view+json": {
       "model_id": "4465661afe60425e97a665adf0dd98dc",
       "version_major": 2,
       "version_minor": 0
      },
      "text/plain": [
       "Query is running:   0%|          |"
      ]
     },
     "metadata": {},
     "output_type": "display_data"
    },
    {
     "data": {
      "text/html": [
       "<div>\n",
       "<style scoped>\n",
       "    .dataframe tbody tr th:only-of-type {\n",
       "        vertical-align: middle;\n",
       "    }\n",
       "\n",
       "    .dataframe tbody tr th {\n",
       "        vertical-align: top;\n",
       "    }\n",
       "\n",
       "    .dataframe thead th {\n",
       "        text-align: right;\n",
       "    }\n",
       "</style>\n",
       "<table border=\"1\" class=\"dataframe\">\n",
       "  <thead>\n",
       "    <tr style=\"text-align: right;\">\n",
       "      <th></th>\n",
       "    </tr>\n",
       "  </thead>\n",
       "  <tbody>\n",
       "  </tbody>\n",
       "</table>\n",
       "</div>"
      ],
      "text/plain": [
       "Empty DataFrame\n",
       "Columns: []\n",
       "Index: []"
      ]
     },
     "execution_count": 332,
     "metadata": {},
     "output_type": "execute_result"
    }
   ],
   "source": [
    "%%bigquery --pyformat\n",
    "\n",
    "CREATE OR REPLACE VIEW v_character_profiles AS\n",
    "WITH profiles AS (\n",
    "  SELECT sex, social_class_name, wealth_name, values_name, COUNT(*) as character_count\n",
    "  FROM {data_set}.v_characters_enriched\n",
    "  GROUP BY social_class_cluster_id, wealth_cluster_id, values_cluster_id, sex, social_class_name, wealth_name, values_name)\n",
    "SELECT *, character_count / (SELECT COUNT(*) FROM {data_set}.v_characters_enriched) * 100 as percentage,\n",
    "  RANK() OVER (ORDER BY character_count DESC) as popularity_rank,\n",
    "FROM profiles WHERE character_count > 1 ORDER BY character_count DESC;"
   ]
  },
  {
   "cell_type": "markdown",
   "id": "7a866748",
   "metadata": {},
   "source": [
    "- `v_formatted_cluster_statistics` - shows all the clusters identified by KMean analysis\n",
    "- `v_formatted_crosstab_sex_social` - shows relationships between gender and social class\n",
    "- `v_formatted_crosstab_sex_wealth` - shows relationships between gender and wealth\n",
    "- `v_formatted_crosstab_sex_values` - shows relationships between gender and values\n",
    "- `v_formatted_crosstab_social_wealth` - shows relationships between social class and wealth\n",
    "- `v_formatted_crosstab_social_values` - shows relationships between social class and values\n",
    "- `v_formatted_crosstab_wealth_values` - shows relationships between social wealth and values\n",
    "- `v_formatted_character_profiles` - it groups the characters by all the four dimensions (gender, wealth, values, social class) that contains at least 2 persons\n",
    "- `v_formatted_gender_analysis` - similar to above but with gender related counts and percentage columns"
   ]
  },
  {
   "cell_type": "code",
   "execution_count": 333,
   "id": "490fa8f6",
   "metadata": {},
   "outputs": [
    {
     "data": {
      "application/vnd.jupyter.widget-view+json": {
       "model_id": "1759efbe37324e57bfb0adec190d8a20",
       "version_major": 2,
       "version_minor": 0
      },
      "text/plain": [
       "Query is running:   0%|          |"
      ]
     },
     "metadata": {},
     "output_type": "display_data"
    },
    {
     "data": {
      "text/html": [
       "<div>\n",
       "<style scoped>\n",
       "    .dataframe tbody tr th:only-of-type {\n",
       "        vertical-align: middle;\n",
       "    }\n",
       "\n",
       "    .dataframe tbody tr th {\n",
       "        vertical-align: top;\n",
       "    }\n",
       "\n",
       "    .dataframe thead th {\n",
       "        text-align: right;\n",
       "    }\n",
       "</style>\n",
       "<table border=\"1\" class=\"dataframe\">\n",
       "  <thead>\n",
       "    <tr style=\"text-align: right;\">\n",
       "      <th></th>\n",
       "    </tr>\n",
       "  </thead>\n",
       "  <tbody>\n",
       "  </tbody>\n",
       "</table>\n",
       "</div>"
      ],
      "text/plain": [
       "Empty DataFrame\n",
       "Columns: []\n",
       "Index: []"
      ]
     },
     "execution_count": 333,
     "metadata": {},
     "output_type": "execute_result"
    }
   ],
   "source": [
    "%%bigquery --pyformat\n",
    "\n",
    "CREATE OR REPLACE VIEW v_crosstab_sex_social AS\n",
    "WITH crosstab_data AS (SELECT sex, social_class_name, COUNT(*) as frequency FROM {data_set}.v_characters_enriched GROUP BY sex, social_class_name),\n",
    "sex_totals AS (SELECT sex, SUM(frequency) as sex_total FROM crosstab_data GROUP BY sex),\n",
    "social_totals AS (SELECT social_class_name, SUM(frequency) as social_class_total FROM crosstab_data GROUP BY social_class_name)\n",
    "SELECT cd.sex, cd.social_class_name, cd.frequency,\n",
    "  cd.frequency / st.sex_total * 100 as sex_percentage,\n",
    "  cd.frequency / sct.social_class_total * 100 as social_class_percentage,\n",
    "  cd.frequency / (SELECT COUNT(*) FROM {data_set}.v_characters_enriched) * 100 as total_percentage\n",
    "FROM crosstab_data cd JOIN sex_totals st ON cd.sex = st.sex JOIN social_totals sct ON cd.social_class_name = sct.social_class_name\n",
    "ORDER BY cd.sex, cd.frequency DESC;"
   ]
  },
  {
   "cell_type": "markdown",
   "id": "250f92ce",
   "metadata": {},
   "source": [
    "- `v_formatted_cluster_statistics` - shows all the clusters identified by KMean analysis\n",
    "- `v_formatted_crosstab_sex_social` - shows relationships between gender and social class\n",
    "- `v_formatted_crosstab_sex_wealth` - shows relationships between gender and wealth\n",
    "- `v_formatted_crosstab_sex_values` - shows relationships between gender and values\n",
    "- `v_formatted_crosstab_social_wealth` - shows relationships between social class and wealth\n",
    "- `v_formatted_crosstab_social_values` - shows relationships between social class and values\n",
    "- `v_formatted_crosstab_wealth_values` - shows relationships between social wealth and values\n",
    "- `v_formatted_character_profiles` - it groups the characters by all the four dimensions (gender, wealth, values, social class) that contains at least 2 persons\n",
    "- `v_formatted_gender_analysis` - similar to above but with gender related counts and percentage columns"
   ]
  },
  {
   "cell_type": "code",
   "execution_count": 334,
   "id": "42d17812",
   "metadata": {},
   "outputs": [
    {
     "data": {
      "application/vnd.jupyter.widget-view+json": {
       "model_id": "14e9055dac7446c99f988ede924e55da",
       "version_major": 2,
       "version_minor": 0
      },
      "text/plain": [
       "Query is running:   0%|          |"
      ]
     },
     "metadata": {},
     "output_type": "display_data"
    },
    {
     "data": {
      "text/html": [
       "<div>\n",
       "<style scoped>\n",
       "    .dataframe tbody tr th:only-of-type {\n",
       "        vertical-align: middle;\n",
       "    }\n",
       "\n",
       "    .dataframe tbody tr th {\n",
       "        vertical-align: top;\n",
       "    }\n",
       "\n",
       "    .dataframe thead th {\n",
       "        text-align: right;\n",
       "    }\n",
       "</style>\n",
       "<table border=\"1\" class=\"dataframe\">\n",
       "  <thead>\n",
       "    <tr style=\"text-align: right;\">\n",
       "      <th></th>\n",
       "    </tr>\n",
       "  </thead>\n",
       "  <tbody>\n",
       "  </tbody>\n",
       "</table>\n",
       "</div>"
      ],
      "text/plain": [
       "Empty DataFrame\n",
       "Columns: []\n",
       "Index: []"
      ]
     },
     "execution_count": 334,
     "metadata": {},
     "output_type": "execute_result"
    }
   ],
   "source": [
    "%%bigquery --pyformat\n",
    "\n",
    "CREATE OR REPLACE VIEW v_crosstab_sex_wealth AS\n",
    "WITH crosstab_data AS (SELECT sex, wealth_name, COUNT(*) as frequency FROM {data_set}.v_characters_enriched GROUP BY sex, wealth_name),\n",
    "sex_totals AS (SELECT sex, SUM(frequency) as sex_total FROM crosstab_data GROUP BY sex),\n",
    "social_totals AS (SELECT wealth_name, SUM(frequency) as wealth_total FROM crosstab_data GROUP BY wealth_name)\n",
    "SELECT cd.sex, cd.wealth_name, cd.frequency,\n",
    "  cd.frequency / st.sex_total * 100 as sex_percentage,\n",
    "  cd.frequency / sct.wealth_total * 100 as wealth_percentage,\n",
    "  cd.frequency / (SELECT COUNT(*) FROM {data_set}.v_characters_enriched) * 100 as total_percentage\n",
    "FROM crosstab_data cd JOIN sex_totals st ON cd.sex = st.sex JOIN social_totals sct ON cd.wealth_name = sct.wealth_name\n",
    "ORDER BY cd.sex, cd.frequency DESC;"
   ]
  },
  {
   "cell_type": "markdown",
   "id": "bd1f183e",
   "metadata": {},
   "source": [
    "- `v_formatted_cluster_statistics` - shows all the clusters identified by KMean analysis\n",
    "- `v_formatted_crosstab_sex_social` - shows relationships between gender and social class\n",
    "- `v_formatted_crosstab_sex_wealth` - shows relationships between gender and wealth\n",
    "- `v_formatted_crosstab_sex_values` - shows relationships between gender and values\n",
    "- `v_formatted_crosstab_social_wealth` - shows relationships between social class and wealth\n",
    "- `v_formatted_crosstab_social_values` - shows relationships between social class and values\n",
    "- `v_formatted_crosstab_wealth_values` - shows relationships between social wealth and values\n",
    "- `v_formatted_character_profiles` - it groups the characters by all the four dimensions (gender, wealth, values, social class) that contains at least 2 persons\n",
    "- `v_formatted_gender_analysis` - similar to above but with gender related counts and percentage columns"
   ]
  },
  {
   "cell_type": "code",
   "execution_count": 335,
   "id": "2b7af829",
   "metadata": {},
   "outputs": [
    {
     "data": {
      "application/vnd.jupyter.widget-view+json": {
       "model_id": "718ea5efa5dc468b9870e0e13af1bc29",
       "version_major": 2,
       "version_minor": 0
      },
      "text/plain": [
       "Query is running:   0%|          |"
      ]
     },
     "metadata": {},
     "output_type": "display_data"
    },
    {
     "data": {
      "text/html": [
       "<div>\n",
       "<style scoped>\n",
       "    .dataframe tbody tr th:only-of-type {\n",
       "        vertical-align: middle;\n",
       "    }\n",
       "\n",
       "    .dataframe tbody tr th {\n",
       "        vertical-align: top;\n",
       "    }\n",
       "\n",
       "    .dataframe thead th {\n",
       "        text-align: right;\n",
       "    }\n",
       "</style>\n",
       "<table border=\"1\" class=\"dataframe\">\n",
       "  <thead>\n",
       "    <tr style=\"text-align: right;\">\n",
       "      <th></th>\n",
       "    </tr>\n",
       "  </thead>\n",
       "  <tbody>\n",
       "  </tbody>\n",
       "</table>\n",
       "</div>"
      ],
      "text/plain": [
       "Empty DataFrame\n",
       "Columns: []\n",
       "Index: []"
      ]
     },
     "execution_count": 335,
     "metadata": {},
     "output_type": "execute_result"
    }
   ],
   "source": [
    "%%bigquery --pyformat\n",
    "\n",
    "CREATE OR REPLACE VIEW v_crosstab_sex_values AS\n",
    "WITH crosstab_data AS (SELECT sex, values_name, COUNT(*) as frequency FROM {data_set}.v_characters_enriched GROUP BY sex, values_name),\n",
    "sex_totals AS (SELECT sex, SUM(frequency) as sex_total FROM crosstab_data GROUP BY sex),\n",
    "social_totals AS (SELECT values_name, SUM(frequency) as values_total FROM crosstab_data GROUP BY values_name)\n",
    "SELECT cd.sex, cd.values_name, cd.frequency,\n",
    "  cd.frequency / st.sex_total * 100 as sex_percentage,\n",
    "  cd.frequency / sct.values_total * 100 as values_percentage,\n",
    "  cd.frequency / (SELECT COUNT(*) FROM {data_set}.v_characters_enriched) * 100 as total_percentage\n",
    "FROM crosstab_data cd JOIN sex_totals st ON cd.sex = st.sex JOIN social_totals sct ON cd.values_name = sct.values_name\n",
    "ORDER BY cd.sex, cd.frequency DESC;"
   ]
  },
  {
   "cell_type": "markdown",
   "id": "ffbec92d",
   "metadata": {},
   "source": [
    "- `v_formatted_cluster_statistics` - shows all the clusters identified by KMean analysis\n",
    "- `v_formatted_crosstab_sex_social` - shows relationships between gender and social class\n",
    "- `v_formatted_crosstab_sex_wealth` - shows relationships between gender and wealth\n",
    "- `v_formatted_crosstab_sex_values` - shows relationships between gender and values\n",
    "- `v_formatted_crosstab_social_wealth` - shows relationships between social class and wealth\n",
    "- `v_formatted_crosstab_social_values` - shows relationships between social class and values\n",
    "- `v_formatted_crosstab_wealth_values` - shows relationships between social wealth and values\n",
    "- `v_formatted_character_profiles` - it groups the characters by all the four dimensions (gender, wealth, values, social class) that contains at least 2 persons\n",
    "- `v_formatted_gender_analysis` - similar to above but with gender related counts and percentage columns"
   ]
  },
  {
   "cell_type": "code",
   "execution_count": 336,
   "id": "7cffb6ca",
   "metadata": {},
   "outputs": [
    {
     "data": {
      "application/vnd.jupyter.widget-view+json": {
       "model_id": "701d5c3b07364074996ff47e959ba8ef",
       "version_major": 2,
       "version_minor": 0
      },
      "text/plain": [
       "Query is running:   0%|          |"
      ]
     },
     "metadata": {},
     "output_type": "display_data"
    },
    {
     "data": {
      "text/html": [
       "<div>\n",
       "<style scoped>\n",
       "    .dataframe tbody tr th:only-of-type {\n",
       "        vertical-align: middle;\n",
       "    }\n",
       "\n",
       "    .dataframe tbody tr th {\n",
       "        vertical-align: top;\n",
       "    }\n",
       "\n",
       "    .dataframe thead th {\n",
       "        text-align: right;\n",
       "    }\n",
       "</style>\n",
       "<table border=\"1\" class=\"dataframe\">\n",
       "  <thead>\n",
       "    <tr style=\"text-align: right;\">\n",
       "      <th></th>\n",
       "    </tr>\n",
       "  </thead>\n",
       "  <tbody>\n",
       "  </tbody>\n",
       "</table>\n",
       "</div>"
      ],
      "text/plain": [
       "Empty DataFrame\n",
       "Columns: []\n",
       "Index: []"
      ]
     },
     "execution_count": 336,
     "metadata": {},
     "output_type": "execute_result"
    }
   ],
   "source": [
    "%%bigquery --pyformat\n",
    "\n",
    "CREATE OR REPLACE VIEW v_crosstab_social_wealth AS\n",
    "WITH crosstab_data AS (SELECT social_class_name, wealth_name, COUNT(*) as frequency\n",
    "  FROM {data_set}.v_characters_enriched GROUP BY social_class_name, wealth_name),\n",
    "totals AS (SELECT social_class_name, SUM(frequency) as social_class_total FROM crosstab_data GROUP BY social_class_name),\n",
    "wealth_totals AS (SELECT wealth_name, SUM(frequency) as wealth_total FROM crosstab_data GROUP BY wealth_name)\n",
    "SELECT cd.social_class_name, cd.wealth_name, cd.frequency,\n",
    "  cd.frequency / t.social_class_total * 100 as social_class_percentage,\n",
    "  cd.frequency / wt.wealth_total * 100 as wealth_percentage,\n",
    "  cd.frequency / (SELECT COUNT(*) FROM {data_set}.v_characters_enriched) * 100 as total_percentage\n",
    "FROM crosstab_data cd JOIN totals t ON cd.social_class_name = t.social_class_name JOIN wealth_totals wt ON cd.wealth_name = wt.wealth_name\n",
    "ORDER BY cd.social_class_name, cd.frequency DESC;"
   ]
  },
  {
   "cell_type": "markdown",
   "id": "fd27effd",
   "metadata": {},
   "source": [
    "- `v_formatted_cluster_statistics` - shows all the clusters identified by KMean analysis\n",
    "- `v_formatted_crosstab_sex_social` - shows relationships between gender and social class\n",
    "- `v_formatted_crosstab_sex_wealth` - shows relationships between gender and wealth\n",
    "- `v_formatted_crosstab_sex_values` - shows relationships between gender and values\n",
    "- `v_formatted_crosstab_social_wealth` - shows relationships between social class and wealth\n",
    "- `v_formatted_crosstab_social_values` - shows relationships between social class and values\n",
    "- `v_formatted_crosstab_wealth_values` - shows relationships between social wealth and values\n",
    "- `v_formatted_character_profiles` - it groups the characters by all the four dimensions (gender, wealth, values, social class) that contains at least 2 persons\n",
    "- `v_formatted_gender_analysis` - similar to above but with gender related counts and percentage columns"
   ]
  },
  {
   "cell_type": "code",
   "execution_count": 337,
   "id": "1235c128",
   "metadata": {},
   "outputs": [
    {
     "data": {
      "application/vnd.jupyter.widget-view+json": {
       "model_id": "bc9236bb39db4ea6aa50333fdb470e81",
       "version_major": 2,
       "version_minor": 0
      },
      "text/plain": [
       "Query is running:   0%|          |"
      ]
     },
     "metadata": {},
     "output_type": "display_data"
    },
    {
     "data": {
      "text/html": [
       "<div>\n",
       "<style scoped>\n",
       "    .dataframe tbody tr th:only-of-type {\n",
       "        vertical-align: middle;\n",
       "    }\n",
       "\n",
       "    .dataframe tbody tr th {\n",
       "        vertical-align: top;\n",
       "    }\n",
       "\n",
       "    .dataframe thead th {\n",
       "        text-align: right;\n",
       "    }\n",
       "</style>\n",
       "<table border=\"1\" class=\"dataframe\">\n",
       "  <thead>\n",
       "    <tr style=\"text-align: right;\">\n",
       "      <th></th>\n",
       "    </tr>\n",
       "  </thead>\n",
       "  <tbody>\n",
       "  </tbody>\n",
       "</table>\n",
       "</div>"
      ],
      "text/plain": [
       "Empty DataFrame\n",
       "Columns: []\n",
       "Index: []"
      ]
     },
     "execution_count": 337,
     "metadata": {},
     "output_type": "execute_result"
    }
   ],
   "source": [
    "%%bigquery --pyformat\n",
    "\n",
    "CREATE OR REPLACE VIEW v_crosstab_social_values AS\n",
    "WITH crosstab_data AS (SELECT social_class_name, values_name, COUNT(*) as frequency\n",
    "  FROM {data_set}.v_characters_enriched GROUP BY social_class_name, values_name),\n",
    "totals AS (SELECT social_class_name, SUM(frequency) as social_class_total FROM crosstab_data GROUP BY social_class_name),\n",
    "values_totals AS (SELECT values_name, SUM(frequency) as values_total FROM crosstab_data GROUP BY values_name)\n",
    "SELECT cd.social_class_name, cd.values_name, cd.frequency,\n",
    "  cd.frequency / t.social_class_total * 100 as social_class_percentage,\n",
    "  cd.frequency / wt.values_total * 100 as values_percentage,\n",
    "  cd.frequency / (SELECT COUNT(*) FROM {data_set}.v_characters_enriched) * 100 as total_percentage\n",
    "FROM crosstab_data cd JOIN totals t ON cd.social_class_name = t.social_class_name JOIN values_totals wt ON cd.values_name = wt.values_name\n",
    "ORDER BY cd.social_class_name, cd.frequency DESC;"
   ]
  },
  {
   "cell_type": "markdown",
   "id": "83c0a29a",
   "metadata": {},
   "source": [
    "- `v_formatted_cluster_statistics` - shows all the clusters identified by KMean analysis\n",
    "- `v_formatted_crosstab_sex_social` - shows relationships between gender and social class\n",
    "- `v_formatted_crosstab_sex_wealth` - shows relationships between gender and wealth\n",
    "- `v_formatted_crosstab_sex_values` - shows relationships between gender and values\n",
    "- `v_formatted_crosstab_social_wealth` - shows relationships between social class and wealth\n",
    "- `v_formatted_crosstab_social_values` - shows relationships between social class and values\n",
    "- `v_formatted_crosstab_wealth_values` - shows relationships between social wealth and values\n",
    "- `v_formatted_character_profiles` - it groups the characters by all the four dimensions (gender, wealth, values, social class) that contains at least 2 persons\n",
    "- `v_formatted_gender_analysis` - similar to above but with gender related counts and percentage columns"
   ]
  },
  {
   "cell_type": "code",
   "execution_count": 338,
   "id": "11fd9131",
   "metadata": {},
   "outputs": [
    {
     "data": {
      "application/vnd.jupyter.widget-view+json": {
       "model_id": "272ed19c01fe4a4583f44bfda2b62f5b",
       "version_major": 2,
       "version_minor": 0
      },
      "text/plain": [
       "Query is running:   0%|          |"
      ]
     },
     "metadata": {},
     "output_type": "display_data"
    },
    {
     "data": {
      "text/html": [
       "<div>\n",
       "<style scoped>\n",
       "    .dataframe tbody tr th:only-of-type {\n",
       "        vertical-align: middle;\n",
       "    }\n",
       "\n",
       "    .dataframe tbody tr th {\n",
       "        vertical-align: top;\n",
       "    }\n",
       "\n",
       "    .dataframe thead th {\n",
       "        text-align: right;\n",
       "    }\n",
       "</style>\n",
       "<table border=\"1\" class=\"dataframe\">\n",
       "  <thead>\n",
       "    <tr style=\"text-align: right;\">\n",
       "      <th></th>\n",
       "    </tr>\n",
       "  </thead>\n",
       "  <tbody>\n",
       "  </tbody>\n",
       "</table>\n",
       "</div>"
      ],
      "text/plain": [
       "Empty DataFrame\n",
       "Columns: []\n",
       "Index: []"
      ]
     },
     "execution_count": 338,
     "metadata": {},
     "output_type": "execute_result"
    }
   ],
   "source": [
    "%%bigquery --pyformat\n",
    "\n",
    "CREATE OR REPLACE VIEW v_crosstab_wealth_values AS\n",
    "WITH crosstab_data AS (SELECT wealth_name, values_name, COUNT(*) as frequency\n",
    "  FROM {data_set}.v_characters_enriched GROUP BY wealth_name, values_name),\n",
    "totals AS (SELECT wealth_name, SUM(frequency) as wealth_total FROM crosstab_data GROUP BY wealth_name),\n",
    "values_totals AS (SELECT values_name, SUM(frequency) as values_total FROM crosstab_data GROUP BY values_name)\n",
    "SELECT cd.wealth_name, cd.values_name, cd.frequency,\n",
    "  cd.frequency / t.wealth_total * 100 as wealth_percentage,\n",
    "  cd.frequency / wt.values_total * 100 as values_percentage,\n",
    "  cd.frequency / (SELECT COUNT(*) FROM {data_set}.v_characters_enriched) * 100 as total_percentage\n",
    "FROM crosstab_data cd JOIN totals t ON cd.wealth_name = t.wealth_name JOIN values_totals wt ON cd.values_name = wt.values_name\n",
    "ORDER BY cd.wealth_name, cd.frequency DESC;"
   ]
  },
  {
   "cell_type": "markdown",
   "id": "52119b02",
   "metadata": {},
   "source": [
    "- `v_formatted_cluster_statistics` - shows all the clusters identified by KMean analysis\n",
    "- `v_formatted_crosstab_sex_social` - shows relationships between gender and social class\n",
    "- `v_formatted_crosstab_sex_wealth` - shows relationships between gender and wealth\n",
    "- `v_formatted_crosstab_sex_values` - shows relationships between gender and values\n",
    "- `v_formatted_crosstab_social_wealth` - shows relationships between social class and wealth\n",
    "- `v_formatted_crosstab_social_values` - shows relationships between social class and values\n",
    "- `v_formatted_crosstab_wealth_values` - shows relationships between social wealth and values\n",
    "- `v_formatted_character_profiles` - it groups the characters by all the four dimensions (gender, wealth, values, social class) that contains at least 2 persons\n",
    "- `v_formatted_gender_analysis` - similar to above but with gender related counts and percentage columns"
   ]
  },
  {
   "cell_type": "code",
   "execution_count": 339,
   "id": "0667be11",
   "metadata": {},
   "outputs": [
    {
     "data": {
      "application/vnd.jupyter.widget-view+json": {
       "model_id": "c02ea595f8d24cbc8259b38fcb858c33",
       "version_major": 2,
       "version_minor": 0
      },
      "text/plain": [
       "Query is running:   0%|          |"
      ]
     },
     "metadata": {},
     "output_type": "display_data"
    },
    {
     "data": {
      "text/html": [
       "<div>\n",
       "<style scoped>\n",
       "    .dataframe tbody tr th:only-of-type {\n",
       "        vertical-align: middle;\n",
       "    }\n",
       "\n",
       "    .dataframe tbody tr th {\n",
       "        vertical-align: top;\n",
       "    }\n",
       "\n",
       "    .dataframe thead th {\n",
       "        text-align: right;\n",
       "    }\n",
       "</style>\n",
       "<table border=\"1\" class=\"dataframe\">\n",
       "  <thead>\n",
       "    <tr style=\"text-align: right;\">\n",
       "      <th></th>\n",
       "    </tr>\n",
       "  </thead>\n",
       "  <tbody>\n",
       "  </tbody>\n",
       "</table>\n",
       "</div>"
      ],
      "text/plain": [
       "Empty DataFrame\n",
       "Columns: []\n",
       "Index: []"
      ]
     },
     "execution_count": 339,
     "metadata": {},
     "output_type": "execute_result"
    }
   ],
   "source": [
    "%%bigquery --pyformat\n",
    "\n",
    "CREATE OR REPLACE VIEW v_gender_analysis AS\n",
    "WITH gender_profiles AS (SELECT sex, social_class_name, wealth_name, values_name, COUNT(*) as count\n",
    "  FROM {data_set}.v_characters_enriched GROUP BY sex, social_class_name, wealth_name, values_name),\n",
    "gender_totals AS (SELECT sex, SUM(count) as total_by_gender FROM gender_profiles GROUP BY sex)\n",
    "SELECT gp.*, gt.total_by_gender,\n",
    "  gp.count / gt.total_by_gender * 100 as percentage_within_gender,\n",
    "  RANK() OVER (PARTITION BY gp.sex ORDER BY gp.count DESC) as rank_within_gender\n",
    "FROM gender_profiles gp JOIN gender_totals gt ON gp.sex = gt.sex\n",
    "WHERE gp.count > 1 ORDER BY gp.sex, gp.count DESC;"
   ]
  },
  {
   "cell_type": "markdown",
   "id": "4bdb2a9c",
   "metadata": {},
   "source": [
    "The same views as above but with nicely formatted percentage for human analysis"
   ]
  },
  {
   "cell_type": "code",
   "execution_count": 340,
   "id": "429c179d",
   "metadata": {},
   "outputs": [
    {
     "data": {
      "application/vnd.jupyter.widget-view+json": {
       "model_id": "d9de1b9c69274e469411b8079417f6b9",
       "version_major": 2,
       "version_minor": 0
      },
      "text/plain": [
       "Query is running:   0%|          |"
      ]
     },
     "metadata": {},
     "output_type": "display_data"
    },
    {
     "data": {
      "text/html": [
       "<div>\n",
       "<style scoped>\n",
       "    .dataframe tbody tr th:only-of-type {\n",
       "        vertical-align: middle;\n",
       "    }\n",
       "\n",
       "    .dataframe tbody tr th {\n",
       "        vertical-align: top;\n",
       "    }\n",
       "\n",
       "    .dataframe thead th {\n",
       "        text-align: right;\n",
       "    }\n",
       "</style>\n",
       "<table border=\"1\" class=\"dataframe\">\n",
       "  <thead>\n",
       "    <tr style=\"text-align: right;\">\n",
       "      <th></th>\n",
       "    </tr>\n",
       "  </thead>\n",
       "  <tbody>\n",
       "  </tbody>\n",
       "</table>\n",
       "</div>"
      ],
      "text/plain": [
       "Empty DataFrame\n",
       "Columns: []\n",
       "Index: []"
      ]
     },
     "execution_count": 340,
     "metadata": {},
     "output_type": "execute_result"
    }
   ],
   "source": [
    "%%bigquery --pyformat\n",
    "CREATE OR REPLACE VIEW v_formatted_cluster_statistics AS\n",
    "SELECT dimension, cluster_id, cluster_name, cluster_description, count, FORMAT('%0.2f', percentage) percentage, rank_within_dimension from {data_set}.v_cluster_statistics;\n",
    "\n",
    "CREATE OR REPLACE VIEW v_formatted_character_profiles AS\n",
    "SELECT sex, social_class_name, wealth_name, values_name, character_count, FORMAT('%0.2f', percentage) percentage, popularity_rank from {data_set}.v_character_profiles;\n",
    "\n",
    "CREATE OR REPLACE VIEW v_formatted_crosstab_sex_social AS\n",
    "SELECT sex, social_class_name, frequency, FORMAT('%0.2f', sex_percentage) sex_percentage, FORMAT('%0.2f', social_class_percentage) social_class_percentage,\n",
    "    FORMAT('%0.2f', total_percentage) total_percentage from {data_set}.v_crosstab_sex_social;\n",
    "\n",
    "CREATE OR REPLACE VIEW v_formatted_crosstab_sex_wealth AS\n",
    "SELECT sex, wealth_name, frequency, FORMAT('%0.2f', sex_percentage) sex_percentage, FORMAT('%0.2f', wealth_percentage) wealth_percentage,\n",
    "    FORMAT('%0.2f', total_percentage) total_percentage from {data_set}.v_crosstab_sex_wealth;\n",
    "\n",
    "CREATE OR REPLACE VIEW v_formatted_crosstab_sex_values AS\n",
    "SELECT sex, values_name, frequency, FORMAT('%0.2f', sex_percentage) sex_percentage, FORMAT('%0.2f', values_percentage) values_percentage,\n",
    "    FORMAT('%0.2f', total_percentage) total_percentage from {data_set}.v_crosstab_sex_values;\n",
    "\n",
    "CREATE OR REPLACE VIEW v_formatted_crosstab_social_wealth AS\n",
    "SELECT social_class_name, wealth_name, frequency, FORMAT('%0.2f', social_class_percentage) social_class_percentage, FORMAT('%0.2f', wealth_percentage) wealth_percentage,\n",
    "    FORMAT('%0.2f', total_percentage) total_percentage from {data_set}.v_crosstab_social_wealth;\n",
    "\n",
    "CREATE OR REPLACE VIEW v_formatted_crosstab_social_values AS\n",
    "SELECT social_class_name, values_name, frequency, FORMAT('%0.2f', social_class_percentage) social_class_percentage, FORMAT('%0.2f', values_percentage) values_percentage,\n",
    "    FORMAT('%0.2f', total_percentage) total_percentage from {data_set}.v_crosstab_social_values;\n",
    "\n",
    "CREATE OR REPLACE VIEW v_formatted_crosstab_wealth_values AS\n",
    "SELECT wealth_name, values_name, frequency, FORMAT('%0.2f', wealth_percentage) wealth_percentage, FORMAT('%0.2f', values_percentage) values_percentage,\n",
    "    FORMAT('%0.2f', total_percentage) total_percentage from {data_set}.v_crosstab_wealth_values;\n",
    "\n",
    "CREATE OR REPLACE VIEW v_formatted_gender_analysis AS\n",
    "SELECT sex, social_class_name, wealth_name, values_name, count, total_by_gender, FORMAT('%0.2f', percentage_within_gender) percentage_within_gender, rank_within_gender\n",
    "from {data_set}.v_gender_analysis;"
   ]
  }
 ],
 "metadata": {
  "kernelspec": {
   "display_name": "book_crawler",
   "language": "python",
   "name": "python3"
  },
  "language_info": {
   "codemirror_mode": {
    "name": "ipython",
    "version": 3
   },
   "file_extension": ".py",
   "mimetype": "text/x-python",
   "name": "python",
   "nbconvert_exporter": "python",
   "pygments_lexer": "ipython3",
   "version": "3.13.3"
  }
 },
 "nbformat": 4,
 "nbformat_minor": 5
}
