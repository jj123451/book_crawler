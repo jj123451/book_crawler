{
 "cells": [
  {
   "cell_type": "code",
   "execution_count": 8,
   "id": "b4b55b62",
   "metadata": {},
   "outputs": [
    {
     "name": "stdout",
     "output_type": "stream",
     "text": [
      "Couldn't find program: 'false'\n"
     ]
    }
   ],
   "source": [
    "%%script false --no-raise-error\n",
    "from google.colab import userdata\n",
    "from google.oauth2 import service_account\n",
    "\n",
    "credentials_json = google.colab.userdata.get('BIGQUERY_CREDENTIALS')\n",
    "credentials = service_account.Credentials.from_service_account_info(json.loads(credentials_json))\n",
    "magics.context.credentials = credentials"
   ]
  },
  {
   "cell_type": "code",
   "execution_count": null,
   "id": "691309e2",
   "metadata": {},
   "outputs": [
    {
     "name": "stdout",
     "output_type": "stream",
     "text": [
      "The bigquery_magics extension is already loaded. To reload it, use:\n",
      "  %reload_ext bigquery_magics\n"
     ]
    }
   ],
   "source": [
    "from google.cloud import bigquery\n",
    "from google.cloud.bigquery import magics\n",
    "%load_ext bigquery_magics\n",
    "\n",
    "data_set = \"testing_set2\"\n",
    "project_name = \"emerald-entity-468916-f9\"\n",
    "\n",
    "job_config = bigquery.QueryJobConfig(default_dataset = f\"{project_name}.{data_set}\")\n",
    "client = bigquery.Client(project = project_name, default_query_job_config = job_config, credentials = globals().get('credentials', None))\n",
    "magics.context.default_query_job_config = job_config\n",
    "magics.context.project = project_name"
   ]
  },
  {
   "cell_type": "code",
   "execution_count": 10,
   "id": "e905f59a",
   "metadata": {},
   "outputs": [
    {
     "name": "stdout",
     "output_type": "stream",
     "text": [
      "Executing query with job ID: 6b1cc46e-229a-4b54-ae02-b41ed7c060b4\n",
      "Query executing: 0.82s"
     ]
    },
    {
     "name": "stderr",
     "output_type": "stream",
     "text": [
      "\n",
      "ERROR:\n",
      " 400 Invalid value: Table \"prompts\" must be qualified with a dataset (e.g. dataset.table). at [1:1]\n",
      "\n",
      "Location: US\n",
      "Job ID: 6b1cc46e-229a-4b54-ae02-b41ed7c060b4\n",
      "\n"
     ]
    }
   ],
   "source": [
    "%%bigquery\n",
    "\n",
    "CREATE TABLE IF NOT exists prompts(code STRING, prompt STRING);\n",
    "CREATE TABLE IF NOT EXISTS books(book_id STRING, date INTEGER, title STRING, original_txt STRING, corrected_txt STRING, summary STRING, processed BOOL);\n",
    "CREATE TABLE IF NOT EXISTS chunks(book_id STRING, chunk_number INTEGER, txt STRING, summary STRING,\n",
    "    fragment_number STRING, characters_id_data STRING, characters_full_data STRING);\n",
    "CREATE TABLE IF NOT EXISTS identifiers(id INTEGER, book_id STRING, full_name STRING, importance INTEGER, chunk_number INTEGER, fragment_number STRING,\n",
    "    characters_id_data STRING, information STRING);\n",
    "CREATE TABLE IF NOT EXISTS characters(book_id STRING, id INT64, full_name STRING, sex STRING, importance INT64,\n",
    "  social_class STRING, wealth STRING, values STRING, information STRING, social_class_cluster_id INT64, wealth_cluster_id INT64, values_cluster_id INT64);\n",
    "CREATE TABLE IF NOT exists clusters(cluster_type STRING, cluster_id INT64, name STRING, description STRING);\n",
    "CREATE TABLE IF NOT exists character_cluster_details(book_id STRING, id INT64, trait STRING, trait_id INT64, cluster_type STRING, cluster_id INT64);"
   ]
  },
  {
   "cell_type": "code",
   "execution_count": 3,
   "id": "7a5e6e28",
   "metadata": {},
   "outputs": [
    {
     "data": {
      "application/vnd.jupyter.widget-view+json": {
       "model_id": "29fd349010774f4c9d300a03af8e64f6",
       "version_major": 2,
       "version_minor": 0
      },
      "text/plain": [
       "Query is running:   0%|          |"
      ]
     },
     "metadata": {},
     "output_type": "display_data"
    },
    {
     "data": {
      "text/html": [
       "<div>\n",
       "<style scoped>\n",
       "    .dataframe tbody tr th:only-of-type {\n",
       "        vertical-align: middle;\n",
       "    }\n",
       "\n",
       "    .dataframe tbody tr th {\n",
       "        vertical-align: top;\n",
       "    }\n",
       "\n",
       "    .dataframe thead th {\n",
       "        text-align: right;\n",
       "    }\n",
       "</style>\n",
       "<table border=\"1\" class=\"dataframe\">\n",
       "  <thead>\n",
       "    <tr style=\"text-align: right;\">\n",
       "      <th></th>\n",
       "    </tr>\n",
       "  </thead>\n",
       "  <tbody>\n",
       "  </tbody>\n",
       "</table>\n",
       "</div>"
      ],
      "text/plain": [
       "Empty DataFrame\n",
       "Columns: []\n",
       "Index: []"
      ]
     },
     "execution_count": 3,
     "metadata": {},
     "output_type": "execute_result"
    }
   ],
   "source": [
    "%%bigquery\n",
    "\n",
    "CREATE OR REPLACE TABLE tmp_correction_chunks(book_id STRING, chunk_number INTEGER, prefix STRING, original_txt STRING, suffix STRING, corrected_txt STRING);\n",
    "CREATE OR REPLACE TABLE tmp_grouped_full_data(id INTEGER, book_id STRING, parts INTEGER, full_data_array STRING, character_full_data STRING, information STRING);\n",
    "CREATE OR REPLACE TABLE tmp_characters_id_embeddings(ml_generate_embedding_result ARRAY<FLOAT64>, ml_generate_embedding_statistics JSON, ml_generate_embedding_status STRING,\n",
    "  content STRING, title STRING, id INT64, book_id STRING, chunk_number INT64, is_query BOOL);\n",
    "CREATE OR REPLACE TABLE tmp_copied_traits(id INTEGER, book_id STRING, traits STRING);\n",
    "CREATE OR REPLACE TABLE tmp_clustered_traits(CENTROID_ID INT64, NEAREST_CENTROIDS_DISTANCE ARRAY<STRUCT<CENTROID_ID INT64, DISTANCE FLOAT64>>,\n",
    "  ml_generate_embedding_result ARRAY<FLOAT64>, content STRING, trait_id INT64);\n",
    "CREATE OR REPLACE TABLE tmp_split_traits_final(book_id STRING, id INT64, trait STRING, trait_id INT64, cluster_id INT64);\n",
    "CREATE OR REPLACE TABLE tmp_combined_traits(book_id STRING, id INT64, cluster_type STRING, traits STRING, cluster_id INT64);\n",
    "CREATE OR REPLACE TABLE tmp_combined_traits_clustered(CENTROID_ID INT64, NEAREST_CENTROIDS_DISTANCE ARRAY<STRUCT<CENTROID_ID INT64, DISTANCE FLOAT64>>,\n",
    "  ml_generate_embedding_result ARRAY<FLOAT64>, content STRING, id INT64, book_id STRING);"
   ]
  },
  {
   "cell_type": "code",
   "execution_count": 4,
   "id": "79fa5589",
   "metadata": {},
   "outputs": [
    {
     "data": {
      "application/vnd.jupyter.widget-view+json": {
       "model_id": "1be0828b2ec74e3ea5e42bc5a6af7fca",
       "version_major": 2,
       "version_minor": 0
      },
      "text/plain": [
       "Query is running:   0%|          |"
      ]
     },
     "metadata": {},
     "output_type": "display_data"
    },
    {
     "data": {
      "text/html": [
       "<div>\n",
       "<style scoped>\n",
       "    .dataframe tbody tr th:only-of-type {\n",
       "        vertical-align: middle;\n",
       "    }\n",
       "\n",
       "    .dataframe tbody tr th {\n",
       "        vertical-align: top;\n",
       "    }\n",
       "\n",
       "    .dataframe thead th {\n",
       "        text-align: right;\n",
       "    }\n",
       "</style>\n",
       "<table border=\"1\" class=\"dataframe\">\n",
       "  <thead>\n",
       "    <tr style=\"text-align: right;\">\n",
       "      <th></th>\n",
       "    </tr>\n",
       "  </thead>\n",
       "  <tbody>\n",
       "  </tbody>\n",
       "</table>\n",
       "</div>"
      ],
      "text/plain": [
       "Empty DataFrame\n",
       "Columns: []\n",
       "Index: []"
      ]
     },
     "execution_count": 4,
     "metadata": {},
     "output_type": "execute_result"
    }
   ],
   "source": [
    "%%bigquery\n",
    "\n",
    "CREATE OR REPLACE MODEL `gemini-embedding-001`\n",
    "REMOTE WITH CONNECTION `us.ai_connection`\n",
    "OPTIONS(ENDPOINT = 'gemini-embedding-001');"
   ]
  }
 ],
 "metadata": {
  "kernelspec": {
   "display_name": "book_crawler",
   "language": "python",
   "name": "python3"
  },
  "language_info": {
   "codemirror_mode": {
    "name": "ipython",
    "version": 3
   },
   "file_extension": ".py",
   "mimetype": "text/x-python",
   "name": "python",
   "nbconvert_exporter": "python",
   "pygments_lexer": "ipython3",
   "version": "3.13.3"
  }
 },
 "nbformat": 4,
 "nbformat_minor": 5
}
